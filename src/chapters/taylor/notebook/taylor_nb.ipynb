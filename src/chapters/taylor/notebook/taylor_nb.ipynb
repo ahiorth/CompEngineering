{
 "cells": [
  {
   "cell_type": "markdown",
   "metadata": {},
   "source": [
    "# Getting familiar with Taylors formula\n",
    "\n",
    "Learning goals:\n",
    "1. Understand how Taylors formula can be used to approximate a function\n",
    "\n",
    "2. Understand approximation error\n",
    "\n",
    "# Plot $\\sin x$\n",
    "Run the script below, and you will see a plot of $\\sin x$ on the interval $[-\\pi,\\pi]$."
   ]
  },
  {
   "cell_type": "code",
   "execution_count": 1,
   "metadata": {},
   "outputs": [
    {
     "data": {
      "image/png": "[encoded data removed]",
      "text/plain": [
       "<Figure size 432x288 with 1 Axes>"
      ]
     },
     "metadata": {},
     "output_type": "display_data"
    }
   ],
   "source": [
    "%matplotlib inline\n",
    "\n",
    "import matplotlib.pyplot as plt\n",
    "import numpy as np\n",
    "\n",
    "x=np.arange(-np.pi,np.pi,1)\n",
    "\n",
    "f = np.sin(x)\n",
    "plt.plot(x,f)\n",
    "plt.grid()\n",
    "\n",
    "plt.show()"
   ]
  },
  {
   "cell_type": "markdown",
   "metadata": {},
   "source": [
    "Is this a good plot of $\\sin x$? Improve the code above to produce a\n",
    "better plot of $\\sin x$."
   ]
  },
  {
   "cell_type": "code",
   "execution_count": 2,
   "metadata": {},
   "outputs": [],
   "source": [
    "# enter code here"
   ]
  },
  {
   "cell_type": "markdown",
   "metadata": {},
   "source": [
    "1. How many points are needed?\n",
    "\n",
    "2. Do we need an equal number of points in the whole domain?\n",
    "\n",
    "# Taylor Polynomial Approximation\n",
    "There are many ways of representing a function, but perhaps one of the most widely used is Taylor polynomials. \n",
    "Taylor series are the basis for solving ordinary and differential equations, simply because it makes it possible to evaluate any function with a set\n",
    "of limited operations: *addition, subtraction, and multiplication*. The Taylor polynomial, $P_n(x)$ of degree $n$ of a function $f(x)$ at the point $c$ is defined as:\n",
    "**Taylor polynomial:**"
   ]
  },
  {
   "cell_type": "markdown",
   "metadata": {},
   "source": [
    "$$\n",
    "P_n(x) = f(c)+f^\\prime(c)(x-c)+\\frac{f^{\\prime\\prime}(c)}{2!}(x-c)^2+\\cdots+\\frac{f^{(n)}(c)}{n!}(x-c)^n\\nonumber\n",
    "$$"
   ]
  },
  {
   "cell_type": "markdown",
   "metadata": {},
   "source": [
    "<!-- Equation labels as ordinary links -->\n",
    "<div id=\"eq:taylor:taylori\"></div>\n",
    "\n",
    "$$\n",
    "\\begin{equation} \n",
    "=\\sum_{k=0}^n\\frac{f^{(n)}}{k!}(x-c)^k.\\label{eq:taylor:taylori} \\tag{1}\n",
    "\\end{equation}\n",
    "$$"
   ]
  },
  {
   "cell_type": "markdown",
   "metadata": {},
   "source": [
    "If the series is around the point $c=0$, the Taylor polynomial $P_n(x)$ is often called a Maclaurin polynomial, more examples can be found \n",
    "[here](https://en.wikipedia.org/wiki/Taylor_series). If the series converge (i.e. that the higher order terms approach zero), then we can represent the\n",
    "function $f(x)$ with its corresponding Taylor series around the point $x=c$:"
   ]
  },
  {
   "cell_type": "markdown",
   "metadata": {},
   "source": [
    "<!-- Equation labels as ordinary links -->\n",
    "<div id=\"eq:taylor:taylor\"></div>\n",
    "\n",
    "$$\n",
    "\\begin{equation}\n",
    " f(x) = f(c)+f^\\prime(c)(x-c)+\\frac{f^{\\prime\\prime}(c)}{2!}(x-c)^2+\\cdots\n",
    "=\\sum_{k=0}^\\infty\\frac{f^{(n)}}{k!}(x-c)^k.\\label{eq:taylor:taylor} \\tag{2}\n",
    "\\end{equation}\n",
    "$$"
   ]
  },
  {
   "cell_type": "markdown",
   "metadata": {},
   "source": [
    "# Maclaurin series of $\\sin x$\n",
    "Show that the Maclaurin series of $\\sin x$ is:"
   ]
  },
  {
   "cell_type": "markdown",
   "metadata": {},
   "source": [
    "<!-- Equation labels as ordinary links -->\n",
    "<div id=\"sin\"></div>\n",
    "\n",
    "$$\n",
    "\\begin{equation}\n",
    "\\sin x = x-\\frac{x^3}{3!}+\\frac{x^5}{5!}-\\frac{x^7}{7!}+\\cdots=\\sum_{k=0}^{\\infty}\\frac{(-1)^n}{(2n+1)!}x^{2n+1}.\n",
    "\\label{sin} \\tag{3}\n",
    "$$"
   ]
  },
  {
   "cell_type": "markdown",
   "metadata": {},
   "source": [
    "# Calculating $\\sin x$ up to a certain error\n",
    "The error term in Taylors formula, when we represent a function with a finite number of polynomial elements is given by:"
   ]
  },
  {
   "cell_type": "markdown",
   "metadata": {},
   "source": [
    "$$\n",
    "R_n(x)=f(x)-P_n(x)=\\frac{f^{(n+1)}(\\eta)}{(n+1)!}(x-c)^{n+1}\\nonumber\n",
    "$$"
   ]
  },
  {
   "cell_type": "markdown",
   "metadata": {},
   "source": [
    "<!-- Equation labels as ordinary links -->\n",
    "<div id=\"error\"></div>\n",
    "\n",
    "$$\n",
    "\\begin{equation} \n",
    "      =\\frac{1}{n!}\\int_c^x(x-\\tau)^{n}f^{(n+1)}(\\tau)d\\tau,\\label{error} \\tag{4}\n",
    "\\end{equation}\n",
    "$$"
   ]
  },
  {
   "cell_type": "markdown",
   "metadata": {},
   "source": [
    "for some $\\eta$ in the domain $[x,c]$.\n",
    "\n",
    "Write an implementation of $\\sin x$, that calculates $\\sin x$ up to a\n",
    "certain accuracy, using the error formula in equation ([4](#error))."
   ]
  }
 ],
 "metadata": {
  "kernelspec": {
   "display_name": "Python 3",
   "language": "python",
   "name": "python3"
  },
  "language_info": {
   "codemirror_mode": {
    "name": "ipython",
    "version": 3
   },
   "file_extension": ".py",
   "mimetype": "text/x-python",
   "name": "python",
   "nbconvert_exporter": "python",
   "pygments_lexer": "ipython3",
   "version": "3.7.3"
  }
 },
 "nbformat": 4,
 "nbformat_minor": 2
}
