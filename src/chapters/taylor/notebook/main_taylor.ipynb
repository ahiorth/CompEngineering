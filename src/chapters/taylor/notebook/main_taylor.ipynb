{
 "cells": [
  {
   "cell_type": "markdown",
   "id": "3fef5e36",
   "metadata": {
    "editable": true
   },
   "source": [
    "<!-- dom:TITLE: A basic ingredient in modeling: gradients -->\n",
    "# A basic ingredient in modeling: gradients\n",
    "**Aksel Hiorth**\n",
    "University of Stavanger\n",
    "\n",
    "Date: **Apr 23, 2024**\n",
    "\n",
    "<!-- Common Mako variables and functions -->\n",
    "\n",
    "# Why are gradients important?\n",
    "If you are going to walk up a mountain, it is not enough to know the height of the mountain, you also want to know how steep the mountain is. Even if the mountain is very low, it can still be extremely difficult to reach the top if it is very steep. The steepness is how much the height is changing as a function of time (if we walk with the same pace) or how much the height is changing compared to our horizontal movement. To be more precise lets say we move from $x=a$ to $x=b$, and the height increases from $h_a$ to $h_b$, the steepness is"
   ]
  },
  {
   "cell_type": "markdown",
   "id": "cf172d29",
   "metadata": {
    "editable": true
   },
   "source": [
    "<!-- Equation labels as ordinary links -->\n",
    "<div id=\"eq:tay:gradb\"></div>\n",
    "\n",
    "$$\n",
    "\\begin{equation}\n",
    "\\frac{h_b-h_a}{x_b-x_a}.\n",
    "\\label{eq:tay:gradb} \\tag{1}\n",
    "\\end{equation}\n",
    "$$"
   ]
  },
  {
   "cell_type": "markdown",
   "id": "85bd9cf4",
   "metadata": {
    "editable": true
   },
   "source": [
    "If we climb a ladder, the horizontal movement is small ($x_b-x_a$ is small) and the increase in height is large, hence the steepness is large. If we walk a long a flat path we have no vertical movement and the steepness is zero ($h_a=h_b$). Mathematically, if we let $x_b$ and $x_a$ come infinitely close, the steepness is called a *gradient*, and we denote it by $\\nabla h(x)$. Note also that the sign of the gradient tells something about the direction. If we climb up a ladder, the height is increasing (positive gradient), on the other hand if we are climbing down the height is decreasing ($h_a>h_b$) and the gradient is negative. \n",
    "\n",
    "If we consider the height of a mountain in two dimensions, $h=h(x,y)$, this is basically the contour lines on a map. The spacing between the contour lines is the gradient, if the spacing between contour lines are small the mountain side is steeper than if they are larger.  \n",
    "\n",
    "**Gradients vs derivatives.**\n",
    "\n",
    "If we are only considering a single variable, height as a function of time or position, $x$, we often denote the gradient ($\\nabla h$), $h^\\prime(x)$ and call it the derivative of $h(x)$. In higher dimension, e.g. $h(x,y)$, we use the term partial derivatives, because there are now different variables we can vary e.g. latitude and altitude. The gradient is now a *vector*, $\\nabla=[\\partial h/\\partial x, \\partial h/\\partial y]$. $\\partial h/\\partial x$ is the partial derivative of $h(x,y)$ with respect to $x$, i.e. we keep $y$ constant and only differentiate with respect to $x$.\n",
    "\n",
    "\n",
    "\n",
    "Another example where gradients are important is the flow of heat. Heat flows from hot to cold places, the amount of heat is proportional to the temperature difference, i.e. a gradient in temperature. The flow of air is also from points of high pressure to low pressure, i.e. a gradient in pressure. \n",
    "\n",
    "A primary task of a modeler is to predict something. If there are no gradients in a system, nothing would happen and there is no reason to model anything. Hence, an extremely important task when we model something is to treat gradients carefully. If gradients are not represented correctly in a computer, the output of a simulation will introduce errors that sometimes can be so large that one cannot trust the simulation results.\n",
    "\n",
    "# Continuous functions and finite representation: numerical errors\n",
    "A computer can only deal with numbers. To simulate a physical system in a computer we have to divide space and time into finite pieces, and assign numbers to different parts of time and/or space. \n",
    "\n",
    "**Numerical errors.**\n",
    "\n",
    "Whenever we divide space and/or time into finite pieces, we introduce numerical errors. These errors tend to become smaller, but not always, when we use more pieces. The difference between the \"true\" answer and the answer obtained from a practical (numerical) calculation is called the *numerical error*.\n",
    "\n",
    "\n",
    "\n",
    "When we divide space and time into finite pieces to represent them in a computer, a natural question to ask is how many pieces do we need? Consider an almost trivial example, let say you want visualize the function $f(x)=\\sin x$. To do this we need to choose where, which values of $x$, we want to evaluate our function. To make an efficient program we want to use as few points as possible but still capture shape of the true function.  \n",
    "Run the script below, and you will \n",
    "see a plot of $\\sin x$ on the interval $[-\\pi,\\pi]$, and $[-2.2,-1]$."
   ]
  },
  {
   "cell_type": "code",
   "execution_count": 1,
   "id": "e82a258a",
   "metadata": {
    "collapsed": false,
    "editable": true
   },
   "outputs": [],
   "source": [
    "%matplotlib inline\n",
    "\n",
    "#%%\n",
    "import matplotlib.pyplot as plt\n",
    "import numpy as np\n",
    "\n",
    "x = []\n",
    "x.append(np.arange(-np.pi,np.pi,1))\n",
    "x.append(np.arange(-np.pi,np.pi,0.5))\n",
    "x.append(np.arange(-np.pi,np.pi,0.1))\n",
    "#Small spacing to evaluate the \"true\" function\n",
    "x.append(np.arange(-np.pi,np.pi,0.001))\n",
    "\n",
    "f = []\n",
    "for i in range(0,4):\n",
    "    f.append(np.sin(x[i]))\n",
    "\n",
    "\n",
    "fig = plt.figure(dpi=150)\n",
    "fig.subplots_adjust(hspace=0.4, wspace=0.4)\n",
    "plt.subplot(1,2,1)\n",
    "st = ['-o','-x','-*','-']\n",
    "ll = ['$\\Delta x=1$','$\\Delta x=0.5$','$\\Delta x=0.1$','$\\sin x$']\n",
    "\n",
    "for i in range(0,4):\n",
    "    plt.plot(x[i], f[i], st[i])\n",
    "\n",
    "plt.grid()\n",
    "\n",
    "# Next plot side by side\n",
    "plt.subplot(1,2,2)\n",
    "plt.xlim(-2.2,-1)\n",
    "plt.ylim(-1.2,-0.75)\n",
    "\n",
    "for i in range(0,4):\n",
    "    plt.plot(x[i], f[i], st[i], label = ll[i])\n",
    "    \n",
    "plt.grid()\n",
    "plt.legend(loc='upper center', bbox_to_anchor=(-0.3, -0.05),\n",
    "          ncol=4, fancybox=True, shadow=True)\n",
    "# Save the plot in a file\n",
    "plt.savefig('func_plot.png', bbox_inches='tight',transparent=True)\n",
    "plt.show()\n",
    "\n",
    "\n",
    "\n",
    "# %%"
   ]
  },
  {
   "cell_type": "markdown",
   "id": "8175357e",
   "metadata": {
    "editable": true
   },
   "source": [
    "In [figure 1](#fig:taylor:sinx), we have plotted $\\sin x$ for various discretization (spacing between the points) in the interval $[-\\pi,\\pi]$.\n",
    "<!-- dom:FIGURE: [fig-taylor/func_plot.png, width=600] A plot of $\\sin x$ for different spacing of the $x$-values. <div id=\"fig:taylor:sinx\"></div> -->\n",
    "<!-- begin figure -->\n",
    "<div id=\"fig:taylor:sinx\"></div>\n",
    "\n",
    "<img src=\"fig-taylor/func_plot.png\" width=600><p style=\"font-size: 0.9em\"><i>Figure 1: A plot of $\\sin x$ for different spacing of the $x$-values.</i></p>\n",
    "<!-- end figure -->\n",
    "\n",
    "From the figure we see that in some areas only a couple of points are needed in order to\n",
    "represent the function well, and in some areas more points are needed. To state it more clearly; between $[-1,1]$ a linear function (few points) approximate $\\sin x$ well, \n",
    "whereas in the area where the gradient of the function changes more rapidly e.g. in $[-2,-1]$, we need the points to be more closely spaced to capture the behavior of the true function.\n",
    "\n",
    "What is a *good representation* representation of the true function? We cannot rely on visual inspection every time, and most of the time we do not know the true answer so we would not know what to compare it with. In the next section we will show how Taylor polynomial representation of a function is a natural starting point to answer this question.\n",
    "\n",
    "# Taylor polynomial approximation\n",
    "How can we evaluate numerical errors if we do not know the true answer? There are at least two answers to this\n",
    "\n",
    "1. The pragmatic engineering approach is to do a simulation with a coarse grid, then refine the grid until the solution does not change very much. This is perfectly fine *if you know that your numerical code is bug free*, because even if the simulation converges to a solution we do not know if it is the *true solution*. In too many cases this is not so. Therefore even in well tested industrial codes, it is always good to test them on a simple test case where you know the exact solution.\n",
    "\n",
    "2. Taylors formula can be used to represent any continuous function with continuous gradients or most solutions to a mathematical model. Taylors formula gives us an estimate of the numerical error introduced when we divide space and time into finite pieces.\n",
    "\n",
    "There are many ways of representing a function, $f(x)$, like Fourier series, Legendre polynomials, but perhaps one of the most widely used is Taylor polynomials.   \n",
    "Taylor series are perfect for computers, simply because it makes it possible to evaluate any function with a set of limited operations: *addition, subtraction, and multiplication*. Let us start off with the formal definition: \n",
    "**Taylor polynomial:**\n",
    "\n",
    "The Taylor polynomial, $P_n(x)$ of degree $n$ of a function $f(x)$ at the point $c$ is defined as:"
   ]
  },
  {
   "cell_type": "markdown",
   "id": "b7658c9b",
   "metadata": {
    "editable": true
   },
   "source": [
    "$$\n",
    "P_n(x) = f(c)+f^\\prime(c)(x-c)+\\frac{f^{\\prime\\prime}(c)}{2!}(x-c)^2+\\cdots+\\frac{f^{(n)}(c)}{n!}(x-c)^n\\nonumber\n",
    "$$"
   ]
  },
  {
   "cell_type": "markdown",
   "id": "21a70912",
   "metadata": {
    "editable": true
   },
   "source": [
    "<!-- Equation labels as ordinary links -->\n",
    "<div id=\"eq:taylor:taylori\"></div>\n",
    "\n",
    "$$\n",
    "\\begin{equation}  \n",
    "=\\sum_{k=0}^n\\frac{f^{(k)}(c)}{k!}(x-c)^k.\\label{eq:taylor:taylori} \\tag{2}\n",
    "\\end{equation}\n",
    "$$"
   ]
  },
  {
   "cell_type": "markdown",
   "id": "333c6b9f",
   "metadata": {
    "editable": true
   },
   "source": [
    "Note that $x$ can be anything, space, time, temperature etc. If the series is around the point $c=0$, the Taylor polynomial $P_n(x)$ is often called a Maclaurin polynomial. If the series converge (i.e. that the higher order terms approach zero), then we can represent the function $f(x)$ with its corresponding Taylor series around the point $x=c$:"
   ]
  },
  {
   "cell_type": "markdown",
   "id": "72d2b890",
   "metadata": {
    "editable": true
   },
   "source": [
    "<!-- Equation labels as ordinary links -->\n",
    "<div id=\"eq:taylor:taylor\"></div>\n",
    "\n",
    "$$\n",
    "\\begin{equation}\n",
    " f(x) = f(c)+f^\\prime(c)(x-c)+\\frac{f^{\\prime\\prime}(c)}{2!}(x-c)^2+\\cdots\n",
    "=\\sum_{k=0}^\\infty\\frac{f^{(k)}}{k!}(x-c)^k.\\label{eq:taylor:taylor} \\tag{3}\n",
    "\\end{equation}\n",
    "$$"
   ]
  },
  {
   "cell_type": "markdown",
   "id": "f4f38066",
   "metadata": {
    "editable": true
   },
   "source": [
    "**The magic of Taylors formula.**\n",
    "\n",
    "Taylors formula, equation ([3](#eq:taylor:taylor)), states that if we know the function value and its gradients *in a single point $c$*, we can estimate the function everywhere *using only  information from the single point $c$*. How can this be, how can information in a single point be used to predict the behavior of the function everywhere? One way of thinking about it could be to imagine an object moving in a constant gravitational field without air resistance. Newtons laws then tells us that  if we know the starting point e.g. ($x(0)$), the velocity ($v=dx/dt$), and the acceleration ($a=dv/dt=d^2x/dt^2$) in that point we can predict the trajectory of the object. This trajectory is exactly the first terms in Taylors formula, $x(t)=x(0) + vt+at^2/2$.\n",
    "\n",
    "\n",
    "An example of how Taylors formula works for a known function, can be seen by running the script  below where we calculate different orders of the Maclaurin series of $\\sin x$."
   ]
  },
  {
   "cell_type": "code",
   "execution_count": 2,
   "id": "7278bbb2",
   "metadata": {
    "collapsed": false,
    "editable": true
   },
   "outputs": [],
   "source": [
    "#%%\n",
    "import matplotlib.pyplot as plt\n",
    "import numpy as np\n",
    "\n",
    "#Maclaurin Serie of sin(x) at the power n\n",
    "def mac_sin(x,n):\n",
    "    f = 0.\n",
    "    for i in range(0,n+1):\n",
    "        p  = 2*i+1\n",
    "        f += (-1)**i*pow(x,p)/np.math.factorial(p)\n",
    "    return f\n",
    "\n",
    "x = np.arange(-2*np.pi,2*np.pi,0.001)\n",
    "f = np.sin(x)\n",
    "# map calls the function mac_sin with the\n",
    "# next arguments given\n",
    "P=[]\n",
    "P.append(list(map(mac_sin,x,[0]*len(x))))\n",
    "P.append(list(map(mac_sin,x,[1]*len(x))))\n",
    "P.append(list(map(mac_sin,x,[2]*len(x))))\n",
    "P.append(list(map(mac_sin,x,[3]*len(x))))\n",
    "P.append(list(map(mac_sin,x,[4]*len(x))))\n",
    "\n",
    "fig = plt.figure(dpi=150)\n",
    "\n",
    "st = ['-.','--',':','-.','--']\n",
    "ll = ['$P_1$','$P_3$','$P_5$','$P_7$','$P_9$']\n",
    "\n",
    "for i in range(0,5):\n",
    "    plt.plot(x, P[i], st[i], label=ll[i])\n",
    "plt.ylim(-1.1,1.5)\n",
    "plt.plot(x, f, '-', label='$\\sin (x)$')\n",
    "plt.grid()\n",
    "# Fancy legend\n",
    "plt.legend(loc='upper center', bbox_to_anchor=(0.5, -0.05),\n",
    "          ncol=6, fancybox=True, shadow=True)\n",
    "# Save the plot in a file\n",
    "plt.savefig('mac_sin.png', bbox_inches='tight',transparent=True)\n",
    "plt.show()\n",
    "\n",
    "\n",
    "\n",
    "# %%"
   ]
  },
  {
   "cell_type": "markdown",
   "id": "3afbcbad",
   "metadata": {
    "editable": true
   },
   "source": [
    "Notice that close to $x=0$ we only need one term, as we move further away from this point more and more term needs to be added. Thus, Taylors formula is only exact if we include an infinite number of terms. In practice we only include a limited number of terms and truncate the series up to a given order. Luckily, Taylors formula include an estimate of the error we do when we truncate the series. \n",
    "**Truncation error in Taylors formula:**"
   ]
  },
  {
   "cell_type": "markdown",
   "id": "3c0f716f",
   "metadata": {
    "editable": true
   },
   "source": [
    "$$\n",
    "R_n(x)=f(x)-P_n(x)=\\frac{f^{(n+1)}(\\eta)}{(n+1)!}(x-c)^{n+1}\\nonumber\n",
    "$$"
   ]
  },
  {
   "cell_type": "markdown",
   "id": "73e18603",
   "metadata": {
    "editable": true
   },
   "source": [
    "<!-- Equation labels as ordinary links -->\n",
    "<div id=\"eq:taylor:error\"></div>\n",
    "\n",
    "$$\n",
    "\\begin{equation}  \n",
    "      =\\frac{1}{n!}\\int_c^x(x-\\tau)^{n}f^{(n+1)}(\\tau)d\\tau,\\label{eq:taylor:error} \\tag{4}\n",
    "\\end{equation}\n",
    "$$"
   ]
  },
  {
   "cell_type": "markdown",
   "id": "14a53df5",
   "metadata": {
    "editable": true
   },
   "source": [
    "Notice that the mathematical formula is basically the next order term ($n+1$) in the Taylor series, but with $f^{(n+1)}(c)\\to f^{(n+1)}(\\eta)$. $\\eta$ is an (unknown) value in the domain $[x,c]$.\n",
    "\n",
    "\n",
    "Notice that if $c$ is very far from $x$ the truncation error increases. The fact that we do not know the value of $\\eta$ is usually not a problem, in many cases we just replace $f(\\eta)$ with the maximum value it can take on the domain. Equation ([4](#eq:taylor:error)) gives us an direct estimate of discretization error. \n",
    "**Example: evaluate $\\sin x$.**\n",
    "\n",
    "Whenever you do e.g. `np.sin(1)` in Python or an equivalent statement in another language, Python has to tell the computer how to evaluate $\\sin x$ at $x=1$. Write a Python code that calculates $\\sin x$ up to a user specified accuracy.\n",
    "\n",
    "**Solution**\n",
    "The Maclaurin series of $\\sin x$ is:"
   ]
  },
  {
   "cell_type": "markdown",
   "id": "c98a7599",
   "metadata": {
    "editable": true
   },
   "source": [
    "<!-- Equation labels as ordinary links -->\n",
    "<div id=\"sin\"></div>\n",
    "\n",
    "$$\n",
    "\\begin{equation}\n",
    "\\sin x = x-\\frac{x^3}{3!}+\\frac{x^5}{5!}-\\frac{x^7}{7!}+\\cdots=\\sum_{k=0}^{\\infty}\\frac{(-1)^n}{(2n+1)!}x^{2n+1}.\n",
    "\\label{sin} \\tag{5}\n",
    "\\end{equation}\n",
    "$$"
   ]
  },
  {
   "cell_type": "markdown",
   "id": "8c6bbfad",
   "metadata": {
    "editable": true
   },
   "source": [
    "If we want to calculate $\\sin x$ to a precision lower than a specified value we can do it as follows:"
   ]
  },
  {
   "cell_type": "code",
   "execution_count": 3,
   "id": "9f07c8ef",
   "metadata": {
    "collapsed": false,
    "editable": true
   },
   "outputs": [],
   "source": [
    "import numpy as np\n",
    "\n",
    "# Sinus implementation using the Maclaurin Serie\n",
    "# By setting a value for eps this value will be used\n",
    "# if not provided\n",
    "def my_sin(x,eps=1e-16):\n",
    "    f = power = x\n",
    "    x2 = x*x\n",
    "    sign = 1\n",
    "    i=0\n",
    "    while(power>=eps):\n",
    "        sign = - sign\n",
    "        power *= x2/(2*i+2)/(2*i+3)\n",
    "        f += sign*power\n",
    "        i += 1\n",
    "    print('No function evaluations: ', i)\n",
    "    return f\n",
    "\n",
    "x=0.8\n",
    "eps = 1e-9\n",
    "print(my_sin(x,eps), 'error = ', np.sin(x)-my_sin(x,eps))"
   ]
  },
  {
   "cell_type": "markdown",
   "id": "31f5614d",
   "metadata": {
    "editable": true
   },
   "source": [
    "This implementation needs some explanation:\n",
    "\n",
    "* The error term is given in equation ([4](#eq:taylor:error)), and it is an even power in $x$. We do not which $\\eta$ to use in equation ([4](#eq:taylor:error)), instead we simply say that the error in our estimate is smaller than the highest order term. Thus, we stop the evaluation if the highest order term in the series is lower than the uncertainty. Note that the final error has to be smaller as the higher order terms in any convergent series is smaller than the previous.  Our estimate should then always be better than the specified accuracy.\n",
    "\n",
    "* We evaluate the polynomials in the Taylor series by using the previous values too avoid too many multiplications within the loop, we do this by using the following identity:"
   ]
  },
  {
   "cell_type": "markdown",
   "id": "8658bf45",
   "metadata": {
    "editable": true
   },
   "source": [
    "$$\n",
    "\\sin x=\\sum_{k=0}^{\\infty} (-1)^nt_n, \\text{ where: } t_n\\equiv\\frac{x^{2n+1}}{(2n+1)!}, \\text{ hence :}\\nonumber\n",
    "$$"
   ]
  },
  {
   "cell_type": "markdown",
   "id": "b618964f",
   "metadata": {
    "editable": true
   },
   "source": [
    "$$\n",
    "t_{n+1}=\\frac{x^{2(n+1)+1}}{(2(n+1)+1)!}=\\frac{x^{2n+1}x^2}{(2n+1)! (2n+2)(2n+3)}\\nonumber\n",
    "$$"
   ]
  },
  {
   "cell_type": "markdown",
   "id": "fa04dd8a",
   "metadata": {
    "editable": true
   },
   "source": [
    "<!-- Equation labels as ordinary links -->\n",
    "<div id=\"_auto1\"></div>\n",
    "\n",
    "$$\n",
    "\\begin{equation}  \n",
    "  =t_n\\frac{x^2}{(2n+2)(2n+3)}\n",
    "\\label{_auto1} \\tag{6}\n",
    "\\end{equation}\n",
    "$$"
   ]
  },
  {
   "cell_type": "markdown",
   "id": "748c0e4d",
   "metadata": {
    "editable": true
   },
   "source": [
    "# Calculating Numerical Derivatives of Functions\n",
    "\n",
    "As stated earlier many models are described by differential equations. Differential equations contains derivatives, and we need to tell the computer how to calculate those. By using a simple transformation, $x\\to x+h$ and $c\\to x$ (hence $x-c\\to h$), Taylors formula in equation ([3](#eq:taylor:taylor)) can be written"
   ]
  },
  {
   "cell_type": "markdown",
   "id": "62ab677b",
   "metadata": {
    "editable": true
   },
   "source": [
    "<!-- Equation labels as ordinary links -->\n",
    "<div id=\"eq:taylor:t\"></div>\n",
    "\n",
    "$$\n",
    "\\begin{equation}\n",
    "f(x+h)=f(x)+f^\\prime(x)h+\\frac{1}{2}f^{\\prime\\prime}(x)h^2+\\cdots.\n",
    "\\label{eq:taylor:t} \\tag{7}\n",
    "\\end{equation}\n",
    "$$"
   ]
  },
  {
   "cell_type": "markdown",
   "id": "faebf7b6",
   "metadata": {
    "editable": true
   },
   "source": [
    "This is useful because this equation contains the derivative of $f(x)$ on the right hand side. To be even more explicit let us truncate the series to a certain power. Remember that you can always do this but we need to replace $x$ with $\\eta$ in the last term we choose to keep"
   ]
  },
  {
   "cell_type": "markdown",
   "id": "a59e6dc7",
   "metadata": {
    "editable": true
   },
   "source": [
    "<!-- Equation labels as ordinary links -->\n",
    "<div id=\"eq:taylor:t3\"></div>\n",
    "\n",
    "$$\n",
    "\\begin{equation}\n",
    "f(x+h)=f(x)+f^\\prime(x)h+\\frac{1}{2}f^{\\prime\\prime}(\\eta)h^2\n",
    "\\label{eq:taylor:t3} \\tag{8}\n",
    "\\end{equation}\n",
    "$$"
   ]
  },
  {
   "cell_type": "markdown",
   "id": "cc05154c",
   "metadata": {
    "editable": true
   },
   "source": [
    "where $\\eta\\in[x,x+h]$. Solving this equation with respect to $f^\\prime(x)$ gives us"
   ]
  },
  {
   "cell_type": "markdown",
   "id": "974713c7",
   "metadata": {
    "editable": true
   },
   "source": [
    "<!-- Equation labels as ordinary links -->\n",
    "<div id=\"eq:taylor:fd\"></div>\n",
    "\n",
    "$$\n",
    "\\begin{equation}\n",
    "f^\\prime(x)=\\frac{f(x+h)-f(x)}{h}-\\frac{1}{2}f^{\\prime\\prime}(\\eta)h.\n",
    "\\label{eq:taylor:fd} \\tag{9}\n",
    "\\end{equation}\n",
    "$$"
   ]
  },
  {
   "cell_type": "markdown",
   "id": "83a58d4f",
   "metadata": {
    "editable": true
   },
   "source": [
    "Note that if $h\\to0$, this expression is equal to the definition of the derivative. The beauty of equation ([9](#eq:taylor:fd)) is that it contains an expression for the error we make *when $h$ is not zero*. Equation ([9](#eq:taylor:fd)) is usually called the *forward difference* . As you might guess, we can also choose to use the *backward difference*  by simply replacing $h\\to-h$. Is equation ([9](#eq:taylor:fd)) the only formula for the derivative? The answer is no, and we are going to derive the formula for the *central difference* , by writing Taylors formula for $x+h$ and $x-h$ up to the third order"
   ]
  },
  {
   "cell_type": "markdown",
   "id": "e9a5c74c",
   "metadata": {
    "editable": true
   },
   "source": [
    "<!-- Equation labels as ordinary links -->\n",
    "<div id=\"eq:taylor:c1\"></div>\n",
    "\n",
    "$$\n",
    "\\begin{equation}\n",
    "f(x+h)=f(x)+f^\\prime(x)h+\\frac{1}{2}f^{\\prime\\prime}(x)h^2+\\frac{1}{3!}f^{(3)}(\\eta_1)h^3,   \n",
    "\\label{eq:taylor:c1} \\tag{10}\n",
    "\\end{equation}\n",
    "$$"
   ]
  },
  {
   "cell_type": "markdown",
   "id": "6377b9f7",
   "metadata": {
    "editable": true
   },
   "source": [
    "<!-- Equation labels as ordinary links -->\n",
    "<div id=\"eq:taylor:c2\"></div>\n",
    "\n",
    "$$\n",
    "\\begin{equation}  \n",
    "f(x-h)=f(x)-f^\\prime(x)h+\\frac{1}{2}f^{\\prime\\prime}(x)h^2-\\frac{1}{3!}f^{(3)}(\\eta_2)h^3.\n",
    "\\label{eq:taylor:c2} \\tag{11}\n",
    "\\end{equation}\n",
    "$$"
   ]
  },
  {
   "cell_type": "markdown",
   "id": "66ed81a0",
   "metadata": {
    "editable": true
   },
   "source": [
    "where $\\eta_1\\in[x,x+h]$, and $\\eta_2\\in[x-h,x]$. Subtracting  equation ([10](#eq:taylor:c1)) and ([11](#eq:taylor:c2)), we get the following expression for the central difference"
   ]
  },
  {
   "cell_type": "markdown",
   "id": "7717d5af",
   "metadata": {
    "editable": true
   },
   "source": [
    "<!-- Equation labels as ordinary links -->\n",
    "<div id=\"eq:taylor:cd\"></div>\n",
    "\n",
    "$$\n",
    "\\begin{equation}\n",
    "f^\\prime(x)=\\frac{f(x+h)-f(x-h)}{2h} -\\frac{h^2}{6}f^{(3)}(\\eta),\\label{eq:taylor:cd} \\tag{12}\n",
    "\\end{equation}\n",
    "$$"
   ]
  },
  {
   "cell_type": "markdown",
   "id": "726b680f",
   "metadata": {
    "editable": true
   },
   "source": [
    "where $\\eta\\in[x-h,x+h]$. Note that the error term in this equation is *one order higher* than in equation ([9](#eq:taylor:fd)), meaning that it is expected to be more accurate. In [figure 2](#fig:taylor:fd) there is a graphical interpretation of the finite difference approximations to the derivative. \n",
    "\n",
    "<!-- dom:FIGURE: [fig-taylor/fd.png, width=800 frac=1.0] A graphical interpretation of the forward and central difference formula. <div id=\"fig:taylor:fd\"></div> -->\n",
    "<!-- begin figure -->\n",
    "<div id=\"fig:taylor:fd\"></div>\n",
    "\n",
    "<img src=\"fig-taylor/fd.png\" width=800><p style=\"font-size: 0.9em\"><i>Figure 2: A graphical interpretation of the forward and central difference formula.</i></p>\n",
    "<!-- end figure -->\n",
    "\n",
    "### Higher order derivative\n",
    "\n",
    "<div id=\"sec:taylor:hhd\"></div>\n",
    "We are also now in the position to derive a formula for the second order derivative. Instead of subtracting equation ([10](#eq:taylor:c1)) and ([11](#eq:taylor:c2)), we can add them. Then the first order derivative disappear and we are left with an expression for the second derivative"
   ]
  },
  {
   "cell_type": "markdown",
   "id": "6e4b8aef",
   "metadata": {
    "editable": true
   },
   "source": [
    "<!-- Equation labels as ordinary links -->\n",
    "<div id=\"eq:taylor:2der\"></div>\n",
    "\n",
    "$$\n",
    "\\begin{equation}\n",
    "f^{\\prime\\prime}(x) = \\frac{f(x+h)+f(x-h)-2f(x)}{h^2}- \\frac{h^2}{12}f^{(4)}(\\eta)\n",
    "\\label{eq:taylor:2der} \\tag{13},\n",
    "\\end{equation}\n",
    "$$"
   ]
  },
  {
   "cell_type": "markdown",
   "id": "f94a3404",
   "metadata": {
    "editable": true
   },
   "source": [
    "We can also calculate higher order derivatives by expanding about $x\\pm h$ and $x\\pm 2h$, adding one more term it follows from equation ([12](#eq:taylor:cd))"
   ]
  },
  {
   "cell_type": "markdown",
   "id": "53a59d1a",
   "metadata": {
    "editable": true
   },
   "source": [
    "<!-- Equation labels as ordinary links -->\n",
    "<div id=\"_auto2\"></div>\n",
    "\n",
    "$$\n",
    "\\begin{equation}\n",
    "f(x+h)-f(x-h)=2hf^\\prime(x)+\\frac{2}{3!}h^3f^{(3)}(x)+\\frac{2}{5!}h^5f^{(5)}(\\eta),{\\nonumber}\n",
    "\\label{_auto2} \\tag{14}\n",
    "\\end{equation}\n",
    "$$"
   ]
  },
  {
   "cell_type": "markdown",
   "id": "b5bc61c0",
   "metadata": {
    "editable": true
   },
   "source": [
    "$$\n",
    "\\begin{equation}  \n",
    "f(x+2h)-f(x-2h)=2(2h)f^\\prime(x)+\\frac{2}{3!}(2h)^3f^{(3)}(x)+\\frac{2}{5!}h^5f^{(5)}(\\eta).\n",
    "\\label{}\n",
    "\\end{equation}\n",
    "$$"
   ]
  },
  {
   "cell_type": "markdown",
   "id": "39ce88ea",
   "metadata": {
    "editable": true
   },
   "source": [
    "It is now possible to find an expression for the third derivative"
   ]
  },
  {
   "cell_type": "markdown",
   "id": "3f673847",
   "metadata": {
    "editable": true
   },
   "source": [
    "<!-- Equation labels as ordinary links -->\n",
    "<div id=\"eq:taylor:3der\"></div>\n",
    "\n",
    "$$\n",
    "\\begin{equation}\n",
    "f^{(3)}(x) = \\frac{f(x-h)-f(x+h)-\\frac{1}{2}f(x-2h)+\\frac{1}{2}f(x+2h)}{h^3}+ \\frac{h^2}{4}f^{(5)}(\\eta)\n",
    "\\label{eq:taylor:3der} \\tag{15},\n",
    "\\end{equation}\n",
    "$$"
   ]
  },
  {
   "cell_type": "markdown",
   "id": "d4d05674",
   "metadata": {
    "editable": true
   },
   "source": [
    "or a higher order first derivative"
   ]
  },
  {
   "cell_type": "markdown",
   "id": "de21c1cb",
   "metadata": {
    "editable": true
   },
   "source": [
    "<!-- Equation labels as ordinary links -->\n",
    "<div id=\"eq:taylor:5der\"></div>\n",
    "\n",
    "$$\n",
    "\\begin{equation}\n",
    "f^{\\prime}(x) = \\frac{2f(x+h)-2f(x-h)-\\frac{1}{4}f(x+2h)+\\frac{1}{4}f(x-2h)}{3h}+ \\frac{h^4}{30}f^{(5)}(\\eta)\n",
    "\\label{eq:taylor:5der} \\tag{16}.\n",
    "\\end{equation}\n",
    "$$"
   ]
  },
  {
   "cell_type": "markdown",
   "id": "0b4f9052",
   "metadata": {
    "editable": true
   },
   "source": [
    "**Example: calculate the numerical derivative and second derivative of $\\sin x$.**\n",
    "\n",
    "Choose a specific point, e.g. $x=1$, and calculate the numerical error for various values of the step size $h$.\n",
    "**Solution:**\n",
    "The derivative of $\\sin x$ is $\\cos x$, we can calculate the numerical derivatives using Python"
   ]
  },
  {
   "cell_type": "code",
   "execution_count": 4,
   "id": "400ad053",
   "metadata": {
    "collapsed": false,
    "editable": true
   },
   "outputs": [],
   "source": [
    "def f(x):\n",
    "    return np.sin(x)\n",
    "def fd(f,x,h):\n",
    "    \"\"\" f'(x) forward difference \"\"\"\n",
    "    return (f(x+h)-f(x))/h\n",
    "\n",
    "def fc(f,x,h):\n",
    "    \"\"\" f'(x) central difference \"\"\"\n",
    "    return 0.5*(f(x+h)-f(x-h))/h\n",
    "\n",
    "def fdd(f,x,h):\n",
    "    \"\"\" f''(x) second order derivative \"\"\"\n",
    "    return (f(x+h)+f(x-h)-2*f(x))/(h*h)\n",
    "\n",
    "def fd3(f,x,h):\n",
    "    \"\"\" f'''(x) third order derivative \"\"\"\n",
    "    return (2*f(x-h)-2*f(x+h)-f(x-2*h)+f(x+2*h))/(2*h*h*h)\n",
    "\n",
    "def fd_4(f,x,h):\n",
    "    \"\"\" f'(x) fourth order \"\"\"\n",
    "    return (8*f(x+h)-8*f(x-h)-f(x+2*h)+f(x-2*h))/(12*h)\n",
    "x=1\n",
    "h=np.logspace(-15,0.1,10)\n",
    "plt.plot(h,np.abs(np.cos(x)-fd(f,x,h)), '-o',label='forward difference')\n",
    "plt.plot(h,np.abs(np.cos(x)-fc(f,x,h)),'-x', label='central difference')\n",
    "plt.plot(h,np.abs(np.cos(x)-fd_4(f,x,h)),'-*',label='derivative - fourth order')\n",
    "plt.plot(h,np.abs(-np.sin(x)-fdd(f,x,h)),'-*',label='second derivative')\n",
    "h=np.logspace(-7,0.1,10)\n",
    "plt.plot(h,np.abs(-np.cos(x)-fd3(f,x,h)),'-*',label='third derivative')\n",
    "\n",
    "plt.grid()\n",
    "plt.legend()\n",
    "plt.xscale('log')\n",
    "plt.yscale('log')\n",
    "plt.xlabel('Step size $h$')\n",
    "plt.ylabel('Numerical error')"
   ]
  },
  {
   "cell_type": "markdown",
   "id": "fdd8d205",
   "metadata": {
    "editable": true
   },
   "source": [
    "In [figure 3](#fig:taylor:df2) you can see the figure produced by the code above.\n",
    "\n",
    "\n",
    "\n",
    "<!-- dom:FIGURE: [fig-taylor/df2_mod.png, width=800 frac=1.0] Numerical error of derivatives of $\\sin x$ for various step sizes. <div id=\"fig:taylor:df2\"></div> -->\n",
    "<!-- begin figure -->\n",
    "<div id=\"fig:taylor:df2\"></div>\n",
    "\n",
    "<img src=\"fig-taylor/df2_mod.png\" width=800><p style=\"font-size: 0.9em\"><i>Figure 3: Numerical error of derivatives of $\\sin x$ for various step sizes.</i></p>\n",
    "<!-- end figure -->\n",
    "\n",
    "There are several important lessons from [figure 3](#fig:taylor:df2)\n",
    "1. When the step size is high and decreasing (from right to left in the figure), we clearly see that the numerical error *decreases*.\n",
    "\n",
    "2. The numerical error scales as expected from right to left. The forward difference formula scales as $h$, i.e. decreasing the step size by 10 reduces the numerical error by 10. The central difference and second order derivative formula scales as $h^2$, reducing the step size by 10 reduces the numerical error by 100\n",
    "\n",
    "3. At a certain point the numerical error start to *increase*. For the forward difference formula this happens at $ 10^{-8}$.\n",
    "\n",
    "The numerical error has a minimum, *it does not continue to decrease when $h$ decreases*. The explanation for this behavior is two competing effects: *truncation errors* and *roundoff errors*. The truncation errors have already been discussed in great detail, in the next section we will explain roundoff errors.\n",
    "\n",
    "## Roundoff Errors\n",
    "In a computer a floating point number,$x$, is represented as:"
   ]
  },
  {
   "cell_type": "markdown",
   "id": "864a160d",
   "metadata": {
    "editable": true
   },
   "source": [
    "<!-- Equation labels as ordinary links -->\n",
    "<div id=\"eq:taylor:sci2\"></div>\n",
    "\n",
    "$$\n",
    "\\begin{equation}\n",
    "x=\\pm q2^m.\n",
    "\\label{eq:taylor:sci2} \\tag{17}\n",
    "\\end{equation}\n",
    "$$"
   ]
  },
  {
   "cell_type": "markdown",
   "id": "f540b7d6",
   "metadata": {
    "editable": true
   },
   "source": [
    "This is very similar to our usual scientific notation where we represents large (or small numbers) as $\\pm q E m=\\pm q 10^{m}$. The processor in a computer handles a chunk of bits at one time, this chunk of bit is usually termed *word*. The number of bits (or byte which almost always means a group of eight bits) in a word is handled as a unit by a processor.   \n",
    "Most modern computers uses 64-bits (8 bytes) processors. We are not going too much into all the details, the most important message is that the units handled by the processor are *finite*. Thus we cannot, in general, store numbers in a computer with infinite accuracy.\n",
    "**Machine Precision.**\n",
    "\n",
    "Machine precision, $\\epsilon_M$ is the smallest number we can add to one and get something different than one, i.e. $1+\\epsilon_M>1$. For a 64-bits computer this value is $\\epsilon_M=2^{-52}\\simeq2.2210^{-16}$.\n",
    "\n",
    "\n",
    "In the next section we explain exactly why the machine precision has this value, but if you just accept this for a moment we can demonstrate why the machine precision is important and why you need to care about it. First just to convince you that the machine precision has the value of $2^{-52}$ in your computer you can do the following in Python"
   ]
  },
  {
   "cell_type": "code",
   "execution_count": 5,
   "id": "a48c66b5",
   "metadata": {
    "collapsed": false,
    "editable": true
   },
   "outputs": [],
   "source": [
    "print(1+2**-52) # prints a value larger than 1\n",
    "print(1+2**-53) # prints 1.0"
   ]
  },
  {
   "cell_type": "markdown",
   "id": "d4ac1079",
   "metadata": {
    "editable": true
   },
   "source": [
    "Next, consider the simple calculation"
   ]
  },
  {
   "cell_type": "code",
   "execution_count": 6,
   "id": "8d643d77",
   "metadata": {
    "collapsed": false,
    "editable": true
   },
   "outputs": [],
   "source": [
    "a=0.1+0.2\n",
    "b=0.3\n",
    "print(a==b) # gives False"
   ]
  },
  {
   "cell_type": "markdown",
   "id": "9eebe735",
   "metadata": {
    "editable": true
   },
   "source": [
    "Why is `a==b` false, the calculation involves only numbers with one decimal? The reason is that the computer uses the binary system, and in the binary system there is no way of representing 0.2 and 0.3 with a finite number of bits, as an example 0.2 in the binary system is"
   ]
  },
  {
   "cell_type": "markdown",
   "id": "b2e74ba3",
   "metadata": {
    "editable": true
   },
   "source": [
    "<!-- Equation labels as ordinary links -->\n",
    "<div id=\"eq:taylor:02\"></div>\n",
    "\n",
    "$$\n",
    "\\begin{equation}\n",
    "0.2_{10}=0.0011001100\\ldots_2 (=2^{-3}+2^{-4}+2^{-7}+2^{-8}+2^{-11}+\\cdots)\n",
    "\\label{eq:taylor:02} \\tag{18}\n",
    "\\end{equation}\n",
    "$$"
   ]
  },
  {
   "cell_type": "markdown",
   "id": "2dd07cab",
   "metadata": {
    "editable": true
   },
   "source": [
    "Note that we use the subscript $_{10}$ and $_2$ to represent the decimal and binary system respectively.\n",
    "Thus in the computer 0.2 will be represented as $0.1999\\ldots$ and when we add 0.1 we will get a number really close to 0.3 but not equal to 0.3. Some floats have an exact binary representation e.g. $0.125_{10}=2^{-8}_{10}=0.00000001_2$. Thus the following code will produce the expected result"
   ]
  },
  {
   "cell_type": "code",
   "execution_count": 7,
   "id": "60e78bd5",
   "metadata": {
    "collapsed": false,
    "editable": true
   },
   "outputs": [],
   "source": [
    "a=0.125+0.25\n",
    "b=0.375\n",
    "print(a==b) # gives True"
   ]
  },
  {
   "cell_type": "markdown",
   "id": "98cc0f10",
   "metadata": {
    "editable": true
   },
   "source": [
    "**Comparing two floats.**\n",
    "\n",
    "Whenever you want to compare if two floats, $a$ and $b$, are equal in a computer program, you should never do $a==b$ because of roundoff errors. Rather you should choose a variant of $|a-b|<\\epsilon$, where you check if the numbers are *close enough*. In practice you also might want to normalize the values and do $|1-b/a|<\\epsilon$.\n",
    "\n",
    "\n",
    "The roundoff errors can also play a very big role in calculations, it is particularly apparent when subtracting two numbers of similar magnitude as illustrated in the following code"
   ]
  },
  {
   "cell_type": "code",
   "execution_count": 8,
   "id": "fc6ee8ae",
   "metadata": {
    "collapsed": false,
    "editable": true
   },
   "outputs": [],
   "source": [
    "h=2**-53\n",
    "a=1+h\n",
    "b=1-h\n",
    "print((a-b)/h) # analytical result is 2"
   ]
  },
  {
   "cell_type": "markdown",
   "id": "72718637",
   "metadata": {
    "editable": true
   },
   "source": [
    "The calculation above is very similar to the calculation done when evaluating derivatives, and if you run the code you will see that Python does not give the expected value of 2.\n",
    "**Choosing the right step size.**\n",
    "\n",
    "A step size that is too low will give higher numerical error because roundoff errors dominate the numerical error.\n",
    "\n",
    "\n",
    "At the end we will mention a simple trick that you can use sometimes to avoid roundoff errors [[flannery1992numerical]](#flannery1992numerical). In practice we can never get rid of roundoff errors in the calculation $f(x+h)$, but since we can choose the step size $h$ we can choose to choose values such that $x$ and $x+h$ differ by an exact binary number"
   ]
  },
  {
   "cell_type": "code",
   "execution_count": 9,
   "id": "042a9771",
   "metadata": {
    "collapsed": false,
    "editable": true
   },
   "outputs": [],
   "source": [
    "x=1\n",
    "h=0.0002 \n",
    "temp = x+h\n",
    "h=temp-x\n",
    "print(h) # improved value of h with exact binary representation"
   ]
  },
  {
   "cell_type": "markdown",
   "id": "31b26f95",
   "metadata": {
    "editable": true
   },
   "source": [
    "In the next sections we will show why $\\epsilon_M=2^{-52}$, and why a finite word size leads necessary has to imply a maximum and minimum number.  \n",
    "### Binary numbers\n",
    "\n",
    "Binary numbers are used in computers because processors are made of billions of transistors, the end states of a transistor is off or on, representing a 0 or 1 in the binary system. Assume, for simplicity, that we have a processor that uses a word size of 4 bits (instead of 64 bits). How many *unsigned* (positive) integers can we represent in this processor? Lets write down all the possible combinations, of ones and zeros and also do the translation from base 2 numerical system to base 10 numerical system:"
   ]
  },
  {
   "cell_type": "markdown",
   "id": "284453d8",
   "metadata": {
    "editable": true
   },
   "source": [
    "<!-- Equation labels as ordinary links -->\n",
    "<div id=\"eq:taylor:bin4\"></div>\n",
    "\n",
    "$$\n",
    "\\begin{equation}\n",
    "\\begin{matrix}\n",
    "0&0&0&0=0\\cdot 2^3+0\\cdot 2^2+0\\cdot 2^1+0\\cdot 2^0=0\\\\ \n",
    "0&0&0&1=0\\cdot 2^3+0\\cdot 2^2+0\\cdot 2^1+1\\cdot 2^0=1\\\\ \n",
    "0&0&1&0=0\\cdot 2^3+0\\cdot 2^2+1\\cdot 2^1+0\\cdot 2^0=2\\\\ \n",
    "0&0&1&1=0\\cdot 2^3+0\\cdot 2^2+1\\cdot 2^1+1\\cdot 2^0=3\\\\ \n",
    "0&1&0&0=0\\cdot 2^3+1\\cdot 2^2+0\\cdot 2^1+0\\cdot 2^0=4\\\\ \n",
    "0&1&0&1=0\\cdot 2^3+1\\cdot 2^2+0\\cdot 2^1+1\\cdot 2^0=5\\\\ \n",
    "0&1&1&0=0\\cdot 2^3+1\\cdot 2^2+1\\cdot 2^1+0\\cdot 2^0=6\\\\ \n",
    "0&1&1&1=0\\cdot 2^3+1\\cdot 2^2+1\\cdot 2^1+1\\cdot 2^0=7\\\\ \n",
    "1&0&0&0=1\\cdot 2^3+0\\cdot 2^2+0\\cdot 2^1+0\\cdot 2^0=8\\\\ \n",
    "1&0&0&1=1\\cdot 2^3+0\\cdot 2^2+0\\cdot 2^1+1\\cdot 2^0=9\\\\ \n",
    "1&0&1&0=1\\cdot 2^3+0\\cdot 2^2+1\\cdot 2^1+0\\cdot 2^0=10\\\\ \n",
    "1&0&1&1=1\\cdot 2^3+0\\cdot 2^2+1\\cdot 2^1+1\\cdot 2^0=11\\\\ \n",
    "1&1&0&0=1\\cdot 2^3+1\\cdot 2^2+0\\cdot 2^1+0\\cdot 2^0=12\\\\ \n",
    "1&1&0&1=1\\cdot 2^3+1\\cdot 2^2+0\\cdot 2^1+1\\cdot 2^0=13\\\\ \n",
    "1&1&1&0=1\\cdot 2^3+1\\cdot 2^2+1\\cdot 2^1+0\\cdot 2^0=14\\\\ \n",
    "1&1&1&1=1\\cdot 2^3+1\\cdot 2^2+1\\cdot 2^1+1\\cdot 2^0=15\n",
    "\\end{matrix}\n",
    ".\n",
    "\\label{eq:taylor:bin4} \\tag{19}\n",
    "\\end{equation}\n",
    "$$"
   ]
  },
  {
   "cell_type": "markdown",
   "id": "65f79992",
   "metadata": {
    "editable": true
   },
   "source": [
    "Hence, with a 4 bits word size, we can represent $2^4=16$ integers. The largest number is $2^4-1=15$, and the smallest is zero. What about negative numbers? If we still keep to a 4 bits word size, there are still $2^4=16$ numbers, but we distribute them differently. The common way to do it is to reserve the first bit to be a *sign* bit, a \"0\" is positive and \"1\" is negative, i.e. $(-1)^0 = 1$, and $(-1)^1=-1$. Replacing the first bit with a sign bit in equation ([19](#eq:taylor:bin4)), we get the following sequence of numbers 0,1,2,3,4,5,6,7,-0,-1,-2,-3,-4,-5,-6,-7. The \"-0\", might seem strange but is used in the computer to extend the real number line $1/0=\\infty$, whereas $1/-0=-\\infty$. In general when there are $m$ bits, we have a total of $2^m$ numbers. If we include negative numbers, we can choose to have $2^{m-1}-1$, negative, and $2^{m-1}-1$ positive numbers, negative zero and positive zero, i.e. $2^{m-1}-1+2^{m-1}-1+1+1=2^m$.\n",
    "\n",
    "What about real numbers? As stated earlier we use the scientific notation as in equation ([17](#eq:taylor:sci2)), but still the scientific notation might have a real number in front, e.g. $1.25\\cdot 10^{-3}$. To represent the number $1.25$ in binary format we use a decimal separator, just as with base 10. In this case 1.25 is 1.01 in binary format"
   ]
  },
  {
   "cell_type": "markdown",
   "id": "e993bd84",
   "metadata": {
    "editable": true
   },
   "source": [
    "<!-- Equation labels as ordinary links -->\n",
    "<div id=\"eq:taylor:b2fr\"></div>\n",
    "\n",
    "$$\n",
    "\\begin{equation}\n",
    "1.01=1\\cdot 2^0 + 0\\cdot 2^{-1}+1\\cdot 2^{-2}=1 + 0 + 0.25=1.25.\n",
    "\\label{eq:taylor:b2fr} \\tag{20}\n",
    "\\end{equation}\n",
    "$$"
   ]
  },
  {
   "cell_type": "markdown",
   "id": "3da7c162",
   "metadata": {
    "editable": true
   },
   "source": [
    "The scientific notation is commonly referred to as *floating point representation*. The term \"floating point\" is used because the decimal point is not in the same place, in contrast to fixed point where the decimal point is always in the same place. To store the number 1e-8=0.00000001 in floating point format, we only need to store 1 and -8 (and possibly the sign), whereas in fixed point format we need to store all 9 numbers.  In equation ([19](#eq:taylor:bin4)) we need to spend one bit to store the sign, leaving (in the case of 4 bits word size) three bits to be distributed among the *mantissa*, $q$, and the exponent, $m$. It is not given how many bits should be used for the mantissa and the exponent. Thus there are choices to be made, and all modern processors uses the same standard, the [IEEE Standard 754-1985](https://standards.ieee.org/standard/754-1985.html). \n",
    "\n",
    "### Floating point numbers and the IEEE 754-1985 standard\n",
    "\n",
    "A 64 bits word size is commonly referred to as *double precision*, whereas a 32 bits word size is termed *single precision*. In the following we will consider a 64 bits word size. We would like to know: what is the roundoff error, what is the largest number that can be represented in the computer, and what is the smallest number? Almost all floating point numbers are represented in *normalized* form. In normalized form the mantissa is written as $M=1.F$, and it is only $F$ that is stored,   $F$ is termed the *fraction*. We will return to the special case of some of the unnormalized numbers later. In the IEEE standard one bit is reserved for the sign, 52 for the fraction ($F$) and 11 for the exponent ($m$), see [figure 4](#fig:taylor:64bit) for an illustration.\n",
    "\n",
    "<!-- dom:FIGURE: [fig-taylor/64bit.png, width=800 frac=1.0] Representation of a 64 bits floating point number according to the IEEE 754-1985 standard. For a 32 bits floating point number, 8, is reserved for the exponent and 23 for the fraction. <div id=\"fig:taylor:64bit\"></div> -->\n",
    "<!-- begin figure -->\n",
    "<div id=\"fig:taylor:64bit\"></div>\n",
    "\n",
    "<img src=\"fig-taylor/64bit.png\" width=800><p style=\"font-size: 0.9em\"><i>Figure 4: Representation of a 64 bits floating point number according to the IEEE 754-1985 standard. For a 32 bits floating point number, 8, is reserved for the exponent and 23 for the fraction.</i></p>\n",
    "<!-- end figure -->\n",
    "\n",
    "The exponent must be positive to represent numbers with absolute value larger than one, and negative to represent numbers with absolute value less than one.  To make this more explicit the simple formula in equation ([17](#eq:taylor:sci2)) is rewritten:"
   ]
  },
  {
   "cell_type": "markdown",
   "id": "7fb5a53e",
   "metadata": {
    "editable": true
   },
   "source": [
    "<!-- Equation labels as ordinary links -->\n",
    "<div id=\"eq:taylor:ieee\"></div>\n",
    "\n",
    "$$\n",
    "\\begin{equation}\n",
    "\\pm q 2^{E-e}.\n",
    "\\label{eq:taylor:ieee} \\tag{21}\n",
    "\\end{equation}\n",
    "$$"
   ]
  },
  {
   "cell_type": "markdown",
   "id": "4f268bcd",
   "metadata": {
    "editable": true
   },
   "source": [
    "The number $e$ is called the *bias* and has a fixed value, for 64 bits it is $2^{11-1}-1=1023$ (32-bits: $e=2^{8-1}-1=127$). The number $E$ is represented by 11 bits and can thus take on values from 0 to $2^11-1=2047$. If we have an exponent of e.g. -3, the computer adds 1023 to that number and store the number 1020. Two numbers are special numbers and reserved to represent infinity and zero, $E=0$ and $E=2047$. Thus *the largest and smallest possible numerical value of the exponent is: 2046-1023=1023, and 1-1023=-1022, respectively*. The fraction of a normalized floating point number takes on values from $1.000\\ldots 00$ to $1.111\\ldots 11$. Thus the lowest normalized number is"
   ]
  },
  {
   "cell_type": "markdown",
   "id": "027752e4",
   "metadata": {
    "editable": true
   },
   "source": [
    "<!-- Equation labels as ordinary links -->\n",
    "<div id=\"_auto3\"></div>\n",
    "\n",
    "$$\n",
    "\\begin{equation}\n",
    "1.000 + \\text{ (49 more zeros)}\\cdot 2^{-1022}=2^0\\cdot2^{-1022}{\\nonumber}\n",
    "\\label{_auto3} \\tag{22}\n",
    "\\end{equation}\n",
    "$$"
   ]
  },
  {
   "cell_type": "markdown",
   "id": "0faad4de",
   "metadata": {
    "editable": true
   },
   "source": [
    "$$\n",
    "\\begin{equation}  \n",
    "=2.2250738585072014\\cdot 10^{-308}.\n",
    "\\label{}\n",
    "\\end{equation}\n",
    "$$"
   ]
  },
  {
   "cell_type": "markdown",
   "id": "5f0c9c2e",
   "metadata": {
    "editable": true
   },
   "source": [
    "It is possible to represent smaller numbers than $2.22\\cdot10^{-308}$, by allowing *unnormalized* values. If the exponent is -1022, then the mantissa can take on values from $1.000\\ldots 00$ to $0.000\\ldots 01$, but then accuracy is lost. So the smallest possible number is $2^{-52}\\cdot{2^-1022}\\simeq4.94\\cdot10^{-324}$. \n",
    "The highest normalized number is"
   ]
  },
  {
   "cell_type": "markdown",
   "id": "fda975a0",
   "metadata": {
    "editable": true
   },
   "source": [
    "<!-- Equation labels as ordinary links -->\n",
    "<div id=\"_auto4\"></div>\n",
    "\n",
    "$$\n",
    "\\begin{equation}\n",
    "1.111 + \\text{ (49 more ones)}\\cdot2^{1023}=(2^0+2^{-1}+2^{-2}+\\cdots+2^{-52})\\cdot2^{1023}{\\nonumber}\n",
    "\\label{_auto4} \\tag{23}\n",
    "\\end{equation}\n",
    "$$"
   ]
  },
  {
   "cell_type": "markdown",
   "id": "882a159f",
   "metadata": {
    "editable": true
   },
   "source": [
    "$$\n",
    "\\begin{equation} =(2-2^{-52})\\cdot2^{1023}\n",
    "=1.7976931348623157\\cdot 10^{308}.\n",
    "\\label{}\n",
    "\\end{equation}\n",
    "$$"
   ]
  },
  {
   "cell_type": "markdown",
   "id": "c991e790",
   "metadata": {
    "editable": true
   },
   "source": [
    "If you enter `print(1.8*10**(308))` in Python, the answer will be `Inf`. If you enter `print(2*10**(308))`, Python will (normally) give an answer. This is because \n",
    "the number $1.8\\cdot10^{308}$ is floating point number, whereas $2\\cdot 10^{308}$ is an *integer*, and Python does something clever when it comes to representing integers. \n",
    "Python has a third numeric type called long int, which can use the available memory to represent an integer.\n",
    "\n",
    "What about the machine precision? The machine precision, $\\epsilon_M$, is the *smallest possible number that can be added to one, and get a number larger than one*, i.e. $1+\\epsilon_M>1$.  The smallest possible value of the mantissa is $0.000\\ldots 01=2^{-52}$, thus the lowest number must be of the form $2^{-52}\\cdot 2^{m}$. If the exponent , $m$, is lower than 0 then when we add this number to 1, we will only get 1. Thus the machine precision is $\\epsilon_M=2^{-52}=2.22\\cdot10^{-16}$ (for 32 bits $2^{-23}=1.19\\cdot10^{-7}$). In practical terms this means that e.g. the value of $\\pi$ is $3.14159265358979323846264338\\ldots$, but in Python it can only be represented by 16 digits: $3.141592653589793$.\n",
    "\n",
    "### Roundoff error and truncation error in numerical derivatives\n",
    "\n",
    "**Roundoff Errors.**\n",
    "\n",
    "All numerical floating point operations introduces roundoff errors at each step in the calculation due to finite word size, these errors accumulate in long simulations and introduce random errors in the final results. After $N$ operations the error is at least $\\sqrt{N}\\epsilon_M$ (the square root is a random walk estimate, and we assume that the errors are randomly distributed). The roundoff errors can be much, much higher when numbers of equal magnitude are subtracted. You might be so unlucky that after one operation the answer is completely dominated by roundoff errors.\n",
    "\n",
    "\n",
    "\n",
    "The roundoff error when we represent a floating point number $x$ in the \n",
    "machine will be of the order $x/10^{16}$ (*not* $10^{-16}$). In general, when we evaluate a function the error will be of the order \n",
    "$\\epsilon|f(x)|$, where $\\epsilon\\sim10^{-16}$. Thus equation ([9](#eq:taylor:fd)) is modified in the following way when we take into account the roundoff errors:"
   ]
  },
  {
   "cell_type": "markdown",
   "id": "47cb8116",
   "metadata": {
    "editable": true
   },
   "source": [
    "<!-- Equation labels as ordinary links -->\n",
    "<div id=\"eq:taylor:derr2\"></div>\n",
    "\n",
    "$$\n",
    "\\begin{equation}\n",
    "f^\\prime(x)=\\frac{f(x+h)-f(x)}{h}\\pm\\frac{2\\epsilon|f(x)|}{h}-\\frac{h}{2}f^{\\prime\\prime}(\\eta),\\label{eq:taylor:derr2} \\tag{24}\n",
    "\\end{equation}\n",
    "$$"
   ]
  },
  {
   "cell_type": "markdown",
   "id": "81aaebee",
   "metadata": {
    "editable": true
   },
   "source": [
    "we do not know the sign of the roundoff error, so the total error $R_2$ is:"
   ]
  },
  {
   "cell_type": "markdown",
   "id": "d43c2205",
   "metadata": {
    "editable": true
   },
   "source": [
    "<!-- Equation labels as ordinary links -->\n",
    "<div id=\"eq:taylor:derr3\"></div>\n",
    "\n",
    "$$\n",
    "\\begin{equation}\n",
    "R_2=\\frac{2\\epsilon|f(x)|}{h}+\\frac{h}{2}|f^{\\prime\\prime}(\\eta)|.\\label{eq:taylor:derr3} \\tag{25}\n",
    "\\end{equation}\n",
    "$$"
   ]
  },
  {
   "cell_type": "markdown",
   "id": "d7a4a927",
   "metadata": {
    "editable": true
   },
   "source": [
    "We have put absolute values around the function and its derivative to get the maximal error, it might be the case that the roundoff error cancel part of the \n",
    "truncation error. However, the roundoff error is random in nature and will change from machine to machine, and each time we run the program. \n",
    "Note that the roundoff error increases when $h$ decreases, and the approximation error decreases when $h$ decreases. This is exactly what we saw in [figure 3](#fig:taylor:df2). We can find the \n",
    "best step size, by differentiating $R_2$ and put it equal to zero:"
   ]
  },
  {
   "cell_type": "markdown",
   "id": "6dff64aa",
   "metadata": {
    "editable": true
   },
   "source": [
    "$$\n",
    "\\frac{dR_2}{dh}=-\\frac{2\\epsilon|f(x)|}{h^2}+\\frac{1}{2}f^{\\prime\\prime}(\\eta)=0\\nonumber\n",
    "$$"
   ]
  },
  {
   "cell_type": "markdown",
   "id": "3cd7e340",
   "metadata": {
    "editable": true
   },
   "source": [
    "<!-- Equation labels as ordinary links -->\n",
    "<div id=\"eq:taylor:derr4\"></div>\n",
    "\n",
    "$$\n",
    "\\begin{equation}  \n",
    "h=2\\sqrt{\\epsilon\\left|\\frac{f(x)}{f^{\\prime\\prime}(\\eta)}\\right|}\\simeq 2\\cdot10^{-8},\\label{eq:taylor:derr4} \\tag{26}\n",
    "\\end{equation}\n",
    "$$"
   ]
  },
  {
   "cell_type": "markdown",
   "id": "d5fb1e44",
   "metadata": {
    "editable": true
   },
   "source": [
    "In the last equation we have assumed that $f(x)$ and its derivative is $ 1$. This step size corresponds to an error of order $R_2\\sim10^{-8}$. \n",
    "Inspecting [figure 3](#fig:taylor:df2) we see that the minimum is located at $h\\sim10^{-8}$.      \n",
    "\n",
    "We can perform a similar error analysis as we did before, and then we find for equation ([12](#eq:taylor:cd)) and ([13](#eq:taylor:2der)) that the total\n",
    "numerical error is:"
   ]
  },
  {
   "cell_type": "markdown",
   "id": "831ac353",
   "metadata": {
    "editable": true
   },
   "source": [
    "<!-- Equation labels as ordinary links -->\n",
    "<div id=\"eq:taylor:derr3b\"></div>\n",
    "\n",
    "$$\n",
    "\\begin{equation}\n",
    "R_3=\\frac{\\epsilon|f(x)|}{h}+\\frac{h^2}{6}f^{(3)}(\\eta),\\label{eq:taylor:derr3b} \\tag{27}\n",
    "\\end{equation}\n",
    "$$"
   ]
  },
  {
   "cell_type": "markdown",
   "id": "e37df2cd",
   "metadata": {
    "editable": true
   },
   "source": [
    "<!-- Equation labels as ordinary links -->\n",
    "<div id=\"eq:taylor:derr4b\"></div>\n",
    "\n",
    "$$\n",
    "\\begin{equation}  \n",
    "R_4=\\frac{4\\epsilon|f(x)|}{h^2}+\\frac{h^2}{12}f^{(4)}(\\eta),\\label{eq:taylor:derr4b} \\tag{28}\n",
    "\\end{equation}\n",
    "$$"
   ]
  },
  {
   "cell_type": "markdown",
   "id": "2c3ffb31",
   "metadata": {
    "editable": true
   },
   "source": [
    "respectively. Differentiating these two equations with respect to $h$, and set the equations equal to zero, we find an optimal step size of\n",
    "$h\\sim10^{-5}$ for equation ([27](#eq:taylor:derr3b)), which gives an error of $R_2\\sim 10^{-16}/10^{-5}+(10^{-5})^2/6\\simeq10^{-10}$, and $h\\sim10^{-4}$ for equation\n",
    "([28](#eq:taylor:derr4b)), which gives an error of $R_4\\sim 4\\cdot10^{-16}/(10^{-4})^2+(10^{-4})^2/12\\simeq10^{-8}$. Note that we get the surprising result for the first order \n",
    "derivative in equation ([12](#eq:taylor:cd)), that a higher step size gives a more accurate result. \n",
    "\n",
    "# Bibliography\n",
    "\n",
    "1. <div id=\"flannery1992numerical\"></div> **B. P. Flannery, W. H. Press, S. A. Teukolsky and W. Vetterling**.  Numerical Recipes in C, *Press Syndicate of the University of Cambridge, New York*, 24(78), pp. 36, 1992."
   ]
  }
 ],
 "metadata": {},
 "nbformat": 4,
 "nbformat_minor": 5
}
