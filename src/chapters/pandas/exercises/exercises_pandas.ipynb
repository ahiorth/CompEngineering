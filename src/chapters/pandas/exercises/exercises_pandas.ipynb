{
 "cells": [
  {
   "cell_type": "markdown",
   "id": "2be29a35",
   "metadata": {
    "editable": true
   },
   "source": [
    "<!-- dom:TITLE: Pandas gym -->\n",
    "# Pandas gym\n",
    "**Prepared as part of Python for Subsurface Applications and Management**  \n",
    "**Aksel Hiorth University of Stavanger**\n",
    "\n",
    "Date: **Apr 23, 2024**\n",
    "\n",
    "**Learning objectives:**\n",
    "\n",
    "1. how to create a DataFrame\n",
    "\n",
    "2. plot data in DataFrame\n",
    "\n",
    "3. write code that is robust, i.e. gives error messages when it fails\n",
    "\n",
    "4. do simple statistics on data in a DataFrame\n",
    "\n",
    "5. group and filter data\n",
    "\n",
    "6. work with files and folders, split data into different files"
   ]
  },
  {
   "cell_type": "code",
   "execution_count": 1,
   "id": "a206a454",
   "metadata": {
    "collapsed": false,
    "editable": true
   },
   "outputs": [],
   "source": [
    "%matplotlib inline\n",
    "\n",
    "import matplotlib.pyplot as plt\n",
    "import numpy as np\n",
    "import pandas as pd"
   ]
  },
  {
   "cell_type": "markdown",
   "id": "c640684a",
   "metadata": {
    "editable": true
   },
   "source": [
    "# Exercise 1 Create a data frame\n",
    "In the folder `data` there is a file named `field_production_monthly.csv`.\n",
    "\n",
    "1. Read this file into a Pandas DataFrame\n",
    "\n",
    "2. Make a function that reads a file into a DataFrame, and returns an error message if it fails to open the file"
   ]
  },
  {
   "cell_type": "code",
   "execution_count": 2,
   "id": "fca36cb6",
   "metadata": {
    "collapsed": false,
    "editable": true
   },
   "outputs": [],
   "source": [
    "df = pd.read_csv(..)\n",
    "\n",
    "def read_data_frame(file_name,sep=','):\n",
    " ... write function"
   ]
  },
  {
   "cell_type": "markdown",
   "id": "b95b5364",
   "metadata": {
    "editable": true
   },
   "source": [
    "# Exercise 2 Extract data for Snorre\n",
    "The file `field_production_gross_monthly.csv` contains production data from the Norwegian Petroleum Directorate [factpages](https://factpages.npd.no/).\n",
    "\n",
    "1. Extract a DataFrame for the Snorre field\n",
    "\n",
    "2. Plot the production of oil equivalents as a function of time\n",
    "\n",
    "  * Use Matplotlib, and\n",
    "\n",
    "  * the built in plotting functionality of Pandas\n",
    "\n",
    "\n",
    "3. Compare your plot with the one on the [factpages](https://factpages.npd.no/en/field/PageView/All/43718). Use the [`pd.groupby()`](https://pandas.pydata.org/docs/reference/api/pandas.DataFrame.groupby.html) function to make a new data frame that contains the production per year and see if you can reproduce [figure 1](#fig:snorre) from the factpages.\n",
    "\n",
    "<!-- dom:FIGURE: [fig-pandas/snorre.png, width=400 frac=1.0] Yearly production from the Snorre field. <div id=\"fig:snorre\"></div> -->\n",
    "<!-- begin figure -->\n",
    "<div id=\"fig:snorre\"></div>\n",
    "\n",
    "<img src=\"fig-pandas/snorre.png\" width=400><p style=\"font-size: 0.9em\"><i>Figure 1: Yearly production from the Snorre field.</i></p>\n",
    "<!-- end figure -->"
   ]
  },
  {
   "cell_type": "code",
   "execution_count": 3,
   "id": "fd7bb674",
   "metadata": {
    "collapsed": false,
    "editable": true
   },
   "outputs": [],
   "source": [
    "# fill inn code"
   ]
  },
  {
   "cell_type": "markdown",
   "id": "6f2fd24d",
   "metadata": {
    "editable": true
   },
   "source": [
    "# Exercise 3 Extract data for any field\n",
    "Now we want to write some functions that are more general, which can extract information from any field.\n",
    "1. Make a general function that can extract a DataFrame given any name of a field in the database. If you want to be fancy you could also make the function case insensitive. The function should write a reasonable error message if something went wrong\n",
    "\n",
    "2. Write a function that takes as argument a DataFrame for a given field and makes a plot of the monthly production of oil equivalents. Give the plot a reasonable title and axes labels"
   ]
  },
  {
   "cell_type": "code",
   "execution_count": 4,
   "id": "09f4534e",
   "metadata": {
    "collapsed": false,
    "editable": true
   },
   "outputs": [],
   "source": [
    "df_full=pd.read_csv('../data/field_production_monthly.csv',sep=',')\n",
    "\n",
    "def get_field_data_frame(field_name,df=df_full):\n",
    "    '''\n",
    "    Returns a dataframe given a field name, \n",
    "    returns empty dataframe if field does not exist \n",
    "    '''\n",
    "    #... fill in code"
   ]
  },
  {
   "cell_type": "markdown",
   "id": "d80ba0c5",
   "metadata": {
    "editable": true
   },
   "source": [
    "# Exercise 4 Plot the total production data for NCS\n",
    "1. Use the [`pd.groupby()`](https://pandas.pydata.org/docs/reference/api/pandas.DataFrame.groupby.html)  functionality in Pandas to create a DataFrame containing production data for NCS as a whole\n",
    "\n",
    "2. Make a plot of the production\n",
    "\n",
    "# Exercise 5 Split data into folders and files\n",
    "\n",
    "Create a new data directory in which you create one folder for each field that contains an excel sheet with production data for that field. Use the `Pathlib` library to create directories.\n",
    "\n",
    "**Special characters in names.**\n",
    "\n",
    "Here you will encounter names with special characters, it is usually a good idea to replace those characters with a suitable replacement, before creating names or directories. To help you, you can use the function `replace_chars` below."
   ]
  },
  {
   "cell_type": "code",
   "execution_count": 5,
   "id": "b39f0f78",
   "metadata": {
    "collapsed": false,
    "editable": true
   },
   "outputs": [],
   "source": [
    "# fill in code\n",
    "from pathlib import Path\n",
    "def replace_chars(name, chars=[\"/\",\" \", \"Å\", \"Ø\", \"Æ\"], new_chars=[\"_\",\"_\",\"AA\",\"O\",\"AE\"]):\n",
    "    ''' replace Norwegian characters, space and slash in names'''\n",
    "    new_name = name\n",
    "    for ch,nch in zip(chars,new_chars):\n",
    "        new_name = new_name.replace(ch, nch)\n",
    "    return new_name"
   ]
  },
  {
   "cell_type": "markdown",
   "id": "50630b77",
   "metadata": {
    "editable": true
   },
   "source": [
    "# Exercise 6 Combine DataFrames\n",
    "Write a code to collect all the excel files you stored in different folder into a single DataFrame (Hint: use [`concat()`](https://pandas.pydata.org/docs/reference/api/pandas.concat.html) to combine data)"
   ]
  },
  {
   "cell_type": "code",
   "execution_count": 6,
   "id": "a4fec417",
   "metadata": {
    "collapsed": false,
    "editable": true
   },
   "outputs": [],
   "source": [
    "df_new=pd.DataFrame()"
   ]
  },
  {
   "cell_type": "markdown",
   "id": "d63b7676",
   "metadata": {
    "editable": true
   },
   "source": [
    "# Exercise 7 Scrap data from the web\n",
    "In this exercise we will collect data from the web, note that this will require some additional checking if the data you have read is of the correct type. Note that you can always do `df.dtypes` to list the types in the DataFrame.\n",
    "\n",
    "1. Use the function [`pandas.read_html()`](https://pandas.pydata.org/docs/reference/api/pandas.read_html.html) to scrap production data from the Snorre field directly from [the NPD factpages](https://factpages.npd.no/en/field/PageView/All/43718). (Hint: `pandas.read_html()` returns a list containing all tables in a website as DataFrames)\n",
    "\n",
    "2. Make a plot of the production data and compare with the production data in [figure 1](#fig:snorre). (Hint: you might need to sort values in the DataFrame and to convert some values to the correct type)"
   ]
  },
  {
   "cell_type": "code",
   "execution_count": 7,
   "id": "6c34adbe",
   "metadata": {
    "collapsed": false,
    "editable": true
   },
   "outputs": [],
   "source": [
    "# enter code here"
   ]
  }
 ],
 "metadata": {},
 "nbformat": 4,
 "nbformat_minor": 5
}
