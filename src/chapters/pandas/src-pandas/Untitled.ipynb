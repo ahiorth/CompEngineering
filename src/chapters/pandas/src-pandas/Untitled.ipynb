{
 "cells": [
  {
   "cell_type": "code",
   "execution_count": 1,
   "id": "bbb84840",
   "metadata": {},
   "outputs": [
    {
     "name": "stdout",
     "output_type": "stream",
     "text": [
      "           LOCATION                TIME  CONFIRMED  DEATHS  RECOVERED  \\\n",
      "0  Diamond Princess 2020-02-07 23:59:00       61.0     0.0        0.0   \n",
      "1  Diamond Princess 2020-02-08 23:59:00       61.0     0.0        0.0   \n",
      "2  Diamond Princess 2020-02-09 23:59:00        1.0     0.0        0.0   \n",
      "3  Diamond Princess 2020-02-10 23:59:00        1.0     0.0        0.0   \n",
      "4  Diamond Princess 2020-02-11 23:59:00        1.0     0.0        0.0   \n",
      "5  Diamond Princess 2020-02-12 23:59:00        1.0     0.0        0.0   \n",
      "6  Diamond Princess 2020-02-13 23:59:00        1.0     0.0        0.0   \n",
      "\n",
      "   ELAPSED_TIME_SINCE_OUTBREAK  \n",
      "0                            0  \n",
      "1                            1  \n",
      "2                            2  \n",
      "3                            3  \n",
      "4                            4  \n",
      "5                            5  \n",
      "6                            6  \n"
     ]
    }
   ],
   "source": [
    "import dataframe_image as dfi\n",
    "import pandas as pd\n",
    "import datetime as dt\n",
    "a=dt.datetime(2020,2,24,23,59)\n",
    "b=dt.datetime(2020,2,7,23,59)\n",
    "my_dict1={'LOCATION':7*['Diamond Princess'], \n",
    "'TIME':[b+dt.timedelta(days=i) for i in range(7)],\n",
    "'ELAPSED_TIME_SINCE_OUTBREAK':[0, 1, 2, 3, 4, 5, 6],\n",
    "'CONFIRMED':7*[1],\n",
    "'DEATHS':7*[0],\n",
    "'RECOVERED': 7*[0]}\n",
    "my_dict2={'LOCATION':2*['Diamond Princess'], \n",
    "'TIME':[b+dt.timedelta(days=i) for i in range(2)],\n",
    "'ELAPSED_TIME_SINCE_OUTBREAK':[0, 1],\n",
    "'CONFIRMED':[60, 60],\n",
    "'DEATHS':2*[0],\n",
    "'RECOVERED': 2*[0]}\n",
    "df1=pd.DataFrame(my_dict1)\n",
    "df2=pd.DataFrame(my_dict2)\n",
    "df=df1.merge(df2,on=['LOCATION','TIME'],how='outer')\n",
    "cols=['CONFIRMED','DEATHS', 'RECOVERED']\n",
    "for col in cols:\n",
    "    df[col]=df[[col+'_x',col+'_y']].sum(axis=1) # sum row elements\n",
    "    df=df.drop(columns=[col+'_x',col+'_y']) # remove obsolete columns\n",
    "# final clean up\n",
    "df['ELAPSED_TIME_SINCE_OUTBREAK']=df['ELAPSED_TIME_SINCE_OUTBREAK_x']\t\t\n",
    "df=df.drop(columns=['ELAPSED_TIME_SINCE_OUTBREAK_y','ELAPSED_TIME_SINCE_OUTBREAK_x'])\n",
    "print(df)"
   ]
  },
  {
   "cell_type": "code",
   "execution_count": 3,
   "id": "490d4e12",
   "metadata": {},
   "outputs": [],
   "source": [
    "df=df1.merge(df2,on=['LOCATION','TIME'],how='outer')"
   ]
  },
  {
   "cell_type": "code",
   "execution_count": 5,
   "id": "d31c6045",
   "metadata": {},
   "outputs": [
    {
     "name": "stderr",
     "output_type": "stream",
     "text": [
      "findfont: Font family ['Helvetica'] not found. Falling back to DejaVu Sans.\n",
      "findfont: Font family ['Helvetica'] not found. Falling back to DejaVu Sans.\n"
     ]
    }
   ],
   "source": [
    "dfi.export(df,'tmp.png',table_conversion='matplotlib')"
   ]
  },
  {
   "cell_type": "code",
   "execution_count": null,
   "id": "58441b08",
   "metadata": {},
   "outputs": [],
   "source": [
    "df1.merge(df2,on=['LOCATION','TIME'],how='inner')"
   ]
  }
 ],
 "metadata": {
  "kernelspec": {
   "display_name": "Python 3",
   "language": "python",
   "name": "python3"
  },
  "language_info": {
   "codemirror_mode": {
    "name": "ipython",
    "version": 3
   },
   "file_extension": ".py",
   "mimetype": "text/x-python",
   "name": "python",
   "nbconvert_exporter": "python",
   "pygments_lexer": "ipython3",
   "version": "3.7.4"
  }
 },
 "nbformat": 4,
 "nbformat_minor": 5
}
