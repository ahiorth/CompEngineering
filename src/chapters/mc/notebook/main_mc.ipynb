{
 "cells": [
  {
   "cell_type": "markdown",
   "id": "3cc9929c",
   "metadata": {
    "editable": true
   },
   "source": [
    "<!-- dom:TITLE: Monte Carlo Methods -->\n",
    "# Monte Carlo Methods\n",
    "**Aksel Hiorth**\n",
    "University of Stavanger\n",
    "\n",
    "Date: **Apr 23, 2024**\n",
    "\n",
    "# Monte Carlo methods\n",
    "Monte Carlo methods are named after the Monte Carlo Casino in Monaco,\n",
    "this is because at its core it uses random numbers to solve problems.\n",
    "Monte Carlo methods are quite easy to program, and they are\n",
    "usually much more intuitive than a theoretical approach. \n",
    "<!-- If we would -->\n",
    "<!-- like to find the probability to get at least 5 on three dices after 5 throws -->\n",
    "<!-- there are methods from statistics that could tell us the probability. -->\n",
    "<!-- Using the Monte Carlo method, we would get the computer to pick a -->\n",
    "<!-- random integer between 1 and 6, three times, to represent one throw of -->\n",
    "<!-- the dices bla bla. -->\n",
    "<!-- later in this chapter -->\n",
    "<!-- Usually  Usually we use differential equations to describe physical systems, the solution to these equations are continuous functions. In order for these solutions -->\n",
    "<!-- to be useful, they require that the differential equation describes our physical sufficiently. In many practical cases we have no control over many -->\n",
    "\n",
    "<!-- of the parameters entering the differential equation, or stated differently *our system is not deterministic*. This means that there could be some random -->\n",
    "<!-- fluctuations, occurring at different times and points in space, that we have no control over. In a practical situation we might would like to investigate how these fluctuations would -->\n",
    "<!-- affect the behavior of our system. A -->\n",
    "\n",
    "<!-- o [ray  tracing](https://www.scratchapixel.com/lessons/mathematics-physics-for-computer-graphics/monte-carlo-methods-in-practice/monte-carlo-rendering-practical-example) -->\n",
    "\n",
    "# Monte Carlo integration  ''hit and miss''\n",
    "Let us start with a simple illustration of the Monte Carlo Method (MCM), Monte Carlo integration. To the left\n",
    "in [figure 1](#fig:mc:mci) there is a shape of a pond. Imagine that we wanted to estimate the area of the pond, how could\n",
    "we do it? Assume further that you did not have your phone or any other electronic devices to help you. \n",
    "\n",
    "<!-- dom:FIGURE: [fig-mc/mci.png, width=800 frac=1.0] Two ponds to illustrate the MCM. <div id=\"fig:mc:mci\"></div> -->\n",
    "<!-- begin figure -->\n",
    "<div id=\"fig:mc:mci\"></div>\n",
    "\n",
    "<img src=\"fig-mc/mci.png\" width=800><p style=\"font-size: 0.9em\"><i>Figure 1: Two ponds to illustrate the MCM.</i></p>\n",
    "<!-- end figure -->\n",
    "\n",
    "One possible approach is: First to walk around it, and put up some bands (illustrated by the black dotted line).\n",
    "Then estimate the area inside the bands (e.g. 4$\\times$3 meters). Then\n",
    "we would know that the area was less than e.g. 12m$^2$. Finally,\n",
    "and this is the difficult part, throw rocks *randomly* inside the\n",
    "bands. The number of rocks hitting the pond divided by the total\n",
    "number rocks thrown should be equal to the area of the pond divided by\n",
    "the total area inside the bands, i.e. the area of the pond should be\n",
    "equal to:"
   ]
  },
  {
   "cell_type": "markdown",
   "id": "e64bb22c",
   "metadata": {
    "editable": true
   },
   "source": [
    "<!-- Equation labels as ordinary links -->\n",
    "<div id=\"eq:mc:mci\"></div>\n",
    "\n",
    "$$\n",
    "\\begin{equation}\n",
    "A\\simeq\\text{Area of rectangle}\\times\\frac{\\text{Number of rocks hitting the pond}}{\\text{Number of rocks thrown}}.\n",
    "\\label{eq:mc:mci} \\tag{1}\n",
    "\\end{equation}\n",
    "$$"
   ]
  },
  {
   "cell_type": "markdown",
   "id": "946249aa",
   "metadata": {
    "editable": true
   },
   "source": [
    "It is important that we throw the rocks randomly, otherwise  equation ([1](#eq:mc:mci)) is not correct. Now, let us\n",
    "investigate this in more detail, and use the idea of throwing rocks to estimate $\\pi$. To the right in [figure 1](#fig:mc:mci),\n",
    "there is a well known shape, a circle. The area of the circle is $\\pi d^2/4$, and the shape is given by $x^2+y^2=d^2/4$. Assume that\n",
    "the circle is inscribed in a square with sides of $d$. To throw rocks randomly inside the square, is equivalent pick random numbers\n",
    "with coordinates $(x,y)$, where $x\\in[0,d]$ and $y\\in[0,d]$. We want all the $x-$ and $y-$values to be chosen with equal probability,\n",
    "which is equivalent to pick random numbers from a *uniform* distribution. Below is a Python implementation:"
   ]
  },
  {
   "cell_type": "code",
   "execution_count": 1,
   "id": "dfd94281",
   "metadata": {
    "collapsed": false,
    "editable": true
   },
   "outputs": [],
   "source": [
    "import numpy as np\n",
    "\n",
    "def estimate_pi(N,d):\n",
    "#   random.seed(2)\n",
    "    D2=d*d/4; dc=0.5*d\n",
    "    A=0\n",
    "    for k in range(0,N):\n",
    "        x=np.random.uniform(0,d)\n",
    "        y=np.random.uniform(0,d)\n",
    "        if((x-dc)**2+(y-dc)**2 <= D2):\n",
    "            A+=1\n",
    "    # estimate area of circle: d*d*A/N\n",
    "    return 4*A/N\n",
    "\n",
    "N=1000;d=2\n",
    "pi_est=estimate_pi(N,d)\n",
    "print('Estimate for pi= ', pi_est,' Error=', np.pi-pi_est)"
   ]
  },
  {
   "cell_type": "markdown",
   "id": "328dd587",
   "metadata": {
    "editable": true
   },
   "source": [
    "In the table below, we have run the code for $d=1$ and different values of $N$. \n",
    "\n",
    "<table class=\"table\" border=\"1\">\n",
    "<thead>\n",
    "<tr><th align=\"center\">MC estimate</th> <th align=\"center\">   Error   </th> <th align=\"center\"> $N$  </th> <th align=\"center\">$1/\\sqrt{N}$</th> </tr>\n",
    "</thead>\n",
    "<tbody>\n",
    "<tr><td align=\"center\">   3.04           </td> <td align=\"center\">   -0.10159       </td> <td align=\"center\">   10$^2$    </td> <td align=\"center\">   0.100           </td> </tr>\n",
    "<tr><td align=\"center\">   3.176          </td> <td align=\"center\">   $\\,$0.03441    </td> <td align=\"center\">   10$^3$    </td> <td align=\"center\">   0.032           </td> </tr>\n",
    "<tr><td align=\"center\">   3.1584         </td> <td align=\"center\">   $\\,$0.01681    </td> <td align=\"center\">   10$^4$    </td> <td align=\"center\">   0.010           </td> </tr>\n",
    "<tr><td align=\"center\">   3.14072        </td> <td align=\"center\">   -0.00087       </td> <td align=\"center\">   10$^5$    </td> <td align=\"center\">   0.003           </td> </tr>\n",
    "</tbody>\n",
    "</table>\n",
    "\n",
    "We clearly see that a fair amount of rocks or numbers needs to be used in order to get a good estimate. If you run this code several\n",
    "times you will see that the results changes from time to time. This\n",
    "makes sense as the coordinates $x$ and $y$ are chosen at random.\n",
    "\n",
    "**A note on performance.**\n",
    "\n",
    "The code above is not efficient and for MC simulations we usually have to use many random numbers. Instead of"
   ]
  },
  {
   "cell_type": "code",
   "execution_count": 2,
   "id": "b16e5d04",
   "metadata": {
    "collapsed": false,
    "editable": true
   },
   "outputs": [],
   "source": [
    "for k in range(0,N):\n",
    "        x=np.random.uniform(0,d)\n",
    "        y=np.random.uniform(0,d)"
   ]
  },
  {
   "cell_type": "markdown",
   "id": "34814ae8",
   "metadata": {
    "editable": true
   },
   "source": [
    "one should avoid loops, and take advantage of build in functions in Numpy"
   ]
  },
  {
   "cell_type": "code",
   "execution_count": 3,
   "id": "082b3ab4",
   "metadata": {
    "collapsed": false,
    "editable": true
   },
   "outputs": [],
   "source": [
    "x=np.random.uniform(0,d,size=N)\n",
    "y=np.random.uniform(0,d,size=N)"
   ]
  },
  {
   "cell_type": "markdown",
   "id": "c8aac076",
   "metadata": {
    "editable": true
   },
   "source": [
    "## Random number generators\n",
    "There are much to be said about random number generators. The MCM depends on a good random number generator, otherwise we cannot use the results from\n",
    "statistics to develop our algorithms. Below, we briefly summarize some important points that you should be aware of:\n",
    "\n",
    "1. Random number generators are generally of two types: *hardware random number generator* (HRNG) or *pseudo random number generator* (PRNG).\n",
    "\n",
    "2. HRNG uses a physical process to generate random numbers, this could atmospheric noise, radioactive decay, microscopic fluctuations, which is translated to an electrical signal. The electrical signal is converted to a digital number (1 or 0), by sampling the random signal random numbers can be generated. The HRNG are often named *true random number generators*, and their main use are in *cryptography*.\n",
    "\n",
    "3. PRNG uses a mathematical algorithm to generate an (apparent) random sequence. The algorithm uses an initial number, or a *seed*,  to start the sequence of random number. The sequence is deterministic, and it will generate the same sequence of numbers if the same seed is used. At some point the algorithm will reproduce itself, i.e. it will have certain period. For some seeds the period may be much shorter.\n",
    "\n",
    "4. Many of the PRNG are not considered to be cryptographically secure, because if a sufficiently long sequence of random numbers are generated from them, the rest of the sequence can be predicted. \n",
    "\n",
    "5. Python uses the [Mersenne Twister](https://en.wikipedia.org/wiki/Mersenne_Twister) algorithm to generate random numbers, and has a period of $2^{19937}−1\\simeq4.3\\cdot10^{6001}$. It is not considered to be cryptographically secure.\n",
    "\n",
    "In Pythons `random.uniform` function, a random seed is chosen each time the code is run, but\n",
    "if we set e.g. `random.seed(2)`, the code will generate the same sequence of numbers each time it is called. \n",
    "\n",
    "## Encryption\n",
    "This section can be skipped as it is not relevant for development of\n",
    "the numerical algorithms, but it is a good place to explain the basic\n",
    "idea behind encryption of messages. A very simple, but not a very good\n",
    "encryption, is to replace all the letters in the alphabet with a\n",
    "number, e.g. A=1, B=2, C=3, etc. This is what is know as a\n",
    "*substitution cipher*, it does not need to be a number it could be a\n",
    "letter, a sequence of letters, letters and numbers etc. The receiver\n",
    "can solve the code by doing the reverse operation.\n",
    "\n",
    "The\n",
    "weakness of this approach is that it can fairly easily be cracked, by\n",
    "the following approach: First we analyze the encrypted message and find the frequency of each of the symbols.\n",
    "Assume that we know that the message is written in English, then the\n",
    "frequency of symbols can be compared with the frequency of\n",
    "letters from a known English text (the most common is `E` (12$\\%$), then `T`\n",
    "(9$\\%$), etc.). We would then guess that the most occurring symbol\n",
    "probably is an `E` or `T`. When some of the letters are in place, we\n",
    "can compare with the frequency of words, and so on. By the help of\n",
    "computers this process can easily be automated.\n",
    "\n",
    "A much better algorithm is *to not replace a letter with the same\n",
    "symbol*. To make it more clear, consider our simple example where A=1, B=2,\n",
    "C=3, $\\ldots$. If we know say that A=1 but we add a *random number*,\n",
    "then our code would be much harder to crack. Then the letter A\n",
    "could be several places in the message but represented as a complete different\n",
    "number. Thus we could not use the frequency of the various symbols to\n",
    "crack the message.\n",
    "\n",
    "How can the receiver decrypt the message? Obviously, it can be done if\n",
    "both the sender and receiver have the same sequence of random numbers (or the *key*).\n",
    "This can be achieved quite simple with random number generators, if we\n",
    "know the seed  used we can generate the same sequence of\n",
    "random numbers. If Alice where to send a message to Bob without Eve\n",
    "knowing what it is, Alice and Bob could agree to send a message that\n",
    "was scrambled using Pythons Mersenne-Twister algorithm with seed=2.\n",
    "\n",
    "The weakness of this approach is of course that Eve could convince\n",
    "Alice or Bob to give her the seed or the key. Another possibility is\n",
    "that Eve could write a program that tested\n",
    "different random number generators and seeds to decipher the message.\n",
    "How to avoid this?\n",
    "\n",
    "Let us assume that Alice and Bob each had their own\n",
    "hardware random generator. This generator generated random numbers that was truly\n",
    "random, and the sequence could not be guessed by any outsider. Alice\n",
    "do not want to share her key (sequence of random numbers) with Bob,\n",
    "and Bob would not share his key with Alice. How can they send a\n",
    "message without sharing the key? One possible way of doing it is as\n",
    "follows: Alice write a message and encrypt it with her key, she send\n",
    "the message to Bob. Bob then encrypt the message with his key, he\n",
    "sends it back to Alice. Alice then decrypt the message with her key\n",
    "and send it back to Bob. Now, Bob can decrypt it with his own key and\n",
    "read the message. The whole process can be visualized by thinking of\n",
    "the message as box with the message. Alice but her padlock on the box\n",
    "(keeps her key for her self), she sends the message to Bob. Bob locks\n",
    "the box with his padlock, now there are two padlocks on the box. He\n",
    "sends the box back to Alice, Alice unlocks her padlock with her key,\n",
    "and sends it back to Bob. The box now only has Bob's key, he can\n",
    "unlock the box and read the message. The important point is that the\n",
    "box was never unlocked throughout the transaction, and Alice and Bob\n",
    "never had to share the key with anyone. \n",
    "\n",
    "## Errors on Monte Carlo integration and the binomial distribution\n",
    "How many rocks do we need to throw in order to reach a certain accuracy? To answer this question we need some results from statistics. Our problem of calculating the integral is closely related to the *binomial distribution*. When we throw a rock one of two things can happen i) the rock falls into the water, or ii) it falls outside the pond. If we denote the probability that the rock falls into the pond as $p$, then the probability that it falls outside the pond, $q$, has to be $q=1-p$.\n",
    "This is simply because there are no other possibilities and the sum of the two probabilities has to be one: $p+q=p+(1-p)=1$. The binomial distribution is given by:"
   ]
  },
  {
   "cell_type": "markdown",
   "id": "e459ce87",
   "metadata": {
    "editable": true
   },
   "source": [
    "<!-- Equation labels as ordinary links -->\n",
    "<div id=\"eq:mc:bin\"></div>\n",
    "\n",
    "$$\n",
    "\\begin{equation}\n",
    "p(k)=\\frac{n!}{k!(n-k)!}p^k(1-p)^{n-k}.\n",
    "\\label{eq:mc:bin} \\tag{2}\n",
    "\\end{equation}\n",
    "$$"
   ]
  },
  {
   "cell_type": "markdown",
   "id": "075651a6",
   "metadata": {
    "editable": true
   },
   "source": [
    "$p(k)$ is the probability that an event happens $k$ times after $n$ trials. The mean, $\\mu$, and the variance, $\\sigma^2$, of the binomial distribution is:"
   ]
  },
  {
   "cell_type": "markdown",
   "id": "be801e83",
   "metadata": {
    "editable": true
   },
   "source": [
    "<!-- Equation labels as ordinary links -->\n",
    "<div id=\"eq:mc:binm\"></div>\n",
    "\n",
    "$$\n",
    "\\begin{equation}\n",
    "\\mu=\\sum_{k=0}^{n-1}kp(k)=np, \\label{eq:mc:binm} \\tag{3}\n",
    "\\end{equation}\n",
    "$$"
   ]
  },
  {
   "cell_type": "markdown",
   "id": "7b51f65d",
   "metadata": {
    "editable": true
   },
   "source": [
    "<!-- Equation labels as ordinary links -->\n",
    "<div id=\"eq:mc:bins\"></div>\n",
    "\n",
    "$$\n",
    "\\begin{equation} \n",
    "\\sigma^2=\\sum_{k=0}^{n-1}(k-\\mu)^2p(k)=np(1-p). \\label{eq:mc:bins} \\tag{4}\n",
    "\\end{equation}\n",
    "$$"
   ]
  },
  {
   "cell_type": "markdown",
   "id": "a1b3f2fa",
   "metadata": {
    "editable": true
   },
   "source": [
    "**Mean and variance.**\n",
    "\n",
    "The mean of a distribution is simply the *sum* divided by the *count*,\n",
    "the symbol $\\mu$ or $\\overline{x}$ is usually used. For $N$ observations, $x_i$,\n",
    "$\\mu=\\sum_i x_i/N$. The mean is just an average, it could e.g. be the sum of all the heights of\n",
    "students in the class divided by the number of students. The mean\n",
    "would then be the average height of all the students in the class.\n",
    "\n",
    "The variance is calculated by taking the difference between each of\n",
    "the data points and the mean, square it, and sum over all data points.\n",
    "Usually the symbol $\\sigma^2$ is used, $\\sigma^2=\\sum_i(\\mu-x_i)^2/N$.\n",
    "The variance measures the spread in the data. Furthermore, it squares the\n",
    "distance between the mean and the individual observations, meaning\n",
    "that the points lying far a way from $\\mu$ contributes more to the\n",
    "variance.\n",
    "\n",
    "\n",
    "Before we proceed, we should take a moment and look a little more into\n",
    "the meaning of equation ([2](#eq:mc:bin)) to appreciate its usefulness.  A classical example of the use of the binomial formula is to toss a coin, if the coin is fair it will have an equal probability of giving us a head or tail, hence $p=1/2$. Equation ([2](#eq:mc:bin)), can answer questions like: ''What is the probability to get only heads after 4 tosses?''. Let us calculate this answer using equation ([2](#eq:mc:bin)), the number of tosses is 4, the number of success is 4 (only heads each time)"
   ]
  },
  {
   "cell_type": "markdown",
   "id": "ed496363",
   "metadata": {
    "editable": true
   },
   "source": [
    "<!-- Equation labels as ordinary links -->\n",
    "<div id=\"eq:mc:coin\"></div>\n",
    "\n",
    "$$\n",
    "\\begin{equation}\n",
    "p(k=4)=\\frac{4!}{4!(4-4)!}\\frac{1}{2}^4(1-\\frac{1}{2})^{4-4}=\\frac{1}{2^4}=\\frac{1}{16}.\n",
    "\\label{eq:mc:coin} \\tag{5}\n",
    "\\end{equation}\n",
    "$$"
   ]
  },
  {
   "cell_type": "markdown",
   "id": "8c4d2ceb",
   "metadata": {
    "editable": true
   },
   "source": [
    "''What is the probability to get three heads in four tosses?'', using\n",
    "the same equation, we find:"
   ]
  },
  {
   "cell_type": "markdown",
   "id": "951c0970",
   "metadata": {
    "editable": true
   },
   "source": [
    "<!-- Equation labels as ordinary links -->\n",
    "<div id=\"eq:mc:coin2\"></div>\n",
    "\n",
    "$$\n",
    "\\begin{equation}\n",
    "p(k=3)=\\frac{4!}{3!(4-3)!}\\frac{1}{2}^3(1-\\frac{1}{2})^{4-3}=\\frac{4}{2^4}=\\frac{1}{4}.\n",
    "\\label{eq:mc:coin2} \\tag{6}\n",
    "\\end{equation}\n",
    "$$"
   ]
  },
  {
   "cell_type": "markdown",
   "id": "db191fb7",
   "metadata": {
    "editable": true
   },
   "source": [
    "In [figure 2](#fig:mc:coin), all the possibilities are shown. The\n",
    "number of possibilities are 16, and there are only one possibility\n",
    "that we get only heads, i.e. the probability is 1/16 as calculated in\n",
    "equation ([5](#eq:mc:coin)). In the figure we also see that there are 4\n",
    "possible ways we can get three heads, hence the probability is\n",
    "4/16=1/4 as calculated in equation ([6](#eq:mc:coin2)).\n",
    "\n",
    "<!-- dom:FIGURE: [fig-mc/coin.png, width=800 frac=1.0] The famous Norwegian Moose coin, and possible outcomes of four coin flips in a row. <div id=\"fig:mc:coin\"></div> -->\n",
    "<!-- begin figure -->\n",
    "<div id=\"fig:mc:coin\"></div>\n",
    "\n",
    "<img src=\"fig-mc/coin.png\" width=800><p style=\"font-size: 0.9em\"><i>Figure 2: The famous Norwegian Moose coin, and possible outcomes of four coin flips in a row.</i></p>\n",
    "<!-- end figure -->\n",
    "\n",
    "Now, let us return to our original question, ''What is the error on our\n",
    "estimate of the integral, when using the MCM?''. Before we continue we\n",
    "should also clean up our notation, let $I$ be the value of the true\n",
    "integral, $A$ is our *estimate* of the integral, and $I_N$ is the area\n",
    "of the rectangle. First, let us show\n",
    "that the mean or expectation value of the binomial distribution is\n",
    "related to our estimate of the area of the pond or the circle, $A$. In our case we draw $n=N$\n",
    "random numbers, and $k$ times the coordinate falls inside the circle,\n",
    "equation ([3](#eq:mc:binm)) tells us that the mean value is $np$. $p$\n",
    "is the probability that the coordinate is within the area to be\n",
    "integrated, hence as before $p$ is equal to the area to be integrated\n",
    "divided by the area of the total domain, thus:"
   ]
  },
  {
   "cell_type": "markdown",
   "id": "6c12eb0d",
   "metadata": {
    "editable": true
   },
   "source": [
    "<!-- Equation labels as ordinary links -->\n",
    "<div id=\"_auto1\"></div>\n",
    "\n",
    "$$\n",
    "\\begin{equation}\n",
    "\\mu=np=N\\frac{A}{I_N},\n",
    "\\label{_auto1} \\tag{7}\n",
    "\\end{equation}\n",
    "$$"
   ]
  },
  {
   "cell_type": "markdown",
   "id": "ecef9d92",
   "metadata": {
    "editable": true
   },
   "source": [
    "or"
   ]
  },
  {
   "cell_type": "markdown",
   "id": "02496376",
   "metadata": {
    "editable": true
   },
   "source": [
    "<!-- Equation labels as ordinary links -->\n",
    "<div id=\"_auto2\"></div>\n",
    "\n",
    "$$\n",
    "\\begin{equation}\n",
    "A=I_N\\frac{\\mu}{N}.\n",
    "\\label{_auto2} \\tag{8}\n",
    "\\end{equation}\n",
    "$$"
   ]
  },
  {
   "cell_type": "markdown",
   "id": "f9b61191",
   "metadata": {
    "editable": true
   },
   "source": [
    "Equation ([4](#eq:mc:bins)), gives us an estimate of the variance of\n",
    "the mean value. Assume for simplicity that we can replace $1-p\\simeq\n",
    "p$, this is of course only correct if the area of the rectangle is\n",
    "twice as big as our pond, but we are only interested in an\n",
    "estimate of the error, hence $\\sigma^2\\simeq np^2$. We can now use the\n",
    "standard deviation as an estimate of the error of our integral:"
   ]
  },
  {
   "cell_type": "markdown",
   "id": "87774575",
   "metadata": {
    "editable": true
   },
   "source": [
    "$$\n",
    "I\\simeq I_N\\frac{\\mu\\pm\\sigma}{n}=I_N\\frac{Np\\pm \\sqrt{N}p}{N}\\nonumber\n",
    "$$"
   ]
  },
  {
   "cell_type": "markdown",
   "id": "bb8b28c9",
   "metadata": {
    "editable": true
   },
   "source": [
    "<!-- Equation labels as ordinary links -->\n",
    "<div id=\"eq:mc:mcmf\"></div>\n",
    "\n",
    "$$\n",
    "\\begin{equation} \n",
    "\\simeq I_N(p\\pm \\frac{p}{\\sqrt{N}})=A\\pm \\frac{A}{\\sqrt{N}}.\n",
    "\\label{eq:mc:mcmf} \\tag{9}\n",
    "\\end{equation}\n",
    "$$"
   ]
  },
  {
   "cell_type": "markdown",
   "id": "defd7d96",
   "metadata": {
    "editable": true
   },
   "source": [
    "In the last equation we have replaced $p$ with $A/I_N$. \n",
    "Hence, the error of our integral is inversely proportional to the\n",
    "square root of the number of points. \n",
    "\n",
    "## The mean value method\n",
    "How does our previous method compare with some of our standard methods,\n",
    "like the midpoint rule? The error for the MC method scales as\n",
    "$1/\\sqrt{N}$, in our previous error estimates we used the step length,\n",
    "$h$, as an indicator of the accuracy, and not $N$. The s$N$ is\n",
    "related to the number of points as $h=(b-a)/n$, where $b$ and $a$ are\n",
    "the integration limit. Thus our MCM scales as $1/\\sqrt{n}\\sim\n",
    "h^{1/2}$, this is actually worse than the midpoint or trapezoidal\n",
    "rule, which scaled as $h$.\n",
    "\n",
    "The MCM can be improved. We will first describe the mean value method.\n",
    "In the last section we calculated the area of\n",
    "a circle by picking random numbers inside a square and estimated the\n",
    "fraction of points inside the circle. This is equivalent to calculate\n",
    "the area of a half circle, and multiply with 2:"
   ]
  },
  {
   "cell_type": "markdown",
   "id": "d8d0bb8b",
   "metadata": {
    "editable": true
   },
   "source": [
    "<!-- Equation labels as ordinary links -->\n",
    "<div id=\"eq:mc:Is\"></div>\n",
    "\n",
    "$$\n",
    "\\begin{equation}\n",
    "I=2\\int_{-d/2}^{d/2}\\sqrt{(d/2)^2-x^2}dx=\\frac{\\pi d^2}{4}.\n",
    "\\label{eq:mc:Is} \\tag{10}\n",
    "\\end{equation}\n",
    "$$"
   ]
  },
  {
   "cell_type": "markdown",
   "id": "5de3c2eb",
   "metadata": {
    "editable": true
   },
   "source": [
    "The half-circle is now centered at the origin. Before we proceed we\n",
    "write our integral in a general form as:"
   ]
  },
  {
   "cell_type": "markdown",
   "id": "3ee8b9ab",
   "metadata": {
    "editable": true
   },
   "source": [
    "<!-- Equation labels as ordinary links -->\n",
    "<div id=\"eq:mc:I1\"></div>\n",
    "\n",
    "$$\n",
    "\\begin{equation}\n",
    "I=\\int_a^bf(x)dx.\n",
    "\\label{eq:mc:I1} \\tag{11}\n",
    "\\end{equation}\n",
    "$$"
   ]
  },
  {
   "cell_type": "markdown",
   "id": "dc6a8fc0",
   "metadata": {
    "editable": true
   },
   "source": [
    "Instead of counting the number of points inside the curve given by\n",
    "$f(x)$, we could instead use the mean of\n",
    "the function, which we will define as $\\overline{f}=\\sum_k f(x_k)/N$:"
   ]
  },
  {
   "cell_type": "markdown",
   "id": "e0fc3c44",
   "metadata": {
    "editable": true
   },
   "source": [
    "<!-- Equation labels as ordinary links -->\n",
    "<div id=\"eq:mc:I2\"></div>\n",
    "\n",
    "$$\n",
    "\\begin{equation}\n",
    "I=\\int_a^bf(x)dx\\simeq\\overline{f}\\int_a^bdx=(b-a)\\overline{f}\n",
    "=\\frac{(b-a)}{N}\\sum_{k=0}^{N-1}f(x_k).\n",
    "\\label{eq:mc:I2} \\tag{12}\n",
    "\\end{equation}\n",
    "$$"
   ]
  },
  {
   "cell_type": "markdown",
   "id": "4180998f",
   "metadata": {
    "editable": true
   },
   "source": [
    "Note that this formula is similar to the midpoint rule, but now the\n",
    "function is not evaluated at the midpoint, but at several points and\n",
    "we use the average value. \n",
    "\n",
    "<!-- dom:FIGURE: [fig-mc/mcint.png, width=800 frac=1.0] Illustration of MC integration for $N=4$. <div id=\"fig:mc:int\"></div> -->\n",
    "<!-- begin figure -->\n",
    "<div id=\"fig:mc:int\"></div>\n",
    "\n",
    "<img src=\"fig-mc/mcint.png\" width=800><p style=\"font-size: 0.9em\"><i>Figure 3: Illustration of MC integration for $N=4$.</i></p>\n",
    "<!-- end figure -->\n",
    "\n",
    "Below is an implementation:"
   ]
  },
  {
   "cell_type": "code",
   "execution_count": 4,
   "id": "e6c4062e",
   "metadata": {
    "collapsed": false,
    "editable": true
   },
   "outputs": [],
   "source": [
    "import numpy as np\n",
    "\n",
    "def f(x,D2):\n",
    "    return 2*np.sqrt((D2-x*x))\n",
    "\n",
    "def mcm_mean(N,d):\n",
    "    D2=d*d/4\n",
    "    x=np.random.uniform(-d/2,d/2,size=N)\n",
    "    A=np.sum(f(x,D2))\n",
    "    # estimate for area: A/N\n",
    "    return d*A/N"
   ]
  },
  {
   "cell_type": "markdown",
   "id": "52059502",
   "metadata": {
    "editable": true
   },
   "source": [
    "In the table below we have compared the mean value method with the\n",
    "''hit and miss'' method. We see\n",
    "that the mean value method performs somewhat better, but there are\n",
    "some random fluctuations and in some cases it performs poorer. \n",
    "\n",
    "<table class=\"table\" border=\"1\">\n",
    "<thead>\n",
    "<tr><th align=\"center\">MC-mean</th> <th align=\"center\"> Error </th> <th align=\"center\">  MC  </th> <th align=\"center\">Error </th> <th align=\"center\"> $N$  </th> </tr>\n",
    "</thead>\n",
    "<tbody>\n",
    "<tr><td align=\"center\">   3.1706     </td> <td align=\"center\">   0.0290     </td> <td align=\"center\">   3.1600    </td> <td align=\"center\">   0.0184    </td> <td align=\"center\">   10$^2$    </td> </tr>\n",
    "<tr><td align=\"center\">   3.1375     </td> <td align=\"center\">   -0.0041    </td> <td align=\"center\">   3.1580    </td> <td align=\"center\">   0.0164    </td> <td align=\"center\">   10$^3$    </td> </tr>\n",
    "<tr><td align=\"center\">   3.1499     </td> <td align=\"center\">   0.0083     </td> <td align=\"center\">   3.1422    </td> <td align=\"center\">   0.0006    </td> <td align=\"center\">   10$^4$    </td> </tr>\n",
    "<tr><td align=\"center\">   3.1424     </td> <td align=\"center\">   0.0008     </td> <td align=\"center\">   3.1457    </td> <td align=\"center\">   0.0041    </td> <td align=\"center\">   10$^5$    </td> </tr>\n",
    "<tr><td align=\"center\">   3.1414     </td> <td align=\"center\">   -0.0002    </td> <td align=\"center\">   3.1422    </td> <td align=\"center\">   0.0006    </td> <td align=\"center\">   10$^6$    </td> </tr>\n",
    "</tbody>\n",
    "</table>\n",
    "\n",
    "We also see that in this case the error scales as $1/\\sqrt{N}$.\n",
    "**Notice.**\n",
    "\n",
    "At first sight it might be a little counter intuitive that if we\n",
    "multiply the average value of the function with the size of the\n",
    "integration domain we get an estimate for the integral, as illustrated\n",
    "in the top figure in [figure 3](#fig:mc:int). A different, but\n",
    "equivalent way, of viewing the mean value method is the lower figure\n",
    "in [figure 3](#fig:mc:int). For each random point we choose, we\n",
    "multiply with the area $(b-a)/N$, as $N$ increases the area decreases\n",
    "and the mean value method approaches the midpoint algorithm. The\n",
    "reason the mean value method performs poorer is that we do not sample\n",
    "the function at regular intervals. The [law of large\n",
    "numbers](https://en.wikipedia.org/wiki/Law_of_large_numbers), ensures\n",
    "that our estimate approach the true value of the integral.\n",
    "\n",
    "\n",
    "\n",
    "## Basic properties of probability distributions\n",
    "The MCM is closely tied to statistics, and it is important to have a\n",
    "basic understanding of probability density functions (PDF). In\n",
    "the previous section, we used a random number generator to give us\n",
    "random numbers in an interval. All the numbers are picked with an\n",
    "equal probability. Another way to state this is to say that: we *draw*\n",
    "random numbers from an *uniform* distribution. Thus all the numbers\n",
    "are drawn with an equal probability $p$. What is the value of $p$?\n",
    "That value is given from another property of PDF's, all PDF's must\n",
    "be *normalized* to 1. This is equivalent to state that the sum of all\n",
    "probabilities must be equal to one. Thus for a general PDF, $p(x)$, we\n",
    "must have:"
   ]
  },
  {
   "cell_type": "markdown",
   "id": "5b6787e6",
   "metadata": {
    "editable": true
   },
   "source": [
    "<!-- Equation labels as ordinary links -->\n",
    "<div id=\"eq:mc:pdf1\"></div>\n",
    "\n",
    "$$\n",
    "\\begin{equation}\n",
    "\\int_{-\\infty}^{\\infty}p(x)dx=1.\n",
    "\\label{eq:mc:pdf1} \\tag{13}\n",
    "\\end{equation}\n",
    "$$"
   ]
  },
  {
   "cell_type": "markdown",
   "id": "fe3e552f",
   "metadata": {
    "editable": true
   },
   "source": [
    "A uniform distribution, $p(x)=U(x)$, is given by:"
   ]
  },
  {
   "cell_type": "markdown",
   "id": "157c91b9",
   "metadata": {
    "editable": true
   },
   "source": [
    "<!-- Equation labels as ordinary links -->\n",
    "<div id=\"eq:mc:pdfu\"></div>\n",
    "\n",
    "$$\n",
    "\\begin{equation}\n",
    "U(x)=\\begin{cases} \\frac{1}{b-a}, \\text{ for }x\\in[a,b]\\\\\n",
    "0, \\text{ for } x<a \\text{ or }x>b,\n",
    "\\end{cases}\n",
    "\\label{eq:mc:pdfu} \\tag{14}\n",
    "\\end{equation}\n",
    "$$"
   ]
  },
  {
   "cell_type": "markdown",
   "id": "e80ea6ed",
   "metadata": {
    "editable": true
   },
   "source": [
    "you can easily verify that $\\int_{-\\infty}^{\\infty}U(x)=1$. In the MCM\n",
    "we typically evaluate *expectation values*. The expectation\n",
    "value, $E[f]$, for a function is defined:"
   ]
  },
  {
   "cell_type": "markdown",
   "id": "b024733e",
   "metadata": {
    "editable": true
   },
   "source": [
    "<!-- Equation labels as ordinary links -->\n",
    "<div id=\"eq:mc:ef\"></div>\n",
    "\n",
    "$$\n",
    "\\begin{equation}\n",
    "E[f]\\equiv\\int_{-\\infty}^{\\infty}f(x)p(x)dx\\simeq\\frac{1}{N}\\sum_{k=0}^{N-1}f(x_k),\n",
    "\\label{eq:mc:ef} \\tag{15}\n",
    "\\end{equation}\n",
    "$$"
   ]
  },
  {
   "cell_type": "markdown",
   "id": "5c381615",
   "metadata": {
    "editable": true
   },
   "source": [
    "specializing to a uniform distribution, $p(x)=U(x)$, we get:"
   ]
  },
  {
   "cell_type": "markdown",
   "id": "9a6dc704",
   "metadata": {
    "editable": true
   },
   "source": [
    "<!-- Equation labels as ordinary links -->\n",
    "<div id=\"eq:mc:efu\"></div>\n",
    "\n",
    "$$\n",
    "\\begin{equation}\n",
    "E[f]=\\int_{-\\infty}^{\\infty}f(x)U(x)dx=\\frac{1}{b-a}\\int_a^bf(x)dx.\n",
    "\\label{eq:mc:efu} \\tag{16}\n",
    "\\end{equation}\n",
    "$$"
   ]
  },
  {
   "cell_type": "markdown",
   "id": "3fddb410",
   "metadata": {
    "editable": true
   },
   "source": [
    "Rearranging this equation, we see that we can write the above equation\n",
    "as:"
   ]
  },
  {
   "cell_type": "markdown",
   "id": "e7cd32fd",
   "metadata": {
    "editable": true
   },
   "source": [
    "<!-- Equation labels as ordinary links -->\n",
    "<div id=\"eq:mc:efu2\"></div>\n",
    "\n",
    "$$\n",
    "\\begin{equation}\n",
    "\\int_a^bf(x)dx=(b-a)E[f]\\simeq(b-a)\\frac{1}{N}\\sum_{k=0}^{N-1}f(x_k).\n",
    "\\label{eq:mc:efu2} \\tag{17}\n",
    "\\end{equation}\n",
    "$$"
   ]
  },
  {
   "cell_type": "markdown",
   "id": "b630002b",
   "metadata": {
    "editable": true
   },
   "source": [
    "This equation is the same as equation ([12](#eq:mc:I2)), but in the\n",
    "previous section we never explained why the expectation value of\n",
    "$f(x_k)$ was equal to the integral. The derivation above shows that\n",
    "$\\int_a^bf(x)dx$ is equal to the expectation value of $f(x)$ \n",
    "only under the condition that *we pick numbers from a uniform distribution*.\n",
    "\n",
    "To make this a bit more clearer, let us specialize to $f(x)=x$. In\n",
    "this case the expectation value is equal to the mean:"
   ]
  },
  {
   "cell_type": "markdown",
   "id": "f07958f5",
   "metadata": {
    "editable": true
   },
   "source": [
    "<!-- Equation labels as ordinary links -->\n",
    "<div id=\"eq:mc:mean\"></div>\n",
    "\n",
    "$$\n",
    "\\begin{equation}\n",
    "E[x]=\\mu=\\int_{-\\infty}^\\infty xp(x)=\\frac{1}{N}\\sum_kx_k.\n",
    "\\label{eq:mc:mean} \\tag{18}\n",
    "\\end{equation}\n",
    "$$"
   ]
  },
  {
   "cell_type": "markdown",
   "id": "0eb6e7bc",
   "metadata": {
    "editable": true
   },
   "source": [
    "In this case we also find that the numerical error scales as $N^{-1/2}$, from the definition of the variance"
   ]
  },
  {
   "cell_type": "markdown",
   "id": "775198f9",
   "metadata": {
    "editable": true
   },
   "source": [
    "<!-- Equation labels as ordinary links -->\n",
    "<div id=\"eq:mc:varf\"></div>\n",
    "\n",
    "$$\n",
    "\\begin{equation}\n",
    "\\sigma=\\sqrt{\\frac{1}{N}\\sum_k(f(x_i)-\\langle f\\rangle)^2}\\sim\\frac{1}{\\sqrt{N}},\n",
    "\\label{eq:mc:varf} \\tag{19}\n",
    "\\end{equation}\n",
    "$$"
   ]
  },
  {
   "cell_type": "markdown",
   "id": "abd8bf4a",
   "metadata": {
    "editable": true
   },
   "source": [
    "**Why would we or anyone use MC integration?**\n",
    "\n",
    "Monte Carlo integration performs much poorer than any of our previous\n",
    "methods. So why should we use it, or when should we use it? The\n",
    "strength of MC integration is only apparent when there is a large\n",
    "number of dimensions, as we will see in the next section.\n",
    "\n",
    "\n",
    "\n",
    "## Example: Monte Carlo integration of a hyper sphere\n",
    "The volume of a hyper sphere is known:"
   ]
  },
  {
   "cell_type": "markdown",
   "id": "5bee6917",
   "metadata": {
    "editable": true
   },
   "source": [
    "<!-- Equation labels as ordinary links -->\n",
    "<div id=\"eq:mc:hyp\"></div>\n",
    "\n",
    "$$\n",
    "\\begin{equation}\n",
    "V(R)=\\frac{\\pi^{D/2}}{\\Gamma(D/2+1)}R^D,\n",
    "\\label{eq:mc:hyp} \\tag{20}\n",
    "\\end{equation}\n",
    "$$"
   ]
  },
  {
   "cell_type": "markdown",
   "id": "33433656",
   "metadata": {
    "editable": true
   },
   "source": [
    "where $D$ is the number of dimensions $\\Gamma(D/2+1)$ is the gamma\n",
    "function, if $n$ is an integer then $\\Gamma(n)=(n-1)!$ and\n",
    "$\\Gamma(n+1/2)=(2n)!/(4^nn!)\\sqrt{\\pi}$. You can easily verify that\n",
    "for $D=2,3$, $V(R)=\\pi R^2, 4/3\\pi R^3$, respectively.\n",
    "\n",
    "In the case of MC integration, we simply place the sphere inside a cube, and then count\n",
    "the number of points that hits inside the hyper sphere:"
   ]
  },
  {
   "cell_type": "code",
   "execution_count": 5,
   "id": "c997ff18",
   "metadata": {
    "collapsed": false,
    "editable": true
   },
   "outputs": [],
   "source": [
    "def mc_nballII(N=1000,D=3,R=1):\n",
    "    \"\"\"\n",
    "    Calculates the volume of a hypersphere using accept and reject\n",
    "    N: Number of random points\n",
    "    D: Number of dimensions\n",
    "    R: Radius of hypersphere\n",
    "    \"\"\"\n",
    "    r=0\n",
    "    for d in range(D):\n",
    "        xi=np.random.uniform(-R,R,size=N)\n",
    "        r+=xi*xi\n",
    "    r=np.sqrt(r)\n",
    "    vol = np.sum(r<=R)\n",
    "    print(\"Number of points inside n-ball: \", vol)\n",
    "    return vol/N*(2*R)**D"
   ]
  },
  {
   "cell_type": "markdown",
   "id": "d4047003",
   "metadata": {
    "editable": true
   },
   "source": [
    "Notice how easy it is to do MC integration in any number of dimensions. If you run the code above for $D=3,\\ldots,9$ you will see that the error is the same regardless of dimensions i.e. it only scales proportional to $N^{-1/2}$ and *not the number of dimensions*.  \n",
    "\n",
    "How can we extend the traditional methods to more dimensions? One way of doing it is\n",
    "to call a one dimensional integration routine several times. \n",
    "The volume of a hypersphere can be written"
   ]
  },
  {
   "cell_type": "markdown",
   "id": "a76e3d30",
   "metadata": {
    "editable": true
   },
   "source": [
    "<!-- Equation labels as ordinary links -->\n",
    "<div id=\"eq:mc:hypV\"></div>\n",
    "\n",
    "$$\n",
    "\\begin{equation}\n",
    "V(R)=\\int_{-R}^{R}\\int_{-\\sqrt{R^2-x_0^2}}^{\\sqrt{R^2-x_0^2}}\n",
    "\\int_{-\\sqrt{R^2-x_0^2-x_1^2}}^{\\sqrt{R^2-x_0^2-x_1^2}}\\cdots\n",
    "\\int_{-\\sqrt{R^2-x_0^2-x_1^2-\\cdots -x_{n-2}^2}}^{\\sqrt{R^2-x_0^2-x_1^2-\\cdots -x_{n-2}^2}}dx_0dx_1dx_2\\cdots dx_{n-1}.\n",
    "\\label{eq:mc:hypV} \\tag{21}\n",
    "\\end{equation}\n",
    "$$"
   ]
  },
  {
   "cell_type": "markdown",
   "id": "545a97f8",
   "metadata": {
    "editable": true
   },
   "source": [
    "To simplify the notation lets look a little bit closer at $D=3$ ($n=2$). We can always do the last integration\n",
    "regardless of the number of dimensions"
   ]
  },
  {
   "cell_type": "markdown",
   "id": "bf258c45",
   "metadata": {
    "editable": true
   },
   "source": [
    "<!-- Equation labels as ordinary links -->\n",
    "<div id=\"eq:mc:hypV2\"></div>\n",
    "\n",
    "$$\n",
    "\\begin{equation}\n",
    "V(R)=2\\int_{-R}^{R}\\int_{-\\sqrt{R^2-x_0^2}}^{\\sqrt{R^2-x_0^2}}\n",
    "\\sqrt{R^2-x_0^2-x_1^2}dx_0dx_1.\n",
    "\\label{eq:mc:hypV2} \\tag{22}\n",
    "\\end{equation}\n",
    "$$"
   ]
  },
  {
   "cell_type": "markdown",
   "id": "5afec384",
   "metadata": {
    "editable": true
   },
   "source": [
    "This equation can be rewritten as"
   ]
  },
  {
   "cell_type": "markdown",
   "id": "2d8ddc2a",
   "metadata": {
    "editable": true
   },
   "source": [
    "$$\n",
    "V(R)=2\\int_{-R}^{R}F(x_0)dx_0,\\nonumber\n",
    "$$"
   ]
  },
  {
   "cell_type": "markdown",
   "id": "05018b97",
   "metadata": {
    "editable": true
   },
   "source": [
    "<!-- Equation labels as ordinary links -->\n",
    "<div id=\"eq:mc:hypV3\"></div>\n",
    "\n",
    "$$\n",
    "\\begin{equation} \n",
    "F(x_0)\\equiv\\int_{-\\sqrt{R^2-x_0^2}}^{\\sqrt{R^2-x_0^2}}\\sqrt{R^2-x_0^2-x_1^2}dx_1,\n",
    "\\label{eq:mc:hypV3} \\tag{23}\n",
    "\\end{equation}\n",
    "$$"
   ]
  },
  {
   "cell_type": "markdown",
   "id": "90d91c6e",
   "metadata": {
    "editable": true
   },
   "source": [
    "when integrating $F(x_0)$, we do it by dividing the x-axis from $-R$\n",
    "to $R$ into $N$ equal slices as before. We also need to evaluate\n",
    "$F(x_0)$ for each value of $x_0$, which is slightly more tricky, see\n",
    "[figure 4](#fig:mc:2Dint) for an illustration. \n",
    "\n",
    "<!-- dom:FIGURE: [fig-mc/2Dint.png, width=800 frac=1.0] Illustration of a 2D integration to evaluate the volume of a sphere.<div id=\"fig:mc:2Dint\"></div> -->\n",
    "<!-- begin figure -->\n",
    "<div id=\"fig:mc:2Dint\"></div>\n",
    "\n",
    "<img src=\"fig-mc/2Dint.png\" width=800><p style=\"font-size: 0.9em\"><i>Figure 4: Illustration of a 2D integration to evaluate the volume of a sphere.</i></p>\n",
    "<!-- end figure -->\n",
    "\n",
    "The multi dimensional\n",
    "integral is done by placing a box around the sphere, and divide this\n",
    "box into $N\\times N$ equal boxes. If start the integration\n",
    "at $x=-R$, $F(-R)=0$, because the integrand is zero. If we move one\n",
    "step to the left, we need to integrate from $y=-R$ to $y=R$. We see\n",
    "from the figure to the right in [figure 4](#fig:mc:2Dint) that the\n",
    "function is not defined for two first points. Thus we need to make\n",
    "sure that if we are outside the integration bounds the function is\n",
    "zero. Below is an implementation that uses recursive function calls"
   ]
  },
  {
   "cell_type": "code",
   "execution_count": 6,
   "id": "cb6b5ed6",
   "metadata": {
    "collapsed": false,
    "editable": true
   },
   "outputs": [],
   "source": [
    "def dd_trapez(lower_limit,upper_limit,func,x,i,N,D):\n",
    "    h = (upper_limit-lower_limit)/N\n",
    "    if(i == D-1):\n",
    "        funci=d1_trapez\n",
    "    else:\n",
    "        funci=dd_trapez\n",
    "    x[i]  = lower_limit\n",
    "    area  = funci(lower_limit, upper_limit,func,x,i+1,N,D)\n",
    "    x[i]  = upper_limit\n",
    "    area += funci(lower_limit, upper_limit,func,x,i+1,N,D)\n",
    "    area *= 0.5\n",
    "    x[i]  = lower_limit\n",
    "    for k in range(1,N): # loop over k=1,..,N-1\n",
    "        x[i] += h # midpoint value\n",
    "        area += funci(lower_limit, upper_limit,func,x,i+1,N,D)\n",
    "    return area*h"
   ]
  },
  {
   "cell_type": "markdown",
   "id": "81408917",
   "metadata": {
    "editable": true
   },
   "source": [
    "**Recursive functions.**\n",
    "\n",
    "Recursive implementation is very elegant, and more transparent, but it comes with a price. The reason is that when a function is called additional memory is allocated to store the local variables. If we where to calculate $100!$, 100 copies of the variable $n$ are created, whereas using a loop only one variable is created. Each time a function is called more memory is allocated, and if the recursive calls are too many it might cause memory overflow. If you try to call `fact_rec(1000)`, Python will give an error, because the maximum number of recursions are reached, it can be changed by:"
   ]
  },
  {
   "cell_type": "markdown",
   "id": "868a2b7e",
   "metadata": {
    "editable": true
   },
   "source": [
    "        import sys\n",
    "        sys.setrecursionlimit(1500)\n"
   ]
  },
  {
   "cell_type": "markdown",
   "id": "0cc41353",
   "metadata": {
    "editable": true
   },
   "source": [
    "**Error Analysis in higher dimensions.**\n",
    "\n",
    "In the chapter about numerical integration, we did an error analysis\n",
    "on the trapezoidal rule and found that it scaled as $h^2$. As we see\n",
    "from the example above, a higher order integration is simply to do a\n",
    "series of 1D integrations in all the dimensions, thus the error term\n",
    "should be $h_{x_0}^2+h_{x_1}^2+\\cdots+h_{x_{d-1}}^2$. If we use the\n",
    "same spatial resolution in all dimensions, then the overall error\n",
    "scale as $h^2$. If we let $n$ denote the number of points in each\n",
    "directions, $h\\sim 1/n$, the total number of points used is $N=n\\times\n",
    "n\\cdots n=n^d$. Thus, the error term scales as $h^2\\sim N^{-2/d}$, and\n",
    "we see that if $d\\geq 4$, the MC integration is expected to perform\n",
    "better.\n",
    "\n",
    "\n",
    "\n",
    "<!-- --- begin exercise --- -->\n",
    "\n",
    "## Exercise 1: The central limit theorem\n",
    "<div id=\"ex:mc:norm\"></div>\n",
    "\n",
    "The central limit theorem is a corner stone in statistics, and it is\n",
    "the reason for why the normal distribution is so widely used. The\n",
    "central limit theorem states that if we calculate the average of an\n",
    "independent random variable, the *average will be distributed\n",
    "according to a normal distribution*. Not that the central limit\n",
    "theorem does not state anything about the distribution of the original\n",
    "variable. We will not prove the central limit theorem, but illustrate\n",
    "it with two examples. \n",
    "\n",
    "<!-- !bsol -->\n",
    "<!-- !esol -->\n",
    "\n",
    "**a)**\n",
    "First we will investigate a random variable that follows a *uniform\n",
    "distribution*. Write a Python function that returns the average of\n",
    "$N$ uniformly distributed numbers in $[0,1]$.\n",
    "\n",
    "<!-- --- begin solution of exercise --- -->\n",
    "**Solution.**"
   ]
  },
  {
   "cell_type": "code",
   "execution_count": 7,
   "id": "1798d5e9",
   "metadata": {
    "collapsed": false,
    "editable": true
   },
   "outputs": [],
   "source": [
    "def average(N):\n",
    "    x=[np.random.uniform() for _ in range(N)]\n",
    "    return np.mean(x)\n",
    "\n",
    "# or alternatively, and equally fast\n",
    "\n",
    "def average2(N):\n",
    "    x=0\n",
    "    for i in range(N):\n",
    "        x+=np.random.uniform()\n",
    "    return x/N\n",
    "\n",
    "# or much faster:\n",
    "def average3(N):\n",
    "    x=np.random.uniform(size=N)\n",
    "    return np.mean(x)"
   ]
  },
  {
   "cell_type": "markdown",
   "id": "653fa8b8",
   "metadata": {
    "editable": true
   },
   "source": [
    "<!-- --- end solution of exercise --- -->\n",
    "\n",
    "**b)**\n",
    "Calculate the average $M$ times and make a histogram of the values.\n",
    "\n",
    "<!-- --- begin solution of exercise --- -->\n",
    "**Solution.**"
   ]
  },
  {
   "cell_type": "code",
   "execution_count": 8,
   "id": "f30e6d39",
   "metadata": {
    "collapsed": false,
    "editable": true
   },
   "outputs": [],
   "source": [
    "def hist(M,N=100):"
   ]
  },
  {
   "cell_type": "markdown",
   "id": "3af79008",
   "metadata": {
    "editable": true
   },
   "source": [
    "<!-- --- end solution of exercise --- -->\n",
    "\n",
    "**c)**\n",
    "Repeat the above exercise for a Poisson distribution.\n",
    "\n",
    "<!-- --- begin solution of exercise --- -->\n",
    "**Solution.**"
   ]
  },
  {
   "cell_type": "code",
   "execution_count": 9,
   "id": "c7ca96c0",
   "metadata": {
    "collapsed": false,
    "editable": true
   },
   "outputs": [],
   "source": [
    "def average3(N):\n",
    "    x=np.random.uniform(size=N)\n",
    "    return np.mean(x)\n",
    "    \n",
    "def hist(M,N=100):\n",
    "    y=[average3(N) for _ in range(M)]\n",
    "    plt.hist(x=y, bins='auto', color='#0504aa',alpha=0.7, rwidth=0.85)\n",
    "    plt.show()\n",
    "\n",
    "def average4(N):\n",
    "    x=[np.random.poisson() for _ in range(N)]\n",
    "    return np.mean(x)"
   ]
  },
  {
   "cell_type": "markdown",
   "id": "66661cba",
   "metadata": {
    "editable": true
   },
   "source": [
    "<!-- --- end solution of exercise --- -->\n",
    "\n",
    "<!-- Closing remarks for this Exercise -->\n",
    "\n",
    "### Remarks\n",
    "\n",
    "It is quite remarkable that the distribution of the average values\n",
    "from both a uniform and Poisson distribution follows a normal\n",
    "distribution. The general\n",
    "[proof](https://en.wikipedia.org/wiki/Central_limit_theorem)\n",
    "is not that complicated, but the ramifications are large. The central\n",
    "limit theorem explains why it makes sense to use the standard\n",
    "deviation as a measure of confidence for the mean value.\n",
    "\n",
    "<!-- --- end exercise --- -->\n",
    "\n",
    "<!-- --- begin exercise --- -->\n",
    "\n",
    "## Exercise 2: Birthday Paradox\n",
    "<div id=\"ex:mc:BP\"></div>\n",
    "\n",
    "The human mind is not good at logical thinking, and if we use our\n",
    "intuition we often get into trouble. A well known example is the\n",
    "''Birthday Paradox'', it is simply to answer the following question:\n",
    "''How many randomly selected people do we need in order that there is\n",
    "a 50\\% chance that two of them have birthday on the same date?'' \n",
    "\n",
    "<!-- !bsol -->\n",
    "<!-- !esol -->\n",
    "\n",
    "**a)**\n",
    "Write a Python function that pick a random date\n",
    "<!-- subexercise... -->\n",
    "\n",
    "<!-- --- begin solution of exercise --- -->\n",
    "**Solution.**\n",
    "Below are two examples, the first one picks a date, while the second\n",
    "one just picks a random day at year."
   ]
  },
  {
   "cell_type": "code",
   "execution_count": 10,
   "id": "31adc362",
   "metadata": {
    "collapsed": false,
    "editable": true
   },
   "outputs": [],
   "source": [
    "#from datetime import date\n",
    "#%%\n",
    "import numpy as np\n",
    "\n",
    "#def get_date():\n",
    "#    \"\"\" return a random date in the current year \"\"\"\n",
    "#    start_dt = date.today().replace(day=1, month=1).toordinal()\n",
    "#    end_dt = date.today().replace(day=31, month=12).toordinal()\n",
    "#    random_day = date.fromordinal(np.random.randint(start_dt, end_dt))\n",
    "#    return random_day\n",
    "\n",
    "\n",
    "def get_day():\n",
    "    \"\"\" return a random day in a year \"\"\"\n",
    "    return np.random.randint(1,365)"
   ]
  },
  {
   "cell_type": "markdown",
   "id": "dfda0529",
   "metadata": {
    "editable": true
   },
   "source": [
    "<!-- --- end solution of exercise --- -->\n",
    "\n",
    "**b)**\n",
    "Write a function that takes as argument, number of persons in a group,\n",
    "and returns 1 if two of them has birthday on the same date and 0\n",
    "otherwise.\n",
    "\n",
    "<!-- --- begin solution of exercise --- -->\n",
    "**Solution.**\n",
    "."
   ]
  },
  {
   "cell_type": "code",
   "execution_count": 11,
   "id": "020e8b66",
   "metadata": {
    "collapsed": false,
    "editable": true
   },
   "outputs": [],
   "source": [
    "def NoPeople(p):\n",
    "    \"\"\" pick random dates in a year, return 1 if two\n",
    "        is in the same date before p is reached \"\"\"\n",
    "    dates=[]\n",
    "    for n in range(p):\n",
    "        date=get_day()\n",
    "        if date in dates:\n",
    "            return 1\n",
    "        else:\n",
    "            dates.append(date)\n",
    "    return 0"
   ]
  },
  {
   "cell_type": "markdown",
   "id": "4ab2f54e",
   "metadata": {
    "editable": true
   },
   "source": [
    "<!-- --- end solution of exercise --- -->\n",
    "\n",
    "**c)**\n",
    "Write a function that returns the probability that two people in a\n",
    "group of $p$ persons have birthday on the same day, and determine how\n",
    "many people we need to have a probability of 50\\%.\n",
    "\n",
    "<!-- --- begin solution of exercise --- -->\n",
    "**Solution.**\n",
    "In order to get some statistics, we need to sample $N$ groups and\n",
    "return the fraction of groups that had two persons with the same birthday."
   ]
  },
  {
   "cell_type": "code",
   "execution_count": 12,
   "id": "50c53b9b",
   "metadata": {
    "collapsed": false,
    "editable": true
   },
   "outputs": [],
   "source": [
    "def BP(p, N):\n",
    "    prob=0.\n",
    "    for i in range(N):\n",
    "        prob += NoPeople(p)\n",
    "    return prob/N\n",
    "print(BP(200,1000))"
   ]
  },
  {
   "cell_type": "markdown",
   "id": "03b29aa1",
   "metadata": {
    "editable": true
   },
   "source": [
    "By trial an error, we find that 23 persons is needed in order to have\n",
    "a probability of\n",
    "<!-- --- end solution of exercise --- -->\n",
    "\n",
    " ======= References =======\n",
    "\n",
    "<!-- --- end exercise --- -->"
   ]
  }
 ],
 "metadata": {},
 "nbformat": 4,
 "nbformat_minor": 5
}
