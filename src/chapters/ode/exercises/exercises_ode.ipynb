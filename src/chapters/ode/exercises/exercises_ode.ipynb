{
 "cells": [
  {
   "cell_type": "markdown",
   "id": "e21d8ad8",
   "metadata": {
    "editable": true
   },
   "source": [
    "<!-- dom:TITLE: Ordinary Differential Equations (ODE) -->\n",
    "# Ordinary Differential Equations (ODE)\n",
    "**Prepared as part of MOD510 Computational Engineering and Modeling**\n",
    "\n",
    "Date: **Apr 23, 2024**\n",
    "\n",
    "# ODE Notebook\n",
    "Learning objectives:\n",
    "* being able to implement an ODE solver in python\n",
    "\n",
    "* quantify numerical uncertainty\n",
    "\n",
    "* test different methods and have basic understanding of the strength and weaknesses of each method\n",
    "\n",
    "## Runge-Kutta Methods\n",
    "<!-- FIGURE: [fig-ode/rk_fig, width=800] Illustration of the Euler algorithm, and a motivation for using the slope a distance from the $t_n$.<div id=\"fig:ode:rk\"></div> -->\n",
    "\n",
    "The 2. order Runge-Kutta method is accurate to $h^2$, with an error term of order $h^3$ \n",
    "**The 2. order Runge-Kutta:**"
   ]
  },
  {
   "cell_type": "markdown",
   "id": "ce8ecf30",
   "metadata": {
    "editable": true
   },
   "source": [
    "$$\n",
    "k_1=hf(y_n,t_n)\\nonumber\n",
    "$$"
   ]
  },
  {
   "cell_type": "markdown",
   "id": "adba0465",
   "metadata": {
    "editable": true
   },
   "source": [
    "$$\n",
    "k_2=hf(y_n+\\frac{1}{2}k_1,t_n+h/2)\\nonumber\n",
    "$$"
   ]
  },
  {
   "cell_type": "markdown",
   "id": "5b30df7c",
   "metadata": {
    "editable": true
   },
   "source": [
    "<!-- Equation labels as ordinary links -->\n",
    "<div id=\"eq:ode:rk4\"></div>\n",
    "\n",
    "$$\n",
    "\\begin{equation}  \n",
    "y_{n+1}=y_n+k_2\\label{eq:ode:rk4} \\tag{1}\n",
    "\\end{equation}\n",
    "$$"
   ]
  },
  {
   "cell_type": "markdown",
   "id": "437aff03",
   "metadata": {
    "editable": true
   },
   "source": [
    "The Runge-Kutta fourth order method is one of he most used methods, it is accurate to order $h^4$, and has an error of order $h^5$. \n",
    "**The 4. order Runge-Kutta:**"
   ]
  },
  {
   "cell_type": "markdown",
   "id": "ffe71301",
   "metadata": {
    "editable": true
   },
   "source": [
    "$$\n",
    "k_1=hf(y_n,t_n)\\nonumber\n",
    "$$"
   ]
  },
  {
   "cell_type": "markdown",
   "id": "5e6eabc9",
   "metadata": {
    "editable": true
   },
   "source": [
    "$$\n",
    "k_2=hf(y_n+\\frac{1}{2}k_1,t_n+h/2)\\nonumber\n",
    "$$"
   ]
  },
  {
   "cell_type": "markdown",
   "id": "b2d273cc",
   "metadata": {
    "editable": true
   },
   "source": [
    "$$\n",
    "k_3=hf(y_n+\\frac{1}{2}k_2,t_n+h/2)\\nonumber\n",
    "$$"
   ]
  },
  {
   "cell_type": "markdown",
   "id": "40c1d2a8",
   "metadata": {
    "editable": true
   },
   "source": [
    "$$\n",
    "k_4=hf(y_n+k_3,t_n+h)\\nonumber\n",
    "$$"
   ]
  },
  {
   "cell_type": "markdown",
   "id": "7eae963b",
   "metadata": {
    "editable": true
   },
   "source": [
    "<!-- Equation labels as ordinary links -->\n",
    "<div id=\"eq:ode:rk5\"></div>\n",
    "\n",
    "$$\n",
    "\\begin{equation}  \n",
    "y_{n+1}=y_n+\\frac{1}{6}(k_1+2k_2+2k_3+k_4)\\label{eq:ode:rk5} \\tag{2}\n",
    "\\end{equation}\n",
    "$$"
   ]
  },
  {
   "cell_type": "markdown",
   "id": "8f29af84",
   "metadata": {
    "editable": true
   },
   "source": [
    "# Exercise: Implement the Runge-Kutta method\n",
    "In the following we are going to model a contaminated lake using a mixing tank. As an example we are going to use Norways largest lake, Mjosa, see [figure 1](#fig:eode:mjosa). \n",
    "\n",
    "<!-- dom:FIGURE: [fig-ode/mjosa.png, width=400 frac=1.0] The location of Mjosa and a mixing tank. The mixing tank assumes that at all times the concentrations inside the tank is uniform.  <div id=\"fig:eode:mjosa\"></div> -->\n",
    "<!-- begin figure -->\n",
    "<div id=\"fig:eode:mjosa\"></div>\n",
    "\n",
    "<img src=\"fig-ode/mjosa.png\" width=400><p style=\"font-size: 0.9em\"><i>Figure 1: The location of Mjosa and a mixing tank. The mixing tank assumes that at all times the concentrations inside the tank is uniform.</i></p>\n",
    "<!-- end figure -->\n",
    "\n",
    "The volume of Mjosa is, $V=$56 km$^3$, and the discharge is $q=321$ m$^3$/s=27.734$\\cdot10^6\\text{m}^3/\\text{day}$. We will assume that some contaminant are present *uniformly* in the lake, and fresh water is flowing into Mjosa. Applying mass balance to the system, and assuming that the flow pattern in Mjosa is such that the contaminant is distributed uniformly at all times, the following equation should hold"
   ]
  },
  {
   "cell_type": "markdown",
   "id": "1d8860ce",
   "metadata": {
    "editable": true
   },
   "source": [
    "<!-- Equation labels as ordinary links -->\n",
    "<div id=\"eq:eode:cstr\"></div>\n",
    "\n",
    "$$\n",
    "\\begin{equation}\n",
    "V\\frac{dC(t)}{dt} = q(t)\\left[C_\\text{in}(t) - C(t)\\right].\n",
    "\\label{eq:eode:cstr} \\tag{3}\n",
    "\\end{equation}\n",
    "$$"
   ]
  },
  {
   "cell_type": "markdown",
   "id": "7a200f27",
   "metadata": {
    "editable": true
   },
   "source": [
    "Assume that the initial concentration of the contaminant is $C_0=1$, and assume that water flowing into contains no contaminant, we have the boundary conditions $C_\\text{in}(t)=0$, $C(0)=1$. In this case equation ([3](#eq:eode:cstr)) is"
   ]
  },
  {
   "cell_type": "markdown",
   "id": "e34cf952",
   "metadata": {
    "editable": true
   },
   "source": [
    "<!-- Equation labels as ordinary links -->\n",
    "<div id=\"eq:eode:cstr2\"></div>\n",
    "\n",
    "$$\n",
    "\\begin{equation}\n",
    "\\frac{dC(t)}{dt} = -\\frac{1}{\\tau}C(t),\n",
    "\\label{eq:eode:cstr2} \\tag{4}\n",
    "\\end{equation}\n",
    "$$"
   ]
  },
  {
   "cell_type": "markdown",
   "id": "b5c9e069",
   "metadata": {
    "editable": true
   },
   "source": [
    "where $\\tau\\equiv V/q$. The analytical solution is simply"
   ]
  },
  {
   "cell_type": "markdown",
   "id": "ee12f133",
   "metadata": {
    "editable": true
   },
   "source": [
    "<!-- Equation labels as ordinary links -->\n",
    "<div id=\"eq:eode:ana\"></div>\n",
    "\n",
    "$$\n",
    "\\begin{equation}\n",
    "C(t)=e^{-t/\\tau}.\n",
    "\\label{eq:eode:ana} \\tag{5}\n",
    "\\end{equation}\n",
    "$$"
   ]
  },
  {
   "cell_type": "markdown",
   "id": "05e7c09c",
   "metadata": {
    "editable": true
   },
   "source": [
    "**Part 1.**\n",
    "In the following you are going to first implement a *general* solver, then you are to test it on equation ([5](#eq:eode:ana)). The solution of ODE equations are based on solving a generic equation of the form"
   ]
  },
  {
   "cell_type": "markdown",
   "id": "6334ffbc",
   "metadata": {
    "editable": true
   },
   "source": [
    "<!-- Equation labels as ordinary links -->\n",
    "<div id=\"eq:eode:gen\"></div>\n",
    "\n",
    "$$\n",
    "\\begin{equation}\n",
    "\\frac{dy(t)}{dt}=f(y,t).\n",
    "\\label{eq:eode:gen} \\tag{6}\n",
    "\\end{equation}\n",
    "$$"
   ]
  },
  {
   "cell_type": "markdown",
   "id": "e916b930",
   "metadata": {
    "editable": true
   },
   "source": [
    "Thus the solver should take in *as argument*, the right hand side, $f(y,t)$, starting values $y_0$, the start time $t_0$ and end time $t_f$.\n",
    "\n",
    "Complete the code below"
   ]
  },
  {
   "cell_type": "code",
   "execution_count": 1,
   "id": "c26debd1",
   "metadata": {
    "collapsed": false,
    "editable": true
   },
   "outputs": [],
   "source": [
    "%matplotlib inline\n",
    "\n",
    "\n",
    "import matplotlib.pyplot as plt\n",
    "import numpy as np\n",
    "\n",
    "#global parameters\n",
    "c_in=0\n",
    "c0=1\n",
    "q=321*24*60*60*365 #m^3/year\n",
    "V=56*1000**3    #m^3\n",
    "tau=V/q        #day\n",
    "\n",
    "def func(y,t):\n",
    "    \"\"\"\n",
    "    the right hand side of ode\n",
    "    \"\"\"\n",
    "    return ...\n",
    "\n",
    "def rk4_step(func,y,t,dt):\n",
    "    \"\"\"\n",
    "    t : time\n",
    "    dt : step size (dt=h)\n",
    "    func : the right hand side of the ode\n",
    "    \"\"\"\n",
    "    ... \n",
    "    return\n",
    "\n",
    "def rk2_step(func, y, t, dt):\n",
    "     \"\"\"\n",
    "    t : time\n",
    "    dt : step size (dt=h)\n",
    "    func : the right hand side of the ode\n",
    "    \"\"\" \n",
    "    return \n",
    "\n",
    "def ode_solv(func,y0,dt,t0,t_final):\n",
    "    y=[];t=[]\n",
    "    ti=t0\n",
    "    y_old=y0\n",
    "    while(ti <= t_final):\n",
    "        t.append(ti); y.append(y_old)\n",
    "        y_new = y_old+rk4_step(func,y_old,ti,dt) # or rk2_step    \n",
    "        y_old = y_new\n",
    "        ti   += dt\n",
    "    return np.array(t),np.array(y)"
   ]
  },
  {
   "cell_type": "markdown",
   "id": "d9a3fcca",
   "metadata": {
    "editable": true
   },
   "source": [
    "**Part 2.**\n",
    "1. How much time does it take for the contaminant to drop to 10$\\%$ of its original value?\n",
    "\n",
    "2. Is this model a good model for the cleaning of Mjosa?\n",
    "\n",
    "3. Does the numerical error scales as expected\n",
    "\n",
    "<!-- --- begin exercise --- -->\n",
    "\n",
    "## Exercise 1: Adaptive step size - Runge-Kutta Method\n",
    "\n",
    "In this exercise you are going to improve the algorithms above by choosing a step size that is not too large or too small. This will serve two purposes i) *greatly* enhance the efficiency of the code, and ii) ensure that we find the correct numerical solution that is *close enough* to the true solution. We are going to use the following result from the compendium [[hiorth]](#hiorth) (to get a good understanding it is advised to derive them)"
   ]
  },
  {
   "cell_type": "markdown",
   "id": "3c47cdac",
   "metadata": {
    "editable": true
   },
   "source": [
    "<!-- Equation labels as ordinary links -->\n",
    "<div id=\"_auto1\"></div>\n",
    "\n",
    "$$\n",
    "\\begin{equation}\n",
    "|\\epsilon|=\\frac{|\\Delta|}{2^p-1}=\\frac{|y_1^*-y_1|}{2^p-1},\n",
    "\\label{_auto1} \\tag{7}\n",
    "\\end{equation}\n",
    "$$"
   ]
  },
  {
   "cell_type": "markdown",
   "id": "7f5285a1",
   "metadata": {
    "editable": true
   },
   "source": [
    "<!-- Equation labels as ordinary links -->\n",
    "<div id=\"_auto2\"></div>\n",
    "\n",
    "$$\n",
    "\\begin{equation}  \n",
    "dt^\\prime=\\beta dt\\left|\\frac{\\epsilon^\\prime}{\\epsilon}\\right|^{\\frac{1}{p+1}},\n",
    "\\label{_auto2} \\tag{8}\n",
    "\\end{equation}\n",
    "$$"
   ]
  },
  {
   "cell_type": "markdown",
   "id": "abc7b4a4",
   "metadata": {
    "editable": true
   },
   "source": [
    "<!-- Equation labels as ordinary links -->\n",
    "<div id=\"_auto3\"></div>\n",
    "\n",
    "$$\n",
    "\\begin{equation}  \n",
    "\\hat{y_1}=y_1-\\epsilon=\\frac{2^p y_1-y_1^*}{2^{p}-1},\n",
    "\\label{_auto3} \\tag{9}\n",
    "\\end{equation}\n",
    "$$"
   ]
  },
  {
   "cell_type": "markdown",
   "id": "291f4693",
   "metadata": {
    "editable": true
   },
   "source": [
    "where $\\epsilon^\\prime$ is the desired accuracy. $\\beta$ is a safety factor $\\beta\\simeq0.8,0.9$, and you should always be careful that the step size do not become too large so that\n",
    "the method breaks down. This can happens when $\\epsilon$ is very low, which may happen if $y_1^*\\simeq y_1$ and/or if $y_1^*\\simeq y_1\\simeq 0$.  \n",
    "\n",
    "**Part 1.**\n",
    "\n",
    "Use the equations above, and implement an adaptive step size algorithm for the 4. order Runge-Kutta methods. Use the Mjosa example above to test your code. It might be a good idea to use a safety limit on the step size `min(dt*(tol/toli)**(0.2),dt_max)`, where `dt_max` is the maximum step size you allow. The tolerance should be calculated as $\\epsilon^\\prime = atol +|y|rtol$, where 'atol' is the absolute tolerance and 'rtol' is the relative tolerance. A sensible choice would be to set 'atol=rtol' (e.g. = $10^{-5}$).\n",
    "\n",
    "Below is some code to help you get started"
   ]
  },
  {
   "cell_type": "code",
   "execution_count": 2,
   "id": "768e1f6d",
   "metadata": {
    "collapsed": false,
    "editable": true
   },
   "outputs": [],
   "source": [
    "def rk_adpative(func,y0,t0,tf,rel_tol=1e-5,abs_tol=1e-5,p=4):\n",
    "    y=[]\n",
    "    t=[]\n",
    "    ti=t0\n",
    "    y.append(y0)\n",
    "    t.append(ti)\n",
    "    dt=1e-2 # start with a small step \n",
    "    while(ti<=tf):\n",
    "        y_old=y[-1]\n",
    "        EPS=np.abs(y_old)*rel_tol+abs_tol\n",
    "        eps=10*EPS\n",
    "        while(eps>EPS): # continue while loop until correct dt\n",
    "            DT=dt\n",
    "            y_new =  ....  # one large step from t to t+dt\n",
    "            y1    =  ....  # and two small steps - from t -> t+dt/2\n",
    "            y2    =  ....  # and from t+dt/2 to t + dt\n",
    "            eps   =  ....  # estimate numerical error\n",
    "            dt    =  ....  # calculate new time step\n",
    "\t    \n",
    "        y.append( ... )\n",
    "        ti=ti+DT # important to add DT not dt\n",
    "        t.append(ti)\n",
    "    return np.array(t),np.array(y) # cast to numpy arrays"
   ]
  },
  {
   "cell_type": "markdown",
   "id": "a69621d6",
   "metadata": {
    "editable": true
   },
   "source": [
    "**Part 2.**\n",
    "1. How many steps do you need to get a reasonable solution? \n",
    "\n",
    "2. Is the numerical error what you expect?\n",
    "\n",
    "<!-- --- end exercise --- -->\n",
    "\n",
    "<!-- --- begin exercise --- -->\n",
    "\n",
    "## Exercise 2: Solving a set of ODE equations\n",
    "\n",
    "What happens if we have more than one equation that needs to be solved? If we continue with our current example, we might be interested in what would happen \n",
    "if we had multiple tanks in series. This could be a very simple model to describe the cleaning  of drinking water infiltrated by salt water (a typical challenge in many countries) by injecting fresh water into it. Assume that the lake was connected to two nearby fresh water lakes, as illustrated in [figure 2](#fig:ode:cstr3). The weakest part of the model is the assumption about \n",
    "complete mixing, in a practical situation we could enforce complete mixing with the salty water in the first tank by injecting fresh water at multiple point in the \n",
    "lake. For the two next lakes, the degree of mixing is not obvious, but salt water is heavier than fresh water and therefore it would sink and mix with the fresh water. Thus\n",
    "if the discharge rate was slow, one might imaging that a more or less complete mixing could occur. Our model then could answer questions like, how long time would it take before most\n",
    "of the salt water is removed from the first lake, and how much time would it take before most of the salt water was cleared from the whole system? The answer to \n",
    "these questions would give practical input on how much and how fast one should inject the fresh water to clean up the system. If we had \n",
    "data from an actual system, we could compare our model predictions with data from the physical system, and investigate if our model description was correct. \n",
    "\n",
    "<!-- dom:FIGURE: [fig-ode/cstr3.png, width=800] A simple model for cleaning a salty lake that is connected to two lakes down stream. <div id=\"fig:ode:cstr3\"></div> -->\n",
    "<!-- begin figure -->\n",
    "<div id=\"fig:ode:cstr3\"></div>\n",
    "\n",
    "<img src=\"fig-ode/cstr3.png\" width=800><p style=\"font-size: 0.9em\"><i>Figure 2: A simple model for cleaning a salty lake that is connected to two lakes down stream.</i></p>\n",
    "<!-- end figure -->\n",
    "\n",
    "For simplicity we will assume that all the lakes have the same volume, $V$. The governing equations follows\n",
    "as before, by assuming mass balance:"
   ]
  },
  {
   "cell_type": "markdown",
   "id": "2ae68e0a",
   "metadata": {
    "editable": true
   },
   "source": [
    "$$\n",
    "C_0(t+\\Delta t)\\cdot V - C_0(t)\\cdot V = q(t)\\cdot C_\\text{in}(t)\\cdot \\Delta t - q(t)\\cdot C_0(t)\\cdot \\Delta t,\\nonumber\n",
    "$$"
   ]
  },
  {
   "cell_type": "markdown",
   "id": "92a4841a",
   "metadata": {
    "editable": true
   },
   "source": [
    "$$\n",
    "C_1(t+\\Delta t)\\cdot V - C_1(t)\\cdot V = q(t)\\cdot C_0(t)\\cdot \\Delta t - q(t)\\cdot C_1(t)\\cdot \\Delta t,\\nonumber\n",
    "$$"
   ]
  },
  {
   "cell_type": "markdown",
   "id": "dba0c28f",
   "metadata": {
    "editable": true
   },
   "source": [
    "<!-- Equation labels as ordinary links -->\n",
    "<div id=\"eq:ode:cstr3a\"></div>\n",
    "\n",
    "$$\n",
    "\\begin{equation}  \n",
    "C_2(t+\\Delta t)\\cdot V - C_2(t)\\cdot V = q(t)\\cdot C_1(t)\\cdot \\Delta t - q(t)\\cdot C_2(t)\\cdot \\Delta t.\\label{eq:ode:cstr3a} \\tag{10}\n",
    "\\end{equation}\n",
    "$$"
   ]
  },
  {
   "cell_type": "markdown",
   "id": "a42e620f",
   "metadata": {
    "editable": true
   },
   "source": [
    "Taking the limit $\\Delta t\\to 0$, we can write equation ([10](#eq:ode:cstr3a)) as:"
   ]
  },
  {
   "cell_type": "markdown",
   "id": "79cbfe20",
   "metadata": {
    "editable": true
   },
   "source": [
    "<!-- Equation labels as ordinary links -->\n",
    "<div id=\"eq:ode:cstr3b\"></div>\n",
    "\n",
    "$$\n",
    "\\begin{equation}\n",
    "V\\frac{dC_0(t)}{dt} = q(t)\\left[C_\\text{in}(t) - C_0(t)\\right],\\label{eq:ode:cstr3b} \\tag{11}\n",
    "\\end{equation}\n",
    "$$"
   ]
  },
  {
   "cell_type": "markdown",
   "id": "432874f2",
   "metadata": {
    "editable": true
   },
   "source": [
    "<!-- Equation labels as ordinary links -->\n",
    "<div id=\"eq:ode:cstr3c\"></div>\n",
    "\n",
    "$$\n",
    "\\begin{equation}  \n",
    "V\\frac{dC_1(t)}{dt} = q(t)\\left[C_0(t) - C_1(t)\\right],\\label{eq:ode:cstr3c} \\tag{12}\n",
    "\\end{equation}\n",
    "$$"
   ]
  },
  {
   "cell_type": "markdown",
   "id": "aae36627",
   "metadata": {
    "editable": true
   },
   "source": [
    "<!-- Equation labels as ordinary links -->\n",
    "<div id=\"eq:ode:cstr3d\"></div>\n",
    "\n",
    "$$\n",
    "\\begin{equation}  \n",
    "V\\frac{dC_2(t)}{dt} = q(t)\\left[C_1(t) - C_2(t)\\right].\\label{eq:ode:cstr3d} \\tag{13}\n",
    "\\end{equation}\n",
    "$$"
   ]
  },
  {
   "cell_type": "markdown",
   "id": "154a9dff",
   "metadata": {
    "editable": true
   },
   "source": [
    "Show that the analytical solution is:"
   ]
  },
  {
   "cell_type": "markdown",
   "id": "262bc1ab",
   "metadata": {
    "editable": true
   },
   "source": [
    "<!-- Equation labels as ordinary links -->\n",
    "<div id=\"_auto4\"></div>\n",
    "\n",
    "$$\n",
    "\\begin{equation}\n",
    "C_0(t)=C_{0,0}e^{-t/\\tau}{\\nonumber}\n",
    "\\label{_auto4} \\tag{14}\n",
    "\\end{equation}\n",
    "$$"
   ]
  },
  {
   "cell_type": "markdown",
   "id": "96b998cf",
   "metadata": {
    "editable": true
   },
   "source": [
    "<!-- Equation labels as ordinary links -->\n",
    "<div id=\"_auto5\"></div>\n",
    "\n",
    "$$\n",
    "\\begin{equation}  \n",
    "C_1(t)=C_{0,0}\\frac{t}{\\tau}e^{-t/\\tau}{\\nonumber}\n",
    "\\label{_auto5} \\tag{15}\n",
    "\\end{equation}\n",
    "$$"
   ]
  },
  {
   "cell_type": "markdown",
   "id": "6776a752",
   "metadata": {
    "editable": true
   },
   "source": [
    "<!-- Equation labels as ordinary links -->\n",
    "<div id=\"eq:ode:cstr3j\"></div>\n",
    "\n",
    "$$\n",
    "\\begin{equation}  \n",
    "C_2(t)=\\frac{C_{0,0}t^2}{2\\tau^2}e^{-t/\\tau}.\\label{eq:ode:cstr3j} \\tag{16}\n",
    "\\end{equation}\n",
    "$$"
   ]
  },
  {
   "cell_type": "markdown",
   "id": "1e020d19",
   "metadata": {
    "editable": true
   },
   "source": [
    "The numerical solution follows the exact same pattern as before if we introduce a vector notation."
   ]
  },
  {
   "cell_type": "markdown",
   "id": "81605603",
   "metadata": {
    "editable": true
   },
   "source": [
    "$$\n",
    "\\frac{d}{dt}\n",
    "\\left(\n",
    "\\begin{array}{c} \n",
    " C_0(t)\\\\ \n",
    " C_1(t)\\\\ \n",
    " C_2(t)\n",
    " \\end{array}\n",
    " \\right)\n",
    "=\\frac{1}{\\tau}\\left(\n",
    "\\begin{array}{c} \n",
    " C_\\text{in}(t) - C_0(t)\\\\ \n",
    " C_0(t) - C_1(t)\\\\ \n",
    " C_1(t) - C_2(t)\n",
    " \\end{array}\n",
    " \\right),\\nonumber\n",
    "$$"
   ]
  },
  {
   "cell_type": "markdown",
   "id": "249c8675",
   "metadata": {
    "editable": true
   },
   "source": [
    "<!-- Equation labels as ordinary links -->\n",
    "<div id=\"eq:eode:vec\"></div>\n",
    "\n",
    "$$\n",
    "\\begin{equation}  \n",
    " \\frac{d\\mathbf{C}(t)}{dt}=\\mathbf{f}(\\mathbf{C},t).\n",
    "\\label{eq:eode:vec} \\tag{17}\n",
    "\\end{equation}\n",
    "$$"
   ]
  },
  {
   "cell_type": "markdown",
   "id": "992490d9",
   "metadata": {
    "editable": true
   },
   "source": [
    "**Part 1.**\n",
    "1. Extend the code in the previous exercises to be able to handle vector equations - note that if you have consistently used Numpy arrays you should actually be able to run your code without any modifications! (not the Richardson extrapolation algorithm)\n",
    "\n",
    "2. Solve the set of equations in equation ([17](#eq:eode:vec)), and compare with the analytical solution\n",
    "\n",
    "<!-- --- end exercise --- -->\n",
    "\n",
    "# Exercise: Adaptive method for a general ODE\n",
    "\n",
    "**Part 1.**\n",
    "In this exercise we ask you to extend your implementation of the Richardson extrapolation to also be valid if the right hand side is a vector. We will not give the solution to this exercise, but rather tell you exactly how to do it and then you can try for yourself. The following recipe applies to the suggested solution (see separate pdf document)\n",
    "1. There are only minor changes to the code, first we need to consider `EPS=np.abs(y_old)*rel_tol+abs_tol`. This expression is ambiguous, because `y_old` is a vector and `EPS` should be a single number. We suggest to simply replace the absolute value with the norm $\\sqrt{y_0^2+y_1^2+\\cdots}$, which can be achieved by `EPS=np.linalg.norm(y_old)*rel_tol+abs_tol`\n",
    "\n",
    "2. The same also applies to the line `eps   = np.abs(y2-y_new)/(2**p-1)`, and this should be changed to `eps   = np.linalg.norm(y2-y_new)/(2**p-1)`\n",
    "\n",
    "3. Make the suggested changes and test your code on equation ([17](#eq:eode:vec))\n",
    "\n",
    "# Exercise: Second order equations\n",
    "Test your solver on the following equation"
   ]
  },
  {
   "cell_type": "markdown",
   "id": "d2eec430",
   "metadata": {
    "editable": true
   },
   "source": [
    "<!-- Equation labels as ordinary links -->\n",
    "<div id=\"eq:eode:ss\"></div>\n",
    "\n",
    "$$\n",
    "\\begin{equation}\n",
    "xy^{\\prime\\prime}(x)+2^\\prime(x)+x=1,\n",
    "\\label{eq:eode:ss} \\tag{18}\n",
    "\\end{equation}\n",
    "$$"
   ]
  },
  {
   "cell_type": "markdown",
   "id": "a959b6ac",
   "metadata": {
    "editable": true
   },
   "source": [
    "where the initial conditions are $y(1)=2$, and $y^\\prime(1)=1$. The analytical solution is"
   ]
  },
  {
   "cell_type": "markdown",
   "id": "03dd86af",
   "metadata": {
    "editable": true
   },
   "source": [
    "<!-- Equation labels as ordinary links -->\n",
    "<div id=\"_auto6\"></div>\n",
    "\n",
    "$$\n",
    "\\begin{equation}\n",
    "y(x)=\\frac{5}{2}-\\frac{5}{6x}+\\frac{x}{2}-\\frac{x^2}{6}.\n",
    "\\label{_auto6} \\tag{19}\n",
    "\\end{equation}\n",
    "$$"
   ]
  },
  {
   "cell_type": "markdown",
   "id": "d78f5657",
   "metadata": {
    "editable": true
   },
   "source": [
    "## References\n",
    "\n",
    "1. <div id=\"hiorth\"></div> **A. Hiorth**.  *Computational Engineering and Modeling*, https://github.com/ahiorth/CompEngineering, 2019."
   ]
  }
 ],
 "metadata": {},
 "nbformat": 4,
 "nbformat_minor": 5
}
