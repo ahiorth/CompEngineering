{
 "cells": [
  {
   "cell_type": "markdown",
   "id": "0ad0363a",
   "metadata": {
    "editable": true
   },
   "source": [
    "<!-- dom:TITLE: 0D-systems and ordinary differential equations  -->\n",
    "# 0D-systems and ordinary differential equations \n",
    "**Aksel Hiorth**\n",
    "University of Stavanger\n",
    "\n",
    "Date: **Apr 23, 2024**"
   ]
  },
  {
   "cell_type": "code",
   "execution_count": 1,
   "id": "7d3dfd77",
   "metadata": {
    "collapsed": false,
    "editable": true
   },
   "outputs": [],
   "source": [
    "from IPython.core.display import HTML\n",
    "css_file = 'style.css'\n",
    "HTML(open(css_file, \"r\").read())"
   ]
  },
  {
   "cell_type": "markdown",
   "id": "e29a1c71",
   "metadata": {
    "editable": true
   },
   "source": [
    "# 0D models\n",
    "By 0D models we mean models that are only dependent on one variable, usually time. These models are often called \"lumped parameter models\", because they ignore spatial dependency and the parameters in the model are adjusted to match experimental data. In many cases it is more important to predict how a system evolves in time, than the spatial dependency. A very recent example is the spread of infectious deceases, like Covid-19, where the evolution of total number of infected people might be the most important and not where the infection happens. \n",
    "\n",
    "# Ordinary differential equations\n",
    "\n",
    "Physical systems evolves in space and time, and very often they are described by a ordinary differential equations (ODE) and/or\n",
    "partial differential equations (PDE). The difference between an ODE and a PDE is that an ODE only describes \n",
    "the changes in one spatial dimension *or* time, whereas a PDE describes a system that evolves in the $x-$, $y-$, $z-$ dimension \n",
    "and/or in time. In the following we will spend a significant\n",
    "amount of time to explore one of the simplest algorithm, Eulers method.\n",
    "Sometimes this is exactly the algorithm you would like to use, but with very \n",
    "little extra effort much more sophisticated algorithms can easily be implemented, such as the Runge-Kutta fourth order method.\n",
    "However, all these algorithms, will at some point run into the same\n",
    "kind of troubles if used reckless. Thus we will use the Eulers method as a playground,\n",
    "investigate when the algorithm run into trouble and\n",
    "suggests ways to fix it, these approaches can easily be extended to the higher order methods. Most of the other algorithms boils down to the same idea of extrapolating\n",
    "a function using derivatives multiplied with a small step size.  \n",
    "\n",
    "# A simple model for fluid flow\n",
    "Let us consider a simple example from chemical engineering, a continuous stirred tank reactor (CSTR), see [figure 1](#fig:ode:cstr). \n",
    "The flow is incompressible ($q_\\text{out}=q_\\text{in}$), a fluid is entering\n",
    "on the top and exiting at the bottom, the tank has a fixed volume $V$. Assume that the tank is filled with saltwater, and that freshwater is pumped into it, how much time does it \n",
    "take before $90\\%$ of the saltwater is replaced with freshwater? The tank is *well mixed*, illustrated with the propeller, this means that at every time the \n",
    "concentration is uniform in the tank, i.e. that $C(t)=C_\\text{out}(t)$.  \n",
    "\n",
    "<!-- dom:FIGURE: [fig-ode/cstr.png, width=800] A continuous stirred tank model, $C(t)=C_\\text{out}(t)$, and $q_\\text{out}=q_\\text{in}$. <div id=\"fig:ode:cstr\"></div> -->\n",
    "<!-- begin figure -->\n",
    "<div id=\"fig:ode:cstr\"></div>\n",
    "\n",
    "<img src=\"fig-ode/cstr.png\" width=800><p style=\"font-size: 0.9em\"><i>Figure 1: A continuous stirred tank model, $C(t)=C_\\text{out}(t)$, and $q_\\text{out}=q_\\text{in}$.</i></p>\n",
    "<!-- end figure -->\n",
    "\n",
    "The concentration $C$ is measured in gram of salt per liter water, and the flow rate $q$ is liter of water per day. The model for the salt balance in this system can be described in words by:"
   ]
  },
  {
   "cell_type": "markdown",
   "id": "097a7a3d",
   "metadata": {
    "editable": true
   },
   "source": [
    "$$\n",
    "[\\text{accumulation of salt}] = [\\text{salt into the system}] - [\\text{salt out of the system}]\\nonumber\n",
    "$$"
   ]
  },
  {
   "cell_type": "markdown",
   "id": "8cb4cc58",
   "metadata": {
    "editable": true
   },
   "source": [
    "<!-- Equation labels as ordinary links -->\n",
    "<div id=\"eq:ode:mbal\"></div>\n",
    "\n",
    "$$\n",
    "\\begin{equation}  \n",
    " + [\\text{generation of salt}].\\label{eq:ode:mbal} \\tag{1}\n",
    "\\end{equation}\n",
    "$$"
   ]
  },
  {
   "cell_type": "markdown",
   "id": "5880bc7c",
   "metadata": {
    "editable": true
   },
   "source": [
    "In our case there are no generation of salt within the system so this term is zero. The flow of salt into the system during a time $\\Delta t$ is: \n",
    "$q_\\text{in}(t)\\cdot C_\\text{in}(t)\\cdot \\Delta t=q(t)\\cdot C_\\text{in}(t)\\cdot \\Delta t$, \n",
    "the flow of salt out of the system is: $q_\\text{out}(t)\\cdot C_\\text{out}(t)\\cdot \\Delta t=q(t)\\cdot C(t)\\cdot \\Delta t$, and the accumulation during a time step is:\n",
    "$C(t+\\Delta t)\\cdot V - C(t)\\cdot V$, hence:"
   ]
  },
  {
   "cell_type": "markdown",
   "id": "b0800335",
   "metadata": {
    "editable": true
   },
   "source": [
    "<!-- Equation labels as ordinary links -->\n",
    "<div id=\"eq:ode:cstr1\"></div>\n",
    "\n",
    "$$\n",
    "\\begin{equation}\n",
    "C(t+\\Delta t)\\cdot V - C(t)\\cdot V = q(t)\\cdot C_\\text{in}(t)\\cdot \\Delta t - q(t)\\cdot C(t)\\cdot \\Delta t.\\label{eq:ode:cstr1} \\tag{2}\n",
    "\\end{equation}\n",
    "$$"
   ]
  },
  {
   "cell_type": "markdown",
   "id": "37d7487c",
   "metadata": {
    "editable": true
   },
   "source": [
    "Note that it is not a priori apparent, which time the concentrations and flow rates on the right hand side should be evaluated at, \n",
    "we could have chosen to evaluate them at $t+\\Delta t$, or at any time $t\\in [t,t+\\Delta t]$. We will return to this point later in this chapter. Dividing by $\\Delta t$, and taking the limit\n",
    "$\\Delta t\\to 0$, we can write equation ([2](#eq:ode:cstr1)) as:"
   ]
  },
  {
   "cell_type": "markdown",
   "id": "259f3577",
   "metadata": {
    "editable": true
   },
   "source": [
    "<!-- Equation labels as ordinary links -->\n",
    "<div id=\"eq:ode:cstr2\"></div>\n",
    "\n",
    "$$\n",
    "\\begin{equation}\n",
    "V\\frac{dC(t)}{dt} = q(t)\\left[C_\\text{in}(t) - C(t)\\right].\\label{eq:ode:cstr2} \\tag{3}\n",
    "\\end{equation}\n",
    "$$"
   ]
  },
  {
   "cell_type": "markdown",
   "id": "fcd38831",
   "metadata": {
    "editable": true
   },
   "source": [
    "Seawater contains about 35 gram salt/liter fluid, if we assume that the fresh water contains no salt, we have the boundary conditions\n",
    "$C_\\text{in}(t)=0$, $C(0)=$35gram/l. The equation ([3](#eq:ode:cstr2)) the reduces to:"
   ]
  },
  {
   "cell_type": "markdown",
   "id": "1032f242",
   "metadata": {
    "editable": true
   },
   "source": [
    "<!-- Equation labels as ordinary links -->\n",
    "<div id=\"eq:ode:cstr3\"></div>\n",
    "\n",
    "$$\n",
    "\\begin{equation}\n",
    "V\\frac{dC(t)}{dt} = -qC(t),\\label{eq:ode:cstr3} \\tag{4}\n",
    "\\end{equation}\n",
    "$$"
   ]
  },
  {
   "cell_type": "markdown",
   "id": "43aa7dfb",
   "metadata": {
    "editable": true
   },
   "source": [
    "this equation can easily be solved, by dividing by $C$, multiplying by $dt$ and integrating:"
   ]
  },
  {
   "cell_type": "markdown",
   "id": "b5de2e7e",
   "metadata": {
    "editable": true
   },
   "source": [
    "$$\n",
    "V\\int_{C_0}^C\\frac{dC}{C} = -q\\int_0^tdt,\\nonumber\n",
    "$$"
   ]
  },
  {
   "cell_type": "markdown",
   "id": "9449e83f",
   "metadata": {
    "editable": true
   },
   "source": [
    "<!-- Equation labels as ordinary links -->\n",
    "<div id=\"eq:ode:sol\"></div>\n",
    "\n",
    "$$\n",
    "\\begin{equation}  \n",
    "C(t)=C_0e^{-t/\\tau},\\text{ where } \\tau\\equiv \\frac{V}{q}.\\label{eq:ode:sol} \\tag{5}\n",
    "\\end{equation}\n",
    "$$"
   ]
  },
  {
   "cell_type": "markdown",
   "id": "d5ab48f1",
   "metadata": {
    "editable": true
   },
   "source": [
    "This equation can be inverted to give $t=-\\tau\\ln[C(t)/C]$. If we assume that the volume of the tank is 1m$^3$=1000liters, \n",
    "and that the flow rate is 1 liter/min, we find that $\\tau$=1000min=0.69days and that it takes about $-0.69\\ln0.9\\simeq1.6$days to reduce the concentration\n",
    "by 90$\\%$ to 3.5 gram/liter.     \n",
    "\n",
    "**The CSTR.**\n",
    "\n",
    "You might think that the CSTR is a very simple model, and it is, but this type of model is the basic building blocks in chemical engineering.\n",
    "By putting CSTR tanks in series and/or connecting them with pipes, the efficiency of manufacturing various type of chemicals\n",
    "can be investigated. Although the CSTR is an idealized model for the part of a chemical factory, it is actually a *very good* model \n",
    "for fluid flow in a porous media. By connecting CSTR tanks in series, one can model how chemical tracers propagate in the subsurface. \n",
    "The physical reason for this is that dispersion in porous media will play the role of the propellers and mix the concentration\n",
    "uniformly.\n",
    "\n",
    "\n",
    "\n",
    "# Euler's method\n",
    "If the system gets slightly more complicated, e.g several tanks in series with a varying flow rate or if salt was generated in the tank, there is a\n",
    "good chance that we have to solve the equations numerically to obtain a solution.\n",
    "Actually, we have already developed a numerical algorithm to solve equation ([3](#eq:ode:cstr2)), \n",
    "before we arrived at equation ([3](#eq:ode:cstr2)) in equation ([2](#eq:ode:cstr1)). This is a special case of Eulers method, which is basically to \n",
    "replace the derivative in equation ([3](#eq:ode:cstr2)), with $(C(t+\\Delta t)-C(t))/\\Delta t$. By rewriting equation ([2](#eq:ode:cstr1)), so that we\n",
    "keep everything related to the new time step, $t+\\Delta t$, on one side, we get:"
   ]
  },
  {
   "cell_type": "markdown",
   "id": "07a3eac8",
   "metadata": {
    "editable": true
   },
   "source": [
    "<!-- Equation labels as ordinary links -->\n",
    "<div id=\"eq:ode:eu0\"></div>\n",
    "\n",
    "$$\n",
    "\\begin{equation}\n",
    "VC(t+\\Delta t) = VC(t) + qC_\\text{in}(t) - qC(t),\\label{eq:ode:eu0} \\tag{6}\n",
    "\\end{equation}\n",
    "$$"
   ]
  },
  {
   "cell_type": "markdown",
   "id": "11257c2c",
   "metadata": {
    "editable": true
   },
   "source": [
    "<!-- Equation labels as ordinary links -->\n",
    "<div id=\"eq:ode:eu1\"></div>\n",
    "\n",
    "$$\n",
    "\\begin{equation}  \n",
    "C(t+\\Delta t) = C(t) + \\frac{\\Delta t}{\\tau}\\left[C_\\text{in}(t) - C(t)\\right]\\label{eq:ode:eu1} \\tag{7},\n",
    "\\end{equation}\n",
    "$$"
   ]
  },
  {
   "cell_type": "markdown",
   "id": "c09f9bdf",
   "metadata": {
    "editable": true
   },
   "source": [
    "we introduce the short hand notation: $C(t)=C_n$, and $C(t+\\Delta t)=C_{n+1}$, hence the algorithm can be written more compact as:"
   ]
  },
  {
   "cell_type": "markdown",
   "id": "2bf2d878",
   "metadata": {
    "editable": true
   },
   "source": [
    "<!-- Equation labels as ordinary links -->\n",
    "<div id=\"eq:ode:eu2\"></div>\n",
    "\n",
    "$$\n",
    "\\begin{equation}\n",
    "C_{n+1} = \\left(1-\\frac{\\Delta t}{\\tau}\\right)C_n + \\frac{\\Delta t}{\\tau}C_{\\text{in},n}\\label{eq:ode:eu2} \\tag{8},\n",
    "\\end{equation}\n",
    "$$"
   ]
  },
  {
   "cell_type": "markdown",
   "id": "8fce4041",
   "metadata": {
    "editable": true
   },
   "source": [
    "In the script below, we have implemented equation ([8](#eq:ode:eu2))."
   ]
  },
  {
   "cell_type": "code",
   "execution_count": 2,
   "id": "02218266",
   "metadata": {
    "collapsed": false,
    "editable": true
   },
   "outputs": [],
   "source": [
    "def analytical(x):\n",
    "    return np.exp(-x)\n",
    "\n",
    "def euler_step(c_old, c_in, tau_inv,dt):\n",
    "    fact=dt*tau_inv\n",
    "    return (1-fact)*c_old+fact*c_in\n",
    "\n",
    "def ode_solv(c_into,c_init,t_final,vol,q,dt):\n",
    "    f=[];t=[]\n",
    "    tau_inv = q/vol\n",
    "    c_in    = c_into #freshwater into tank\n",
    "    c_old   = c_init #seawater present \n",
    "    ti=0.\n",
    "    while(ti <= t_final):\n",
    "        t.append(ti); f.append(c_old)\n",
    "        c_new = euler_step(c_old,c_in,tau_inv,dt)     \n",
    "        c_old = c_new\n",
    "        ti   += dt\n",
    "    return t,f"
   ]
  },
  {
   "cell_type": "markdown",
   "id": "6d803adc",
   "metadata": {
    "editable": true
   },
   "source": [
    "<!-- dom:FIGURE: [fig-ode/euler.png, width=800] The concentration in the tank for different step size $\\Delta t$. <div id=\"fig:ode:euler\"></div> -->\n",
    "<!-- begin figure -->\n",
    "<div id=\"fig:ode:euler\"></div>\n",
    "\n",
    "<img src=\"fig-ode/euler.png\" width=800><p style=\"font-size: 0.9em\"><i>Figure 2: The concentration in the tank for different step size $\\Delta t$.</i></p>\n",
    "<!-- end figure -->\n",
    "\n",
    "In [figure 2](#fig:ode:euler) the result of the implementation is shown for different values of $\\Delta t$.\n",
    "Clearly we see that the results are dependent on the step size, as the step increases the numerical solution deviates from the analytical solution. At some point the \n",
    "numerical algorithm fails completely, and produces results that have no meaning. \n",
    "\n",
    "## Error analysis - Euler's method\n",
    "There are two obvious questions:\n",
    "1. When does the algorithm produce unphysical results?  \n",
    "\n",
    "2. What is an appropriate step size? \n",
    "\n",
    "Let us consider the first question, clearly when the concentrations gets negative the solution is unphysical. From equation ([8](#eq:ode:eu2)), \n",
    "we see that when $\\Delta t/\\tau > 1$, the concentration \n",
    "become negative. For this specific case (the CSTR), there is a clear physical interpretation of this condition. Inserting $\\tau=V/q$, we can rewrite\n",
    "the condition $\\Delta t/\\tau <1$ as $q\\Delta t < V$. The volume into the tank during one time step is: $q\\Delta t$, which means that\n",
    "whenever we *flush more than one tank volume through the tank during one time step, the algorithm fails*.\n",
    "When this happens the new concentration in the tank cannot be predicted from the old one. This makes sense, because we could have switched to a\n",
    "new solution (e.g. seawater) during that time step, then the new solution does not have any relation to the old solution. \n",
    "\n",
    "The second question, \"what is an appropriate step size?\",  is a bit more difficult to answer.\n",
    "One strategy could be to simply use the results from chapter [Taylor], where we showed that the truncation error had a minimum value\n",
    "with a step size of $10^{-8}$  (when using a first order Taylor approximation).\n",
    "How does the value $10^{-8}$ relate to the step sizes in minutes used in our Euler implementation?\n",
    "In order to see the connection, we need to rewrite equation ([3](#eq:ode:cstr2)) in a dimensionless form,\n",
    "by making the following substitution:\n",
    " $t\\to t/\\tau$:"
   ]
  },
  {
   "cell_type": "markdown",
   "id": "3b5fe571",
   "metadata": {
    "editable": true
   },
   "source": [
    "<!-- Equation labels as ordinary links -->\n",
    "<div id=\"eq:ode:cstr2dim\"></div>\n",
    "\n",
    "$$\n",
    "\\begin{equation}\n",
    "\\frac{dC(\\tau)}{d\\tau} = \\left[C_\\text{in}(\\tau) - C(\\tau)\\right].\\label{eq:ode:cstr2dim} \\tag{9}\n",
    "\\end{equation}\n",
    "$$"
   ]
  },
  {
   "cell_type": "markdown",
   "id": "f4c365b8",
   "metadata": {
    "editable": true
   },
   "source": [
    "As we found earlier $\\tau = 1000$min, thus a step size of e.g. 1 min would correspond to a dimensionless time step of \n",
    "$\\Delta t\\to$1min/1000min$=10^{-3}$. This number can be directly compared to the value $10^{-8}$, which is the lowest value we can\n",
    "choose without getting into trouble with round off errors on the machine. \n",
    "**Dimensionless variables.**\n",
    "\n",
    "It is a  good idea to formulate our equations in terms of dimensionless variables.\n",
    "The algorithms we develop can then be used in the same form regardless of changes in the system size and flow rates.\n",
    "Thus we do not need to rewrite the algorithm each time the physical system changes. This also means that if you use\n",
    "an algorithm developed by someone else (e.g. in Matlab or Python), you should always formulate the ODE system in dimensionless form before using the algorithm.\n",
    "\n",
    "A second reason is that from a pure modeling point of view, dimensionless variables is a way of getting some\n",
    "understanding of what kind of combination of the physical parameters that describes the behavior of the system.\n",
    "For the case of the CSTR, there is a time scale $\\tau=V/q$, which \n",
    "is an intrinsic measure of time in the system. No matter what the flow rate through the tank or the volume of the tank is,\n",
    "it will always take  0.1$\\tau$ before\n",
    "the concentration in the tank is reduced by 90%.\n",
    "\n",
    "\n",
    "As already mentioned a step size of $10^{-8}$, is probably the smallest we can choose with respect to round off errors, \n",
    "but it is smaller than necessary and would lead to large simulation times. \n",
    "If it takes 1 second to run the simulation with a step size of $10^{-3}$, it would take $10^5$ seconds or 1 day\n",
    "with a step size of $10^{-8}$. \n",
    "To continue the error analyses, we write our ODE for a general system as:"
   ]
  },
  {
   "cell_type": "markdown",
   "id": "6a4e2a00",
   "metadata": {
    "editable": true
   },
   "source": [
    "<!-- Equation labels as ordinary links -->\n",
    "<div id=\"eq:ode:ode\"></div>\n",
    "\n",
    "$$\n",
    "\\begin{equation}\n",
    "\\frac{dy}{dt}=f(y,t),\\label{eq:ode:ode} \\tag{10}\n",
    "\\end{equation}\n",
    "$$"
   ]
  },
  {
   "cell_type": "markdown",
   "id": "f27d6997",
   "metadata": {
    "editable": true
   },
   "source": [
    "or in discrete form:"
   ]
  },
  {
   "cell_type": "markdown",
   "id": "d5ab5489",
   "metadata": {
    "editable": true
   },
   "source": [
    "$$\n",
    "\\frac{y_{n+1}-y_n}{h}-\\frac{h}{2}y^{\\prime\\prime}(\\eta_n)=f(y,t).\\nonumber\n",
    "$$"
   ]
  },
  {
   "cell_type": "markdown",
   "id": "a9db561b",
   "metadata": {
    "editable": true
   },
   "source": [
    "<!-- Equation labels as ordinary links -->\n",
    "<div id=\"_auto1\"></div>\n",
    "\n",
    "$$\n",
    "\\begin{equation}  \n",
    "y_{n+1}=y_n+hf(y,t)+\\frac{h^2}{2}y^{\\prime\\prime}(\\eta_n).\n",
    "\\label{_auto1} \\tag{11}\n",
    "\\end{equation}\n",
    "$$"
   ]
  },
  {
   "cell_type": "markdown",
   "id": "3e5358f5",
   "metadata": {
    "editable": true
   },
   "source": [
    "$h$ is now the (dimensionless) step size, equal to $\\Delta t$ if the derivative is with respect to $t$ or $\\Delta x$ if the derivative is respect to $x$ etc. Note that we\n",
    "have also included the error term related to the numerical derivative, $\\eta_n\\in[t_n,t_n+h]$. At each step we get an error term,\n",
    "and the distance between the true solution and our estimate, the *local error*, after $N$ steps is:"
   ]
  },
  {
   "cell_type": "markdown",
   "id": "66a13cef",
   "metadata": {
    "editable": true
   },
   "source": [
    "$$\n",
    "\\epsilon=\\sum_{n=0}^{N-1}\\frac{h^2}{2}y^{\\prime\\prime}(\\eta_n)=\\frac{h^2}{2}\\sum_{n=0}^{N-1}f^\\prime(y_n,\\eta_n)\\simeq\\frac{h}{2}\\int_{t_0}^{t_f}f^\\prime(y,\\eta)d\\eta\\nonumber\n",
    "$$"
   ]
  },
  {
   "cell_type": "markdown",
   "id": "b9c94a71",
   "metadata": {
    "editable": true
   },
   "source": [
    "<!-- Equation labels as ordinary links -->\n",
    "<div id=\"eq:ode:eu3\"></div>\n",
    "\n",
    "$$\n",
    "\\begin{equation}  \n",
    "=\\frac{h}{2}\\left[f(y(t_f),t_f)-f(y(t_0),t_0)\\right].\\label{eq:ode:eu3} \\tag{12}\n",
    "\\end{equation}\n",
    "$$"
   ]
  },
  {
   "cell_type": "markdown",
   "id": "9bcd6a3a",
   "metadata": {
    "editable": true
   },
   "source": [
    "Note that when we replace the sum with an integral in the equation above, this is only correct if the step size is not too large.\n",
    "From equation ([12](#eq:ode:eu3))\n",
    "we see that even if the error term on the numerical derivative is $h^2$, the local error is proportional to $h$\n",
    "(one order lower). This is because we accumulate errors for each step.\n",
    "\n",
    "In the following we specialize to the CSTR, to see if we can gain some additional insight. First we change variables in \n",
    "equation ([4](#eq:ode:cstr3)): $y=C(t)/C_0$, and $x=t/\\tau$, hence:"
   ]
  },
  {
   "cell_type": "markdown",
   "id": "b35c4eae",
   "metadata": {
    "editable": true
   },
   "source": [
    "<!-- Equation labels as ordinary links -->\n",
    "<div id=\"eq:ode:simple\"></div>\n",
    "\n",
    "$$\n",
    "\\begin{equation}\n",
    "\\frac{dy}{dx}=-y.\\label{eq:ode:simple} \\tag{13}\n",
    "\\end{equation}\n",
    "$$"
   ]
  },
  {
   "cell_type": "markdown",
   "id": "557cbcd2",
   "metadata": {
    "editable": true
   },
   "source": [
    "The solution to this equation is $y(x)=e^{-x}$, substituting back for the new variables $y$ and $x$, we reproduce the result in equation ([5](#eq:ode:sol)). \n",
    "The local error, equation ([12](#eq:ode:eu3)), reduces to:"
   ]
  },
  {
   "cell_type": "markdown",
   "id": "bf6015e1",
   "metadata": {
    "editable": true
   },
   "source": [
    "<!-- Equation labels as ordinary links -->\n",
    "<div id=\"eq:ode:eu4\"></div>\n",
    "\n",
    "$$\n",
    "\\begin{equation}\n",
    "\\epsilon=\\frac{h}{2}\\left[-y(x_f)+y(x_0)\\right]=\\frac{h}{2}\\left[1-e^{-x_f}\\right],\\label{eq:ode:eu4} \\tag{14}\n",
    "\\end{equation}\n",
    "$$"
   ]
  },
  {
   "cell_type": "markdown",
   "id": "5c3db2f3",
   "metadata": {
    "editable": true
   },
   "source": [
    "we have assumed that $x_0=t_0/\\tau=0$. This gives the estimated local error at time $x_f$. For $x_f=0$, the \n",
    "numerical error is zero, this makes sense because at $x=0$ we know the exact solution because of the initial conditions. When we move further away from the initial conditions, the\n",
    "numerical error increases, but equation ([14](#eq:ode:eu4)) ensures us that as long as the step size is low enough we can get as\n",
    "close as possible to the true solution, since the error scales as $h$ (at some point we might run into trouble with round off error in the computer).\n",
    "\n",
    "Can we prove directly that we get the analytical result? In this \n",
    "case it is fairly simple, if we use Eulers method on equation ([13](#eq:ode:simple)), we get:"
   ]
  },
  {
   "cell_type": "markdown",
   "id": "fe38c751",
   "metadata": {
    "editable": true
   },
   "source": [
    "$$\n",
    "\\frac{y_{n+1}-y_n}{h}=-y_nf.\\nonumber\n",
    "$$"
   ]
  },
  {
   "cell_type": "markdown",
   "id": "a82f35f4",
   "metadata": {
    "editable": true
   },
   "source": [
    "<!-- Equation labels as ordinary links -->\n",
    "<div id=\"_auto2\"></div>\n",
    "\n",
    "$$\n",
    "\\begin{equation}  \n",
    "y_{n+1}=(1-h)y_n,\n",
    "\\label{_auto2} \\tag{15}\n",
    "\\end{equation}\n",
    "$$"
   ]
  },
  {
   "cell_type": "markdown",
   "id": "b5bc737d",
   "metadata": {
    "editable": true
   },
   "source": [
    "or alternatively:"
   ]
  },
  {
   "cell_type": "markdown",
   "id": "8d63c54c",
   "metadata": {
    "editable": true
   },
   "source": [
    "$$\n",
    "y_1=(1-h)y_0,\\nonumber\n",
    "$$"
   ]
  },
  {
   "cell_type": "markdown",
   "id": "af2c95c3",
   "metadata": {
    "editable": true
   },
   "source": [
    "$$\n",
    "y_2=(1-h)y_1=(1-h)^2y_0,\\nonumber\n",
    "$$"
   ]
  },
  {
   "cell_type": "markdown",
   "id": "ee1800d0",
   "metadata": {
    "editable": true
   },
   "source": [
    "$$\n",
    "\\vdots\\nonumber\n",
    "$$"
   ]
  },
  {
   "cell_type": "markdown",
   "id": "bc026cae",
   "metadata": {
    "editable": true
   },
   "source": [
    "<!-- Equation labels as ordinary links -->\n",
    "<div id=\"_auto3\"></div>\n",
    "\n",
    "$$\n",
    "\\begin{equation}  \n",
    "y_{N+1}=(1-h)^{N}y_0=(1-h)^{x_f/h}y_0.\n",
    "\\label{_auto3} \\tag{16}\n",
    "\\end{equation}\n",
    "$$"
   ]
  },
  {
   "cell_type": "markdown",
   "id": "bd353e9f",
   "metadata": {
    "editable": true
   },
   "source": [
    "In the last equation, we have used the the fact the number of steps, $N$, is equal to the simulation time divided by the step size, hence: $N=x_f/h$. From calculus,\n",
    "the equation above is one of the well known limits for the exponential function: $\\lim_{x\\to\\infty}(1+k/x)^{mx}=e^{mk}$, hence:"
   ]
  },
  {
   "cell_type": "markdown",
   "id": "08e34381",
   "metadata": {
    "editable": true
   },
   "source": [
    "<!-- Equation labels as ordinary links -->\n",
    "<div id=\"_auto4\"></div>\n",
    "\n",
    "$$\n",
    "\\begin{equation}\n",
    "y_n=(1-h)^{x_f/h}y_0\\to e^{-x_f},\n",
    "\\label{_auto4} \\tag{17}\n",
    "\\end{equation}\n",
    "$$"
   ]
  },
  {
   "cell_type": "markdown",
   "id": "e050888c",
   "metadata": {
    "editable": true
   },
   "source": [
    "when $h\\to0$. Below is an implementation of the Euler algorithm in this simple case, we also estimate the local error, and global error after $N$ steps."
   ]
  },
  {
   "cell_type": "code",
   "execution_count": 3,
   "id": "8bc969ca",
   "metadata": {
    "collapsed": false,
    "editable": true
   },
   "outputs": [],
   "source": [
    "%matplotlib inline\n",
    "\n",
    "import matplotlib.pyplot as plt\n",
    "import numpy as np\n",
    "def euler(tf,h):\n",
    "    t=[];f=[]\n",
    "    ti=0.;fi=1.\n",
    "    t.append(ti);f.append(fi)\n",
    "    global_err=0.\n",
    "    while(ti<= tf):\n",
    "        ti+=h\n",
    "        fi=fi*(1-h)\n",
    "        global_err += abs(np.exp(-ti)-fi)\n",
    "        t.append(ti);f.append(fi)\n",
    "    print(\"error= \", np.exp(-ti)-fi,\" est.err=\", .5*h*(1-np.exp(-ti)))\n",
    "    print(\"global error=\",global_err)\n",
    "    return t,f\n",
    "                                        \n",
    "t,f=euler(1,1e-5)"
   ]
  },
  {
   "cell_type": "markdown",
   "id": "5c1ec118",
   "metadata": {
    "editable": true
   },
   "source": [
    "By changing the step size $h$, you can easily verify that the local error systematically increases or decreases proportional to $h$.\n",
    "Something curious happens with the global error when the \n",
    "step size is changed, it does not change very much. The global error involves a second sum over the local error for each step,\n",
    "which can be approximated as a second integration in equation ([14](#eq:ode:eu4)):"
   ]
  },
  {
   "cell_type": "markdown",
   "id": "bfe3c305",
   "metadata": {
    "editable": true
   },
   "source": [
    "<!-- Equation labels as ordinary links -->\n",
    "<div id=\"eq:ode:eu5\"></div>\n",
    "\n",
    "$$\n",
    "\\begin{equation}\n",
    "\\epsilon_\\text{global}=\\frac{1}{2}\\int_{0}^{x_f}\\left[-y(x)+y(0)\\right]dx=\\frac{1}{2}\\left[x_f+e^{-x_f}-1\\right].\\label{eq:ode:eu5} \\tag{18}\n",
    "\\end{equation}\n",
    "$$"
   ]
  },
  {
   "cell_type": "markdown",
   "id": "afcb5251",
   "metadata": {
    "editable": true
   },
   "source": [
    "Note that the global error does not go to zero when the step size decreases, which can easily be verified by changing the step size. This is strange, but can be understood\n",
    "by the following argument: when the step size decreases the local error scales as $\\sim h$, but the number of steps scales as $1/h$, so the global error must scale as $h\\times 1/h$\n",
    "or some constant value. Usually it is much easier to control the local error than the global error, this should be kept in mind if you ever encounter a problem where it is \n",
    "important control the global error. For the higher order methods that we will discuss later in this chapter, the global error will go to zero when $h$ decreases.   \n",
    "\n",
    "The answer to our original question, ''What is an appropriate step size?'', will depend on what you want to achieve in terms of local or global error.\n",
    "In most practical situations you would\n",
    "specify a local error that is acceptable for the problem under investigation and then choose a step size where the local error always is lower than this value. In the \n",
    "next subsection we will investigate how to achieve this in practice.\n",
    "\n",
    "## Adaptive step size - Euler's method\n",
    "We want to be sure that we use a step size that achieves a certain accuracy in our numerical solution, but at\n",
    "the same time that we do not waste simulation time using a too low step size. The following approach is similar to the one we derived for the Romberg integration, and\n",
    "a special case of what is known as Richardson Extrapolation. The method is easily extended to higher order methods. \n",
    "\n",
    "We know that Eulers algorithm is accurate to second order. Our estimate of the new value, $y_1^*$  \n",
    "(where we have used a$\\,{}^*$ to indicate that we have used a step size of size $h$), should then be related to the true solution $y(t_1)$ in the following way:"
   ]
  },
  {
   "cell_type": "markdown",
   "id": "eb77fbb6",
   "metadata": {
    "editable": true
   },
   "source": [
    "<!-- Equation labels as ordinary links -->\n",
    "<div id=\"eq:ode:aeb0\"></div>\n",
    "\n",
    "$$\n",
    "\\begin{equation}\n",
    "y^*_1=y(t_1)+ch^2.\\label{eq:ode:aeb0} \\tag{19}\n",
    "\\end{equation}\n",
    "$$"
   ]
  },
  {
   "cell_type": "markdown",
   "id": "0ee10476",
   "metadata": {
    "editable": true
   },
   "source": [
    "The constant $c$ is unknown, but it can be found by taking two smaller steps of size $h/2$. If the steps are not too large, our new estimate\n",
    "of the value $y_1$ will be related to the true solution as:"
   ]
  },
  {
   "cell_type": "markdown",
   "id": "3a7a184e",
   "metadata": {
    "editable": true
   },
   "source": [
    "<!-- Equation labels as ordinary links -->\n",
    "<div id=\"eq:ode:aeb1\"></div>\n",
    "\n",
    "$$\n",
    "\\begin{equation}\n",
    "y_1=y(t_1)+2c\\left(\\frac{h}{2}\\right)^2.\\label{eq:ode:aeb1} \\tag{20}\n",
    "\\end{equation}\n",
    "$$"
   ]
  },
  {
   "cell_type": "markdown",
   "id": "aef35f70",
   "metadata": {
    "editable": true
   },
   "source": [
    "The factor 2 in front of $c$ is because we now need to take two steps, and we accumulate a total error of $2c(h/2)^2=ch^2/2$. It might not be completely \n",
    "obvious that the constant $c$ should be the same in equation ([19](#eq:ode:aeb0)) and ([20](#eq:ode:aeb1)). If you are not convinced, there is an exercise at the end \n",
    "of the chapter.  \n",
    "We define:"
   ]
  },
  {
   "cell_type": "markdown",
   "id": "db5ff4f6",
   "metadata": {
    "editable": true
   },
   "source": [
    "<!-- Equation labels as ordinary links -->\n",
    "<div id=\"eq:ode:ae5\"></div>\n",
    "\n",
    "$$\n",
    "\\begin{equation}\n",
    "\\Delta\\equiv y^*_1-y_1=c\\frac{h^2}{2}.\\label{eq:ode:ae5} \\tag{21}\n",
    "\\end{equation}\n",
    "$$"
   ]
  },
  {
   "cell_type": "markdown",
   "id": "6a72f738",
   "metadata": {
    "editable": true
   },
   "source": [
    "The truncation error in equation ([20](#eq:ode:aeb1)) is:"
   ]
  },
  {
   "cell_type": "markdown",
   "id": "dd6c3c99",
   "metadata": {
    "editable": true
   },
   "source": [
    "<!-- Equation labels as ordinary links -->\n",
    "<div id=\"eq:ode:ae5b\"></div>\n",
    "\n",
    "$$\n",
    "\\begin{equation}\n",
    "\\epsilon=y(t_1)-y_1=2c\\left(\\frac{h}{2}\\right)^2=\\Delta.\\label{eq:ode:ae5b} \\tag{22}\n",
    "\\end{equation}\n",
    "$$"
   ]
  },
  {
   "cell_type": "markdown",
   "id": "482bff68",
   "metadata": {
    "editable": true
   },
   "source": [
    "Now we have everything we need: We want the local error to be smaller than some predefined\n",
    "tolerance, $\\epsilon^\\prime$, or equivalently \n",
    "that $\\epsilon\\le\\epsilon^\\prime$. \n",
    "To achieve this we need to use an optimal step size, $h^\\prime$,  that gives us exactly the desired error:"
   ]
  },
  {
   "cell_type": "markdown",
   "id": "0f09cb9f",
   "metadata": {
    "editable": true
   },
   "source": [
    "<!-- Equation labels as ordinary links -->\n",
    "<div id=\"eq:ode:ae6\"></div>\n",
    "\n",
    "$$\n",
    "\\begin{equation}\n",
    "\\epsilon^\\prime=c\\frac{{h^\\prime}^2}{2}.\\label{eq:ode:ae6} \\tag{23}\n",
    "\\end{equation}\n",
    "$$"
   ]
  },
  {
   "cell_type": "markdown",
   "id": "de8e3bab",
   "metadata": {
    "editable": true
   },
   "source": [
    "Dividing equation ([23](#eq:ode:ae6)) by equation ([22](#eq:ode:ae5b)), we can estimate the optimal step size:"
   ]
  },
  {
   "cell_type": "markdown",
   "id": "0728cfc6",
   "metadata": {
    "editable": true
   },
   "source": [
    "<!-- Equation labels as ordinary links -->\n",
    "<div id=\"eq:ode:ae7\"></div>\n",
    "\n",
    "$$\n",
    "\\begin{equation}\n",
    "h^\\prime=h\\sqrt{\\left|\\frac{\\epsilon^\\prime}{\\epsilon}\\right|},\\label{eq:ode:ae7} \\tag{24}\n",
    "\\end{equation}\n",
    "$$"
   ]
  },
  {
   "cell_type": "markdown",
   "id": "7751d709",
   "metadata": {
    "editable": true
   },
   "source": [
    "where the estimated error, $\\epsilon$, is calculated from equation ([22](#eq:ode:ae5b)).\n",
    "Equation ([24](#eq:ode:ae7)) serves two purposes, if the estimated error $\\epsilon$ is higher than the tolerance, $\\epsilon^\\prime$, we have specified it will \n",
    "give us an estimate for the step size we should choose in order to achieve a higher accuracy, if on the other hand $\\epsilon^\\prime > \\epsilon$, then we \n",
    "get an estimate for the next, larger step. Before the implementation we note, as we did for the Romberg integration, that equation ([22](#eq:ode:ae5b)) \n",
    "also gives us an estimate for the error term in equation ([20](#eq:ode:aeb1)) as an improved estimate of $y_1$. This we get for\n",
    "free and will make our Euler algorithm accurate to $h^3$, hence the improved Euler step, $\\hat{y_1}$, is to *subtract* the error\n",
    "term from our previous estimate:"
   ]
  },
  {
   "cell_type": "markdown",
   "id": "914817d7",
   "metadata": {
    "editable": true
   },
   "source": [
    "<!-- Equation labels as ordinary links -->\n",
    "<div id=\"_auto5\"></div>\n",
    "\n",
    "$$\n",
    "\\begin{equation}\n",
    "\\hat{y_1}=y_1-\\epsilon=2y_1-y_1^*.\n",
    "\\label{_auto5} \\tag{25}\n",
    "\\end{equation}\n",
    "$$"
   ]
  },
  {
   "cell_type": "markdown",
   "id": "89810515",
   "metadata": {
    "editable": true
   },
   "source": [
    "Below is an implementation of the adaptive Euler algorithm:"
   ]
  },
  {
   "cell_type": "code",
   "execution_count": 4,
   "id": "ee24b1dc",
   "metadata": {
    "collapsed": false,
    "editable": true
   },
   "outputs": [],
   "source": [
    "import matplotlib.pyplot as plt\n",
    "import numpy as np\n",
    "\n",
    "def one_step(c_old, c_in,h):\n",
    "    return (1-h)*c_old+h*c_in\n",
    "\n",
    "def adaptive_euler(c_into,c_init,t_final,tol=1e-4):\n",
    "    f=[];t=[]\n",
    "    c_in    = c_into #freshwater into tank\n",
    "    c_old   = c_init #seawater present \n",
    "    ti=0.; h_new=1e-3;\n",
    "    no_steps=0\n",
    "    global_err=0.\n",
    "    while(ti <= t_final):\n",
    "        t.append(ti); f.append(c_old)\n",
    "        toli=10.*tol; # a high init tolerance to enter while loop\n",
    "        while(toli>tol):# first two small steps\n",
    "            hi=h_new\n",
    "            k1 = one_step(c_old,c_in,hi*.5)\n",
    "            k2 = one_step(k1,c_in,hi*.5)\n",
    "            # ... and one large step\n",
    "            k3 = one_step(c_old,c_in,hi)\n",
    "            toli = abs(k3-k2)\n",
    "            h_new=hi*np.sqrt(tol/toli)\n",
    "            no_steps+=3\n",
    "        toli=1.\n",
    "        c_old=2*k2-k3 # higher order correction\n",
    " # normal Euler, uncomment and inspect the global error\n",
    " #       c_old = k2 \n",
    "        ti   += hi\n",
    "        global_err += abs(np.exp(-ti)-c_old)\n",
    "    print(\"No steps=\", no_steps, \"Global Error=\", global_err)\n",
    "    return t,f\n",
    "# rest of code is to make a figure\n",
    "c_into = 0; c_init =1; t_final=10\n",
    "t=[];f=[]\n",
    "tol=[1e-8,1e-3,1e-2,1e-1]\n",
    "for toli in tol:\n",
    "    ti,fi = adaptive_euler(c_into,c_init,t_final,toli)\n",
    "    t.append(ti);f.append(fi)\n",
    "\n",
    "f_an = np.exp(-np.array(t[0]))\n",
    "symb = ['-p','-v','-*','-s']\n",
    "fig = plt.figure(dpi=150)\n",
    "for i in range(0,len(tol)):\n",
    "    plt.plot(t[i], f[i], symb[i], label='tol='+str(tol[i]))\n",
    "plt.plot(t[0], f_an, '-', color='k',label='analytical')\n",
    "plt.legend(loc='lower left', ncol=1)\n",
    "plt.grid()\n",
    "plt.yscale('log')\n",
    "plt.xlabel(r'Time [t/$\\tau$]')\n",
    "plt.ylabel('Concentration')\n",
    "plt.savefig('../fig-ode/adaptive_euler.png', bbox_inches='tight'\n",
    "            ,transparent=True)\n",
    "plt.show()"
   ]
  },
  {
   "cell_type": "markdown",
   "id": "983def04",
   "metadata": {
    "editable": true
   },
   "source": [
    "Note that the number of steps for an accuracy of $10^{-6}$ is only about 3000. Without knowing anything about the accuracy, we would have to assume\n",
    "that we needed a step size of the order of $h$ in order to reach a local accuracy of $h$ because of equation ([12](#eq:ode:eu3)). In the current case,\n",
    "we would have needed $10^7$ steps, which would lead to unnecessary long simulation times.\n",
    "**Local error and bounds.**\n",
    "\n",
    "In the previous example we set an absolute tolerance, and required that our estimate $y_n$ always is within a certain bound\n",
    "of the true  solution $y(t_n)$, i.e. $|y(t_n)-y_n|\\le\\epsilon^\\prime$. This is a very strong demand, and sometimes it makes more \n",
    "sense to require that we also accept a relative tolerance proportional to function value. In some areas the solution might have a very large\n",
    "value, and then another possibility would be to have an $\\epsilon^\\prime$ that varied with the function value: $\\epsilon^\\prime = atol +|y|rtol$, where 'atol' is the absolute tolerance and 'rtol' is the relative tolerance. A sensible choice would be to set 'atol=rtol' (e.g. = $10^{-4}$).\n",
    "\n",
    "\n",
    "\n",
    "# Runge-Kutta methods\n",
    "<!-- dom:FIGURE: [fig-ode/rk_fig.png, width=800] Illustration of the Euler algorithm, and a motivation for using the slope a distance from the $t_n$.<div id=\"fig:ode:rk\"></div> -->\n",
    "<!-- begin figure -->\n",
    "<div id=\"fig:ode:rk\"></div>\n",
    "\n",
    "<img src=\"fig-ode/rk_fig.png\" width=800><p style=\"font-size: 0.9em\"><i>Figure 3: Illustration of the Euler algorithm, and a motivation for using the slope a distance from the $t_n$.</i></p>\n",
    "<!-- end figure -->\n",
    "\n",
    "The Euler method only have an accuracy of order $h$, and a global error that do not go to zero as the step size decrease. \n",
    "The Runge-Kutta methods may be motivated by inspecting the Euler method in [figure 3](#fig:ode:rk). The Euler method uses information from\n",
    "the previous time step to estimate the value at the new time step. The Runge Kutta methods uses the information about the slope between the\n",
    "points $t_n$ and $t_n+h$. By inspecting [figure 3](#fig:ode:rk), we clearly see that by using the slope at $t_n+h/2$ would give us a\n",
    "significant improvement. The 2. order Runge-Kutta method can be derived by Taylor expanding the solution around $t_n+h/2$, we do this by\n",
    "setting $t_n+h=t_n+h/2+h/2$:"
   ]
  },
  {
   "cell_type": "markdown",
   "id": "3cc81a46",
   "metadata": {
    "editable": true
   },
   "source": [
    "<!-- Equation labels as ordinary links -->\n",
    "<div id=\"eq:ode:rk1\"></div>\n",
    "\n",
    "$$\n",
    "\\begin{equation}\n",
    "y(t_n+h)=y(t_n+\\frac{h}{2})+\\frac{h}{2}\\left.\\frac{dy}{dt}\\right|_{t=t_n+h/2}+\\frac{h^2}{4}\\left.\\frac{d^2y}{dt^2}\\right|_{t=t_n+h/2}\n",
    "+\\mathcal{O}(h^3).\\label{eq:ode:rk1} \\tag{26}\n",
    "\\end{equation}\n",
    "$$"
   ]
  },
  {
   "cell_type": "markdown",
   "id": "ba38a8ee",
   "metadata": {
    "editable": true
   },
   "source": [
    "Similarly we can expand the solution in $y(t_n)$ about $t_n+h/2$, by setting $t_n=t_n+h/2-h/2$:"
   ]
  },
  {
   "cell_type": "markdown",
   "id": "776d993e",
   "metadata": {
    "editable": true
   },
   "source": [
    "<!-- Equation labels as ordinary links -->\n",
    "<div id=\"eq:ode:rk2\"></div>\n",
    "\n",
    "$$\n",
    "\\begin{equation}\n",
    "y(t_n)=y(t_n+\\frac{h}{2})-\\frac{h}{2}\\left.\\frac{dy}{dt}\\right|_{t=t_n+h/2}+\\frac{h^2}{4}\\left.\\frac{d^2y}{dt^2}\\right|_{t=t_n+h/2}\n",
    "-\\mathcal{O}(h^3).\\label{eq:ode:rk2} \\tag{27}\n",
    "\\end{equation}\n",
    "$$"
   ]
  },
  {
   "cell_type": "markdown",
   "id": "5c7fb30e",
   "metadata": {
    "editable": true
   },
   "source": [
    "Subtracting these two equations the term $y(t_n+\\frac{h}{2})$, and all even powers in the derivative cancels out:"
   ]
  },
  {
   "cell_type": "markdown",
   "id": "b0682245",
   "metadata": {
    "editable": true
   },
   "source": [
    "$$\n",
    "y(t_n+h)=y(t_n)+h\\left.\\frac{dy}{dt}\\right|_{t=t_n+h/2}+\\mathcal{O}(h^3),\\nonumber\n",
    "$$"
   ]
  },
  {
   "cell_type": "markdown",
   "id": "fa2c2d5c",
   "metadata": {
    "editable": true
   },
   "source": [
    "<!-- Equation labels as ordinary links -->\n",
    "<div id=\"eq:ode:rk3\"></div>\n",
    "\n",
    "$$\n",
    "\\begin{equation}  \n",
    "y(t_n+h)=y(t_n)+hf(y_{n+h/2},t_n+h/2)+\\mathcal{O}(h^3).\\label{eq:ode:rk3} \\tag{28}\n",
    "\\end{equation}\n",
    "$$"
   ]
  },
  {
   "cell_type": "markdown",
   "id": "61718a3b",
   "metadata": {
    "editable": true
   },
   "source": [
    "In the last equation, we have used equation ([10](#eq:ode:ode)). Note that we now have an expression that is very similar to Eulers algorithm,\n",
    "but it is accurate to order $h^3$. There is one problem, and that is that the function $f$ is to be evaluated at the point $y_{n+1/2}=y(t_n+h/2)$\n",
    "which we do not know. This can be fixed by using Eulers algorithm: $y_{n+1/2}=y_n+h/2f(y_n,t_n)$. We can do this even if Eulers algorithm has an error term of order $h^2$, because the $f$ in equation ([28](#eq:ode:rk3)) is multiplied by $h$, and thus our algorithm is still has an error term of order $h^3$. \n",
    "**The 2. order Runge-Kutta:**"
   ]
  },
  {
   "cell_type": "markdown",
   "id": "574ca425",
   "metadata": {
    "editable": true
   },
   "source": [
    "$$\n",
    "k_1=hf(y_n,t_n)\\nonumber\n",
    "$$"
   ]
  },
  {
   "cell_type": "markdown",
   "id": "76c87275",
   "metadata": {
    "editable": true
   },
   "source": [
    "$$\n",
    "k_2=hf(y_n+\\frac{1}{2}k_1,t_n+h/2)\\nonumber\n",
    "$$"
   ]
  },
  {
   "cell_type": "markdown",
   "id": "45517c70",
   "metadata": {
    "editable": true
   },
   "source": [
    "<!-- Equation labels as ordinary links -->\n",
    "<div id=\"eq:ode:rk4\"></div>\n",
    "\n",
    "$$\n",
    "\\begin{equation}  \n",
    "y_{n+1}=y_n+k_2\\label{eq:ode:rk4} \\tag{29}\n",
    "\\end{equation}\n",
    "$$"
   ]
  },
  {
   "cell_type": "markdown",
   "id": "78269e04",
   "metadata": {
    "editable": true
   },
   "source": [
    "Below is a Python implementation of equation ([29](#eq:ode:rk4)):"
   ]
  },
  {
   "cell_type": "code",
   "execution_count": 5,
   "id": "33ab6325",
   "metadata": {
    "collapsed": false,
    "editable": true
   },
   "outputs": [],
   "source": [
    "def fm(c_old,c_in):\n",
    "    return c_in-c_old\n",
    "\n",
    "def rk2_step(c_old, c_in, h):\n",
    "    k1=h*fm(c_old,c_in)\n",
    "    k2=h*fm(c_old+0.5*k1,c_in)\n",
    "    return c_old+k2\n",
    "\n",
    "def ode_solv(c_into,c_init,t_final,h):\n",
    "    f=[];t=[]\n",
    "    c_in  = c_into #freshwater into tank\n",
    "    c_old = c_init #seawater present \n",
    "    ti=0.\n",
    "    while(ti <= t_final):\n",
    "        t.append(ti); f.append(c_old)\n",
    "        c_new = rk2_step(c_old,c_in,h)     \n",
    "        c_old = c_new\n",
    "        ti   += h\n",
    "    return t,f"
   ]
  },
  {
   "cell_type": "markdown",
   "id": "5141ade6",
   "metadata": {
    "editable": true
   },
   "source": [
    "<!-- dom:FIGURE: [fig-ode/rk2.png, width=800] The concentration in the tank for different step size $\\Delta t$. <div id=\"fig:ode:rk2\"></div> -->\n",
    "<!-- begin figure -->\n",
    "<div id=\"fig:ode:rk2\"></div>\n",
    "\n",
    "<img src=\"fig-ode/rk2.png\" width=800><p style=\"font-size: 0.9em\"><i>Figure 4: The concentration in the tank for different step size $\\Delta t$.</i></p>\n",
    "<!-- end figure -->\n",
    "\n",
    "In [figure 4](#fig:ode:rk2) the result of the implementation is shown. \n",
    "Note that when comparing Runge-Kutta 2. order with Eulers method,\n",
    "see [figure 4](#fig:ode:rk2) and [fig:ode:euler](#fig:ode:euler),\n",
    "we of course have \n",
    "the obvious result that a larger step size can be taken, without loosing numerical accuracy. It is also worth noting that we can take steps that\n",
    "is larger than the tank volume. Eulers method failed whenever the time step was larger than one tank volume ($h=t/\\tau>1$), whereas the Runge-Kutta \n",
    "method finds a physical solution for step sizes lower than twice the tank volume. If the step size is larger, we see that the concentration in the tank\n",
    "increases, which is clearly unphysical. \n",
    "\n",
    "The Runge-Kutta fourth order method is one of he most used methods, it is accurate to order $h^4$, and has an error of order $h^5$. The development of the \n",
    "algorithm itself is similar to the 2. order method, but of course more involved. We just quote the result:\n",
    "**The 4. order Runge-Kutta:**"
   ]
  },
  {
   "cell_type": "markdown",
   "id": "a4d03617",
   "metadata": {
    "editable": true
   },
   "source": [
    "$$\n",
    "k_1=hf(y_n,t_n)\\nonumber\n",
    "$$"
   ]
  },
  {
   "cell_type": "markdown",
   "id": "0e4797d8",
   "metadata": {
    "editable": true
   },
   "source": [
    "$$\n",
    "k_2=hf(y_n+\\frac{1}{2}k_1,t_n+h/2)\\nonumber\n",
    "$$"
   ]
  },
  {
   "cell_type": "markdown",
   "id": "121c17ce",
   "metadata": {
    "editable": true
   },
   "source": [
    "$$\n",
    "k_3=hf(y_n+\\frac{1}{2}k_2,t_n+h/2)\\nonumber\n",
    "$$"
   ]
  },
  {
   "cell_type": "markdown",
   "id": "5f524f26",
   "metadata": {
    "editable": true
   },
   "source": [
    "$$\n",
    "k_4=hf(y_n+k_3,t_n+h)\\nonumber\n",
    "$$"
   ]
  },
  {
   "cell_type": "markdown",
   "id": "34134488",
   "metadata": {
    "editable": true
   },
   "source": [
    "<!-- Equation labels as ordinary links -->\n",
    "<div id=\"eq:ode:rk5\"></div>\n",
    "\n",
    "$$\n",
    "\\begin{equation}  \n",
    "y_{n+1}=y_n+\\frac{1}{6}(k_1+2k_2+2k_3+k_4)\\label{eq:ode:rk5} \\tag{30}\n",
    "\\end{equation}\n",
    "$$"
   ]
  },
  {
   "cell_type": "markdown",
   "id": "b51e8919",
   "metadata": {
    "editable": true
   },
   "source": [
    "In [figure 5](#fig:ode:rk4) the result of the Runge-Kutta fourth order is shown, by comparing it to [figure 4](#fig:ode:rk2) it is easy to see that a larger step size can be chosen.     \n",
    "<!-- Below is a Python implementation of equation ([30](#eq:ode:rk5)): -->\n",
    "<!-- @@@CODE src-ode/rk4.py  fromto: def fm@# rest -->\n",
    "<!-- dom:FIGURE: [fig-ode/rk4.png, width=800] The concentration in the tank for different step size $\\Delta t$. <div id=\"fig:ode:rk4\"></div> -->\n",
    "<!-- begin figure -->\n",
    "<div id=\"fig:ode:rk4\"></div>\n",
    "\n",
    "<img src=\"fig-ode/rk4.png\" width=800><p style=\"font-size: 0.9em\"><i>Figure 5: The concentration in the tank for different step size $\\Delta t$.</i></p>\n",
    "<!-- end figure -->\n",
    "\n",
    "<!-- % endif -->\n",
    "\n",
    "## Adaptive step size - Runge-Kutta method\n",
    "Just as we did with Eulers method, we can implement an adaptive method. The derivation is exactly the same, but this time our method is accurate to\n",
    "fourth order, hence the error term is of order $h^5$. We start by taking one large step of size $h$, our estimate, $y_1^*$ is related to the true \n",
    "solution, $y(t_1)$, in the following way:"
   ]
  },
  {
   "cell_type": "markdown",
   "id": "fd0c3d70",
   "metadata": {
    "editable": true
   },
   "source": [
    "<!-- Equation labels as ordinary links -->\n",
    "<div id=\"eq:ode:rka0\"></div>\n",
    "\n",
    "$$\n",
    "\\begin{equation}\n",
    "y^*_1=y(t_1)+ch^5,\\label{eq:ode:rka0} \\tag{31}\n",
    "\\end{equation}\n",
    "$$"
   ]
  },
  {
   "cell_type": "markdown",
   "id": "ffb3bead",
   "metadata": {
    "editable": true
   },
   "source": [
    "Next, we take two steps of half the size, $h/2$, hence:"
   ]
  },
  {
   "cell_type": "markdown",
   "id": "3231196f",
   "metadata": {
    "editable": true
   },
   "source": [
    "<!-- Equation labels as ordinary links -->\n",
    "<div id=\"eq:ode:rka1\"></div>\n",
    "\n",
    "$$\n",
    "\\begin{equation}\n",
    "y_1=y(t)+2c\\left(\\frac{h}{2}\\right)^5.\\label{eq:ode:rka1} \\tag{32}\n",
    "\\end{equation}\n",
    "$$"
   ]
  },
  {
   "cell_type": "markdown",
   "id": "0e8e7e46",
   "metadata": {
    "editable": true
   },
   "source": [
    "Subtracting equation ([31](#eq:ode:rka0)) and ([32](#eq:ode:rka1)), we find an expression similar to equation ([21](#eq:ode:ae5)):"
   ]
  },
  {
   "cell_type": "markdown",
   "id": "77b1e674",
   "metadata": {
    "editable": true
   },
   "source": [
    "<!-- Equation labels as ordinary links -->\n",
    "<div id=\"eq:ode:rka2\"></div>\n",
    "\n",
    "$$\n",
    "\\begin{equation}\n",
    "\\Delta\\equiv y_1^*-y_1=c\\frac{15}{16}h^5,\\label{eq:ode:rka2} \\tag{33}\n",
    "\\end{equation}\n",
    "$$"
   ]
  },
  {
   "cell_type": "markdown",
   "id": "49b9e897",
   "metadata": {
    "editable": true
   },
   "source": [
    "or $c=16\\Delta/(15h^5)$. For the Euler scheme, $\\Delta$ also happened to be equal to the truncation error, but in this case it is:"
   ]
  },
  {
   "cell_type": "markdown",
   "id": "464160ba",
   "metadata": {
    "editable": true
   },
   "source": [
    "<!-- Equation labels as ordinary links -->\n",
    "<div id=\"eq:ode:rka5\"></div>\n",
    "\n",
    "$$\n",
    "\\begin{equation}\n",
    "\\epsilon=2c\\left(\\frac{h}{2}\\right)^5=\\frac{\\Delta}{15}\\label{eq:ode:rka5} \\tag{34}\n",
    "\\end{equation}\n",
    "$$"
   ]
  },
  {
   "cell_type": "markdown",
   "id": "fe9c2422",
   "metadata": {
    "editable": true
   },
   "source": [
    "we want the local error, $\\epsilon$, to be smaller than some tolerance, $\\epsilon^\\prime$.  \n",
    "The optimal step size, $h^\\prime$,  that gives us exactly the desired error is then:"
   ]
  },
  {
   "cell_type": "markdown",
   "id": "b67687eb",
   "metadata": {
    "editable": true
   },
   "source": [
    "<!-- Equation labels as ordinary links -->\n",
    "<div id=\"eq:ode:rka3\"></div>\n",
    "\n",
    "$$\n",
    "\\begin{equation}\n",
    "\\epsilon^\\prime=2c\\left(\\frac{{h^\\prime}}{2}\\right)^5.\\label{eq:ode:rka3} \\tag{35}\n",
    "\\end{equation}\n",
    "$$"
   ]
  },
  {
   "cell_type": "markdown",
   "id": "fdd1019e",
   "metadata": {
    "editable": true
   },
   "source": [
    "Dividing equation ([35](#eq:ode:rka3)) by equation ([34](#eq:ode:rka5)), we can estimate the optimal step size:"
   ]
  },
  {
   "cell_type": "markdown",
   "id": "937e556e",
   "metadata": {
    "editable": true
   },
   "source": [
    "<!-- Equation labels as ordinary links -->\n",
    "<div id=\"eq:ode:rka4\"></div>\n",
    "\n",
    "$$\n",
    "\\begin{equation}\n",
    "h^\\prime=h\\left|\\frac{\\epsilon}{\\epsilon}\\right|^{1/5},\\label{eq:ode:rka4} \\tag{36}\n",
    "\\end{equation}\n",
    "$$"
   ]
  },
  {
   "cell_type": "markdown",
   "id": "c2793d0a",
   "metadata": {
    "editable": true
   },
   "source": [
    "$\\epsilon$ can be calculated from equation ([34](#eq:ode:rka5)). In [figure 6](#fig:ode:adaptive_rk4) the result of an  implementation is shown (see the exercises). \n",
    "<!-- Below is an implementation -->\n",
    "<!-- % if FORMAT == 'ipynb': -->\n",
    "<!-- Run the script below and inspect the results. -->\n",
    "<!-- @@@CODE src-ode/rk4.py -->\n",
    "<!-- % endif -->\n",
    "<!-- % if FORMAT != 'ipynb': -->\n",
    "<!-- @@@CODE src-ode/adaptive_rk4.py  fromto: def fm@# rest -->\n",
    "<!-- dom:FIGURE: [fig-ode/adaptive_rk4.png, width=800] The concentration in the tank for different step size $\\Delta t$. Number of rk4 steps are: 138, 99, 72 and 66 for the different step sizes and 'rtol=0', for 'rtol=tol' the number of rk4 steps are 81, 72, 63, 63.<div id=\"fig:ode:adaptive_rk4\"></div> -->\n",
    "<!-- begin figure -->\n",
    "<div id=\"fig:ode:adaptive_rk4\"></div>\n",
    "\n",
    "<img src=\"fig-ode/adaptive_rk4.png\" width=800><p style=\"font-size: 0.9em\"><i>Figure 6: The concentration in the tank for different step size $\\Delta t$. Number of rk4 steps are: 138, 99, 72 and 66 for the different step sizes and 'rtol=0', for 'rtol=tol' the number of rk4 steps are 81, 72, 63, 63.</i></p>\n",
    "<!-- end figure -->\n",
    "\n",
    "<!-- % endif -->\n",
    "\n",
    "In general we can use the same procedure any method accurate to order $h^p$, and you can easily verify that:\n",
    "**Error term and step size for a $h^p$ method:**"
   ]
  },
  {
   "cell_type": "markdown",
   "id": "8c7c55e2",
   "metadata": {
    "editable": true
   },
   "source": [
    "<!-- Equation labels as ordinary links -->\n",
    "<div id=\"eq:eode:1\"></div>\n",
    "\n",
    "$$\n",
    "\\begin{equation}\n",
    "|\\epsilon|=\\frac{|\\Delta|}{2^p-1}=\\frac{|y_1^*-y_1|}{2^p-1},\\label{eq:eode:1} \\tag{37}\n",
    "\\end{equation}\n",
    "$$"
   ]
  },
  {
   "cell_type": "markdown",
   "id": "6789635c",
   "metadata": {
    "editable": true
   },
   "source": [
    "<!-- Equation labels as ordinary links -->\n",
    "<div id=\"eq:eode:2\"></div>\n",
    "\n",
    "$$\n",
    "\\begin{equation}  \n",
    "h^\\prime=\\beta h\\left|\\frac{\\epsilon}{\\epsilon_0}\\right|^{\\frac{1}{p+1}},\\label{eq:eode:2} \\tag{38}\n",
    "\\end{equation}\n",
    "$$"
   ]
  },
  {
   "cell_type": "markdown",
   "id": "2b000c0a",
   "metadata": {
    "editable": true
   },
   "source": [
    "<!-- Equation labels as ordinary links -->\n",
    "<div id=\"eq:eode:3\"></div>\n",
    "\n",
    "$$\n",
    "\\begin{equation}  \n",
    "\\hat{y_1}=y_1-\\epsilon=\\frac{2^p y_1-y_1^*}{2^{p}-1}\\label{eq:eode:3} \\tag{39},\n",
    "\\end{equation}\n",
    "$$"
   ]
  },
  {
   "cell_type": "markdown",
   "id": "b219c12c",
   "metadata": {
    "editable": true
   },
   "source": [
    "where $\\beta$ is a safety factor $\\beta\\simeq0.8,0.9$, and you should always be careful that the step size do not become too large so that\n",
    "the method breaks down. This can happens when $\\epsilon$ is very low, which may happen if $y_1^*\\simeq y_1$ and/or if $y_1^*\\simeq y_1\\simeq 0$.\n",
    "\n",
    "\n",
    "\n",
    "## Conservation of mass\n",
    "A mathematical model of a physical system should always be formulated in such a way that it is\n",
    "consistent with the laws of nature. In practical situations this statement is usually equivalent to state that\n",
    "the mathematical model should respect conservation laws. The conservation laws can be conservation of mass, energy, momentum, \n",
    "electrical charge, etc. In our\n",
    "example with the mixing tank, we were able to derive an expression for the concentration of salt out of\n",
    "the tank, equation ([5](#eq:ode:sol)), by *demanding* conservation of mass (see equation ([2](#eq:ode:cstr1))).\n",
    "\n",
    "A natural question to ask is then: If our mathematical model respect conservation of mass, are we sure that our \n",
    "solution method respect conservation of mass? We of course expect that\n",
    "when the grid spacing approaches zero our numerical solution will get closer and closer to the analytical\n",
    "solution. Clearly when $\\Delta x\\to 0$, the mass is conserved. So what is the problem? The problem is that in many practical problems\n",
    "we cannot always have a step size that is small enough to ensure that our solution always is close enough to the analytical \n",
    "solution. The physical system we consider might be very complicated (e.g. a model for the earth climate), and our ODE system could\n",
    "be a very small part of a very big system. A very good test of any code is to investigate if the code respect\n",
    "the conservation laws. If we know that our implementation respect e.g. mass conservation at the discrete level, we can easily\n",
    "test mass conservation by summing up all the mass entering, and subtracting the mass out of and present in our system.\n",
    "If the mass is not conserved exactly, there is a good chance that there is a bug in our implementation.\n",
    "\n",
    "If we now turn to our system, we know that the total amount of salt in the system when we start is $C(0)V$.\n",
    "The amount entering is zero, and the amount leaving each time step is $q(t)C(t)\\Delta t$. Thus we should\n",
    "expect that if we add the amount of salt in the tank to the amount that has left the system\n",
    "we should always get an amount that is equal to the original amount. Alternatively, we expect\n",
    "$\\int_{t_0}^t qC(t)dt + C(t)V -C(0)V=0$. Adding the following code in the `while(ti <= t_final):` loop:"
   ]
  },
  {
   "cell_type": "code",
   "execution_count": 6,
   "id": "6d8a6168",
   "metadata": {
    "collapsed": false,
    "editable": true
   },
   "outputs": [],
   "source": [
    "mout += 0.5*(c_old+c_new)*q*dt\n",
    "mbal  = (c_new*vol+mout-vol*c_init)/(vol*c_init)"
   ]
  },
  {
   "cell_type": "markdown",
   "id": "5b2dc290",
   "metadata": {
    "editable": true
   },
   "source": [
    "it is possible to calculate the amount of mass lost (note that we have used the\n",
    "trapezoidal formula to calculate the integral). In the table below the fraction of mass lost relative to the original\n",
    "amount is shown for the various numerical methods.\n",
    "\n",
    "<table class=\"table\" border=\"1\">\n",
    "<thead>\n",
    "<tr><th align=\"center\">﻿$\\Delta t$</th> <th align=\"center\">$h$ </th> <th align=\"center\"> Euler </th> <th align=\"center\">RK 2. order</th> <th align=\"center\">RK 4. order</th> </tr>\n",
    "</thead>\n",
    "<tbody>\n",
    "<tr><td align=\"center\">   900            </td> <td align=\"center\">   0.9     </td> <td align=\"center\">   -0.4500    </td> <td align=\"center\">   0.3682         </td> <td align=\"center\">   0.0776         </td> </tr>\n",
    "<tr><td align=\"center\">   500            </td> <td align=\"center\">   0.5     </td> <td align=\"center\">   -0.2500    </td> <td align=\"center\">   0.0833         </td> <td align=\"center\">   0.0215         </td> </tr>\n",
    "<tr><td align=\"center\">   100            </td> <td align=\"center\">   0.1     </td> <td align=\"center\">   -0.0500    </td> <td align=\"center\">   0.0026         </td> <td align=\"center\">   0.0008         </td> </tr>\n",
    "<tr><td align=\"center\">   10             </td> <td align=\"center\">   0.01    </td> <td align=\"center\">   -0.0050    </td> <td align=\"center\">   2.5E-05        </td> <td align=\"center\">   8.3E-06        </td> </tr>\n",
    "</tbody>\n",
    "</table>\n",
    "\n",
    "We clearly see from the table that the Runge-Kutta methods performs better than Eulers method, but\n",
    "*all of the methods violates mass balance*. \n",
    "\n",
    "This might not be a surprise as we know that our numerical solution is always an approximation to the analytical solution. How can \n",
    "we then formulate an algorithm that will respect conservation laws at the discrete level? It turns out that for Eulers method it is not\n",
    "so difficult. Eulers algorithm at the discrete level (see equation ([6](#eq:ode:eu0))) is actually a two-step process: first we inject the fresh water while we remove the ``old`` fluid *and then we mix*. By thinking about the\n",
    "problem this way, it makes more sense to calculate the mass out of the tank as $\\sum_kq_kC_k\\Delta t_k$. If we in our implementation calculates the mass out of the tank as:"
   ]
  },
  {
   "cell_type": "code",
   "execution_count": 7,
   "id": "4f3e8457",
   "metadata": {
    "collapsed": false,
    "editable": true
   },
   "outputs": [],
   "source": [
    "mout += c_old*q*dt\n",
    "mbal  = (c_new*vol+mout-vol*c_init)/(vol*c_init)"
   ]
  },
  {
   "cell_type": "markdown",
   "id": "e08048a3",
   "metadata": {
    "editable": true
   },
   "source": [
    "We easily find that the mass is exactly conserved at every time for Eulers method. The concentration in the tank will of course not be any closer to the \n",
    "analytical solution, but if our mixing tank was part of a much bigger system we could make sure that the mass would always be conserved if we make\n",
    "sure that the mass out of the tank and into the next part of the system was equal to $qC(t)\\Delta t$. \n",
    "\n",
    "# Solving a set of ODE equations\n",
    "What happens if we have more than one equation that needs to be solved? If we continue with our current example, we might be interested in what would happen \n",
    "if we had multiple tanks in series. This could be a very simple model to describe the cleaning  of a salty lake by injecting fresh water into it, but at \n",
    "the same time this lake was connected to two nearby fresh water lakes, as illustrated in [figure 7](#fig:ode:cstr3). The weakest part of the model is the assumption about \n",
    "complete mixing, in a practical situation we could enforce complete mixing with the salty water in the first tank by injecting fresh water at multiple point in the \n",
    "lake. For the two next lakes, the degree of mixing is not obvious, but salt water is heavier than fresh water and therefore it would sink and mix with the fresh water. Thus\n",
    "if the flow rate was slow, one might imaging that a more or less complete mixing could occur. Our model then could answer questions like, how long time would it take before most\n",
    "of the salt water is removed from the first lake, and how much time would it take before most of the salt water was cleared from the whole system? The answer to \n",
    "these questions would give practical input on how much and how fast one should inject the fresh water to clean up the system. If we had \n",
    "data from an actual system, we could compare our model predictions with data from the physical system, and investigate if our model description was correct. \n",
    "\n",
    "<!-- dom:FIGURE: [fig-ode/cstr3.png, width=800] A simple model for cleaning a salty lake that is connected to two lakes down stream. <div id=\"fig:ode:cstr3\"></div> -->\n",
    "<!-- begin figure -->\n",
    "<div id=\"fig:ode:cstr3\"></div>\n",
    "\n",
    "<img src=\"fig-ode/cstr3.png\" width=800><p style=\"font-size: 0.9em\"><i>Figure 7: A simple model for cleaning a salty lake that is connected to two lakes down stream.</i></p>\n",
    "<!-- end figure -->\n",
    "\n",
    "For simplicity we will assume that all the lakes have the same volume, $V$. The governing equations follows\n",
    "as before, by assuming mass balance (equation ([1](#eq:ode:mbal))):"
   ]
  },
  {
   "cell_type": "markdown",
   "id": "25dc6d6e",
   "metadata": {
    "editable": true
   },
   "source": [
    "$$\n",
    "C_0(t+\\Delta t)\\cdot V - C_0(t)\\cdot V = q(t)\\cdot C_\\text{in}(t)\\cdot \\Delta t - q(t)\\cdot C_0(t)\\cdot \\Delta t,\\nonumber\n",
    "$$"
   ]
  },
  {
   "cell_type": "markdown",
   "id": "feafbbc9",
   "metadata": {
    "editable": true
   },
   "source": [
    "$$\n",
    "C_1(t+\\Delta t)\\cdot V - C_1(t)\\cdot V = q(t)\\cdot C_0(t)\\cdot \\Delta t - q(t)\\cdot C_1(t)\\cdot \\Delta t,\\nonumber\n",
    "$$"
   ]
  },
  {
   "cell_type": "markdown",
   "id": "4292dee7",
   "metadata": {
    "editable": true
   },
   "source": [
    "<!-- Equation labels as ordinary links -->\n",
    "<div id=\"eq:ode:cstr3a\"></div>\n",
    "\n",
    "$$\n",
    "\\begin{equation}  \n",
    "C_2(t+\\Delta t)\\cdot V - C_2(t)\\cdot V = q(t)\\cdot C_1(t)\\cdot \\Delta t - q(t)\\cdot C_2(t)\\cdot \\Delta t.\\label{eq:ode:cstr3a} \\tag{40}\n",
    "\\end{equation}\n",
    "$$"
   ]
  },
  {
   "cell_type": "markdown",
   "id": "614314b4",
   "metadata": {
    "editable": true
   },
   "source": [
    "Taking the limit $\\Delta t\\to 0$, we can write equation ([40](#eq:ode:cstr3a)) as:"
   ]
  },
  {
   "cell_type": "markdown",
   "id": "4dbc01b7",
   "metadata": {
    "editable": true
   },
   "source": [
    "<!-- Equation labels as ordinary links -->\n",
    "<div id=\"eq:ode:cstr3b\"></div>\n",
    "\n",
    "$$\n",
    "\\begin{equation}\n",
    "V\\frac{dC_0(t)}{dt} = q(t)\\left[C_\\text{in}(t) - C_0(t)\\right],\\label{eq:ode:cstr3b} \\tag{41}\n",
    "\\end{equation}\n",
    "$$"
   ]
  },
  {
   "cell_type": "markdown",
   "id": "2487d303",
   "metadata": {
    "editable": true
   },
   "source": [
    "<!-- Equation labels as ordinary links -->\n",
    "<div id=\"eq:ode:cstr3c\"></div>\n",
    "\n",
    "$$\n",
    "\\begin{equation}  \n",
    "V\\frac{dC_1(t)}{dt} = q(t)\\left[C_0(t) - C_1(t)\\right],\\label{eq:ode:cstr3c} \\tag{42}\n",
    "\\end{equation}\n",
    "$$"
   ]
  },
  {
   "cell_type": "markdown",
   "id": "065f1314",
   "metadata": {
    "editable": true
   },
   "source": [
    "<!-- Equation labels as ordinary links -->\n",
    "<div id=\"eq:ode:cstr3d\"></div>\n",
    "\n",
    "$$\n",
    "\\begin{equation}  \n",
    "V\\frac{dC_2(t)}{dt} = q(t)\\left[C_1(t) - C_2(t)\\right].\\label{eq:ode:cstr3d} \\tag{43}\n",
    "\\end{equation}\n",
    "$$"
   ]
  },
  {
   "cell_type": "markdown",
   "id": "90b9f617",
   "metadata": {
    "editable": true
   },
   "source": [
    "Let us first derive the analytical solution: Only the first tank is filled with salt water $C_0(0)=C_{0,0}$, $C_1(0)=C_2(0)=0$, and $C_\\text{in}=0$. \n",
    "The solution to equation ([41](#eq:ode:cstr3b)) is, as before $C_0(t)=C_{0,0}e^{-t/\\tau}$, inserting this equation into equation ([42](#eq:ode:cstr3c)) we find:"
   ]
  },
  {
   "cell_type": "markdown",
   "id": "c63bda2a",
   "metadata": {
    "editable": true
   },
   "source": [
    "<!-- Equation labels as ordinary links -->\n",
    "<div id=\"eq:ode:cstr3e\"></div>\n",
    "\n",
    "$$\n",
    "\\begin{equation}\n",
    "V\\frac{dC_1(t)}{dt} = q(t)\\left[C_{0,0}e^{-t/\\tau} - C_1(t)\\right]\\label{eq:ode:cstr3e} \\tag{44},\n",
    "\\end{equation}\n",
    "$$"
   ]
  },
  {
   "cell_type": "markdown",
   "id": "85bcf83a",
   "metadata": {
    "editable": true
   },
   "source": [
    "<!-- Equation labels as ordinary links -->\n",
    "<div id=\"eq:ode:cstr3f\"></div>\n",
    "\n",
    "$$\n",
    "\\begin{equation}  \n",
    "\\frac{d}{dt}\\left[e^{t/\\tau}C_1\\right]= \\frac{C_{0,0}}{\\tau}\\label{eq:ode:cstr3f} \\tag{45},\n",
    "\\end{equation}\n",
    "$$"
   ]
  },
  {
   "cell_type": "markdown",
   "id": "7bb48836",
   "metadata": {
    "editable": true
   },
   "source": [
    "<!-- Equation labels as ordinary links -->\n",
    "<div id=\"eq:ode:cstr3g\"></div>\n",
    "\n",
    "$$\n",
    "\\begin{equation}  \n",
    "C_1(t)=\\frac{C_{0,0}t}{\\tau}e^{-t/\\tau}\\label{eq:ode:cstr3g} \\tag{46}.\n",
    "\\end{equation}\n",
    "$$"
   ]
  },
  {
   "cell_type": "markdown",
   "id": "079a03fe",
   "metadata": {
    "editable": true
   },
   "source": [
    "where we have use the technique of [integrating factors](https://en.wikipedia.org/wiki/Integrating_factor) when going from equation ([44](#eq:ode:cstr3e)) to ([45](#eq:ode:cstr3f)). \n",
    "Inserting equation ([46](#eq:ode:cstr3g)) into equation ([43](#eq:ode:cstr3d)), solving the equation in a similar way as for $C_1$ we find:"
   ]
  },
  {
   "cell_type": "markdown",
   "id": "4633777e",
   "metadata": {
    "editable": true
   },
   "source": [
    "<!-- Equation labels as ordinary links -->\n",
    "<div id=\"eq:ode:cstr3h\"></div>\n",
    "\n",
    "$$\n",
    "\\begin{equation}\n",
    "V\\frac{dC_2(t)}{dt} = q(t)\\left[\\frac{C_{0,0}t}{\\tau}e^{-t/\\tau} - C_2(t)\\right],\\label{eq:ode:cstr3h} \\tag{47}\n",
    "\\end{equation}\n",
    "$$"
   ]
  },
  {
   "cell_type": "markdown",
   "id": "de4cbfe8",
   "metadata": {
    "editable": true
   },
   "source": [
    "<!-- Equation labels as ordinary links -->\n",
    "<div id=\"eq:ode:cstr3i\"></div>\n",
    "\n",
    "$$\n",
    "\\begin{equation}  \n",
    "\\frac{d}{dt}\\left[e^{t/\\tau}C_2\\right]= \\frac{C_{0,0}t}{\\tau},\\label{eq:ode:cstr3i} \\tag{48}\n",
    "\\end{equation}\n",
    "$$"
   ]
  },
  {
   "cell_type": "markdown",
   "id": "bfd96520",
   "metadata": {
    "editable": true
   },
   "source": [
    "<!-- Equation labels as ordinary links -->\n",
    "<div id=\"eq:ode:cstr3j\"></div>\n",
    "\n",
    "$$\n",
    "\\begin{equation}  \n",
    "C_2(t)=\\frac{C_{0,0}t^2}{2\\tau^2}e^{-t/\\tau}.\\label{eq:ode:cstr3j} \\tag{49}\n",
    "\\end{equation}\n",
    "$$"
   ]
  },
  {
   "cell_type": "markdown",
   "id": "527a1a49",
   "metadata": {
    "editable": true
   },
   "source": [
    "The numerical solution follows the exact same pattern as before if we introduce a vector notation. Before doing that, we rescale the time $t\\to t/\\tau$ and the concentrations,\n",
    " $\\hat{C_i}=C_i/C_{0,0}$ for $i=0,1,2$, hence:"
   ]
  },
  {
   "cell_type": "markdown",
   "id": "56cf9cb8",
   "metadata": {
    "editable": true
   },
   "source": [
    "$$\n",
    "\\frac{d}{dt}\n",
    "\\left(\n",
    "\\begin{array}{c} \n",
    " \\hat{C_0}(t)\\\\ \n",
    " \\hat{C_1}(t)\\\\ \n",
    " \\hat{C_2}(t)\n",
    " \\end{array}\n",
    " \\right)\n",
    "=\\left(\n",
    "\\begin{array}{c} \n",
    " \\hat{C_\\text{in}}(t) - \\hat{C_0}(t)\\\\ \n",
    " \\hat{C_0}(t) - \\hat{C_1}(t)\\\\ \n",
    " \\hat{C_1}(t) - \\hat{C_2}(t)\n",
    " \\end{array}\n",
    " \\right),\\nonumber\n",
    "$$"
   ]
  },
  {
   "cell_type": "markdown",
   "id": "4afd9db9",
   "metadata": {
    "editable": true
   },
   "source": [
    "<!-- Equation labels as ordinary links -->\n",
    "<div id=\"_auto6\"></div>\n",
    "\n",
    "$$\n",
    "\\begin{equation}  \n",
    " \\frac{d\\mathbf{\\hat{C}}(t)}{dt}=\\mathbf{f}(\\mathbf{\\hat{C}},t).\n",
    "\\label{_auto6} \\tag{50}\n",
    "\\end{equation}\n",
    "$$"
   ]
  },
  {
   "cell_type": "markdown",
   "id": "a82c173a",
   "metadata": {
    "editable": true
   },
   "source": [
    "In [figure 8](#fig:ode:rk4_2) results of an implementation using Runge-Kutta 4. order is shown (see exercises for more details).\n",
    "<!-- Below is an implementation using the Runge Kutta 4. order method: -->\n",
    "<!-- % if FORMAT == 'ipynb': -->\n",
    "<!-- Run the script below and inspect the results. -->\n",
    "<!-- @@@CODE src-ode/rk4_2.py -->\n",
    "<!-- % endif -->\n",
    "<!-- % if FORMAT != 'ipynb': -->\n",
    "<!-- @@@CODE src-ode/rk4_2.py  fromto: def fm@# rest -->\n",
    "<!-- dom:FIGURE: [fig-ode/rk4_2.png, width=800] The concentration in the tanks. <div id=\"fig:ode:rk4_2\"></div> -->\n",
    "<!-- begin figure -->\n",
    "<div id=\"fig:ode:rk4_2\"></div>\n",
    "\n",
    "<img src=\"fig-ode/rk4_2.png\" width=800><p style=\"font-size: 0.9em\"><i>Figure 8: The concentration in the tanks.</i></p>\n",
    "<!-- end figure -->\n",
    "\n",
    "<!-- % endif -->\n",
    "\n",
    "# Stiff sets of ODE  and implicit methods\n",
    "As already mentioned a couple of times, our system could be part of a much larger system. To illustrate this, let us now assume that we have two \n",
    "tanks in series. The first tank is similar to our original tank, but the second tank is a sampling tank, 1000 times smaller.   \n",
    "\n",
    "<!-- dom:FIGURE: [fig-ode/cstr2.png, width=800] A continuous stirred tank model with a sampling vessel. <div id=\"fig:ode:cstr2\"></div> -->\n",
    "<!-- begin figure -->\n",
    "<div id=\"fig:ode:cstr2\"></div>\n",
    "\n",
    "<img src=\"fig-ode/cstr2.png\" width=800><p style=\"font-size: 0.9em\"><i>Figure 9: A continuous stirred tank model with a sampling vessel.</i></p>\n",
    "<!-- end figure -->\n",
    "\n",
    "The governing equations can be found by requiring mass balance for each of the tanks (see equation ([1](#eq:ode:mbal)):"
   ]
  },
  {
   "cell_type": "markdown",
   "id": "bee6d86c",
   "metadata": {
    "editable": true
   },
   "source": [
    "$$\n",
    "C_0(t+\\Delta t)\\cdot V_0 - C_0(t)\\cdot V_0 = q(t)\\cdot C_\\text{in}(t)\\cdot \\Delta t - q(t)\\cdot C_0(t)\\cdot \\Delta t.\\nonumber\n",
    "$$"
   ]
  },
  {
   "cell_type": "markdown",
   "id": "bc55c9a9",
   "metadata": {
    "editable": true
   },
   "source": [
    "<!-- Equation labels as ordinary links -->\n",
    "<div id=\"eq:ode:cstr2a\"></div>\n",
    "\n",
    "$$\n",
    "\\begin{equation}  \n",
    "C_1(t+\\Delta t)\\cdot V_1 - C_1(t)\\cdot V_1 = q(t)\\cdot C_0(t)\\cdot \\Delta t - q(t)\\cdot C_1(t)\\cdot \\Delta t.\n",
    "\\label{eq:ode:cstr2a} \\tag{51}\n",
    "\\end{equation}\n",
    "$$"
   ]
  },
  {
   "cell_type": "markdown",
   "id": "197c81c0",
   "metadata": {
    "editable": true
   },
   "source": [
    "Taking the limit $\\Delta t\\to 0$, we can write equation ([51](#eq:ode:cstr2a)) as:"
   ]
  },
  {
   "cell_type": "markdown",
   "id": "c930fe77",
   "metadata": {
    "editable": true
   },
   "source": [
    "<!-- Equation labels as ordinary links -->\n",
    "<div id=\"eq:ode:cstr2bb\"></div>\n",
    "\n",
    "$$\n",
    "\\begin{equation}\n",
    "V_0\\frac{dC_0(t)}{dt} = q(t)\\left[C_\\text{in}(t) - C_0(t)\\right].\\label{eq:ode:cstr2bb} \\tag{52}\n",
    "\\end{equation}\n",
    "$$"
   ]
  },
  {
   "cell_type": "markdown",
   "id": "298b55f4",
   "metadata": {
    "editable": true
   },
   "source": [
    "<!-- Equation labels as ordinary links -->\n",
    "<div id=\"eq:ode:cstr2b\"></div>\n",
    "\n",
    "$$\n",
    "\\begin{equation}  \n",
    "V_1\\frac{dC_1(t)}{dt} = q(t)\\left[C_0(t) - C_1(t)\\right].\\label{eq:ode:cstr2b} \\tag{53}\n",
    "\\end{equation}\n",
    "$$"
   ]
  },
  {
   "cell_type": "markdown",
   "id": "4c2b8a02",
   "metadata": {
    "editable": true
   },
   "source": [
    "Assume that the first tank is filled with seawater, $C_0(0)=C_{0,0}$, and fresh water is flooded into the tank, i.e. $C_\\text{in}=0$. Before we start to consider a numerical\n",
    "solution, let us first find the analytical solution: As before the solution for the first tank (equation ([52](#eq:ode:cstr2bb))) is:"
   ]
  },
  {
   "cell_type": "markdown",
   "id": "d169e2df",
   "metadata": {
    "editable": true
   },
   "source": [
    "<!-- Equation labels as ordinary links -->\n",
    "<div id=\"_auto7\"></div>\n",
    "\n",
    "$$\n",
    "\\begin{equation}\n",
    "C_0(t)=C_{0,0}e^{-t/\\tau_0},\n",
    "\\label{_auto7} \\tag{54}\n",
    "\\end{equation}\n",
    "$$"
   ]
  },
  {
   "cell_type": "markdown",
   "id": "2760332f",
   "metadata": {
    "editable": true
   },
   "source": [
    "where $\\tau_0\\equiv V_0/q$. Inserting this equation into equation ([53](#eq:ode:cstr2b)), we get:"
   ]
  },
  {
   "cell_type": "markdown",
   "id": "15ef3521",
   "metadata": {
    "editable": true
   },
   "source": [
    "$$\n",
    "\\frac{dC_1(t)}{dt} = \\frac{1}{\\tau_1}\\left[C_{0,0}e^{-t/\\tau_0} - C_1(t)\\right],\\nonumber\n",
    "$$"
   ]
  },
  {
   "cell_type": "markdown",
   "id": "8537b15e",
   "metadata": {
    "editable": true
   },
   "source": [
    "<!-- Equation labels as ordinary links -->\n",
    "<div id=\"eq:ode:cstr2c\"></div>\n",
    "\n",
    "$$\n",
    "\\begin{equation}  \n",
    "\\frac{d}{dt}\\left[e^{t/\\tau_2}C_1\\right]= \\frac{C_{0,0}}{\\tau_1}e^{-t(1/\\tau_0-1/\\tau_1)}\\label{eq:ode:cstr2c} \\tag{55},\n",
    "\\end{equation}\n",
    "$$"
   ]
  },
  {
   "cell_type": "markdown",
   "id": "8b4c31b3",
   "metadata": {
    "editable": true
   },
   "source": [
    "<!-- Equation labels as ordinary links -->\n",
    "<div id=\"eq:ode:cstr2d\"></div>\n",
    "\n",
    "$$\n",
    "\\begin{equation}  \n",
    "C_1(t)=\\frac{C_{0,0}}{1-\\frac{\\tau_1}{\\tau_0}}\\left[e^{-t/\\tau_0}-e^{-t/\\tau_1}\\right],\\label{eq:ode:cstr2d} \\tag{56}\n",
    "\\end{equation}\n",
    "$$"
   ]
  },
  {
   "cell_type": "markdown",
   "id": "4461a5d2",
   "metadata": {
    "editable": true
   },
   "source": [
    "where $\\tau_1\\equiv V_1/q$.\n",
    "\n",
    "Next, we will consider the numerical solution. You might think that these equations are more simple to solve numerically than the equations with three tanks\n",
    "in series discussed in the previous section. Actually, this system is much harder to solve with the methods we have discussed so far.\n",
    "The reason is that there are now *two time scales* in the system, $\\tau_1$ and $\\tau_2$. The smaller tank sets a strong limitation on the step size\n",
    "we can use, because we should never use step sizes larger than a tank volume. Thus if you use the code in the previous section to solve equation\n",
    "([52](#eq:ode:cstr2bb)) and ([53](#eq:ode:cstr2b)), it will not find the correct solution, unless the step size is lower than $10^{-3}$. Equations of this type\n",
    "are known as *stiff*. \n",
    "**Stiff equations.**\n",
    "\n",
    "There is no precise definition of ''stiff'', but it is used to describe a system of differential equations, where the numerical solution becomes unstable unless\n",
    "a very small step size is chosen. Such systems occurs because there are several (length, time) scales in the system, and the numerical solution is constrained\n",
    "by the shortest length scale. You should always be careful on how you scale your variables in order to make the system dimensionless, which is of \n",
    "particular importance when you use adaptive methods.\n",
    "\n",
    "\n",
    "\n",
    "These types of equations are often encountered in practical applications. If our sampling tank was extremely small, maybe $10^6$ smaller than the chemical\n",
    "reactor, then we would need a step size of the order of $10^{-8}$ or lower to solve the system. This step size is so low that we easily run into trouble\n",
    "with round off errors in the computer. In addition the simulation time is extremely long.  How do we deal with this problem? The solution is actually\n",
    "quite simple. The reason we run into trouble is that we require that the concentration leaving the tank must be a small perturbation of the old one.\n",
    "This is not necessary, and it is best illustrated with Eulers method. As explained earlier Eulers method can be viewed as a two step process:\n",
    "first we inject a volume (and remove an equal amount: $qC(t)\\Delta t$), and then we mix. Clearly when we try to remove more than what is left, we run into\n",
    "trouble. What we want to do is to remove or flood much more than one tank volume through the tank during one time step, this can be achieved by\n",
    "$q(t)C(t)\\Delta t\\to q(t+\\Delta t)C(t+\\Delta t)\\Delta t$. The term $q(t+\\Delta t)C(t+\\Delta t)\\Delta t$ now represents\n",
    "*the mass out of the system during the time step $\\Delta t$*.\n",
    "\n",
    "The methods we have considered so far are known as *explicit*, whenever we replace the solution in the right hand side of our algorithm with $y(t+\\Delta t)$\n",
    "or ($y_{n+1}$),\n",
    "the method is known as *implicit*. Implicit methods are always stable, meaning that we can take as large a time step that we would like, without\n",
    "getting oscillating solution. It does not mean that we will get a more accurate solution, actually explicit methods are usually more accurate.\n",
    "\n",
    "**Explicit and Implicit methods.**\n",
    "\n",
    "Explicit methods are often called *forward* methods, as they use only information from the previous step to estimate the next value. The explicit\n",
    "methods are easy to implement, but get into trouble if the step size is too large. Implicit methods are often called *backward* methods as the next \n",
    "step cannot be calculated directly from the previous solution, usually a non-linear equation has to be solved. Implicit methods are generally much\n",
    "more stable, but the price is often lower accuracy. Many commercial simulators uses implicit methods extensively because they are stable, and stability is often viewed\n",
    "as a much more important criterion than numerical accuracy.\n",
    "\n",
    "\n",
    "Let us consider our example further, and for simplicity use the implicit Eulers method:"
   ]
  },
  {
   "cell_type": "markdown",
   "id": "3ff8f0f4",
   "metadata": {
    "editable": true
   },
   "source": [
    "$$\n",
    "{C_0}_{n+1}V_0 - {C_0}_nV_0 = q(t+\\Delta t){C_\\text{in}}_{n+1}\\Delta t -\n",
    "q(t+\\Delta t){C_0}_{n+1}\\Delta t.\\nonumber\n",
    "$$"
   ]
  },
  {
   "cell_type": "markdown",
   "id": "663c951d",
   "metadata": {
    "editable": true
   },
   "source": [
    "<!-- Equation labels as ordinary links -->\n",
    "<div id=\"eq:ode:cstr2ai\"></div>\n",
    "\n",
    "$$\n",
    "\\begin{equation}  \n",
    "{C_1}_{n+1}V_1 - {C_1}_nV_1 = q(t+\\Delta t){C_0}_{n+1}\\Delta t - q(t+\\Delta t){C_1}_{n+1}\\Delta t.\n",
    "\\label{eq:ode:cstr2ai} \\tag{57}\n",
    "\\end{equation}\n",
    "$$"
   ]
  },
  {
   "cell_type": "markdown",
   "id": "05b6eb58",
   "metadata": {
    "editable": true
   },
   "source": [
    "This equation is equal to equation ([51](#eq:ode:cstr2a)), but the concentrations on the right hand side are now evaluated at the next time step.\n",
    "The immediate problem is now that we have to find an expression for $C_{n+1}$ that is given in terms of known variables. In most cases one needs\n",
    "to use a root finding method, like Newtons method, in order to solve equation ([57](#eq:ode:cstr2ai)). In this case it is straight forward to show:"
   ]
  },
  {
   "cell_type": "markdown",
   "id": "2ed317d5",
   "metadata": {
    "editable": true
   },
   "source": [
    "$$\n",
    "{C_0}_{n+1}=\\frac{{C_0}_n + \\frac{\\Delta t}{\\tau_0}{C_\\text{in}}_{n+1}}{1+\\frac{\\Delta t}{\\tau_0}},\\nonumber\n",
    "$$"
   ]
  },
  {
   "cell_type": "markdown",
   "id": "49def3eb",
   "metadata": {
    "editable": true
   },
   "source": [
    "<!-- Equation labels as ordinary links -->\n",
    "<div id=\"eq:ode:cstri1\"></div>\n",
    "\n",
    "$$\n",
    "\\begin{equation}  \n",
    "{C_2}_{n+1}=\\frac{{C_1}_n + \\frac{\\Delta t}{\\tau_1}{C_0}_{n+1}}{1+\\frac{\\Delta t}{\\tau_1}}.\\label{eq:ode:cstri1} \\tag{58}\n",
    "\\end{equation}\n",
    "$$"
   ]
  },
  {
   "cell_type": "markdown",
   "id": "dc6f1998",
   "metadata": {
    "editable": true
   },
   "source": [
    "In [figure 10](#fig:ode:euler_imp) the result of the implementation is shown, note that quite large step sizes can be used without inducing non physical results.\n",
    "<!-- Below is an implementation -->\n",
    "<!-- % if FORMAT == 'ipynb': -->\n",
    "<!-- Run the script below and inspect the results. -->\n",
    "<!-- @@@CODE src-ode/euler_imp_2.py -->\n",
    "<!-- % endif -->\n",
    "<!-- % if FORMAT != 'ipynb': -->\n",
    "<!-- @@@CODE src-ode/euler_imp_2.py  fromto: def fm@# rest -->\n",
    "<!-- dom:FIGURE: [fig-ode/euler_imp.png, width=800] The concentration in the tanks for $h=0.01$.<div id=\"fig:ode:euler_imp\"></div> -->\n",
    "<!-- begin figure -->\n",
    "<div id=\"fig:ode:euler_imp\"></div>\n",
    "\n",
    "<img src=\"fig-ode/euler_imp.png\" width=800><p style=\"font-size: 0.9em\"><i>Figure 10: The concentration in the tanks for $h=0.01$.</i></p>\n",
    "<!-- end figure -->\n",
    "\n",
    "<!-- % endif -->\n",
    "\n",
    "<!-- --- begin exercise --- -->\n",
    "\n",
    "## Exercise 1: Truncation error in Euler's method\n",
    "\n",
    "In the following we will take a closer look at the adaptive Eulers algorithm and show that the \n",
    "constant $c$ is indeed the same in equation ([19](#eq:ode:aeb0)) and ([20](#eq:ode:aeb1)). \n",
    "The true solution $y(t)$, obeys the following equation:"
   ]
  },
  {
   "cell_type": "markdown",
   "id": "9442dce7",
   "metadata": {
    "editable": true
   },
   "source": [
    "<!-- Equation labels as ordinary links -->\n",
    "<div id=\"eq:ode:ay\"></div>\n",
    "\n",
    "$$\n",
    "\\begin{equation}\n",
    "\\frac{dy}{dt}=f(y,t),\\label{eq:ode:ay} \\tag{59}\n",
    "\\end{equation}\n",
    "$$"
   ]
  },
  {
   "cell_type": "markdown",
   "id": "37f7f7c6",
   "metadata": {
    "editable": true
   },
   "source": [
    "and Eulers method to get from $y_0$ to $y_1$ by taking one (large) step, $h$ is:"
   ]
  },
  {
   "cell_type": "markdown",
   "id": "048d0707",
   "metadata": {
    "editable": true
   },
   "source": [
    "<!-- Equation labels as ordinary links -->\n",
    "<div id=\"eq:ode:ae0\"></div>\n",
    "\n",
    "$$\n",
    "\\begin{equation}\n",
    "y^*_1=y_0+hf(y_0,t_0),\\label{eq:ode:ae0} \\tag{60}\n",
    "\\end{equation}\n",
    "$$"
   ]
  },
  {
   "cell_type": "markdown",
   "id": "05234b9b",
   "metadata": {
    "editable": true
   },
   "source": [
    "We will also assume (for simplicity) that in our starting point $t=t_0$, the numerical solution, $y_0$, is equal to the true solution, $y(t_0)$, hence $y(t_0)=y_0$.\n",
    "\n",
    "<!-- --- begin solution of exercise --- -->\n",
    "**Solution.**\n",
    "The local error, is the difference between the numerical solution and the true solution:"
   ]
  },
  {
   "cell_type": "markdown",
   "id": "546b2925",
   "metadata": {
    "editable": true
   },
   "source": [
    "$$\n",
    "\\epsilon^*=y(t_0+h)-y_{1}^*=y(t_0)+y^{\\prime}(t_0)h+\\frac{1}{2}y^{\\prime\\prime}(t_0)h^2+\\mathcal{O}(h^3)\\nonumber\n",
    "$$"
   ]
  },
  {
   "cell_type": "markdown",
   "id": "a733e78c",
   "metadata": {
    "editable": true
   },
   "source": [
    "<!-- Equation labels as ordinary links -->\n",
    "<div id=\"_auto11\"></div>\n",
    "\n",
    "$$\n",
    "\\begin{equation}  \n",
    "-\\left[y_0+hf(y_0,t_0+h)\\right],\n",
    "\\label{_auto11} \\tag{72}\n",
    "\\end{equation}\n",
    "$$"
   ]
  },
  {
   "cell_type": "markdown",
   "id": "69c8a19b",
   "metadata": {
    "editable": true
   },
   "source": [
    "where we have used Taylor expansion to expand the true solution around $t_0$, and equation ([60](#eq:ode:ae0)).\n",
    "Using equation ([59](#eq:ode:ay)) to replace $y^\\prime(t_0)$ with $f(y_0,t_0)$, we find:"
   ]
  },
  {
   "cell_type": "markdown",
   "id": "4706e8ed",
   "metadata": {
    "editable": true
   },
   "source": [
    "<!-- Equation labels as ordinary links -->\n",
    "<div id=\"_auto12\"></div>\n",
    "\n",
    "$$\n",
    "\\begin{equation}\n",
    "\\epsilon^*=y(t_0+h)-y_{1}^*=\\frac{1}{2}y^{\\prime\\prime}(t_0)h^2\\equiv ch^2,\n",
    "\\label{_auto12} \\tag{73}\n",
    "\\end{equation}\n",
    "$$"
   ]
  },
  {
   "cell_type": "markdown",
   "id": "d80810b9",
   "metadata": {
    "editable": true
   },
   "source": [
    "where we have ignored terms of higher order than $h^2$, and defined $c$ as $c=y^{\\prime\\prime}(t_0)/2$. Next we take two steps of size $h/2$ to\n",
    "reach $y_1$:"
   ]
  },
  {
   "cell_type": "markdown",
   "id": "365ec2a4",
   "metadata": {
    "editable": true
   },
   "source": [
    "<!-- Equation labels as ordinary links -->\n",
    "<div id=\"eq:ode:ae1\"></div>\n",
    "\n",
    "$$\n",
    "\\begin{equation}\n",
    "y_{1/2}=y_0+\\frac{h}{2}f(y_0,t_0),\\label{eq:ode:ae1} \\tag{74}\n",
    "\\end{equation}\n",
    "$$"
   ]
  },
  {
   "cell_type": "markdown",
   "id": "635fe008",
   "metadata": {
    "editable": true
   },
   "source": [
    "<!-- Equation labels as ordinary links -->\n",
    "<div id=\"eq:ode:ae2\"></div>\n",
    "\n",
    "$$\n",
    "\\begin{equation}  \n",
    "y_{1}=y_{1/2}+\\frac{h}{2}f(y_{1/2},t_0+h/2),\\label{eq:ode:ae2} \\tag{75}\n",
    "\\end{equation}\n",
    "$$"
   ]
  },
  {
   "cell_type": "markdown",
   "id": "9ccb61bc",
   "metadata": {
    "editable": true
   },
   "source": [
    "<!-- Equation labels as ordinary links -->\n",
    "<div id=\"eq:ode:ae3\"></div>\n",
    "\n",
    "$$\n",
    "\\begin{equation}  \n",
    "y_{1}=y_{0}+\\frac{h}{2}f(y_0,t_0)+\\frac{h}{2}f(y_0+\\frac{h}{2}f(y_0,t_0),t_0+h/2).\\label{eq:ode:ae3} \\tag{76}\n",
    "\\end{equation}\n",
    "$$"
   ]
  },
  {
   "cell_type": "markdown",
   "id": "b9233d73",
   "metadata": {
    "editable": true
   },
   "source": [
    "Note that we have inserted\n",
    "equation ([74](#eq:ode:ae1)) into equation ([75](#eq:ode:ae2)) to arrive at equation ([76](#eq:ode:ae3)). The truncation error in this case is, as before:"
   ]
  },
  {
   "cell_type": "markdown",
   "id": "e3187a9d",
   "metadata": {
    "editable": true
   },
   "source": [
    "$$\n",
    "\\epsilon=y(t_0+h)-y_{1}=y(t_0)+y^{\\prime}(t_0)h+\\frac{1}{2}y^{\\prime\\prime}(t_0)h^2+\\mathcal{O}(h^3)\\nonumber\n",
    "$$"
   ]
  },
  {
   "cell_type": "markdown",
   "id": "7abd156b",
   "metadata": {
    "editable": true
   },
   "source": [
    "<!-- Equation labels as ordinary links -->\n",
    "<div id=\"eq:ode:ay5\"></div>\n",
    "\n",
    "$$\n",
    "\\begin{equation}  \n",
    "-\\left[y_{0}+\\frac{h}{2}f(y_0,t_0)+\\frac{h}{2}f(y_0+\\frac{h}{2}f(y_0,t_0),t_0+h/2)\\right].\\label{eq:ode:ay5} \\tag{77}\n",
    "\\end{equation}\n",
    "$$"
   ]
  },
  {
   "cell_type": "markdown",
   "id": "28503662",
   "metadata": {
    "editable": true
   },
   "source": [
    "This equation is slightly more complicated, due to the term involving $f$ inside the last parenthesis, we can use Taylor expansion to expand it about $(y_0,t_0)$:"
   ]
  },
  {
   "cell_type": "markdown",
   "id": "4d6f8685",
   "metadata": {
    "editable": true
   },
   "source": [
    "$$\n",
    "f(y_0+\\frac{h}{2}f(y_0,t_0),t_0+h/2)=f(y_0,t_0)\\nonumber\n",
    "$$"
   ]
  },
  {
   "cell_type": "markdown",
   "id": "c3d14a6b",
   "metadata": {
    "editable": true
   },
   "source": [
    "<!-- Equation labels as ordinary links -->\n",
    "<div id=\"eq:ode:ay2\"></div>\n",
    "\n",
    "$$\n",
    "\\begin{equation}  \n",
    "+\\frac{h}{2}\\left[f(y_0,t_0)\\left.\\frac{\\partial f}{\\partial y}\\right|_{y=y_0,t=t_0}\n",
    "+\\left.\\frac{\\partial f}{\\partial t}\\right|_{y=y_0,t=t_0}\\right]+\\mathcal{O}(h^2).\\label{eq:ode:ay2} \\tag{78}\n",
    "\\end{equation}\n",
    "$$"
   ]
  },
  {
   "cell_type": "markdown",
   "id": "de84b3c1",
   "metadata": {
    "editable": true
   },
   "source": [
    "It turns out that this equation is related to $y^{\\prime\\prime}(t_0,y_0)$, which can be seen by differentiating equation ([59](#eq:ode:ay)):"
   ]
  },
  {
   "cell_type": "markdown",
   "id": "6b4d14d8",
   "metadata": {
    "editable": true
   },
   "source": [
    "<!-- Equation labels as ordinary links -->\n",
    "<div id=\"eq:ode:ay3\"></div>\n",
    "\n",
    "$$\n",
    "\\begin{equation}\n",
    "\\frac{d^2y}{dt^2}=\\frac{df(y,t)}{dt}=\\frac{\\partial f(y,t)}{\\partial y}\\frac{dy}{dt}+\\frac{\\partial f(y,t)}{\\partial t}\n",
    "=\\frac{\\partial f(y,t)}{\\partial y}f(y,t)+\\frac{\\partial f(y,t)}{\\partial t}.\\label{eq:ode:ay3} \\tag{79}\n",
    "\\end{equation}\n",
    "$$"
   ]
  },
  {
   "cell_type": "markdown",
   "id": "4e4a7fa2",
   "metadata": {
    "editable": true
   },
   "source": [
    "Hence, equation ([78](#eq:ode:ay2)) can be written:"
   ]
  },
  {
   "cell_type": "markdown",
   "id": "abcf9abe",
   "metadata": {
    "editable": true
   },
   "source": [
    "<!-- Equation labels as ordinary links -->\n",
    "<div id=\"eq:ode:ay4\"></div>\n",
    "\n",
    "$$\n",
    "\\begin{equation}\n",
    "f(y_0+\\frac{h}{2}f(y_0,t_0),t_0+h/2)=f(y_0,t_0)+\\frac{h}{2}y^{\\prime\\prime}(t_0,y_0),\\label{eq:ode:ay4} \\tag{80}\n",
    "\\end{equation}\n",
    "$$"
   ]
  },
  {
   "cell_type": "markdown",
   "id": "812ee31d",
   "metadata": {
    "editable": true
   },
   "source": [
    "hence the truncation error in equation ([77](#eq:ode:ay5)) can finally be written:"
   ]
  },
  {
   "cell_type": "markdown",
   "id": "9ec7a934",
   "metadata": {
    "editable": true
   },
   "source": [
    "<!-- Equation labels as ordinary links -->\n",
    "<div id=\"eq:ode:ae4\"></div>\n",
    "\n",
    "$$\n",
    "\\begin{equation}\n",
    "\\epsilon=y(t_1)-y_{1}=\\frac{h^2}{4} y^{\\prime\\prime}(y_0,t_0)=\\frac{1}{2}ch^2,\\label{eq:ode:ae4} \\tag{81}\n",
    "\\end{equation}\n",
    "$$"
   ]
  },
  {
   "cell_type": "markdown",
   "id": "e46eac43",
   "metadata": {
    "editable": true
   },
   "source": [
    "<!-- --- end solution of exercise --- -->\n",
    "\n",
    "**a)**\n",
    "Show that when we take one step of size $h$ from $t_0$ to $t_1=t_0+h$, $c=y^{\\prime\\prime}(t_0)/2$ in equation ([19](#eq:ode:aeb0)).\n",
    "\n",
    "<!-- --- begin answer of exercise --- -->\n",
    "**Answer.**\n",
    "The local error, is the difference between the numerical solution and the true solution:"
   ]
  },
  {
   "cell_type": "markdown",
   "id": "2f943698",
   "metadata": {
    "editable": true
   },
   "source": [
    "$$\n",
    "\\epsilon^*=y(t_0+h)-y_{1}^*=y(t_0)+y^{\\prime}(t_0)h+\\frac{1}{2}y^{\\prime\\prime}(t_0)h^2+\\mathcal{O}(h^3)\\nonumber\n",
    "$$"
   ]
  },
  {
   "cell_type": "markdown",
   "id": "c66d34d5",
   "metadata": {
    "editable": true
   },
   "source": [
    "<!-- Equation labels as ordinary links -->\n",
    "<div id=\"_auto8\"></div>\n",
    "\n",
    "$$\n",
    "\\begin{equation}  \n",
    "-\\left[y_0+hf(y_0,t_0+h)\\right],\n",
    "\\label{_auto8} \\tag{61}\n",
    "\\end{equation}\n",
    "$$"
   ]
  },
  {
   "cell_type": "markdown",
   "id": "cfe6c5ac",
   "metadata": {
    "editable": true
   },
   "source": [
    "where we have used Taylor expansion to expand the true solution around $t_0$, and equation ([60](#eq:ode:ae0)).\n",
    "Using equation ([59](#eq:ode:ay)) to replace $y^\\prime(t_0)$ with $f(y_0,t_0)$, we find:"
   ]
  },
  {
   "cell_type": "markdown",
   "id": "ee16dd55",
   "metadata": {
    "editable": true
   },
   "source": [
    "<!-- Equation labels as ordinary links -->\n",
    "<div id=\"_auto9\"></div>\n",
    "\n",
    "$$\n",
    "\\begin{equation}\n",
    "\\epsilon^*=y(t_0+h)-y_{1}^*=\\frac{1}{2}y^{\\prime\\prime}(t_0)h^2\\equiv ch^2,\n",
    "\\label{_auto9} \\tag{62}\n",
    "\\end{equation}\n",
    "$$"
   ]
  },
  {
   "cell_type": "markdown",
   "id": "ef7cd4a9",
   "metadata": {
    "editable": true
   },
   "source": [
    "hence $c=y^{\\prime\\prime}(t_0)/2$.\n",
    "<!-- --- end answer of exercise --- -->\n",
    "\n",
    "**b)**\n",
    "Show that when we take two steps of size $h/2$ from $t_0$ to $t_1=t_0+h$, Eulers algorithm is:"
   ]
  },
  {
   "cell_type": "markdown",
   "id": "ca6e6b52",
   "metadata": {
    "editable": true
   },
   "source": [
    "<!-- Equation labels as ordinary links -->\n",
    "<div id=\"_auto10\"></div>\n",
    "\n",
    "$$\n",
    "\\begin{equation}\n",
    "y_{1}=y_{0}+\\frac{h}{2}f(y_0,t_0)+\\frac{h}{2}f(y_0+\\frac{h}{2}f(y_0,t_0),t_0+h/2).\n",
    "\\label{_auto10} \\tag{63}\n",
    "\\end{equation}\n",
    "$$"
   ]
  },
  {
   "cell_type": "markdown",
   "id": "53910b5d",
   "metadata": {
    "editable": true
   },
   "source": [
    "<!-- --- begin answer of exercise --- -->\n",
    "**Answer.**"
   ]
  },
  {
   "cell_type": "markdown",
   "id": "399166c8",
   "metadata": {
    "editable": true
   },
   "source": [
    "<!-- Equation labels as ordinary links -->\n",
    "<div id=\"eq:ode:ae1b\"></div>\n",
    "\n",
    "$$\n",
    "\\begin{equation}\n",
    "y_{1/2}=y_0+\\frac{h}{2}f(y_0,t_0),\\label{eq:ode:ae1b} \\tag{64}\n",
    "\\end{equation}\n",
    "$$"
   ]
  },
  {
   "cell_type": "markdown",
   "id": "de3a7ac2",
   "metadata": {
    "editable": true
   },
   "source": [
    "<!-- Equation labels as ordinary links -->\n",
    "<div id=\"eq:ode:ae2b\"></div>\n",
    "\n",
    "$$\n",
    "\\begin{equation}  \n",
    "y_{1}=y_{1/2}+\\frac{h}{2}f(y_{1/2},t_0+h/2),\\label{eq:ode:ae2b} \\tag{65}\n",
    "\\end{equation}\n",
    "$$"
   ]
  },
  {
   "cell_type": "markdown",
   "id": "8b19a1a7",
   "metadata": {
    "editable": true
   },
   "source": [
    "<!-- Equation labels as ordinary links -->\n",
    "<div id=\"eq:ode:ae3b\"></div>\n",
    "\n",
    "$$\n",
    "\\begin{equation}  \n",
    "y_{1}=y_{0}+\\frac{h}{2}f(y_0,t_0)+\\frac{h}{2}f(y_0+\\frac{h}{2}f(y_0,t_0),t_0+h/2).\\label{eq:ode:ae3b} \\tag{66}\n",
    "\\end{equation}\n",
    "$$"
   ]
  },
  {
   "cell_type": "markdown",
   "id": "086a7dba",
   "metadata": {
    "editable": true
   },
   "source": [
    "Note that we have inserted\n",
    "equation ([64](#eq:ode:ae1b)) into equation ([65](#eq:ode:ae2b)) to arrive at equation ([66](#eq:ode:ae3b)).\n",
    "<!-- --- end answer of exercise --- -->\n",
    "\n",
    "**c)**\n",
    "Find an expression for the local error when using two steps of size $h/2$, and show that the local error is: $\\frac{1}{2}ch^2$\n",
    "\n",
    "<!-- --- begin answer of exercise --- -->\n",
    "**Answer.**"
   ]
  },
  {
   "cell_type": "markdown",
   "id": "af38d583",
   "metadata": {
    "editable": true
   },
   "source": [
    "$$\n",
    "\\epsilon=y(t_0+h)-y_{1}=y(t_0)+y^{\\prime}(t_0)h+\\frac{1}{2}y^{\\prime\\prime}(t_0)h^2+\\mathcal{O}(h^3)\\nonumber\n",
    "$$"
   ]
  },
  {
   "cell_type": "markdown",
   "id": "87099989",
   "metadata": {
    "editable": true
   },
   "source": [
    "<!-- Equation labels as ordinary links -->\n",
    "<div id=\"eq:ode:ay5b\"></div>\n",
    "\n",
    "$$\n",
    "\\begin{equation}  \n",
    "-\\left[y_{0}+\\frac{h}{2}f(y_0,t_0)+\\frac{h}{2}f(y_0+\\frac{h}{2}f(y_0,t_0),t_0+h/2)\\right].\\label{eq:ode:ay5b} \\tag{67}\n",
    "\\end{equation}\n",
    "$$"
   ]
  },
  {
   "cell_type": "markdown",
   "id": "4e66d98e",
   "metadata": {
    "editable": true
   },
   "source": [
    "This equation is slightly more complicated, due to the term involving $f$ inside the last parenthesis, we can use Taylor expansion to expand it about $(y_0,t_0)$:"
   ]
  },
  {
   "cell_type": "markdown",
   "id": "7db094ad",
   "metadata": {
    "editable": true
   },
   "source": [
    "$$\n",
    "f(y_0+\\frac{h}{2}f(y_0,t_0),t_0+h/2)=f(y_0,t_0)\\nonumber\n",
    "$$"
   ]
  },
  {
   "cell_type": "markdown",
   "id": "a8444366",
   "metadata": {
    "editable": true
   },
   "source": [
    "<!-- Equation labels as ordinary links -->\n",
    "<div id=\"eq:ode:ay2b\"></div>\n",
    "\n",
    "$$\n",
    "\\begin{equation}  \n",
    "+\\frac{h}{2}\\left[f(y_0,t_0)\\left.\\frac{\\partial f}{\\partial y}\\right|_{y=y_0,t=t_0}\n",
    "+\\frac{h}{2}\\left.\\frac{\\partial f}{\\partial t}\\right|_{y=y_0,t=t_0}\\right]+\\mathcal{O}(h^2).\\label{eq:ode:ay2b} \\tag{68}\n",
    "\\end{equation}\n",
    "$$"
   ]
  },
  {
   "cell_type": "markdown",
   "id": "39b0ec7d",
   "metadata": {
    "editable": true
   },
   "source": [
    "It turns out that this equation is related to $y^{\\prime\\prime}(t_0,y_0)$, which can be seen by differentiating equation ([59](#eq:ode:ay)):"
   ]
  },
  {
   "cell_type": "markdown",
   "id": "5395d9a9",
   "metadata": {
    "editable": true
   },
   "source": [
    "<!-- Equation labels as ordinary links -->\n",
    "<div id=\"eq:ode:ay3b\"></div>\n",
    "\n",
    "$$\n",
    "\\begin{equation}\n",
    "\\frac{d^2y}{dt^2}=\\frac{df(y,t)}{dt}=\\frac{\\partial f(y,t)}{\\partial y}\\frac{dy}{dt}+\\frac{\\partial f(y,t)}{\\partial t}\n",
    "=\\frac{\\partial f(y,t)}{\\partial y}f(y,t)+\\frac{\\partial f(y,t)}{\\partial t}.\\label{eq:ode:ay3b} \\tag{69}\n",
    "\\end{equation}\n",
    "$$"
   ]
  },
  {
   "cell_type": "markdown",
   "id": "47020896",
   "metadata": {
    "editable": true
   },
   "source": [
    "Hence, equation ([68](#eq:ode:ay2b)) can be written:"
   ]
  },
  {
   "cell_type": "markdown",
   "id": "5ab0eeed",
   "metadata": {
    "editable": true
   },
   "source": [
    "<!-- Equation labels as ordinary links -->\n",
    "<div id=\"eq:ode:ay4b\"></div>\n",
    "\n",
    "$$\n",
    "\\begin{equation}\n",
    "f(y_0+\\frac{h}{2}f(y_0,t_0),t_0+h/2)=f(y_0,t_0)+\\frac{h}{2}y^{\\prime\\prime}(t_0,y_0),\\label{eq:ode:ay4b} \\tag{70}\n",
    "\\end{equation}\n",
    "$$"
   ]
  },
  {
   "cell_type": "markdown",
   "id": "ef133f3e",
   "metadata": {
    "editable": true
   },
   "source": [
    "hence the truncation error in equation ([67](#eq:ode:ay5b)) can finally be written:"
   ]
  },
  {
   "cell_type": "markdown",
   "id": "34ed961c",
   "metadata": {
    "editable": true
   },
   "source": [
    "<!-- Equation labels as ordinary links -->\n",
    "<div id=\"eq:ode:ae4b\"></div>\n",
    "\n",
    "$$\n",
    "\\begin{equation}\n",
    "\\epsilon=y(t_1)-y_{1}=\\frac{h^2}{4} y^{\\prime\\prime}(y_0,t_0)=\\frac{1}{2}ch^2,\\label{eq:ode:ae4b} \\tag{71}\n",
    "\\end{equation}\n",
    "$$"
   ]
  },
  {
   "cell_type": "markdown",
   "id": "eaa0a504",
   "metadata": {
    "editable": true
   },
   "source": [
    "<!-- --- end answer of exercise --- -->\n",
    "\n",
    "<!-- --- end exercise --- -->\n",
    "\n",
    "# References"
   ]
  }
 ],
 "metadata": {},
 "nbformat": 4,
 "nbformat_minor": 5
}
