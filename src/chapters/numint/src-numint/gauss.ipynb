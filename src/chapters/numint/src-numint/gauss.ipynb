{
 "cells": [
  {
   "cell_type": "code",
   "execution_count": 1,
   "metadata": {},
   "outputs": [
    {
     "name": "stdout",
     "output_type": "stream",
     "text": [
      "[(-2*sqrt(70)/63 + 5/9, 2*sqrt(70)/63 + 5/9, -sqrt(70)/150 + 1/3, sqrt(70)/150 + 1/3), (2*sqrt(70)/63 + 5/9, -2*sqrt(70)/63 + 5/9, sqrt(70)/150 + 1/3, -sqrt(70)/150 + 1/3)]\n"
     ]
    }
   ],
   "source": [
    "import sympy as sym\n",
    "import numpy as np\n",
    "x1,x2,w1,w2=sym.symbols('x1, x2, w1, w2')\n",
    "#n = sym.Symbol('n')\n",
    "n = sym.Rational(1,2) # n = 1/2\n",
    "f1=sym.Eq(w1+w2,1/(n+1))\n",
    "f2=sym.Eq(w1*x1+w2*x2,1/(n+2))\n",
    "f3=sym.Eq(w1*x1**2+w2*x2**2,1/(n+3))\n",
    "f4=sym.Eq(w1*x1**3+w2*x2**3,1/(n+4))\n",
    "sol=sym.solve([f1,f2,f3,f4],(x1,x2,w1,w2))\n",
    "print(sol)"
   ]
  },
  {
   "cell_type": "code",
   "execution_count": 35,
   "metadata": {},
   "outputs": [
    {
     "data": {
      "text/plain": [
       "0.2775559982310616"
      ]
     },
     "execution_count": 35,
     "metadata": {},
     "output_type": "execute_result"
    }
   ],
   "source": [
    "-np.sqrt(70)/150 + 1/3"
   ]
  },
  {
   "cell_type": "code",
   "execution_count": 146,
   "metadata": {},
   "outputs": [],
   "source": [
    "x1,x2,x3,w1,w2,w3=sym.symbols('x1, x2, x3, w1, w2, w3')\n",
    "n=1/2\n",
    "f1=sym.Eq(w1+w2+w3,1/(n+1))\n",
    "f2=sym.Eq(w1*x1+w2*x2+w3*x3,1/(n+2))\n",
    "f3=sym.Eq(w1*x1**2+w2*x2**2+w3*x3**2,1/(n+3))\n",
    "f4=sym.Eq(w1*x1**3+w2*x2**3+w3*x3**3,1/(n+4))\n",
    "f5=sym.Eq(w1*x1**4+w2*x2**4+w3*x3**4,1/(n+5))\n",
    "f6=sym.Eq(w1*x1**5+w2*x2**5+w3*x3**5,1/(n+6))\n",
    "\n",
    "def g6(x):\n",
    "    xi = np.array(x[0:3])\n",
    "    wi = np.array(x[3:6])\n",
    "    x2=xi**2;x3=xi**3;x4=xi**4;x5=xi**5\n",
    "    n=1/2\n",
    "    out=[]\n",
    "    out.append(np.sum(wi)-1/(n+1))\n",
    "    out.append(np.sum(xi*wi)-1/(n+2))\n",
    "    out.append(np.sum(x2*wi)-1/(n+3))\n",
    "    out.append(np.sum(x3*wi)-1/(n+4))\n",
    "    out.append(np.sum(x4*wi)-1/(n+5))\n",
    "    out.append(np.sum(x5*wi)-1/(n+6))\n",
    "    return out\n",
    "def g7(x):\n",
    "    xi = np.array(x[0:3])\n",
    "    wi = np.array(x[3:6])\n",
    "    x2=xi**2;x3=xi**3;x4=xi**4;x5=xi**5\n",
    "    n=1/2\n",
    "    out = 0\n",
    "    si = np.sum(wi)-1/(n+1); out += si*si\n",
    "    si = np.sum(xi*wi)-1/(n+2); out += si*si\n",
    "    si = np.sum(x2*wi)-1/(n+3); out += si*si\n",
    "    si = np.sum(x3*wi)-1/(n+4); out += si*si\n",
    "    si = np.sum(x4*wi)-1/(n+5); out += si*si\n",
    "    si = np.sum(x5*wi)-1/(n+6); out += si*si\n",
    "    return out"
   ]
  },
  {
   "cell_type": "code",
   "execution_count": 6,
   "metadata": {},
   "outputs": [
    {
     "ename": "NameError",
     "evalue": "name 'g6' is not defined",
     "output_type": "error",
     "traceback": [
      "\u001b[0;31m---------------------------------------------------------------------------\u001b[0m",
      "\u001b[0;31mNameError\u001b[0m                                 Traceback (most recent call last)",
      "\u001b[0;32m<ipython-input-6-81cd223a8a2a>\u001b[0m in \u001b[0;36m<module>\u001b[0;34m\u001b[0m\n\u001b[1;32m      3\u001b[0m x0=np.array([0.52139536,  0.5054725 ,  0.78439109, -7.33288048,  7.35084065,\n\u001b[1;32m      4\u001b[0m         0.64853502])\n\u001b[0;32m----> 5\u001b[0;31m \u001b[0msol2\u001b[0m\u001b[0;34m=\u001b[0m\u001b[0mfsolve\u001b[0m\u001b[0;34m(\u001b[0m\u001b[0mg6\u001b[0m\u001b[0;34m,\u001b[0m\u001b[0mx0\u001b[0m \u001b[0;34m)\u001b[0m\u001b[0;34m\u001b[0m\u001b[0;34m\u001b[0m\u001b[0m\n\u001b[0m\u001b[1;32m      6\u001b[0m \u001b[0msol3\u001b[0m\u001b[0;34m=\u001b[0m\u001b[0mminimize\u001b[0m\u001b[0;34m(\u001b[0m\u001b[0mg7\u001b[0m\u001b[0;34m,\u001b[0m \u001b[0mx0\u001b[0m\u001b[0;34m)\u001b[0m\u001b[0;34m\u001b[0m\u001b[0;34m\u001b[0m\u001b[0m\n\u001b[1;32m      7\u001b[0m \u001b[0;31m#print(sol2)\u001b[0m\u001b[0;34m\u001b[0m\u001b[0;34m\u001b[0m\u001b[0;34m\u001b[0m\u001b[0m\n",
      "\u001b[0;31mNameError\u001b[0m: name 'g6' is not defined"
     ]
    }
   ],
   "source": [
    "from scipy.optimize import fsolve\n",
    "from scipy.optimize import minimize\n",
    "x0=np.array([0.52139536,  0.5054725 ,  0.78439109, -7.33288048,  7.35084065,\n",
    "        0.64853502])\n",
    "sol2=fsolve(g6,x0 )\n",
    "sol3=minimize(g7, x0)\n",
    "#print(sol2)\n",
    "print(g6(x0))\n",
    "sol3"
   ]
  },
  {
   "cell_type": "code",
   "execution_count": 8,
   "metadata": {},
   "outputs": [],
   "source": [
    "def func(x):\n",
    "    return np.cos(x)\n",
    "def int_gaussquad2(func):\n",
    "    x = [0.265411702318479, 0.811511374604598]\n",
    "    w = [0.329723879210972, 0.420276120789028]\n",
    "    area=w*func(x)\n",
    "    return np.sum(area)"
   ]
  },
  {
   "cell_type": "code",
   "execution_count": 9,
   "metadata": {},
   "outputs": [
    {
     "data": {
      "text/plain": [
       "0.6074977950975046"
      ]
     },
     "execution_count": 9,
     "metadata": {},
     "output_type": "execute_result"
    }
   ],
   "source": [
    "int_gaussquad2(func)"
   ]
  },
  {
   "cell_type": "code",
   "execution_count": 10,
   "metadata": {},
   "outputs": [],
   "source": [
    " x = [float(sol[0][0]),float(sol[0][1])]\n",
    " w = [float(sol[0][2]),float(sol[0][3])]"
   ]
  },
  {
   "cell_type": "code",
   "execution_count": 15,
   "metadata": {},
   "outputs": [
    {
     "name": "stdout",
     "output_type": "stream",
     "text": [
      "Error= -0.00010350548311066632\n",
      "0.5310991775921791\n",
      "[0.2899491979256903, 0.8211619131854209]\n",
      "[0.27755599823106164, 0.38911066843560504]\n"
     ]
    }
   ],
   "source": [
    "g2=np.sum(w*func(x))\n",
    "ana=0.5312026830752897\n",
    "#ana=-4/9\n",
    "print('Error=', g2-ana)\n",
    "print(g2)\n",
    "print(x)\n",
    "print(w)"
   ]
  },
  {
   "cell_type": "code",
   "execution_count": 125,
   "metadata": {},
   "outputs": [
    {
     "name": "stdout",
     "output_type": "stream",
     "text": [
      "[2 3 1]\n",
      "[2 1 2]\n"
     ]
    }
   ],
   "source": [
    "x=np.array([2,3,1,2,1,2])\n",
    "print(x[0:3])\n",
    "print(x[3:6])"
   ]
  },
  {
   "cell_type": "code",
   "execution_count": null,
   "metadata": {},
   "outputs": [],
   "source": []
  }
 ],
 "metadata": {
  "kernelspec": {
   "display_name": "Python 3",
   "language": "python",
   "name": "python3"
  },
  "language_info": {
   "codemirror_mode": {
    "name": "ipython",
    "version": 3
   },
   "file_extension": ".py",
   "mimetype": "text/x-python",
   "name": "python",
   "nbconvert_exporter": "python",
   "pygments_lexer": "ipython3",
   "version": "3.6.5"
  }
 },
 "nbformat": 4,
 "nbformat_minor": 2
}
