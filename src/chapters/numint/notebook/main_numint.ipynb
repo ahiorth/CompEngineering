{
 "cells": [
  {
   "cell_type": "markdown",
   "id": "581c2e6b",
   "metadata": {
    "editable": true
   },
   "source": [
    "<!-- dom:TITLE: Examples of algorithmic thinking: Numerical Integration -->\n",
    "# Examples of algorithmic thinking: Numerical Integration\n",
    "**Aksel Hiorth**\n",
    "University of Stavanger\n",
    "\n",
    "Date: **Apr 23, 2024**\n",
    "\n",
    "# Algorithmic thinking\n",
    "\n",
    "The only way to improve in coding and algorithmic thinking is practice. The concept of one dimensional numerical integration is easy to understand, i.e. to calculate the area under a curve. In this chapter we will implement several numerical methods, and it will serve as a very simple playground that illustrates the key aspects of numerical modeling\n",
    "\n",
    "1. We start with a mathematical model (in this case an integral)\n",
    "\n",
    "2. The mathematical model is formulated in discrete form \n",
    "\n",
    "3. Then we design an algorithm to solve the model \n",
    "\n",
    "4. The numerical solution for a test case is compared with the true solution (could be an analytical solution or data)\n",
    "\n",
    "5. Error analysis: we investigate the accuracy of the algorithm by changing the number of iterations and/or make changes to the implementation or algorithm\n",
    "\n",
    "The main point of this chapter is not to develop your own integration methods, the built in methods in Scipy will work in most cases. However, the way to break down the main task of calculating an integral into smaller tasks that is understandable by a computer, may work as a template for many different problems you would typically solve using a computer. A second motivation is that by analyzing the origin of numerical errors gives ideas for improving the algorithm, which is transferable to other problems.      \n",
    "\n",
    "## The midpoint rule\n",
    "Numerical integration is encountered in numerous applications in physics and engineering sciences. \n",
    "Let us first consider the most simple case, a function $f(x)$, which is a function of one variable, $x$. The most straight forward way of calculating the area $\\int_a^bf(x)dx$ is \n",
    "simply to divide the area under the function into $N$ equal rectangular slices with size $h=(b-a)/N$, as illustrated in [figure 1](#fig:numint:mid). The area of one box is:"
   ]
  },
  {
   "cell_type": "markdown",
   "id": "a1705c90",
   "metadata": {
    "editable": true
   },
   "source": [
    "<!-- Equation labels as ordinary links -->\n",
    "<div id=\"eq:numint:mid0\"></div>\n",
    "\n",
    "$$\n",
    "\\begin{equation}\n",
    "M(x_k,x_k+h)=f(x_k+\\frac{h}{2}) h,\\label{eq:numint:mid0} \\tag{1}\n",
    "\\end{equation}\n",
    "$$"
   ]
  },
  {
   "cell_type": "markdown",
   "id": "21908faf",
   "metadata": {
    "editable": true
   },
   "source": [
    "and the area of all the boxes is:"
   ]
  },
  {
   "cell_type": "markdown",
   "id": "3f125c17",
   "metadata": {
    "editable": true
   },
   "source": [
    "$$\n",
    "I(a,b)=\\int_a^bf(x)dx\\simeq\\sum_{k=0}^{N-1}M(x_k,x_k+h)\\nonumber\n",
    "$$"
   ]
  },
  {
   "cell_type": "markdown",
   "id": "f51ce241",
   "metadata": {
    "editable": true
   },
   "source": [
    "<!-- Equation labels as ordinary links -->\n",
    "<div id=\"eq:numint:mid1\"></div>\n",
    "\n",
    "$$\n",
    "\\begin{equation}  \n",
    "=h\\sum_{k=0}^{N-1}f(x_k+\\frac{h}{2})=h\\sum_{k=0}^{N-1}f(a+(k+\\frac{1}{2})h).\n",
    "\\label{eq:numint:mid1} \\tag{2}\n",
    "\\end{equation}\n",
    "$$"
   ]
  },
  {
   "cell_type": "markdown",
   "id": "c97bb8dc",
   "metadata": {
    "editable": true
   },
   "source": [
    "Note that the sum goes from $k=0,1,\\ldots,N-1$, a total of $N$ elements. We could have chosen to let the sum go from $k=1,2,\\ldots,N$. \n",
    "In Python, C, C++ and many other programming languages the arrays start by indexing the elements from $0,1,\\ldots$ to $N-1$, \n",
    "therefore we choose the convention of having the first element to start at $k=0$.\n",
    "\n",
    "<!-- dom:FIGURE: [fig-numint/func_sq.png, width=800] Integrating a function with the midpoint rule. <div id=\"fig:numint:mid\"></div> -->\n",
    "<!-- begin figure -->\n",
    "<div id=\"fig:numint:mid\"></div>\n",
    "\n",
    "<img src=\"fig-numint/func_sq.png\" width=800><p style=\"font-size: 0.9em\"><i>Figure 1: Integrating a function with the midpoint rule.</i></p>\n",
    "<!-- end figure -->\n",
    "\n",
    "Below is a Python code, where this algorithm is implemented for $\\int_0^\\pi\\sin (x)dx$"
   ]
  },
  {
   "cell_type": "code",
   "execution_count": 1,
   "id": "042c4f47",
   "metadata": {
    "collapsed": false,
    "editable": true
   },
   "outputs": [],
   "source": [
    "import numpy as np\n",
    "# Function to be integrated\n",
    "def f(x):\n",
    "    return np.sin(x)\n",
    "\n",
    "def midpoint(f,a,b,N):\n",
    "    \"\"\"\n",
    "    f : function to be integrated on the domain [a,b]\n",
    "    N : number of integration points\n",
    "    \"\"\"\n",
    "    h=(b-a)/N\n",
    "    x=np.arange(a+0.5*h,b,h)\n",
    "    return h*np.sum(f(x))\n",
    "N=10\n",
    "a=0\n",
    "b=np.pi\n",
    "Area = midpoint(f,a,b,N)\n",
    "print('Numerical value= ', Area)\n",
    "print('Error= ', (2-Area)) # Analytical result is 2"
   ]
  },
  {
   "cell_type": "markdown",
   "id": "22e0b585",
   "metadata": {
    "editable": true
   },
   "source": [
    "**Notice.**\n",
    "\n",
    "In the implementation above, we have taken advantage of Numpys ability to pass a vector to a function. This greatly enhances the speed and makes clean, readable code. If you were coding in a lower level programming language like Fortran, C or C++, you would probably implement the loop like (in Python syntax):"
   ]
  },
  {
   "cell_type": "code",
   "execution_count": 2,
   "id": "46d57b2d",
   "metadata": {
    "collapsed": false,
    "editable": true
   },
   "outputs": [],
   "source": [
    "for k in range(0,N): # loop over k=0,1,..,N-1\n",
    "    val = lower_limit+(k+0.5)*h # midpoint value\n",
    "    area += func(val)\n",
    "return area*h"
   ]
  },
  {
   "cell_type": "markdown",
   "id": "353c1b4b",
   "metadata": {
    "editable": true
   },
   "source": [
    "By increasing $N$ the numerical result will get closer to the true answer. How much do you need to increase $N$ in order to reach an accuracy higher than $10^{-8}$.\n",
    " What happens when $N$ increases?\n",
    "\n",
    "## The trapezoidal rule\n",
    "The numerical error in the above example is quite low, only about 2$\\%$ for $N=5$. \n",
    "However, by just looking at the graph above it seems likely that we can develop a better algorithm by using trapezoids instead of rectangles, \n",
    "see [figure 2](#fig:numint:trap).\n",
    "\n",
    "<!-- dom:FIGURE: [fig-numint/func_tr.png, width=800] Integrating a function with the trapezoidal rule. <div id=\"fig:numint:trap\"></div> -->\n",
    "<!-- begin figure -->\n",
    "<div id=\"fig:numint:trap\"></div>\n",
    "\n",
    "<img src=\"fig-numint/func_tr.png\" width=800><p style=\"font-size: 0.9em\"><i>Figure 2: Integrating a function with the trapezoidal rule.</i></p>\n",
    "<!-- end figure -->\n",
    "\n",
    "Earlier we approximated the area using the midpoint value: $f(x_k+h/2)\\cdot h$. Now we use $A=A_1+A_2$, where $A_1=f(x_k)\\cdot h$ \n",
    "and $A_2=(f(x_k+h)-f(x_k))\\cdot h/2$, hence the area of one trapezoid is:"
   ]
  },
  {
   "cell_type": "markdown",
   "id": "a289e6e0",
   "metadata": {
    "editable": true
   },
   "source": [
    "<!-- Equation labels as ordinary links -->\n",
    "<div id=\"_auto1\"></div>\n",
    "\n",
    "$$\n",
    "\\begin{equation}\n",
    "A\\equiv T(x_k,x_k+h)=(f(x_k+h)+f(x_k))h/2.\n",
    "\\label{_auto1} \\tag{3}\n",
    "\\end{equation}\n",
    "$$"
   ]
  },
  {
   "cell_type": "markdown",
   "id": "0b1f5993",
   "metadata": {
    "editable": true
   },
   "source": [
    "This is the trapezoidal rule, and for the whole interval we get:"
   ]
  },
  {
   "cell_type": "markdown",
   "id": "3d5d99b3",
   "metadata": {
    "editable": true
   },
   "source": [
    "$$\n",
    "I(a,b)=\\int_a^bf(x)dx\\simeq\\frac{1}{2}h\\sum_{k=0}^{N-1}\\left[f(x_k+h)+f(x_k)\\right] \\nonumber\n",
    "$$"
   ]
  },
  {
   "cell_type": "markdown",
   "id": "6257fc5d",
   "metadata": {
    "editable": true
   },
   "source": [
    "$$\n",
    "=h\\left[\\frac{1}{2}f(a)+f(a+h) + f(a+2h) +\\nonumber\\right.\n",
    "$$"
   ]
  },
  {
   "cell_type": "markdown",
   "id": "f3cf8a94",
   "metadata": {
    "editable": true
   },
   "source": [
    "$$\n",
    "\\left.\\qquad\\cdots + f(a+(N-2)h)+\\frac{1}{2}f(b)\\right]\\nonumber\n",
    "$$"
   ]
  },
  {
   "cell_type": "markdown",
   "id": "d19aceda",
   "metadata": {
    "editable": true
   },
   "source": [
    "<!-- Equation labels as ordinary links -->\n",
    "<div id=\"_auto2\"></div>\n",
    "\n",
    "$$\n",
    "\\begin{equation}  \n",
    "=h\\left[\\frac{1}{2}f(a)+\\frac{1}{2}f(b)+\\sum_{k=1}^{N-2}f(a+k h)\\right].\n",
    "\\label{_auto2} \\tag{4}\n",
    "\\end{equation}\n",
    "$$"
   ]
  },
  {
   "cell_type": "markdown",
   "id": "dd89817c",
   "metadata": {
    "editable": true
   },
   "source": [
    "Note that this formula was bit more involved to derive, but it requires only one more function evaluations compared to the midpoint rule. \n",
    "Below is a python implementation:"
   ]
  },
  {
   "cell_type": "code",
   "execution_count": 3,
   "id": "3f8c30ed",
   "metadata": {
    "collapsed": false,
    "editable": true
   },
   "outputs": [],
   "source": [
    "def trapezoidal(f,a,b,N):\n",
    "    \"\"\"\n",
    "    f : function to be integrated on the domain [a,b]\n",
    "    N : number of integration points\n",
    "    \"\"\"\n",
    "    h=(b-a)/N\n",
    "    x=np.arange(a+h,b,h)\n",
    "    return h*(0.5*f(a)+0.5*f(b)+np.sum(f(x)))"
   ]
  },
  {
   "cell_type": "markdown",
   "id": "0fc1aefc",
   "metadata": {
    "editable": true
   },
   "source": [
    "In the table below, we have calculated the numerical error for various values of $N$.\n",
    "\n",
    "<table class=\"table\" border=\"1\">\n",
    "<thead>\n",
    "<tr><th align=\"center\">$N$</th> <th align=\"center\"> $h$ </th> <th align=\"center\">Error Midpoint</th> <th align=\"center\">Error Trapezoidal</th> </tr>\n",
    "</thead>\n",
    "<tbody>\n",
    "<tr><td align=\"center\">   1      </td> <td align=\"center\">   3.14     </td> <td align=\"center\">   -57\\%             </td> <td align=\"center\">   100\\%                </td> </tr>\n",
    "<tr><td align=\"center\">   5      </td> <td align=\"center\">   0.628    </td> <td align=\"center\">   -1.66\\%           </td> <td align=\"center\">   3.31\\%               </td> </tr>\n",
    "<tr><td align=\"center\">   10     </td> <td align=\"center\">   0.314    </td> <td align=\"center\">   -0.412\\%          </td> <td align=\"center\">   0.824\\%              </td> </tr>\n",
    "<tr><td align=\"center\">   100    </td> <td align=\"center\">   0.031    </td> <td align=\"center\">   -4.11E-3\\%        </td> <td align=\"center\">   8.22E-3\\%            </td> </tr>\n",
    "</tbody>\n",
    "</table>\n",
    "\n",
    "Note that we get the surprising result that this algorithm performs poorer, a factor of 2 than the midpoint rule.\n",
    "How can this be explained? By just looking at [figure 1](#fig:numint:mid), we see that the midpoint rule actually over predicts the area from $[x_k,x_k+h/2]$ \n",
    " and under predicts in the interval $[x_k+h/2,x_{k+1}]$ or vice versa. The net effect is that for many cases the midpoint rule give a slightly better \n",
    " performance than the trapezoidal rule. In the next section we will investigate this more formally.\n",
    "\n",
    "## Numerical errors on integrals\n",
    "It is important to know the accuracy of the methods we are using, otherwise we do not know if the\n",
    "computer produce correct results. In the previous examples we were able to estimate the error because we knew the analytical result. However, if we know the \n",
    "analytical result there is no reason to use the computer to calculate the result(!). Thus, we need a general method to estimate the error, and let the computer \n",
    "run until a desired accuracy is reached. \n",
    "\n",
    "In order to analyze the midpoint rule in more detail we approximate the function by a Taylor \n",
    "series at the midpoint between $x_k$ and $x_k+h$:"
   ]
  },
  {
   "cell_type": "markdown",
   "id": "a15eb3f5",
   "metadata": {
    "editable": true
   },
   "source": [
    "$$\n",
    "f(x)=f(x_k+h/2)+f^\\prime(x_k+h/2)(x-(x_k+h/2))\\nonumber\n",
    "$$"
   ]
  },
  {
   "cell_type": "markdown",
   "id": "80435142",
   "metadata": {
    "editable": true
   },
   "source": [
    "<!-- Equation labels as ordinary links -->\n",
    "<div id=\"_auto3\"></div>\n",
    "\n",
    "$$\n",
    "\\begin{equation}  \n",
    "+\\frac{1}{2!}f^{\\prime\\prime}(x_k+h/2)(x-(x_k+h/2))^2+\\mathcal{O}(h^3)\n",
    "\\label{_auto3} \\tag{5}\n",
    "\\end{equation}\n",
    "$$"
   ]
  },
  {
   "cell_type": "markdown",
   "id": "fd35ca23",
   "metadata": {
    "editable": true
   },
   "source": [
    "Since $f(x_k+h/2)$ and its derivatives are constants it is straight forward to integrate $f(x)$:"
   ]
  },
  {
   "cell_type": "markdown",
   "id": "541c0ba5",
   "metadata": {
    "editable": true
   },
   "source": [
    "$$\n",
    "I(x_k,x_k+h)=\\int_{x_k}^{x_k+h}\\left[f(x_k+h/2)+f^\\prime(x_k+h/2)(x-(x_k+h/2))\\right.\\nonumber\n",
    "$$"
   ]
  },
  {
   "cell_type": "markdown",
   "id": "069b60e2",
   "metadata": {
    "editable": true
   },
   "source": [
    "<!-- Equation labels as ordinary links -->\n",
    "<div id=\"_auto4\"></div>\n",
    "\n",
    "$$\n",
    "\\begin{equation}  \n",
    "\\left.+\\frac{1}{2!}f^{\\prime\\prime}(x_k+h/2)(x-(x_k+h/2))^2+\\mathcal{O}(h^3)\\right]dx\n",
    "\\label{_auto4} \\tag{6}\n",
    "\\end{equation}\n",
    "$$"
   ]
  },
  {
   "cell_type": "markdown",
   "id": "efb4cd1f",
   "metadata": {
    "editable": true
   },
   "source": [
    "The first term is simply the midpoint rule, to evaluate the two other terms we make the substitution: $u=x-x_k$:"
   ]
  },
  {
   "cell_type": "markdown",
   "id": "956576c5",
   "metadata": {
    "editable": true
   },
   "source": [
    "$$\n",
    "I(x_k,x_k+h)=f(x_k+h/2)\\cdot h+f^\\prime(x_k+h/2)\\int_0^h(u-h/2)du\\nonumber\n",
    "$$"
   ]
  },
  {
   "cell_type": "markdown",
   "id": "8116c288",
   "metadata": {
    "editable": true
   },
   "source": [
    "$$\n",
    "+\\frac{1}{2}f^{\\prime\\prime}(x_k+h/2)\\int_0^h(u-h/2)^2du+\\mathcal{O}(h^4)\\nonumber\n",
    "$$"
   ]
  },
  {
   "cell_type": "markdown",
   "id": "f2ccb65c",
   "metadata": {
    "editable": true
   },
   "source": [
    "<!-- Equation labels as ordinary links -->\n",
    "<div id=\"_auto5\"></div>\n",
    "\n",
    "$$\n",
    "\\begin{equation}  \n",
    "=f(x_k+h/2)\\cdot h-\\frac{h^3}{24}f^{\\prime\\prime}(x_k+h/2)+\\mathcal{O}(h^4).\n",
    "\\label{_auto5} \\tag{7}\n",
    "\\end{equation}\n",
    "$$"
   ]
  },
  {
   "cell_type": "markdown",
   "id": "adadaf25",
   "metadata": {
    "editable": true
   },
   "source": [
    "Note that all the odd terms cancels out, i.e $\\int_0^h(u-h/2)^m=0$ for $m=1,3,5\\ldots$. Thus the error for the midpoint rule, $E_{M,k}$, on this particular interval is:"
   ]
  },
  {
   "cell_type": "markdown",
   "id": "78cd960b",
   "metadata": {
    "editable": true
   },
   "source": [
    "<!-- Equation labels as ordinary links -->\n",
    "<div id=\"_auto6\"></div>\n",
    "\n",
    "$$\n",
    "\\begin{equation}\n",
    "E_{M,k}=I(x_k,x_k+h)-f(x_k+h/2)\\cdot h=-\\frac{h^3}{24}f^{\\prime\\prime}(x_k+h/2),\n",
    "\\label{_auto6} \\tag{8}\n",
    "\\end{equation}\n",
    "$$"
   ]
  },
  {
   "cell_type": "markdown",
   "id": "6dc71848",
   "metadata": {
    "editable": true
   },
   "source": [
    "where we have ignored higher order terms. We can easily sum up the error on all the intervals, but clearly $f^{\\prime\\prime}(x_k+h/2)$ will \n",
    "not, in general, have the same value on all intervals. However, an upper bound for the error can be found by replacing $f^{\\prime\\prime}(x_k+h/2)$ \n",
    "with the maximal value on the interval $[a,b]$, $f^{\\prime\\prime}(\\eta)$:"
   ]
  },
  {
   "cell_type": "markdown",
   "id": "104f4fc0",
   "metadata": {
    "editable": true
   },
   "source": [
    "<!-- Equation labels as ordinary links -->\n",
    "<div id=\"eq:numint:em\"></div>\n",
    "\n",
    "$$\n",
    "\\begin{equation}\n",
    "E_{M}=\\sum_{k=0}^{N-1}E_{M,k}=-\\frac{h^3}{24}\\sum_{k=0}^{N-1}f^{\\prime\\prime}(x_k+h/2)\\leq-\\frac{Nh^3}{24}f^{\\prime\\prime}(\\eta),\\label{eq:numint:em} \\tag{9}\n",
    "\\end{equation}\n",
    "$$"
   ]
  },
  {
   "cell_type": "markdown",
   "id": "795be93b",
   "metadata": {
    "editable": true
   },
   "source": [
    "<!-- Equation labels as ordinary links -->\n",
    "<div id=\"_auto7\"></div>\n",
    "\n",
    "$$\n",
    "\\begin{equation}  \n",
    "E_{M}\\leq-\\frac{(b-a)^3}{24N^2}f^{\\prime\\prime}(\\eta),\n",
    "\\label{_auto7} \\tag{10}\n",
    "\\end{equation}\n",
    "$$"
   ]
  },
  {
   "cell_type": "markdown",
   "id": "54bff09b",
   "metadata": {
    "editable": true
   },
   "source": [
    "where we have used $h=(b-a)/N$. We can do the exact same analysis for the trapezoidal rule, but then we expand the function around $x_k-h$ instead of the midpoint. \n",
    "The error term is then:"
   ]
  },
  {
   "cell_type": "markdown",
   "id": "422b1abe",
   "metadata": {
    "editable": true
   },
   "source": [
    "<!-- Equation labels as ordinary links -->\n",
    "<div id=\"_auto8\"></div>\n",
    "\n",
    "$$\n",
    "\\begin{equation}\n",
    "E_T=\\frac{(b-a)^3}{12N^2}f^{\\prime\\prime}(\\overline{\\eta}).\n",
    "\\label{_auto8} \\tag{11}\n",
    "\\end{equation}\n",
    "$$"
   ]
  },
  {
   "cell_type": "markdown",
   "id": "191a6281",
   "metadata": {
    "editable": true
   },
   "source": [
    "At the first glance it might look like the midpoint rule always is better than the trapezoidal rule, but note that the second derivative is \n",
    "evaluated in different points ($\\eta$ and $\\overline{\\eta}$). Thus it is possible to construct examples where the midpoint rule performs poorer \n",
    "than the trapezoidal rule.\n",
    "\n",
    "Before we end this section we will rewrite the error terms in a more useful form as it is not so easy to evaluate \n",
    "$f^{\\prime\\prime}(\\eta)$ (since we do not know which value of $\\eta$ to use). By taking a closer look at equation ([9](#eq:numint:em)), \n",
    "we see that it is closely related to the midpoint rule for $\\int_a^bf^{\\prime\\prime}(x)dx$, hence:"
   ]
  },
  {
   "cell_type": "markdown",
   "id": "2e00931b",
   "metadata": {
    "editable": true
   },
   "source": [
    "<!-- Equation labels as ordinary links -->\n",
    "<div id=\"_auto9\"></div>\n",
    "\n",
    "$$\n",
    "\\begin{equation}\n",
    "E_{M}=-\\frac{h^2}{24}h\n",
    "\\sum_{k=0}^{N-1}f^{\\prime\\prime}(x_k+h/2)\\simeq-\\frac{h^2}{24}\\int_a^b\n",
    "f^{\\prime\\prime}(x)dx\n",
    "\\label{_auto9} \\tag{12}\n",
    "\\end{equation}\n",
    "$$"
   ]
  },
  {
   "cell_type": "markdown",
   "id": "15083471",
   "metadata": {
    "editable": true
   },
   "source": [
    "<!-- Equation labels as ordinary links -->\n",
    "<div id=\"_auto10\"></div>\n",
    "\n",
    "$$\n",
    "\\begin{equation}  \n",
    "E_M\\simeq\\frac{h^2}{24}\\left[f^\\prime(b)-f^\\prime(a)\\right]=-\\frac{(b-a)^2}{24N^2}\\left[f^\\prime(b)-f^\\prime(a)\\right]\n",
    "\\label{_auto10} \\tag{13}\n",
    "\\end{equation}\n",
    "$$"
   ]
  },
  {
   "cell_type": "markdown",
   "id": "6aa4e87a",
   "metadata": {
    "editable": true
   },
   "source": [
    "The corresponding formula for the trapezoid formula is:"
   ]
  },
  {
   "cell_type": "markdown",
   "id": "b9802b27",
   "metadata": {
    "editable": true
   },
   "source": [
    "<!-- Equation labels as ordinary links -->\n",
    "<div id=\"_auto11\"></div>\n",
    "\n",
    "$$\n",
    "\\begin{equation}\n",
    "E_T\\simeq \\frac{h^2}{12}\\left[f^\\prime(b)-f^\\prime(a)\\right]=\\frac{(b-a)^2}{12N^2}\\left[f^\\prime(b)-f^\\prime(a)\\right]\n",
    "\\label{_auto11} \\tag{14}\n",
    "\\end{equation}\n",
    "$$"
   ]
  },
  {
   "cell_type": "markdown",
   "id": "d99ac03b",
   "metadata": {
    "editable": true
   },
   "source": [
    "## Practical estimation of errors on integrals (Richardson extrapolation)\n",
    "<div id=\"sec:numint:parct\"></div>\n",
    "From the example above we were able to estimate the number of steps needed to reach (at least) a certain precision. \n",
    "In many practical cases we do not deal with functions, but with data and it can be difficult to evaluate the derivative. \n",
    "We also saw from the example above that the algorithm gives a higher precision than what we asked for. \n",
    "How can we avoid doing too many iterations? A very simple solution to this question is to double the number of intervals until \n",
    "a desired accuracy is reached. The following analysis holds for both the trapezoid and midpoint method, because in both cases \n",
    "the (global) error scale as $h^2$[^trapez].\n",
    "[^trapez]: You can do the following analysis by assuming that the local error is $h^3$, but then you need to take into account that you need to take twice as many steps, which will give the same result.\n",
    "\n",
    "Assume that we have evaluated the integral with a step size $h_1$, and the computed result is $I_1$. \n",
    "Then we know that the true integral is $I=I_1+c h_1^2$, where $c$ is a constant that is unknown. If we now half the step size: $h_2=h_1/2$, \n",
    "then we get a new (better) estimate of the integral, $I_2$, which is related to the true integral $I$ as: $I=I_2+c h_2^2$. \n",
    "Taking the difference between $I_2$ and $I_1$ give us an estimation of the error:"
   ]
  },
  {
   "cell_type": "markdown",
   "id": "b57c8d0c",
   "metadata": {
    "editable": true
   },
   "source": [
    "<!-- Equation labels as ordinary links -->\n",
    "<div id=\"_auto12\"></div>\n",
    "\n",
    "$$\n",
    "\\begin{equation}\n",
    "I_2-I_1=I-c h_2^2-(I-ch_1^2)=3c h_2^2,\n",
    "\\label{_auto12} \\tag{15}\n",
    "\\end{equation}\n",
    "$$"
   ]
  },
  {
   "cell_type": "markdown",
   "id": "3691006e",
   "metadata": {
    "editable": true
   },
   "source": [
    "where we have used the fact that $h_1=2h_2$, Thus the error term is:"
   ]
  },
  {
   "cell_type": "markdown",
   "id": "4138f39d",
   "metadata": {
    "editable": true
   },
   "source": [
    "<!-- Equation labels as ordinary links -->\n",
    "<div id=\"_auto13\"></div>\n",
    "\n",
    "$$\n",
    "\\begin{equation}\n",
    "E(a,b)=c h_2^2=\\frac{1}{3}(I_2-I_1).\n",
    "\\label{_auto13} \\tag{16}\n",
    "\\end{equation}\n",
    "$$"
   ]
  },
  {
   "cell_type": "markdown",
   "id": "79398e54",
   "metadata": {
    "editable": true
   },
   "source": [
    "This might seem like we need to evaluate the integral twice as many times as needed. This is not the case, by choosing to exactly \n",
    "half the spacing we only need to evaluate for the values that lies halfway between the original points. We will demonstrate how \n",
    "to do this by using the trapezoidal rule, because it operates directly on the $x_k$ values and not the midpoint values. \n",
    "The trapezoidal rule can now be written as:"
   ]
  },
  {
   "cell_type": "markdown",
   "id": "69d65a75",
   "metadata": {
    "editable": true
   },
   "source": [
    "<!-- Equation labels as ordinary links -->\n",
    "<div id=\"_auto14\"></div>\n",
    "\n",
    "$$\n",
    "\\begin{equation}\n",
    "I_2(a,b)=h_2\\left[\\frac{1}{2}f(a)+\\frac{1}{2}f(b)+\\sum_{k=1}^{N_2-1}f(a+k h_2)\\right],\n",
    "\\label{_auto14} \\tag{17}\n",
    "\\end{equation}\n",
    "$$"
   ]
  },
  {
   "cell_type": "markdown",
   "id": "ce2bc0fe",
   "metadata": {
    "editable": true
   },
   "source": [
    "$$\n",
    "=h_2\\left[\\frac{1}{2}f(a)+\\frac{1}{2}f(b)+\\sum_{k=\\text{even values}}^{N_2-1}f(a+k h_2)\\right.\\nonumber\n",
    "$$"
   ]
  },
  {
   "cell_type": "markdown",
   "id": "5be5da45",
   "metadata": {
    "editable": true
   },
   "source": [
    "<!-- Equation labels as ordinary links -->\n",
    "<div id=\"_auto15\"></div>\n",
    "\n",
    "$$\n",
    "\\begin{equation}  \n",
    "\\left.\\qquad+\\sum_{k=\\text{odd values}}^{N_2-1}f(a+k h_2)\\right],\n",
    "\\label{_auto15} \\tag{18}\n",
    "\\end{equation}\n",
    "$$"
   ]
  },
  {
   "cell_type": "markdown",
   "id": "33dc19de",
   "metadata": {
    "editable": true
   },
   "source": [
    "in the last equation we have split the sum into odd an even values. The sum over the even values can be rewritten:"
   ]
  },
  {
   "cell_type": "markdown",
   "id": "398568eb",
   "metadata": {
    "editable": true
   },
   "source": [
    "<!-- Equation labels as ordinary links -->\n",
    "<div id=\"_auto16\"></div>\n",
    "\n",
    "$$\n",
    "\\begin{equation}\n",
    "\\sum_{k=\\text{even values}}^{N_2-1}f(a+k h_2)=\\sum_{k=0}^{N_1-1}f(a+2k h_2)=\\sum_{k=0}^{N_1-1}f(a+k h_1),\n",
    "\\label{_auto16} \\tag{19}\n",
    "\\end{equation}\n",
    "$$"
   ]
  },
  {
   "cell_type": "markdown",
   "id": "82e105d2",
   "metadata": {
    "editable": true
   },
   "source": [
    "note that $N_2$ is replaced with $N_1=N_2/2$, we can now rewrite $I_2$ as:"
   ]
  },
  {
   "cell_type": "markdown",
   "id": "0bc78dc2",
   "metadata": {
    "editable": true
   },
   "source": [
    "$$\n",
    "I_2(a,b)=h_2\\left[\\frac{1}{2}f(a)+\\frac{1}{2}f(b)+\\sum_{k=0}^{N_1-1}f(a+k h_1)\\right.\\nonumber\n",
    "$$"
   ]
  },
  {
   "cell_type": "markdown",
   "id": "7d4fe6a9",
   "metadata": {
    "editable": true
   },
   "source": [
    "<!-- Equation labels as ordinary links -->\n",
    "<div id=\"_auto17\"></div>\n",
    "\n",
    "$$\n",
    "\\begin{equation}  \n",
    "\\left.+\\sum_{k=\\text{odd values}}^{N_2-1}f(a+k h_2)\\right]\n",
    "\\label{_auto17} \\tag{20}\n",
    "\\end{equation}\n",
    "$$"
   ]
  },
  {
   "cell_type": "markdown",
   "id": "67c794ba",
   "metadata": {
    "editable": true
   },
   "source": [
    "Note that the first terms are actually the trapezoidal rule for $I_1$, hence:"
   ]
  },
  {
   "cell_type": "markdown",
   "id": "0db4c65e",
   "metadata": {
    "editable": true
   },
   "source": [
    "<!-- Equation labels as ordinary links -->\n",
    "<div id=\"_auto18\"></div>\n",
    "\n",
    "$$\n",
    "\\begin{equation}\n",
    "I_2(a,b)=\\frac{1}{2}I_1(a,b)+h_2\\sum_{k=\\text{odd values}}^{N_2-1}f(a+k h_2).\n",
    "\\label{_auto18} \\tag{21}\n",
    "\\end{equation}\n",
    "$$"
   ]
  },
  {
   "cell_type": "markdown",
   "id": "a5f88720",
   "metadata": {
    "editable": true
   },
   "source": [
    "The factor $1/2$ in front of $I_1(a,b)$, appears because $h_2=h_1/2$. \n",
    "A possible algorithm is then:\n",
    "1. Choose a low number of steps to evaluate the integral, $I_0$, the first time, e.g. $N_0=1$\n",
    "\n",
    "2. Double the number of steps, $N_1=2N_0$ \n",
    "\n",
    "3. Calculate the missing values by summing over the odd number of steps $\\sum_{k=\\text{odd values}}^{N_1-1}f(a+k h_1)$\n",
    "\n",
    "4. Check if $E_1(a,b)=\\frac{1}{3}(I_1-I_0)$ is lower than a specific tolerance\n",
    "\n",
    "5. If yes quit, if not, return to 2, and continue until $E_i(a,b)=\\frac{1}{3}(I_{i+1}-I_{i})$ is lower than the tolerance  \n",
    "\n",
    "Below is a Python implementation:"
   ]
  },
  {
   "cell_type": "code",
   "execution_count": 4,
   "id": "32227611",
   "metadata": {
    "collapsed": false,
    "editable": true
   },
   "outputs": [],
   "source": [
    "def int_adaptive_trapez2(lower_limit, upper_limit,func,tol):\n",
    "    \"\"\"\n",
    "    adaptive quadrature, integrate a function from lower_limit\n",
    "    to upper_limit within tol*(upper_limit-lower_limit)\n",
    "\n",
    "    \"\"\"\n",
    "    S=[]\n",
    "    S.append([lower_limit,upper_limit])\n",
    "    I=0\n",
    "    iterations=0\n",
    "    while S:\n",
    "        iterations +=1\n",
    "        a,b=S.pop(-1) # last element\n",
    "        m=(b+a)*0.5   # midpoint\n",
    "        I1=0.5*(b-a)*(func(a)+func(b)) #trapezoidal for 1 interval \n",
    "        I2=0.25*(b-a)*(func(a)+func(b)+2*func(m)) #trapezoidal for 2 intervals\n",
    "        if(np.abs(I1-I2)<3*np.abs((b-a)*tol)):\n",
    "            I+=I2     # accuarcy met\n",
    "        else:\n",
    "            S.append([a,m]) # half the interval \n",
    "            S.append([m,b])\n",
    "    print(\"Number of iterations: \", iterations)\n",
    "    return I"
   ]
  },
  {
   "cell_type": "markdown",
   "id": "8b7e321e",
   "metadata": {
    "editable": true
   },
   "source": [
    "What is a good number to start with, what happens if we choose $N_0$ too large? Compare the adaptive midpoint rule with the adaptive \n",
    "trapezoidal rule, is it possible to get the same accuracy with the same number of iterations? Check the expected number of \n",
    "iterations with the theoretical value $N=\\sqrt{\\frac{(b-a)^2}{12E_T}\\left[f^\\prime(b)-f^\\prime(a)\\right]}$.\n",
    "\n",
    "If you compare the number of terms used in the adaptive trapezoidal rule, which was developed by halving the step size, and the adaptive midpoint rule that was derived on the basis of the theoretical error term, you will find the adaptive midpoint rule is more efficient. So why go through all this trouble? In the next section we will see that the development we did for the adaptive trapezoidal rule is closely related to Romberg integration, which is *much* more effective.\n",
    "\n",
    "# Romberg integration\n",
    "The adaptive algorithm for the trapezoidal rule in the previous section can be easily improved by remembering \n",
    "that the true integral was given by[^romerr] : $I=I_i+ch_i^2+\\mathcal{O}(h^4)$. The error term was in the previous example only used to \n",
    "check if the desired tolerance was achieved, but we could also have added it to our estimate of the integral to reach an accuracy to fourth order:\n",
    "\n",
    "[^romerr]: Note that all odd powers of $h$ is equal to zero, thus the corrections are always in even powers."
   ]
  },
  {
   "cell_type": "markdown",
   "id": "1ed60aaf",
   "metadata": {
    "editable": true
   },
   "source": [
    "<!-- Equation labels as ordinary links -->\n",
    "<div id=\"_auto19\"></div>\n",
    "\n",
    "$$\n",
    "\\begin{equation}\n",
    "I=I_{i+1}+ch^2+\\mathcal{O}(h^4)=I_{i+1}+\\frac{1}{3}\\left[I_{i+1}-I_{i}\\right]+\\mathcal{O}(h^4).\n",
    "\\label{_auto19} \\tag{22}\n",
    "\\end{equation}\n",
    "$$"
   ]
  },
  {
   "cell_type": "markdown",
   "id": "d89629cf",
   "metadata": {
    "editable": true
   },
   "source": [
    "As before the error term $\\mathcal{O}(h^4)$, can be written as: $ch^4$. Now we can proceed as in the previous section: First we estimate the \n",
    "integral by one step size $I_i=I+ch_i^4$, next we half the step size $I_{i+1}=I+ch_{i+1}^4$ and use these two estimates to calculate the error term:"
   ]
  },
  {
   "cell_type": "markdown",
   "id": "1a0e94d8",
   "metadata": {
    "editable": true
   },
   "source": [
    "$$\n",
    "I_{i+1}-I_{i}=I-c h_{i+1}^4-(I-ch_i^4)=-c h_{i+1}^4+c(2h_{i+1})^4=15c h_{i+1}^4,\\nonumber\n",
    "$$"
   ]
  },
  {
   "cell_type": "markdown",
   "id": "2212a71c",
   "metadata": {
    "editable": true
   },
   "source": [
    "<!-- Equation labels as ordinary links -->\n",
    "<div id=\"_auto20\"></div>\n",
    "\n",
    "$$\n",
    "\\begin{equation}  \n",
    "ch_{i+1}^4=\\frac{1}{15}\\left[I_{i+1}-I_{i}\\right]+\\mathcal{O}(h^6).\n",
    "\\label{_auto20} \\tag{23}\n",
    "\\end{equation}\n",
    "$$"
   ]
  },
  {
   "cell_type": "markdown",
   "id": "156f21f5",
   "metadata": {
    "editable": true
   },
   "source": [
    "but now we are in the exact situation as before, we have not only the error term but the correction up to order $h^4$ for this integral:"
   ]
  },
  {
   "cell_type": "markdown",
   "id": "aa550bc7",
   "metadata": {
    "editable": true
   },
   "source": [
    "<!-- Equation labels as ordinary links -->\n",
    "<div id=\"eq:numint:rom\"></div>\n",
    "\n",
    "$$\n",
    "\\begin{equation}\n",
    "I=I_{i+1}+\\frac{1}{15}\\left[I_{i+1}-I_{i}\\right]+\\mathcal{O}(h^6).\\label{eq:numint:rom} \\tag{24}\n",
    "\\end{equation}\n",
    "$$"
   ]
  },
  {
   "cell_type": "markdown",
   "id": "8036c4f7",
   "metadata": {
    "editable": true
   },
   "source": [
    "Each time we half the step size we also gain a higher order accuracy in our numerical algorithm. Thus, there are two iterations going on at the same time; \n",
    "one is the iteration that half the step size ($i$), and the other one is the increasing number of higher order terms added (which we will denote $m$). \n",
    "We need to improve our notation, and replace the approximation of the integral ($I_i$) with $R_{i,m}$. Equation ([24](#eq:numint:rom)), can now \n",
    "be written:"
   ]
  },
  {
   "cell_type": "markdown",
   "id": "c2faa4b0",
   "metadata": {
    "editable": true
   },
   "source": [
    "<!-- Equation labels as ordinary links -->\n",
    "<div id=\"_auto21\"></div>\n",
    "\n",
    "$$\n",
    "\\begin{equation}\n",
    "I=R_{i+1,2}+\\frac{1}{15}\\left[R_{i+1,2}-R_{i,2}\\right]+\\mathcal{O}(h^6).\n",
    "\\label{_auto21} \\tag{25}\n",
    "\\end{equation}\n",
    "$$"
   ]
  },
  {
   "cell_type": "markdown",
   "id": "b97c8e30",
   "metadata": {
    "editable": true
   },
   "source": [
    "A general formula valid for any $m$ can be found by realizing:"
   ]
  },
  {
   "cell_type": "markdown",
   "id": "82f0d1b7",
   "metadata": {
    "editable": true
   },
   "source": [
    "<!-- Equation labels as ordinary links -->\n",
    "<div id=\"eq:numint:rom0\"></div>\n",
    "\n",
    "$$\n",
    "\\begin{equation}\n",
    "I=R_{i+1,m+1}+c_mh_i^{2m+2}+\\mathcal{O}(h_i^{2m+4})\\label{eq:numint:rom0} \\tag{26}\n",
    "\\end{equation}\n",
    "$$"
   ]
  },
  {
   "cell_type": "markdown",
   "id": "970e247f",
   "metadata": {
    "editable": true
   },
   "source": [
    "$$\n",
    "I=R_{i,m+1}+c_mh_{i-1}^{2m+2}+\\mathcal{O}(h_{i-1}^{2m+4})\\nonumber\n",
    "$$"
   ]
  },
  {
   "cell_type": "markdown",
   "id": "541c3cda",
   "metadata": {
    "editable": true
   },
   "source": [
    "<!-- Equation labels as ordinary links -->\n",
    "<div id=\"eq:numint:rom1\"></div>\n",
    "\n",
    "$$\n",
    "\\begin{equation}  \n",
    "=R_{i,m+1}+2^{2m+2}c_mh_{i}^{2m+2}+\\mathcal{O}(h_{i-1}^{2m+4}),\\label{eq:numint:rom1} \\tag{27}\n",
    "\\end{equation}\n",
    "$$"
   ]
  },
  {
   "cell_type": "markdown",
   "id": "ab671e57",
   "metadata": {
    "editable": true
   },
   "source": [
    "where, as before $h_{i-1}=2h_i$. Subtracting equation ([26](#eq:numint:rom0)) and ([27](#eq:numint:rom1)), we find an expression for the error term:"
   ]
  },
  {
   "cell_type": "markdown",
   "id": "94877d3c",
   "metadata": {
    "editable": true
   },
   "source": [
    "<!-- Equation labels as ordinary links -->\n",
    "<div id=\"eq:numint:rom2\"></div>\n",
    "\n",
    "$$\n",
    "\\begin{equation}\n",
    "c_mh_{i}^{2m+2}=\\frac{1}{4^{m+1}-1}(R_{i,m}-R_{i-1,m})\\label{eq:numint:rom2} \\tag{28}\n",
    "\\end{equation}\n",
    "$$"
   ]
  },
  {
   "cell_type": "markdown",
   "id": "01f81b01",
   "metadata": {
    "editable": true
   },
   "source": [
    "Then the estimate for the integral in equation ([27](#eq:numint:rom1)) is:"
   ]
  },
  {
   "cell_type": "markdown",
   "id": "884463fd",
   "metadata": {
    "editable": true
   },
   "source": [
    "<!-- Equation labels as ordinary links -->\n",
    "<div id=\"_auto22\"></div>\n",
    "\n",
    "$$\n",
    "\\begin{equation}\n",
    "I=R_{i,m+1}+\\mathcal{O}(h_i^{2m+2})\n",
    "\\label{_auto22} \\tag{29}\n",
    "\\end{equation}\n",
    "$$"
   ]
  },
  {
   "cell_type": "markdown",
   "id": "4b12c368",
   "metadata": {
    "editable": true
   },
   "source": [
    "<!-- Equation labels as ordinary links -->\n",
    "<div id=\"_auto23\"></div>\n",
    "\n",
    "$$\n",
    "\\begin{equation}  \n",
    "R_{i,m+1}=R_{i,m}+\\frac{1}{4^{m+1}-1}(R_{i+1,m}-R_{i,m}).\n",
    "\\label{_auto23} \\tag{30}\n",
    "\\end{equation}\n",
    "$$"
   ]
  },
  {
   "cell_type": "markdown",
   "id": "70ede937",
   "metadata": {
    "editable": true
   },
   "source": [
    "A possible algorithm is then:\n",
    "\n",
    "1. Evaluate $R_{0,0}=\\frac{1}{2}\\left[f(a)+f(b)\\right](b-a)$ as the first estimate\n",
    "\n",
    "2. Double the number of steps, $N_{i+1}=2N_i$ or half the step size $h_{i+1}=h_i/2$ \n",
    "\n",
    "3. Calculate the missing values by summing over the odd number of steps $\\sum_{k=\\text{odd values}}^{N_1-1}f(a+k h_{i+1})$\n",
    "\n",
    "4. Correct the estimate by adding *all* the higher order error term $R_{i,m+1}=R_{i,m}+\\frac{1}{4^m-1}(R_{i+1,m+1}-R_{i,m+1})$\n",
    "\n",
    "5. Check if the error term is lower than a specific tolerance $E_{i,m}(a,b)=\\frac{1}{4^{m+1}-1}(R_{i,m}-R_{i-1,m})$, if yes quit, if no goto 2, increase $i$ and $m$ by one\n",
    "\n",
    "The algorithm is illustrated in [figure 3](#fig:numint:romberg).\n",
    "<!-- dom:FIGURE: [fig-numint/romberg.png, width=800 frac=0.5] Illustration of the Romberg algorithm. Note that for each new evaluation of the integral $R_{i,0}$, all the correction terms $R_{i,m}$ (for $m>0$) must be evaluated again. <div id=\"fig:numint:romberg\"></div> -->\n",
    "<!-- begin figure -->\n",
    "<div id=\"fig:numint:romberg\"></div>\n",
    "\n",
    "<img src=\"fig-numint/romberg.png\" width=800><p style=\"font-size: 0.9em\"><i>Figure 3: Illustration of the Romberg algorithm. Note that for each new evaluation of the integral $R_{i,0}$, all the correction terms $R_{i,m}$ (for $m>0$) must be evaluated again.</i></p>\n",
    "<!-- end figure -->\n",
    "\n",
    "Note that the tolerance term is not the correct one as it uses the error estimate for the current step, \n",
    "which we also use correct the integral in the current step to reach a higher accuracy. \n",
    "Thus the error on the integral will always be lower than the user specified tolerance.\n",
    "Below is a Python implementation:"
   ]
  },
  {
   "cell_type": "code",
   "execution_count": 5,
   "id": "6c881b1a",
   "metadata": {
    "collapsed": false,
    "editable": true
   },
   "outputs": [],
   "source": [
    "def int_romberg(func,a, b,tol,show=False):\n",
    "    \"\"\" calculates the area of func on the domain [a,b]\n",
    "        for the given tol, if show=True the triangular\n",
    "        array of intermediate results are printed \"\"\"\n",
    "    Nmax = 100\n",
    "    R = np.empty([Nmax,Nmax]) # storage buffer\n",
    "    h = (b-a) # step size\n",
    "    R[0,0]    =.5*(func(a)+func(b))*h\n",
    "    N = 1\n",
    "    for i in range(1,Nmax):\n",
    "        h /= 2\n",
    "        N *= 2\n",
    "        odd_terms=0\n",
    "        for k in range (1,N,2): # 1, 3, 5, ... , N-1\n",
    "            val        = a + k*h\n",
    "            odd_terms += func(val)\n",
    "\t\t# add the odd terms to the previous estimate\t\n",
    "        R[i,0]   = 0.5*R[i-1,0] + h*odd_terms \n",
    "        for m in range(i): \n",
    "\t\t\t# add all higher order terms in h\n",
    "            R[i,m+1]   = R[i,m] + (R[i,m]-R[i-1,m])/(4**(m+1)-1)                  \n",
    "\t\t# check tolerance, best guess\t\t\t\n",
    "        calc_tol = abs(R[i,i]-R[i-1,i-1])       \n",
    "        if(calc_tol<tol):\n",
    "            break  # estimated precision reached \n",
    "    if(i == Nmax-1):\n",
    "        print('Romberg routine did not converge after ',\n",
    "              Nmax, 'iterations!')\n",
    "    else:      \n",
    "        print('Number of intervals = ', N)\n",
    "\n",
    "    if(show==True):\n",
    "        elem = [2**idx for idx in range(i+1)]\n",
    "        print(\"Steps StepSize Results\")\n",
    "        for idx in range(i+1):\n",
    "            print(elem[idx],' ',\n",
    "                  \"{:.6f}\".format((b-a)/2**idx),end = ' ')\n",
    "            for l in range(idx+1):\n",
    "                print(\"{:.6f}\".format(R[idx,l]),end = ' ')\n",
    "            print('')  \n",
    "    return R[i,i] #return the best estimate"
   ]
  },
  {
   "cell_type": "markdown",
   "id": "4cbf5863",
   "metadata": {
    "editable": true
   },
   "source": [
    "Note that the Romberg integration only uses 32 function evaluations to reach a precision of $10^{-8}$, whereas the adaptive midpoint and trapezoidal rule in the previous\n",
    "section uses 20480 and 9069 function evaluations, respectively. \n",
    "\n",
    "## Alternative implementation of adaptive integration\n",
    "Before we proceed, we will consider an alternative implementation of the adaptive method presented in the previous sections, with the following modification\n",
    "1. We will use Simpsons rule (see the exercise at the end), which takes the following form $\\int_a^bf(x)dx\\simeq\\frac{h}{6}\\left[f(a)+4f(a+\\frac{h}{2})+2f(a+h)+ 4f(a+3\\frac{h}{2})+2f(a+2h)+\\cdots+f(b)\\right]$\n",
    "\n",
    "2. We only divide the intervals needed to reach the desired accuracy.\n",
    "\n",
    "Simpsons rule is accurate up to $\\mathcal{O}(h^4)$, and by following the same arguments as above we can estimate the error as $E_i(a,b)=\\frac{1}{15}(I_{i+1}-I_{i})$. The factor 1/15 (as opposed to 1/3) originates from the higher order accuracy. The integration proceeds as follows\n",
    "* `S` is an empty list\n",
    "\n",
    "* `S.append([a,b])`\n",
    "\n",
    "* $I=0$\n",
    "\n",
    "* `while S not empty do:`\n",
    "\n",
    "  * `[a,b]=S.pop(-1)`\n",
    "\n",
    "  * $m=(b+a)/2$\n",
    "\n",
    "  * $I_1=$ `simpson_step(a,b)`\n",
    "\n",
    "  * $I_2=$ `simpson_step(a,m)+simpson_step(m,b)`\n",
    "\n",
    "  * if $|I_1-I_2|<15|b-a|\\cdot tol$\n",
    "\n",
    "    * $I+=I_2$\n",
    "\n",
    "\n",
    "  * else:\n",
    "\n",
    "    * `S.append([a,m])`\n",
    "\n",
    "    * `S.append([m,b])`\n",
    "\n",
    "\n",
    "  * return $I$\n",
    "\n",
    "\n",
    "Note the use of the list `S`, we remove the interval $[a,b]$ from the list and calculates the integral. If the integral is not accurate enough we add to new intervals to the list, and continue until we reach the desired accuracy, then we proceed with the next interval. Since we remove (`pop`) the element from the list, we know that we will finish the evaluation once the list is empty. This algorithm allows for different sub interval to have different degrees of subdivisions, contrary to Rombergs algorithm. The full python implementation is shown below"
   ]
  },
  {
   "cell_type": "code",
   "execution_count": 6,
   "id": "9cb6c6e7",
   "metadata": {
    "collapsed": false,
    "editable": true
   },
   "outputs": [],
   "source": [
    "def simpson_step(a, b,func):\n",
    "    m=0.5*(a+b)\n",
    "    return (b-a)/6*(func(a)+func(b)+4*func(m))\n",
    "\n",
    "def int_adaptive_simpson(func,a, b,tol):\n",
    "    \"\"\"\n",
    "    adaptive quadrature, integrate a function from a\n",
    "    to b within tol*(b-a) uses simpsons rule\n",
    "    \"\"\"\n",
    "    S=[]\n",
    "    S.append([a,b])\n",
    "    I=0\n",
    "    iterations=0\n",
    "    while S:\n",
    "        iterations +=1\n",
    "        a,b=S.pop(-1) # last element\n",
    "        m=(b+a)*0.5   # midpoint\n",
    "        I1=simpson_step(a,b,func) #simpsons for 1 interval \n",
    "        I2=simpson_step(a,m,func)+simpson_step(m,b,func) # ...2 intervals\n",
    "        if(np.abs(I1-I2)<15*np.abs((b-a)*tol)):\n",
    "            I+=I2     # accuarcy met\n",
    "        else:\n",
    "            S.append([a,m]) # half the interval \n",
    "            S.append([m,b])\n",
    "    print(\"Number of iterations: \", iterations)\n",
    "    return I"
   ]
  },
  {
   "cell_type": "markdown",
   "id": "6a25c08c",
   "metadata": {
    "editable": true
   },
   "source": [
    "# Gaussian quadrature\n",
    "Many of the methods we have looked into are of the type:"
   ]
  },
  {
   "cell_type": "markdown",
   "id": "5909ef15",
   "metadata": {
    "editable": true
   },
   "source": [
    "<!-- Equation labels as ordinary links -->\n",
    "<div id=\"eq:numint:qq1\"></div>\n",
    "\n",
    "$$\n",
    "\\begin{equation}\n",
    "\t\\int_a^b f(x) dx = \\sum_{k=0}^{N-1} \\omega_k f(x_k),\\label{eq:numint:qq1} \\tag{31}\n",
    "\\end{equation}\n",
    "$$"
   ]
  },
  {
   "cell_type": "markdown",
   "id": "89d80a0f",
   "metadata": {
    "editable": true
   },
   "source": [
    "where the function is evaluated at fixed interval. For the midpoint rule $\\omega_k=h$ for all values of $k$, for the trapezoid rule \n",
    "$\\omega_k=h/2$ for the endpoints and $h$ for all the interior points. \n",
    "For the Simpsons rule (see exercise) $\\omega_k=h/3, 4h/3,2h/3,4h/3,\\ldots,4h/3,h/3$. \n",
    "Note that all the methods we have looked at so far samples the function in equal spaced points, $f(a+k h)$, \n",
    "for $k=0, 1, 2\\ldots, N-1$. If we now allow for the function to be evaluated at unevenly spaced points, we can do a lot better. \n",
    "This realization is the basis for Gaussian Quadrature. We will explore this in the following, \n",
    "but to make the development easier and less cumbersome, we transform the integral from the domain $[a,b]$ to $[-1,1]$:"
   ]
  },
  {
   "cell_type": "markdown",
   "id": "64b8397b",
   "metadata": {
    "editable": true
   },
   "source": [
    "<!-- Equation labels as ordinary links -->\n",
    "<div id=\"_auto24\"></div>\n",
    "\n",
    "$$\n",
    "\\begin{equation}\n",
    "\\int_a^bf(t)dt=\\frac{b-a}{2}\\int_{-1}^{1}f(x)dx\\text{ , where:}\n",
    "\\label{_auto24} \\tag{32}\n",
    "\\end{equation}\n",
    "$$"
   ]
  },
  {
   "cell_type": "markdown",
   "id": "6d32f6f7",
   "metadata": {
    "editable": true
   },
   "source": [
    "<!-- Equation labels as ordinary links -->\n",
    "<div id=\"_auto25\"></div>\n",
    "\n",
    "$$\n",
    "\\begin{equation}  \n",
    "x=\\frac{2}{b-a}t-\\frac{b+a}{b-a}.\n",
    "\\label{_auto25} \\tag{33}\n",
    "\\end{equation}\n",
    "$$"
   ]
  },
  {
   "cell_type": "markdown",
   "id": "c053dcca",
   "metadata": {
    "editable": true
   },
   "source": [
    "The factor in front comes from the fact that $dt=(b-a)dx/2$, thus we can develop our algorithms on the domain $[-1,1]$, \n",
    "and then do the transformation back using: $t=(b-a)x/2+(b+a)/2$.\n",
    "\n",
    "**Notice.**\n",
    "\n",
    "The idea we will explore is as follows:\n",
    "If we can approximate the function to be integrated on the domain $[-1,1]$ (or on $[a,b]$) as a \n",
    "polynomial of as *large a degree as possible*, then the numerical integral of this polynomial will be very close to the integral of the \n",
    "function we are seeking.\n",
    "\n",
    "\n",
    "This idea is best understood by a couple of examples. Assume that we want to use $N=1$ in equation ([31](#eq:numint:qq1)):"
   ]
  },
  {
   "cell_type": "markdown",
   "id": "802a54a8",
   "metadata": {
    "editable": true
   },
   "source": [
    "<!-- Equation labels as ordinary links -->\n",
    "<div id=\"_auto26\"></div>\n",
    "\n",
    "$$\n",
    "\\begin{equation}\n",
    "\\int_{-1}^{1}f(x)\\,dx\\simeq\\omega_0f(x_0).\n",
    "\\label{_auto26} \\tag{34}\n",
    "\\end{equation}\n",
    "$$"
   ]
  },
  {
   "cell_type": "markdown",
   "id": "f251bf05",
   "metadata": {
    "editable": true
   },
   "source": [
    "We now choose $f(x)$ to be a polynomial of as large a degree as possible, but with the requirement that the integral is exact. If $f(x)=1$, we get:"
   ]
  },
  {
   "cell_type": "markdown",
   "id": "8828ed1e",
   "metadata": {
    "editable": true
   },
   "source": [
    "<!-- Equation labels as ordinary links -->\n",
    "<div id=\"_auto27\"></div>\n",
    "\n",
    "$$\n",
    "\\begin{equation}\n",
    "\\int_{-1}^{1}f(x)\\,dx=\\int_{-1}^{1}1\\,dx=2=\\omega_0,\n",
    "\\label{_auto27} \\tag{35}\n",
    "\\end{equation}\n",
    "$$"
   ]
  },
  {
   "cell_type": "markdown",
   "id": "e1555b1a",
   "metadata": {
    "editable": true
   },
   "source": [
    "hence $\\omega_0=2$. If we choose $f(x)=x$, we get:"
   ]
  },
  {
   "cell_type": "markdown",
   "id": "fe6e0e78",
   "metadata": {
    "editable": true
   },
   "source": [
    "<!-- Equation labels as ordinary links -->\n",
    "<div id=\"_auto28\"></div>\n",
    "\n",
    "$$\n",
    "\\begin{equation}\n",
    "\\int_{-1}^{1}f(x)\\,dx=\\int_{-1}^{1}x\\,dx=0=\\omega_0f(x_0)=2x_0,\n",
    "\\label{_auto28} \\tag{36}\n",
    "\\end{equation}\n",
    "$$"
   ]
  },
  {
   "cell_type": "markdown",
   "id": "ba983cf9",
   "metadata": {
    "editable": true
   },
   "source": [
    "hence $x_0=0$. \n",
    "**The Gaussian integration rule for $N=1$ is:**"
   ]
  },
  {
   "cell_type": "markdown",
   "id": "460c2ae8",
   "metadata": {
    "editable": true
   },
   "source": [
    "$$\n",
    "\\int_{-1}^{1}f(x)\\,dx\\simeq 2f(0)\\text{, or: }\\nonumber\n",
    "$$"
   ]
  },
  {
   "cell_type": "markdown",
   "id": "caf1ea6d",
   "metadata": {
    "editable": true
   },
   "source": [
    "<!-- Equation labels as ordinary links -->\n",
    "<div id=\"_auto29\"></div>\n",
    "\n",
    "$$\n",
    "\\begin{equation}  \n",
    "\\int_{a}^{b}f(t)\\,dt\\simeq\\frac{b-a}{2}\\,2f(\\frac{b+a}{2})=(b-a)f(\\frac{b+a}{2}).\n",
    "\\label{_auto29} \\tag{37}\n",
    "\\end{equation}\n",
    "$$"
   ]
  },
  {
   "cell_type": "markdown",
   "id": "3f40c305",
   "metadata": {
    "editable": true
   },
   "source": [
    "This equation is equal to the midpoint rule, by choosing $b=a+h$ we reproduce equation ([1](#eq:numint:mid0)). If we choose $N=2$:"
   ]
  },
  {
   "cell_type": "markdown",
   "id": "1d27ef54",
   "metadata": {
    "editable": true
   },
   "source": [
    "<!-- Equation labels as ordinary links -->\n",
    "<div id=\"_auto30\"></div>\n",
    "\n",
    "$$\n",
    "\\begin{equation}\n",
    "\\int_{-1}^{1}f(x)\\,dx\\simeq\\omega_0f(x_0)+\\omega_1f(x_1),\n",
    "\\label{_auto30} \\tag{38}\n",
    "\\end{equation}\n",
    "$$"
   ]
  },
  {
   "cell_type": "markdown",
   "id": "c94c4be5",
   "metadata": {
    "editable": true
   },
   "source": [
    "we can show that now $ f(x)=1,\\,x,\\,x^2\\,x^3$ can be integrated exact:"
   ]
  },
  {
   "cell_type": "markdown",
   "id": "93935acd",
   "metadata": {
    "editable": true
   },
   "source": [
    "<!-- Equation labels as ordinary links -->\n",
    "<div id=\"_auto31\"></div>\n",
    "\n",
    "$$\n",
    "\\begin{equation}\n",
    "\\int_{-1}^{1}1\\,dx=2=\\omega_0f(x_0)+\\omega_1f(x_1)=\\omega_0+\\omega_1\\,,\n",
    "\\label{_auto31} \\tag{39}\n",
    "\\end{equation}\n",
    "$$"
   ]
  },
  {
   "cell_type": "markdown",
   "id": "1f2a96bf",
   "metadata": {
    "editable": true
   },
   "source": [
    "<!-- Equation labels as ordinary links -->\n",
    "<div id=\"_auto32\"></div>\n",
    "\n",
    "$$\n",
    "\\begin{equation}  \n",
    "\\int_{-1}^{1}x\\,dx=0=\\omega_0f(x_0)+\\omega_1f(x_1)=\\omega_0x_0+\\omega_1x_1\\,,\n",
    "\\label{_auto32} \\tag{40}\n",
    "\\end{equation}\n",
    "$$"
   ]
  },
  {
   "cell_type": "markdown",
   "id": "42376e10",
   "metadata": {
    "editable": true
   },
   "source": [
    "<!-- Equation labels as ordinary links -->\n",
    "<div id=\"_auto33\"></div>\n",
    "\n",
    "$$\n",
    "\\begin{equation}  \n",
    "\\int_{-1}^{1}x^2\\,dx=\\frac{2}{3}=\\omega_0f(x_0)+\\omega_1f(x_1)=\\omega_0x_0^2+\\omega_1x_1^2\\,,\n",
    "\\label{_auto33} \\tag{41}\n",
    "\\end{equation}\n",
    "$$"
   ]
  },
  {
   "cell_type": "markdown",
   "id": "d9452f78",
   "metadata": {
    "editable": true
   },
   "source": [
    "<!-- Equation labels as ordinary links -->\n",
    "<div id=\"_auto34\"></div>\n",
    "\n",
    "$$\n",
    "\\begin{equation}  \n",
    "\\int_{-1}^{1}x^3\\,dx=0=\\omega_0f(x_0)+\\omega_1f(x_1)=\\omega_0x_0^3+\\omega_1x_1^3\\,,\n",
    "\\label{_auto34} \\tag{42}\n",
    "\\end{equation}\n",
    "$$"
   ]
  },
  {
   "cell_type": "markdown",
   "id": "decc9ee1",
   "metadata": {
    "editable": true
   },
   "source": [
    "hence there are four unknowns and four equations. The solution is: $\\omega_0=\\omega_1=1$ and $x_0=-x_1=1/\\sqrt{3}$.\n",
    "\n",
    "**The Gaussian integration rule for $N=2$ is:**"
   ]
  },
  {
   "cell_type": "markdown",
   "id": "b3fd9418",
   "metadata": {
    "editable": true
   },
   "source": [
    "<!-- Equation labels as ordinary links -->\n",
    "<div id=\"_auto35\"></div>\n",
    "\n",
    "$$\n",
    "\\begin{equation}\n",
    "\\int_{-1}^{1}f(x)\\,dx\\simeq f(-\\frac{1}{\\sqrt{3}})+f(\\frac{1}{\\sqrt{3}})\\, \\text{, or:}\n",
    "\\label{_auto35} \\tag{43}\n",
    "\\end{equation}\n",
    "$$"
   ]
  },
  {
   "cell_type": "markdown",
   "id": "159de555",
   "metadata": {
    "editable": true
   },
   "source": [
    "<!-- Equation labels as ordinary links -->\n",
    "<div id=\"_auto36\"></div>\n",
    "\n",
    "$$\n",
    "\\begin{equation}  \n",
    "\\int_{a}^{b}f(x)\\,dx\\simeq \\frac{b-a}{2}\\left[f(-\\frac{b-a}{2}\\frac{1}{\\sqrt{3}}+\\frac{b+a}{2})\n",
    "+f(\\frac{b-a}{2}\\frac{1}{\\sqrt{3}}+\\frac{b+a}{2})\\right].\n",
    "\\label{_auto36} \\tag{44}\n",
    "\\end{equation}\n",
    "$$"
   ]
  },
  {
   "cell_type": "code",
   "execution_count": 7,
   "id": "9ced3c4d",
   "metadata": {
    "collapsed": false,
    "editable": true
   },
   "outputs": [],
   "source": [
    "def int_gaussquad2(func, lower_limit, upper_limit):\n",
    "    x   = np.array([-1/np.sqrt(3.),1/np.sqrt(3)])\n",
    "    w   = np.array([1, 1])\n",
    "    xp  = 0.5*(upper_limit-lower_limit)*x\n",
    "    xp += 0.5*(upper_limit+lower_limit)\n",
    "    area = np.sum(w*func(xp))\n",
    "    return area*0.5*(upper_limit-lower_limit)"
   ]
  },
  {
   "cell_type": "markdown",
   "id": "e5f02ec6",
   "metadata": {
    "editable": true
   },
   "source": [
    "### The case N=3\n",
    "\n",
    "For the case $N=3$, we find that $f(x)=1,x,x^2,x^3,x^4,x^5$ can be integrated exactly:"
   ]
  },
  {
   "cell_type": "markdown",
   "id": "3c213fda",
   "metadata": {
    "editable": true
   },
   "source": [
    "<!-- Equation labels as ordinary links -->\n",
    "<div id=\"_auto37\"></div>\n",
    "\n",
    "$$\n",
    "\\begin{equation}\n",
    "\\int_{-1}^{1}1\\,dx=2=\\omega_0+\\omega_1+\\omega_2\\,,\n",
    "\\label{_auto37} \\tag{45}\n",
    "\\end{equation}\n",
    "$$"
   ]
  },
  {
   "cell_type": "markdown",
   "id": "b0894272",
   "metadata": {
    "editable": true
   },
   "source": [
    "<!-- Equation labels as ordinary links -->\n",
    "<div id=\"_auto38\"></div>\n",
    "\n",
    "$$\n",
    "\\begin{equation}  \n",
    "\\int_{-1}^{1}x\\,dx=0=\\omega_0x_0+\\omega_1x_1+\\omega_2x_2\\,,\n",
    "\\label{_auto38} \\tag{46}\n",
    "\\end{equation}\n",
    "$$"
   ]
  },
  {
   "cell_type": "markdown",
   "id": "4a95fcf1",
   "metadata": {
    "editable": true
   },
   "source": [
    "<!-- Equation labels as ordinary links -->\n",
    "<div id=\"_auto39\"></div>\n",
    "\n",
    "$$\n",
    "\\begin{equation}  \n",
    "\\int_{-1}^{1}x^2\\,dx=\\frac{2}{3}=\\omega_0x_0^2+\\omega_1x_1^2+\\omega_2x_2^2\\,,\n",
    "\\label{_auto39} \\tag{47}\n",
    "\\end{equation}\n",
    "$$"
   ]
  },
  {
   "cell_type": "markdown",
   "id": "65bc6b24",
   "metadata": {
    "editable": true
   },
   "source": [
    "<!-- Equation labels as ordinary links -->\n",
    "<div id=\"_auto40\"></div>\n",
    "\n",
    "$$\n",
    "\\begin{equation}  \n",
    "\\int_{-1}^{1}x^3\\,dx=0=\\omega_0x_0^3+\\omega_1x_1^3+\\omega_2x_2^3\\,,\n",
    "\\label{_auto40} \\tag{48}\n",
    "\\end{equation}\n",
    "$$"
   ]
  },
  {
   "cell_type": "markdown",
   "id": "eb97457c",
   "metadata": {
    "editable": true
   },
   "source": [
    "<!-- Equation labels as ordinary links -->\n",
    "<div id=\"_auto41\"></div>\n",
    "\n",
    "$$\n",
    "\\begin{equation}  \n",
    "\\int_{-1}^{1}x^4\\,dx=\\frac{2}{5}=\\omega_0x_0^4+\\omega_1x_1^4+\\omega_2x_2^4\\,,\n",
    "\\label{_auto41} \\tag{49}\n",
    "\\end{equation}\n",
    "$$"
   ]
  },
  {
   "cell_type": "markdown",
   "id": "77d7e78c",
   "metadata": {
    "editable": true
   },
   "source": [
    "<!-- Equation labels as ordinary links -->\n",
    "<div id=\"_auto42\"></div>\n",
    "\n",
    "$$\n",
    "\\begin{equation}  \n",
    "\\int_{-1}^{1}x^5\\,dx=0=\\omega_0x_0^5+\\omega_1x_1^5+\\omega_2x_2^5\\,,\n",
    "\\label{_auto42} \\tag{50}\n",
    "\\end{equation}\n",
    "$$"
   ]
  },
  {
   "cell_type": "markdown",
   "id": "bebbd2a0",
   "metadata": {
    "editable": true
   },
   "source": [
    "the solution to these equations are $\\omega_{0,1,2}=5/9, 8/9, 5/9$ and $x_{1,2,3}=-\\sqrt{3/5},0,\\sqrt{3/5}$. Below is a Python implementation:"
   ]
  },
  {
   "cell_type": "code",
   "execution_count": 8,
   "id": "62c218da",
   "metadata": {
    "collapsed": false,
    "editable": true
   },
   "outputs": [],
   "source": [
    "def int_gaussquad3(lower_limit, upper_limit,func):\n",
    "    x  = np.array([-np.sqrt(3./5.),0.,np.sqrt(3./5.)])\n",
    "    w  = np.array([5./9., 8./9., 5./9.])\n",
    "    xp = 0.5*(upper_limit-lower_limit)*x\n",
    "    xp += 0.5*(upper_limit+lower_limit)\n",
    "    area = np.sum(w*func(xp))\n",
    "    return area*0.5*(upper_limit-lower_limit)"
   ]
  },
  {
   "cell_type": "markdown",
   "id": "e4500014",
   "metadata": {
    "editable": true
   },
   "source": [
    "Note that the Gaussian quadrature converges very fast. From $N=2$ to $N=3$ function evaluation we reduce the error (in this specific case) \n",
    "from 6.5% to 0.1%. Our standard trapezoidal formula needs more than 20 function evaluations to achieve this, the Romberg method uses 4-5 function\n",
    "evaluations. How can this be? If we use the standard Taylor formula for the function to be integrated, we know that for $N=2$ the Taylor \n",
    "formula must be integrated up to $x^3$, so the error term is proportional to $h^4f^{(4)}(\\xi)$ (where $\\xi$ is some x-value in $[a,b]$). \n",
    "$h$ is the step size, and we can replace it with $h\\sim (b-a)/N$, thus the error scale as $c_N/N^4$ (where $c_N$ is a constant). \n",
    "Following the same argument, we find for $N=3$ that the error term is $h^6f^{(6)}(\\xi)$ or that the error term scale as $c_N/N^6$. \n",
    "Each time we increase $N$ by a factor of one, the error term reduces by $N^2$. Thus if we evaluate the integral for $N=10$, \n",
    "increasing to $N=11$ will reduce the error by a factor of $11^2=121$.\n",
    "\n",
    "## Error term on Gaussian integration\n",
    "The Gaussian integration rule of order $N$ integrates exactly a polynomial of order $2N-1$. \n",
    "From Taylors error formula, \n",
    "we can easily see that the error term must be of order $2N$, and be proportional to $f^{(2N)}(\\eta)$, see [[stoer2013]](#stoer2013) for more details on the derivation of error terms. The drawback with an analytical error term derived from series expansion is that it involves the derivative of the function. As we have already explained, this is very unpractical and it is much more practical to use the methods described in the section [sec:numint:parct](#sec:numint:parct). Let us consider this in more detail, assume that we evaluate the integral using first a Gaussian integration rule with $N$ points, and then $N+1$ points. Our estimates of the \"exact\" integral, $I$,  would then be:"
   ]
  },
  {
   "cell_type": "markdown",
   "id": "11908b94",
   "metadata": {
    "editable": true
   },
   "source": [
    "<!-- Equation labels as ordinary links -->\n",
    "<div id=\"eq:numint:gerr1\"></div>\n",
    "\n",
    "$$\n",
    "\\begin{equation}\n",
    " I=I_N+ch_{N}^{2N},\\label{eq:numint:gerr1} \\tag{51}\n",
    "\\end{equation}\n",
    "$$"
   ]
  },
  {
   "cell_type": "markdown",
   "id": "753d8908",
   "metadata": {
    "editable": true
   },
   "source": [
    "<!-- Equation labels as ordinary links -->\n",
    "<div id=\"eq:numint:gerr2\"></div>\n",
    "\n",
    "$$\n",
    "\\begin{equation}  \n",
    " I=I_{N+1}+ch_{N+1}^{2N+1}.\n",
    "\\label{eq:numint:gerr2} \\tag{52}\n",
    "\\end{equation}\n",
    "$$"
   ]
  },
  {
   "cell_type": "markdown",
   "id": "f0801cdd",
   "metadata": {
    "editable": true
   },
   "source": [
    "In principle $h_{N+1}\\neq h_{N}$, but in the following we will assume that $h_N\\simeq h_{N+1}$, and $h\\ll 1$. Subtracting equation ([51](#eq:numint:gerr1)) and ([52](#eq:numint:gerr2)) we can show that a reasonable estimate for the error term $ch^{2N}$ would be:"
   ]
  },
  {
   "cell_type": "markdown",
   "id": "eba0625a",
   "metadata": {
    "editable": true
   },
   "source": [
    "<!-- Equation labels as ordinary links -->\n",
    "<div id=\"_auto43\"></div>\n",
    "\n",
    "$$\n",
    "\\begin{equation}\n",
    "ch^N= I_{N+1}-I_N.\n",
    "\\label{_auto43} \\tag{53}\n",
    "\\end{equation}\n",
    "$$"
   ]
  },
  {
   "cell_type": "markdown",
   "id": "2e804c12",
   "metadata": {
    "editable": true
   },
   "source": [
    "If this estimate is lower than a given tolerance we can be quite confident that the higher order estimate $I_{N+1}$ approximate the true integral within our error estimate. This is the method implemented in SciPy, [`integrate.quadrature`](https://docs.scipy.org/doc/scipy-0.14.0/reference/generated/scipy.integrate.quadrature.html)\n",
    "\n",
    "## Common weight functions for classical Gaussian quadratures\n",
    "# Integrating functions over an infinite range\n",
    "Integrating a function over an infinite range can be done by the following trick. Assume that we would like to evaluate"
   ]
  },
  {
   "cell_type": "markdown",
   "id": "b79af388",
   "metadata": {
    "editable": true
   },
   "source": [
    "<!-- Equation labels as ordinary links -->\n",
    "<div id=\"eq:numint:inf\"></div>\n",
    "\n",
    "$$\n",
    "\\begin{equation}\n",
    "\\int_a^\\infty f(x) dx.\n",
    "\\label{eq:numint:inf} \\tag{54}\n",
    "\\end{equation}\n",
    "$$"
   ]
  },
  {
   "cell_type": "markdown",
   "id": "372145e2",
   "metadata": {
    "editable": true
   },
   "source": [
    "If we introduce the following substitution"
   ]
  },
  {
   "cell_type": "markdown",
   "id": "096699bc",
   "metadata": {
    "editable": true
   },
   "source": [
    "<!-- Equation labels as ordinary links -->\n",
    "<div id=\"eq:numint:infs\"></div> <div id=\"eq:numint:infs2\"></div>\n",
    "\n",
    "$$\n",
    "\\begin{equation}\n",
    "z=\\frac{x-a}{1+x-a},\n",
    "\\label{eq:numint:infs} \\tag{55}\n",
    "\\end{equation}\n",
    "or equivalently\n",
    "\\begin{equation}\n",
    "x=a+\\frac{z}{1-z},\n",
    "\\label{eq:numint:infs2} \\tag{56}\n",
    "\\end{equation}\n",
    "$$"
   ]
  },
  {
   "cell_type": "markdown",
   "id": "f3d1a8de",
   "metadata": {
    "editable": true
   },
   "source": [
    "then if $x=a$, $z=0$, and if $x\\to\\infty$ then $z\\to1$, hence:"
   ]
  },
  {
   "cell_type": "markdown",
   "id": "cd400aaf",
   "metadata": {
    "editable": true
   },
   "source": [
    "<!-- Equation labels as ordinary links -->\n",
    "<div id=\"eq:numint:infs3\"></div>\n",
    "\n",
    "$$\n",
    "\\begin{equation}\n",
    "\\int_a^\\infty f(x) dx = \\int_0^1 f(a+\\frac{z}{1-z}) \\frac{dz}{(1-z)^2}.\n",
    "\\label{eq:numint:infs3} \\tag{57}\n",
    "\\end{equation}\n",
    "$$"
   ]
  },
  {
   "cell_type": "markdown",
   "id": "251bd442",
   "metadata": {
    "editable": true
   },
   "source": [
    "<!-- --- begin exercise --- -->\n",
    "\n",
    "## Exercise 1: Numerical Integration\n",
    "\n",
    "**a)**\n",
    "Show that for a linear function, $y=a\\cdot x+b$ both the trapezoidal rule and the rectangular rule are exact\n",
    "\n",
    "**b)**\n",
    "Consider $I(a,b)=\\int_a^bf(x)dx$ for $f(x)=x^2$. The analytical result is $I(a,b)=\\frac{b^3-a^3}{3}$. Use the Trapezoidal and \n",
    "  Midpoint rule to evaluate these integrals and show that the error for the Trapezoidal rule is exactly twice as big as the Midpoint rule.\n",
    "\n",
    "**c)**\n",
    "Use the fact that the error term on the trapezoidal rule is twice as big as the midpoint rule to derive Simpsons formula: $I(a,b)=\\sum_{k=0}^{N-1}I(x_k,x_k+h)=\\frac{h}{6}\\left[f(a)+ 4f(a+\\frac{h}{2})+2f(a+h)+4f(a+3\\frac{h}{2})+2f(a+2h)+\\cdots+f(b)\\right]$ Hint: $I(x_k,x_k+h)=M(x_k,x_k+h)+E_M$ (midpoint rule) and $I(x_k,x_k+h)=T(x_k,x_k+h)+E_T=T(x_k,x_k+h)-2E_M$ (trapezoidal rule).\n",
    "\n",
    "<!-- --- begin solution of exercise --- -->\n",
    "**Solution.**\n",
    "Simpsons rule is an improvement over the midpoint and trapezoidal rule. It can be derived in different ways, we will make use of \n",
    "the results in the previous section. If we assume that the second derivative is reasonably well behaved on the interval $x_k$ \n",
    "and $x_k+h$ and fairly constant we can assume that $f^{\\prime\\prime}(\\eta)\\simeq f^{\\prime\\prime}(\\overline{\\eta})$, hence $E_T=-2E_M$."
   ]
  },
  {
   "cell_type": "markdown",
   "id": "97c71d62",
   "metadata": {
    "editable": true
   },
   "source": [
    "<!-- Equation labels as ordinary links -->\n",
    "<div id=\"_auto44\"></div>\n",
    "\n",
    "$$\n",
    "\\begin{equation}\n",
    "I(x_k,x_k+h)=M(x_k,x_k+h)+E_M\\text{ (midpoint rule)}\n",
    "\\label{_auto44} \\tag{58}\n",
    "\\end{equation}\n",
    "$$"
   ]
  },
  {
   "cell_type": "markdown",
   "id": "e5975c75",
   "metadata": {
    "editable": true
   },
   "source": [
    "$$\n",
    "I(x_k,x_k+h)=T(x_k,x_k+h)+E_T\\nonumber\n",
    "$$"
   ]
  },
  {
   "cell_type": "markdown",
   "id": "1a8c0e2b",
   "metadata": {
    "editable": true
   },
   "source": [
    "<!-- Equation labels as ordinary links -->\n",
    "<div id=\"_auto45\"></div>\n",
    "\n",
    "$$\n",
    "\\begin{equation}  \n",
    "=T(x_k,x_k+h)-2E_M\\text{ (trapezoidal rule)},\n",
    "\\label{_auto45} \\tag{59}\n",
    "\\end{equation}\n",
    "$$"
   ]
  },
  {
   "cell_type": "markdown",
   "id": "14104a7c",
   "metadata": {
    "editable": true
   },
   "source": [
    "we can now cancel out the error term by multiplying the first equation with 2 and adding the equations:"
   ]
  },
  {
   "cell_type": "markdown",
   "id": "2b42fd82",
   "metadata": {
    "editable": true
   },
   "source": [
    "<!-- Equation labels as ordinary links -->\n",
    "<div id=\"_auto46\"></div>\n",
    "\n",
    "$$\n",
    "\\begin{equation}\n",
    "3I(x_k,x_k+h)=2M(x_k,x_k+h)+T(x_k,x_k+h)\n",
    "\\label{_auto46} \\tag{60}\n",
    "\\end{equation}\n",
    "$$"
   ]
  },
  {
   "cell_type": "markdown",
   "id": "44d5f41d",
   "metadata": {
    "editable": true
   },
   "source": [
    "<!-- Equation labels as ordinary links -->\n",
    "<div id=\"_auto47\"></div>\n",
    "\n",
    "$$\n",
    "\\begin{equation}  \n",
    "=2f(x_k+\\frac{h}{2}) h+\\left[f(x_k+h)+f(x_k)\\right] \\frac{h}{2}\n",
    "\\label{_auto47} \\tag{61}\n",
    "\\end{equation}\n",
    "$$"
   ]
  },
  {
   "cell_type": "markdown",
   "id": "b85abc34",
   "metadata": {
    "editable": true
   },
   "source": [
    "<!-- Equation labels as ordinary links -->\n",
    "<div id=\"_auto48\"></div>\n",
    "\n",
    "$$\n",
    "\\begin{equation}  \n",
    "I(x_k,x_k+h)=\\frac{h}{6}\\left[f(x_k)+4f(x_k+\\frac{h}{2})+f(x_k+h)\\right].\n",
    "\\label{_auto48} \\tag{62}\n",
    "\\end{equation}\n",
    "$$"
   ]
  },
  {
   "cell_type": "markdown",
   "id": "06d76fca",
   "metadata": {
    "editable": true
   },
   "source": [
    "Now we can do as we did in the case of the trapezoidal rule, sum over all the elements:"
   ]
  },
  {
   "cell_type": "markdown",
   "id": "8674fd95",
   "metadata": {
    "editable": true
   },
   "source": [
    "$$\n",
    "I(a,b)=\\sum_{k=0}^{N-1}I(x_k,x_k+h)\\nonumber\n",
    "$$"
   ]
  },
  {
   "cell_type": "markdown",
   "id": "097236bb",
   "metadata": {
    "editable": true
   },
   "source": [
    "$$\n",
    "=\\frac{h}{6}\\left[f(a)+ 4f(a+\\frac{h}{2})+2f(a+h)+4f(a+3\\frac{h}{2})\\right.\\nonumber\n",
    "$$"
   ]
  },
  {
   "cell_type": "markdown",
   "id": "e5775329",
   "metadata": {
    "editable": true
   },
   "source": [
    "<!-- Equation labels as ordinary links -->\n",
    "<div id=\"_auto49\"></div>\n",
    "\n",
    "$$\n",
    "\\begin{equation}  \n",
    "\\left.\\qquad+2f(a+2h)+\\cdots+f(b)\\right]\n",
    "\\label{_auto49} \\tag{63}\n",
    "\\end{equation}\n",
    "$$"
   ]
  },
  {
   "cell_type": "markdown",
   "id": "c2fb532b",
   "metadata": {
    "editable": true
   },
   "source": [
    "<!-- Equation labels as ordinary links -->\n",
    "<div id=\"_auto50\"></div>\n",
    "\n",
    "$$\n",
    "\\begin{equation}  \n",
    "=\\frac{h^\\prime}{3}\\left[f(a)+ f(b) + 4\\sum_{k= \\text{odd}}^{N-2}f(a+k h^\\prime)+2\\sum_{k= \\text{even}}^{N-2}f(a+k h^\\prime)\\right],\n",
    "\\label{_auto50} \\tag{64}\n",
    "\\end{equation}\n",
    "$$"
   ]
  },
  {
   "cell_type": "markdown",
   "id": "06203f5a",
   "metadata": {
    "editable": true
   },
   "source": [
    "note that in the last equation we have changed the step size $h=2h^\\prime$.\n",
    "<!-- --- end solution of exercise --- -->\n",
    "\n",
    "**d)**\n",
    "Show that for $N=2$ ($f(x)=1,x,x^3$), the points and Gaussian quadrature rule for $\\int_{0}^{1}x^{1/2}f(x)\\,dx$\n",
    "is $\\omega_{0,1}=-\\sqrt{70}{150} + 1/3, \\sqrt{70}{150} + 1/3$\n",
    "and $x_{0,1}=-2\\sqrt{70}{63} + 5/9, 2\\sqrt{70}{63} + 5/9$\n",
    "1. Integrate $\\int_0^1x^{1/2}\\cos x\\,dx$ using the rule derived in the exercise above and compare with the standard Gaussian quadrature rule for ($N=2$, and $N=3$).\n",
    "\n",
    "**e)**\n",
    "Make a Python program that uses the Midpoint rule to integrate experimental data that are unevenly spaced and given in the form of two arrays.\n",
    "\n",
    "<!-- --- end exercise --- -->\n",
    "\n",
    "# References\n",
    "\n",
    "1. <div id=\"stoer2013\"></div> **J. Stoer and R. Bulirsch**.  *Introduction to Numerical Analysis*, Springer Science & Business Media, 2013."
   ]
  }
 ],
 "metadata": {},
 "nbformat": 4,
 "nbformat_minor": 5
}
