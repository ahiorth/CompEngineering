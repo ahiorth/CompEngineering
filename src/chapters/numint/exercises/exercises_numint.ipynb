{
 "cells": [
  {
   "cell_type": "markdown",
   "id": "c7765cc1",
   "metadata": {
    "editable": true
   },
   "source": [
    "<!-- dom:TITLE: Finite Differences  -->\n",
    "# Finite Differences \n",
    "**Prepared as part of MOD510 Computational Engineering and Modeling**\n",
    "\n",
    "Date: **Apr 23, 2024**\n",
    "\n",
    "# Numerical Integration Notebook\n",
    "Learning objectives:\n",
    "* being able to implement a numerical algorithm in python\n",
    "\n",
    "* quantify numerical uncertainty\n",
    "\n",
    "* test different methods and have basic understanding of the strength and weaknesses of each method\n",
    "\n",
    "## The Trapezoidal Rule\n",
    "In the lecture notes it was shown that the algorithm for the trapezoidal rule was:"
   ]
  },
  {
   "cell_type": "markdown",
   "id": "cc647326",
   "metadata": {
    "editable": true
   },
   "source": [
    "<!-- Equation labels as ordinary links -->\n",
    "<div id=\"eq:numint:trap1\"></div>\n",
    "\n",
    "$$\n",
    "\\begin{equation}\n",
    "I(a,b)=\\int_a^bf(x)dx\\simeq h\\left[\\frac{1}{2}f(a)+\\frac{1}{2}f(b)+\\sum_{k=1}^{N-1}f(a+k h)\\right].\n",
    "\\label{eq:numint:trap1} \\tag{1}\n",
    "\\end{equation}\n",
    "$$"
   ]
  },
  {
   "cell_type": "markdown",
   "id": "5a1643c5",
   "metadata": {
    "editable": true
   },
   "source": [
    "<!-- --- begin exercise --- -->\n",
    "\n",
    "## Exercise 1: Implementing the trapezoidal rule in Python\n",
    "\n",
    "Whenever implementing an algorithm it is always important to be absolutely sure that we have implemented it correctly. We always use functions that we know the true answer. As a test function you could use $\\sin x$ or any other function (e.g. $e^x$ etc.) and choose a reasonable integration domain. First:\n",
    "1. Show that the analytical result is $\\int_0^\\pi \\sin(x)dx=2$\n",
    "\n",
    "2. Show that if $N=3$, equation ([1](#eq:numint:trap1)) would give $I(0,\\pi)=\\frac{\\pi}{\\sqrt{3}}=1.8137993\\ldots$\n",
    "\n",
    "Use the formula in equation ([1](#eq:numint:trap1)) to develop a python function that takes as argument the integration limits ($a,b$), the function to be integrated, $f(x)$, and the number of integration points $N$:"
   ]
  },
  {
   "cell_type": "code",
   "execution_count": 1,
   "id": "229488b7",
   "metadata": {
    "collapsed": false,
    "editable": true
   },
   "outputs": [],
   "source": [
    "import numpy as np\n",
    "def f(x):\n",
    "    return np.sin(x)\n",
    "    \n",
    "def int_trapez(func,lower_limit, upper_limit,N):\n",
    "    \"\"\" calculates the area of func over the domain (lower_limit, upper)\n",
    "        limit using N integration points \"\"\"\n",
    "# calculate the step size from the integration limits and N, do the sum, and return the area\n",
    "    return area"
   ]
  },
  {
   "cell_type": "markdown",
   "id": "710d938c",
   "metadata": {
    "editable": true
   },
   "source": [
    "* Test the code for $N=3$, increase $N$ and compare with the analytical result (2).\n",
    "\n",
    "* By increasing $N$ the numerical result will get closer to the true answer. How much do you need to increase $N$ in order to reach an accuracy higher than $10^{-8}$?\n",
    "\n",
    "* Show that the error term for the trapezoidal rule is:"
   ]
  },
  {
   "cell_type": "markdown",
   "id": "dac120ea",
   "metadata": {
    "editable": true
   },
   "source": [
    "<!-- Equation labels as ordinary links -->\n",
    "<div id=\"eq:numint:e_t\"></div>\n",
    "\n",
    "$$\n",
    "\\begin{equation}\n",
    "E_T\\simeq \\frac{h^2}{12}\\left[f^\\prime(b)-f^\\prime(a)\\right]=\\frac{(b-a)^2}{12N^2}\\left[f^\\prime(b)-f^\\prime(a)\\right]=-\\frac{\\pi^2}{6N^2}\n",
    "\\label{eq:numint:e_t} \\tag{2}\n",
    "\\end{equation}\n",
    "$$"
   ]
  },
  {
   "cell_type": "markdown",
   "id": "42f15370",
   "metadata": {
    "editable": true
   },
   "source": [
    "* How does the numerical error compares with the analytical error?\n",
    "\n",
    "<!-- --- end exercise --- -->\n",
    "\n",
    "<!-- --- begin exercise --- -->\n",
    "\n",
    "## Exercise 2: Choose number of steps automatically for the trapezoidal rule\n",
    "\n",
    "In practical applications we would like to just enter the accuracy we would like, and then expect our algorithm to figure out the number of steps. Change the code in the exercise above to calculate the value of the integral using a tolerance as input, instead of $N$. (The step size can be calculated from equation ([2](#eq:numint:e_t))"
   ]
  },
  {
   "cell_type": "code",
   "execution_count": 2,
   "id": "c79d9f9d",
   "metadata": {
    "collapsed": false,
    "editable": true
   },
   "outputs": [],
   "source": [
    "import numpy as np\n",
    "def f(x):\n",
    "    return np.sin(x)\n",
    "#Numerical derivative of function\n",
    "def df(x,func):\n",
    "    dh=1e-5 # some low step size\n",
    "    return (func(x+dh)-func(x))/dh\n",
    "    \n",
    "def int_trapez(func,lower_limit, upper_limit,tol):\n",
    "    \"\"\" calculates the area of func over the domain (lower_limit, upper)\n",
    "        limit using N integration points \"\"\"\n",
    "# calculate the step size h from the tolerance, do the sum, and return the ares\n",
    "    return area\n",
    "\n",
    "prec=1e-8\n",
    "a=0\n",
    "b=np.pi\n",
    "Area = int_adaptive_trapez(a,b,f,prec)\n",
    "print('Numerical value = ', Area)\n",
    "print('Error           = ', (2-Area)) # Analytical result is 2"
   ]
  },
  {
   "cell_type": "markdown",
   "id": "c23b1219",
   "metadata": {
    "editable": true
   },
   "source": [
    "<!-- --- end exercise --- -->\n",
    "\n",
    "<!-- --- begin exercise --- -->\n",
    "\n",
    "## Exercise 3: Practical error estimate of numerical integrals\n",
    "\n",
    "Assume that we estimate an integral using a step size of $h_1$ and $h_2$ ($h_1=2h_2$). The resulting estimates are $I_1$ and $I_2$ respectively. Show that the higher order error term for $I_2$ is:"
   ]
  },
  {
   "cell_type": "markdown",
   "id": "e56b3512",
   "metadata": {
    "editable": true
   },
   "source": [
    "<!-- Equation labels as ordinary links -->\n",
    "<div id=\"_auto1\"></div>\n",
    "\n",
    "$$\n",
    "\\begin{equation}\n",
    "E(a,b)=c h_2^2=\\frac{1}{3}(I_2-I_1).\n",
    "\\label{_auto1} \\tag{3}\n",
    "\\end{equation}\n",
    "$$"
   ]
  },
  {
   "cell_type": "markdown",
   "id": "7dd060d9",
   "metadata": {
    "editable": true
   },
   "source": [
    "Make a Python implementation of the trapezoidal rule that uses this method to calculate the integral to a specific tolerance:"
   ]
  },
  {
   "cell_type": "code",
   "execution_count": 3,
   "id": "de16b903",
   "metadata": {
    "collapsed": false,
    "editable": true
   },
   "outputs": [],
   "source": [
    "def int_adaptive_trapez(func, lower_limit, upper_limit,tol):\n",
    "    N0      = 1 # first estimate of integral\n",
    "    h       = (upper_limit-lower_limit)/N0\n",
    "    area    = func(lower_limit)+func(upper_limit)\n",
    "    area   *= 0.5\n",
    "    val     = lower_limit\n",
    "    # calculate the area using the trapezoidal rule\n",
    "    # enter code:\n",
    "\n",
    "    calc_tol = 2*tol # just larger than tol to enter the while loop \n",
    "    while(calc_tol>tol):\n",
    "        h *= .5 # half the step size\n",
    "\t# calculate new_area using the trapzoidal rule\n",
    "\t# enter code:\n",
    "\t\n",
    "        calc_tol = abs(new_area-area)/3 \n",
    "        area     = new_area # store new values for next iteration\n",
    "        \n",
    "    print('Number of intervals = ', (upper_limit-lower_limit)/h )\n",
    "    return area #while loop ended and we can return the area\n",
    "\n",
    "prec=1e-8\n",
    "a=0\n",
    "b=np.pi\n",
    "Area = int_adaptive_trapez(f,a,b,prec)\n",
    "print('Numerical value = ', Area)\n",
    "print('Error           = ', (2-Area)) # Analytical result is 2"
   ]
  },
  {
   "cell_type": "markdown",
   "id": "42531a03",
   "metadata": {
    "editable": true
   },
   "source": [
    "Hint: To improve the efficiency of the code, you only need to calculate the odd terms in the next estimate of the area, using the algorithm in the compendium:"
   ]
  },
  {
   "cell_type": "markdown",
   "id": "e4e0e6f1",
   "metadata": {
    "editable": true
   },
   "source": [
    "<!-- Equation labels as ordinary links -->\n",
    "<div id=\"_auto2\"></div>\n",
    "\n",
    "$$\n",
    "\\begin{equation}\n",
    "I_2(a,b)=\\frac{1}{2}I_1(a,b)+h_2\\sum_{k=\\text{odd values}}^{N_2-1}f(a+k h_2)\n",
    "\\label{_auto2} \\tag{4}\n",
    "\\end{equation}\n",
    "$$"
   ]
  },
  {
   "cell_type": "markdown",
   "id": "9134ed95",
   "metadata": {
    "editable": true
   },
   "source": [
    "* Compare the number of function evaluation for an error of $10^{-8}$ using the algorithm in this exercise and the previous for the following integrals:\n",
    "\n",
    " * $\\int_0^\\pi\\sin(x)dx$ \n",
    "\n",
    " * $\\int_0^1 e^{-x^2}dx$\n",
    "\n",
    " * $\\int_{-1}^1 x^2dx$\n",
    "\n",
    "\n",
    "<!-- --- end exercise --- -->\n",
    "\n",
    "<!-- --- begin exercise --- -->\n",
    "\n",
    "## Exercise 4: Adaptive integration - Rombergs algorithm\n",
    "\n",
    "In this exercise we will implement the Romberg algorithm, which is actually closely related to the adaptive trapezoidal rule in the\n",
    "previous exercise. The algorithm uses the technique from the previous exercise by halving the step size to estimate the error, but an additional trick is used: When we have the error estimate, we can add the error estimate to our numerical estimate of the integral to obtain a higher order accuracy. The algorithm is explained in the compendium and the result is:"
   ]
  },
  {
   "cell_type": "markdown",
   "id": "4bcc726b",
   "metadata": {
    "editable": true
   },
   "source": [
    "<!-- Equation labels as ordinary links -->\n",
    "<div id=\"_auto3\"></div>\n",
    "\n",
    "$$\n",
    "\\begin{equation}\n",
    "I=R_{i,m+1}+\\mathcal{O}(h_i^{2m+2})\n",
    "\\label{_auto3} \\tag{5}\n",
    "\\end{equation}\n",
    "$$"
   ]
  },
  {
   "cell_type": "markdown",
   "id": "cbdd3ba8",
   "metadata": {
    "editable": true
   },
   "source": [
    "<!-- Equation labels as ordinary links -->\n",
    "<div id=\"_auto4\"></div>\n",
    "\n",
    "$$\n",
    "\\begin{equation} \n",
    "R_{i+1,m+1}=R_{i,m}+\\frac{1}{4^{m+1}-1}(R_{i+1,m}-R_{i,m}).\n",
    "\\label{_auto4} \\tag{6}\n",
    "\\end{equation}\n",
    "$$"
   ]
  },
  {
   "cell_type": "markdown",
   "id": "b58389a2",
   "metadata": {
    "editable": true
   },
   "source": [
    "Below is a graphical illustration of the algorithm:\n",
    "<!-- dom:FIGURE: [fig-numint/romberg_nb.png, width=800 frac=1.0] -->\n",
    "<!-- begin figure -->\n",
    "\n",
    "<img src=\"fig-numint/romberg_nb.png\" width=800><p style=\"font-size: 0.9em\"><i>Figure 1: </i></p>\n",
    "<!-- end figure -->"
   ]
  },
  {
   "cell_type": "code",
   "execution_count": 4,
   "id": "f7539506",
   "metadata": {
    "collapsed": false,
    "editable": true
   },
   "outputs": [],
   "source": [
    "def int_romberg(func,lower_limit, upper_limit,tol,show=False):\n",
    "    \"\"\" calculates the area of func over the domain lower_limit\n",
    "        to upper limit for the given tol, if show=True the triangular\n",
    "        array of intermediate results are printed \"\"\"\n",
    "    Nmax = 100\n",
    "    R      = np.empty([Nmax,Nmax]) # storage buffer\n",
    "    h      = (upper_limit-lower_limit) # step size\n",
    "    N      = 1    \n",
    "    R[0,0] = .5*(func(lower_limit)+func(upper_limit))*h # first estimate   \n",
    "    for i in range(1,Nmax):\n",
    "        h /= 2\n",
    "        N *= 2\n",
    "\t# estimate R[i,0] from the trapezoidal rule:\n",
    "\t# ....\n",
    "\t# next, estimate R[i,1], R[1,2],..,R[1,m+1]:\n",
    "\t#...\n",
    "\t# check tolerance, best guess\t\t\t\n",
    "        calc_tol = abs(R[i,i]-R[i-1,i-1])       \n",
    "        if(calc_tol<tol):\n",
    "            break  # estimated precision reached, exit for loop\n",
    "\n",
    "\n",
    "    if(i == Nmax-1):\n",
    "        print('Romberg routine did not converge after ', Nmax, 'iterations!')\n",
    "    else:      \n",
    "        print('Number of intervals = ', N)\n",
    "\n",
    "    if(show==True):\n",
    "    # print out the triangular matrix\n",
    "    # R[0,0]\n",
    "    # R[1,0] R[1,1]\n",
    "    # R[2,0] R[2,1] R[2,2]\n",
    "    # etc. \n",
    "  \n",
    "    return R[i,i] #return the best estimate"
   ]
  },
  {
   "cell_type": "markdown",
   "id": "4d6883ba",
   "metadata": {
    "editable": true
   },
   "source": [
    "You can check your implementation by comparing with the implementation in SciPy, [Romberg](https://docs.scipy.org/doc/scipy/reference/generated/scipy.integrate.romberg.html):"
   ]
  },
  {
   "cell_type": "code",
   "execution_count": 5,
   "id": "e619ed1a",
   "metadata": {
    "collapsed": false,
    "editable": true
   },
   "outputs": [],
   "source": [
    "from scipy import integrate\n",
    "integrate.romberg(f, a, b, show=True)"
   ]
  },
  {
   "cell_type": "markdown",
   "id": "2bd35b6e",
   "metadata": {
    "editable": true
   },
   "source": [
    "1. Compare the adaptive trapezoidal rule and the Romberg algorithm for $\\int_{-1}^{1}x^4dx$. Notice the extreme improvement by the Romberg algorithm.\n",
    "\n",
    "<!-- --- end exercise --- -->\n",
    "\n",
    "<!-- --- begin exercise --- -->\n",
    "\n",
    "## Exercise 5: Evaluate $\\int_{a}^{b}x^nf(x) xdx$\n",
    "\n",
    "We will now look closer at an integral where the derivative has a singularity in the integration domain. We will consider the integral:"
   ]
  },
  {
   "cell_type": "markdown",
   "id": "8c09638f",
   "metadata": {
    "editable": true
   },
   "source": [
    "<!-- Equation labels as ordinary links -->\n",
    "<div id=\"eq:numint:i1\"></div>\n",
    "\n",
    "$$\n",
    "\\begin{equation}\n",
    "\\int_0^1 x^{1/2}\\cos x dx\\simeq  0.53120268\n",
    "\\label{eq:numint:i1} \\tag{7}\n",
    "\\end{equation}\n",
    "$$"
   ]
  },
  {
   "cell_type": "markdown",
   "id": "dc63348c",
   "metadata": {
    "editable": true
   },
   "source": [
    "* Compare the adaptive trapezoidal rule and the Romberg algorithm. Note that in this case the trapezoidal rule does a better job (!). If you compare with the SciPy implementation you will also observe that an error is given because the accuracy is not reached.\n",
    "\n",
    "Do the following substitution: $\\tau=x^2$, and show that the integral can be rewritten as:"
   ]
  },
  {
   "cell_type": "markdown",
   "id": "7114f1c4",
   "metadata": {
    "editable": true
   },
   "source": [
    "<!-- Equation labels as ordinary links -->\n",
    "<div id=\"eq:numint:i2\"></div>\n",
    "\n",
    "$$\n",
    "\\begin{equation}\n",
    "2\\int_0^1 \\tau^{2}\\cos\\tau^2 d\\tau.\n",
    "\\label{eq:numint:i2} \\tag{8}\n",
    "\\end{equation}\n",
    "$$"
   ]
  },
  {
   "cell_type": "markdown",
   "id": "91102422",
   "metadata": {
    "editable": true
   },
   "source": [
    "* Estimate the integral once more with the adaptive trapezoidal and Romberg algorithm. Note the greatly improvement in performance for the Romberg method\n",
    "\n",
    "**Notice.**\n",
    "\n",
    "*It always wise to test out different methods, even if we expect that a specific method is supposed to be better it is not always so. Change of integration variable can greatly improve the performance.*\n",
    "\n",
    "\n",
    "\n",
    "<!-- --- end exercise --- -->\n",
    "\n",
    "<!-- --- begin exercise --- -->\n",
    "\n",
    "## Exercise 6: Gaussian evaluation of $\\int_{a}^{b}x^nf(x) xdx$\n",
    "\n",
    "Gaussian integration is extremely powerful, and should always be considered if speed is an issue. As explained in the compendium the idea behind the Gaussian integration is to approximate the function to be integrated on the domain as a \n",
    "polynomial of as *large a degree as possible*, then the numerical integral of this polynomial will be very close to the integral of the function we are seeking. In this case, considering equation ([7](#eq:numint:i1)), we can develop similar integration rules as in the compendium, and we choose $ f(x)=1,\\,x,\\,x^2\\,x^3$ to be integrated exact:"
   ]
  },
  {
   "cell_type": "markdown",
   "id": "bdfda5b7",
   "metadata": {
    "editable": true
   },
   "source": [
    "<!-- Equation labels as ordinary links -->\n",
    "<div id=\"_auto5\"></div>\n",
    "\n",
    "$$\n",
    "\\begin{equation}\n",
    "\\int_{0}^{1}x^{1/2}\\,dx=\\frac{2}{3}=\\omega_0+\\omega_1\\,,\n",
    "\\label{_auto5} \\tag{9}\n",
    "\\end{equation}\n",
    "$$"
   ]
  },
  {
   "cell_type": "markdown",
   "id": "dccb11a1",
   "metadata": {
    "editable": true
   },
   "source": [
    "<!-- Equation labels as ordinary links -->\n",
    "<div id=\"_auto6\"></div>\n",
    "\n",
    "$$\n",
    "\\begin{equation} \n",
    "\\int_{0}^{1}x^{1/2+1}\\,dx=\\frac{2}{5}=\\omega_0x_0+\\omega_1x_1\\,,\n",
    "\\label{_auto6} \\tag{10}\n",
    "\\end{equation}\n",
    "$$"
   ]
  },
  {
   "cell_type": "markdown",
   "id": "bdfd20b0",
   "metadata": {
    "editable": true
   },
   "source": [
    "<!-- Equation labels as ordinary links -->\n",
    "<div id=\"_auto7\"></div>\n",
    "\n",
    "$$\n",
    "\\begin{equation} \n",
    "\\int_{0}^{1}x^{1/2+2}\\,dx=\\frac{2}{7}=\\omega_0x_0^2+\\omega_1x_1^2\\,,\n",
    "\\label{_auto7} \\tag{11}\n",
    "\\end{equation}\n",
    "$$"
   ]
  },
  {
   "cell_type": "markdown",
   "id": "81e575e4",
   "metadata": {
    "editable": true
   },
   "source": [
    "<!-- Equation labels as ordinary links -->\n",
    "<div id=\"_auto8\"></div>\n",
    "\n",
    "$$\n",
    "\\begin{equation} \n",
    "\\int_{0}^{1}x^{1/2+3}\\,dx=\\frac{2}{9}=\\omega_0x_0^3+\\omega_1x_1^3\\,,\n",
    "\\label{_auto8} \\tag{12}\n",
    "\\end{equation}\n",
    "$$"
   ]
  },
  {
   "cell_type": "markdown",
   "id": "2489881e",
   "metadata": {
    "editable": true
   },
   "source": [
    "It is a bit cumbersome to solve the above equations, but in Python it can be done by e.g. using SymPy:"
   ]
  },
  {
   "cell_type": "code",
   "execution_count": 6,
   "id": "b4ac564d",
   "metadata": {
    "collapsed": false,
    "editable": true
   },
   "outputs": [],
   "source": [
    "import sympy as sym\n",
    "import numpy as np\n",
    "x1,x2,w1,w2=sym.symbols('x1, x2, w1, w2')\n",
    "#n=1/2 gives numerical value\n",
    "n  = sym.Rational(1,2) # gives analytical result\n",
    "f1 = sym.Eq(w1+w2,1/(n+1))\n",
    "f2 = sym.Eq(w1*x1+w2*x2,1/(n+2))\n",
    "f3 = sym.Eq( ... enter missing equation)\n",
    "f4 = sym.Eq( ... enter missing equation)\n",
    "sol=sym.solve(... correct syntax ...)"
   ]
  },
  {
   "cell_type": "markdown",
   "id": "a71dfb08",
   "metadata": {
    "editable": true
   },
   "source": [
    "1. Find $x_1$ and $x_2$ and the corresponding weights $\\omega_0$ and $\\omega_1$\n",
    "\n",
    "2. Implement the Gaussian integration rule in this case and estimate $\\int_{a}^{b}x^{1/2}\\cos xdx$\n",
    "\n",
    "3. Compare your implementation with the standard implementation in the compendium \n",
    "\n",
    "A correct implementation should give you $I\\simeq0.53109917759$, or an accuracy of $10^{-4}$.\n",
    "\n",
    "<!-- --- end exercise --- -->\n",
    "\n",
    "<!-- --- begin exercise --- -->\n",
    "\n",
    "## Exercise 7: Oscillating integral and infinite integration limit\n",
    "\n",
    "As you might have seen from the last exercise, it can be a challenge to estimate the integration points and the weights in the Gaussian quadrature. There are methods how to do this, using *interpolating polynomials*. The mathematics is very elegant, but we do not need to go into detail, we only need the result. The routine below calculates the weights and points for any order $N$, on the domain $[-1,1]$."
   ]
  },
  {
   "cell_type": "code",
   "execution_count": 7,
   "id": "0af4c43a",
   "metadata": {
    "collapsed": false,
    "editable": true
   },
   "outputs": [],
   "source": [
    "# gaussxw below adopted from\n",
    "# M. Newman \"Compuatiional Physics\" - Appendix E\n",
    "def gaussxw(N):\n",
    "    # initial approximation to roots of the Legendre polynomials\n",
    "    a = np.linspace(3,4*N-1,N)/(4*N+2)\n",
    "    x = np.cos(np.pi*a+1/(8*N*N*np.tan(a)))\n",
    "    #Find Root using Newtons method\n",
    "    epsilon = 1e-15\n",
    "    delta = 1.0\n",
    "    while delta > epsilon:\n",
    "        p0 = np.ones(N, float)\n",
    "        p1 = np.copy(x)\n",
    "        for k in range(1,N):\n",
    "            p0,p1=p1,((2*k+1)*x*p1-k*p0)/(k+1)\n",
    "        dp = (N+1)*(p0-x*p1)/(1-x*x)\n",
    "        dx=p1/dp\n",
    "        x-=dx\n",
    "        delta = np.max(abs(dx))\n",
    "    # caluclate the weights\n",
    "    w = 2*(N+1)*(N+1)/(N*N*(1-x*x)*dp*dp)\n",
    "    \n",
    "    return x,w\n",
    "\n",
    "# gaussxwab below adopted from\n",
    "# M. Newman \"Compuatiional Physics\" - Appendix E\n",
    "def gaussxwab(N,a,b):\n",
    "    x,w=gaussxw(N)\n",
    "    return 0.5*(b-a)*x+0.5*(b+a),0.5*(b-a)*w\n",
    "\n",
    "def gauss(f,a,b,N):\n",
    "    xp,wp = gaussxwab(N,a,b)\n",
    "    return np.sum(wp*f(xp))\n",
    "\n",
    "def f(x):\n",
    "    return x**4-2*x+1\n",
    "\n",
    "def g(x):\n",
    "    u=(1-x)\n",
    "    u*=u\n",
    "    return np.exp(-x*x/u)/u\n",
    "\n",
    "w=5\n",
    "def h(x):\n",
    "    u=x/(1-x)\n",
    "    return u*np.exp(-u)*np.cos(w*u)/(1-x)/(1-x)\n",
    "\n",
    "a=0.\n",
    "b=1.\n",
    "N=300\n",
    "x=np.arange(a,b,0.0001)\n",
    "plt.plot(x,h(x),label=r'$\\omega=$'+str(w))\n",
    "plt.grid()\n",
    "plt.xlim(a,b)\n",
    "plt.legend()\n",
    "plt.show()\n",
    "\n",
    "analytical = (1-w*w)/(w**2+1)**2\n",
    "Area = gauss(h,a,b,N)\n",
    "eps=max(1e-8,np.abs(Area-analytical))\n",
    "Area2 = int_romberg(h,a,b*.99999999,eps,show=True)\n",
    "Area3 = int_trapez(h,a,b*.99999999,N)\n",
    "print('Numerical value = ', Area)\n",
    "print('Error  Gauss    = ', (Area-analytical)) \n",
    "print('Error  Romberg  = ', (Area2-analytical)) \n",
    "print('Error  Trapez   = ', (Area3-analytical))"
   ]
  },
  {
   "cell_type": "markdown",
   "id": "5d3b0817",
   "metadata": {
    "editable": true
   },
   "source": [
    "The weights needs to be transformed to the domain $[a,b]$, and then the routine doing the Gaussian integration is quite simple, see the routine `gauss` below."
   ]
  },
  {
   "cell_type": "code",
   "execution_count": 8,
   "id": "6a445411",
   "metadata": {
    "collapsed": false,
    "editable": true
   },
   "outputs": [],
   "source": [
    "# gaussxwab below adopted from\n",
    "# M. Newman \"Compuatiional Physics\" - Appendix E\n",
    "def gaussxwab(N,a,b):\n",
    "    x,w=gaussxw(N)\n",
    "    return 0.5*(b-a)*x+0.5*(b+a),0.5*(b-a)*w\n",
    "\n",
    "def gauss(f,a,b,N):\n",
    "    xp,wp = gaussxwab(N,a,b)\n",
    "    return np.sum(wp*f(xp))\n",
    "\n",
    "def f(x):\n",
    "    return x**4-2*x+1\n",
    "\n",
    "def g(x):\n",
    "    u=(1-x)\n",
    "    u*=u\n",
    "    return np.exp(-x*x/u)/u\n",
    "\n",
    "w=5\n",
    "def h(x):\n",
    "    u=x/(1-x)\n",
    "    return u*np.exp(-u)*np.cos(w*u)/(1-x)/(1-x)\n",
    "\n",
    "a=0.\n",
    "b=1.\n",
    "N=300\n",
    "x=np.arange(a,b,0.0001)\n",
    "plt.plot(x,h(x),label=r'$\\omega=$'+str(w))\n",
    "plt.grid()\n",
    "plt.xlim(a,b)\n",
    "plt.legend()\n",
    "plt.show()\n",
    "\n",
    "analytical = (1-w*w)/(w**2+1)**2\n",
    "Area = gauss(h,a,b,N)\n",
    "eps=max(1e-8,np.abs(Area-analytical))\n",
    "Area2 = int_romberg(h,a,b*.99999999,eps,show=True)\n",
    "Area3 = int_trapez(h,a,b*.99999999,N)\n",
    "print('Numerical value = ', Area)\n",
    "print('Error  Gauss    = ', (Area-analytical)) \n",
    "print('Error  Romberg  = ', (Area2-analytical)) \n",
    "print('Error  Trapez   = ', (Area3-analytical))"
   ]
  },
  {
   "cell_type": "markdown",
   "id": "a9f364fd",
   "metadata": {
    "editable": true
   },
   "source": [
    "The following integral:"
   ]
  },
  {
   "cell_type": "markdown",
   "id": "095ab105",
   "metadata": {
    "editable": true
   },
   "source": [
    "<!-- Equation labels as ordinary links -->\n",
    "<div id=\"eq:nlin:period\"></div>\n",
    "\n",
    "$$\n",
    "\\begin{equation}\n",
    "\\int_0^\\infty xe^{-x}\\cos(\\omega x)dx\n",
    "\\label{eq:nlin:period} \\tag{13}\n",
    "\\end{equation}\n",
    "$$"
   ]
  },
  {
   "cell_type": "markdown",
   "id": "0e1f74e8",
   "metadata": {
    "editable": true
   },
   "source": [
    "        def f(x,w):\n",
    "            return x*np.exp(-x)*np.cos(w*x)\n",
    "        \n",
    "        x=np.arange(0,20,0.01)\n",
    "        w=40\n",
    "        plt.plot(x,f(x,w),label=r'$\\omega$=' +str(w))\n",
    "        plt.grid\n",
    "        plt.show()\n"
   ]
  },
  {
   "cell_type": "markdown",
   "id": "df3b9b31",
   "metadata": {
    "editable": true
   },
   "source": [
    "<!-- --- end exercise --- -->\n",
    "\n",
    "# References"
   ]
  }
 ],
 "metadata": {},
 "nbformat": 4,
 "nbformat_minor": 5
}
