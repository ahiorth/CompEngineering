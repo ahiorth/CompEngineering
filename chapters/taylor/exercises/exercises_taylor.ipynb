{
 "cells": [
  {
   "cell_type": "markdown",
   "id": "9b64b790",
   "metadata": {
    "editable": true
   },
   "source": [
    "<!-- File automatically generated using DocOnce (https://github.com/doconce/doconce/):\n",
    "doconce format ipynb exercises_taylor.do.txt  -->\n",
    "\n",
    "# Finite Differences \n",
    "**Prepared as part of MOD510 Computational Engineering and Modeling**\n",
    "\n",
    "Date: **Aug 26, 2024**"
   ]
  },
  {
   "cell_type": "markdown",
   "id": "8097bb56",
   "metadata": {
    "editable": true
   },
   "source": [
    "# Getting familiar with Taylors formula\n",
    "\n",
    "Learning objectives:\n",
    "1. Understand how Taylors formula can be used to approximate a function, for more information on Taylors formula, see [the book](http://www.ux.uis.no/~ah/CompEng/._book002.html#___sec3) or [Wikipedia](https://en.wikipedia.org/wiki/Taylor%27s_theorem)  \n",
    "\n",
    "2. Understand approximation and numerical error \n",
    "\n",
    "Below are *suggestions* for Python code, it is not the most optimal or elegant code, but meant as an inspiration. As a general rule, we *always* make the code as simple as possible (and as a consequence, usually, inefficient) the first time. When the code is working we can make it more elegant and/or efficient. The most important point is always to get a code that does what it is supposed to do.\n",
    "\n",
    "Efficiency is usually lost whenever you write a for loop. For loops usually looks the same in any language and are easy to understand. As an example, let us consider the classical example of adding all integers from 1 to 100 (the answer is $n(n+1)/2=5050$ for $n=100$), we can do this in Python several ways:"
   ]
  },
  {
   "cell_type": "code",
   "execution_count": 1,
   "id": "28734d0f",
   "metadata": {
    "collapsed": false,
    "editable": true
   },
   "outputs": [],
   "source": [
    "import numpy as np\n",
    "\n",
    "def sum1(N):\n",
    "    \"\"\" sum integers up to N\n",
    "        C-type implementation \"\"\"\n",
    "    sum = 0.\n",
    "    for i in range(N+1): # 0, 1, ..., N\n",
    "        sum += i\n",
    "    return sum\n",
    "\n",
    "def sum2(N):\n",
    "    \"\"\" sum integers up to N\n",
    "        build in Python functions \"\"\"\n",
    "    x = [i for i in range(N+1)]\n",
    "    return sum(x)\n",
    "\n",
    "def sum3(N):\n",
    "    \"\"\" sum integers up to N\n",
    "        NumPy functions \"\"\"\n",
    "    x = np.arange(N+1)\n",
    "    return np.sum(x)"
   ]
  },
  {
   "cell_type": "markdown",
   "id": "1312061c",
   "metadata": {
    "editable": true
   },
   "source": [
    "If you are unfamiliar with `numpy.arange`, we refer to the official documentation [here](https://docs.scipy.org/doc/numpy/reference/generated/numpy.arange.html).  \n",
    "The first implementation is how you would to the summation in most low level languages as C, C++ or Fortran. It is straight forward to read, and it will give you the correct answer. How fast are the methods? This can be checked with the following code:"
   ]
  },
  {
   "cell_type": "code",
   "execution_count": 2,
   "id": "0d345977",
   "metadata": {
    "collapsed": false,
    "editable": true
   },
   "outputs": [],
   "source": [
    "N=100\n",
    "%timeit sum1(N)\n",
    "%timeit sum2(N)\n",
    "%timeit sum3(N)"
   ]
  },
  {
   "cell_type": "markdown",
   "id": "6b3d6d8e",
   "metadata": {
    "editable": true
   },
   "source": [
    "The command `%timeit` is a built-in magic command, and will work in Jupyter notebooks and with iPython. You can read more about `%timeit` [here](https://ipython.org/ipython-doc/dev/interactive/magics.html#magic-timeit). Notice that there is hardly any difference in speed between the methods. However if you increase $N$ to e.g. 1000, you will see that the NumPy implementation is superior.\n",
    "\n",
    "**Observe:**\n",
    "\n",
    "Testing the efficiency of code should always be done on *large* samples."
   ]
  },
  {
   "cell_type": "markdown",
   "id": "3194d17d",
   "metadata": {
    "editable": true
   },
   "source": [
    "## Exercise 1: Plot $\\sin x$\n",
    "\n",
    "Run the script below, and you will see a plot of $\\sin x$ on the interval $[-\\pi,\\pi]$."
   ]
  },
  {
   "cell_type": "code",
   "execution_count": 3,
   "id": "b577af2c",
   "metadata": {
    "collapsed": false,
    "editable": true
   },
   "outputs": [],
   "source": [
    "%matplotlib inline\n",
    "\n",
    "import matplotlib.pyplot as plt\n",
    "import numpy as np\n",
    "\n",
    "x=np.arange(-np.pi,np.pi,1)\n",
    "\n",
    "f = np.sin(x)\n",
    "plt.plot(x,f)\n",
    "plt.grid()\n",
    "\n",
    "plt.show()"
   ]
  },
  {
   "cell_type": "markdown",
   "id": "c8cdce94",
   "metadata": {
    "editable": true
   },
   "source": [
    "Is this a good plot of $\\sin x$? Improve the code above to produce a\n",
    "better plot of $\\sin x$."
   ]
  },
  {
   "cell_type": "code",
   "execution_count": 4,
   "id": "2db70456",
   "metadata": {
    "collapsed": false,
    "editable": true
   },
   "outputs": [],
   "source": [
    "# enter code here"
   ]
  },
  {
   "cell_type": "markdown",
   "id": "ba7d7062",
   "metadata": {
    "editable": true
   },
   "source": [
    "1. How many points are needed?\n",
    "\n",
    "2. Do we need the same number of points in the whole domain? Which properties of the function determines where we need more points?"
   ]
  },
  {
   "cell_type": "markdown",
   "id": "03bac563",
   "metadata": {
    "editable": true
   },
   "source": [
    "## Exercise 2: Taylor Polynomial Approximation\n",
    "\n",
    "There are many ways of representing a function, but perhaps one of the most widely used is Taylor polynomials. \n",
    "Taylor series are the basis for solving ordinary and differential equations, simply because it makes it possible to evaluate any function with a set\n",
    "of limited operations: *addition, subtraction, and multiplication*. The Taylor polynomial, $P_n(x)$ of degree $n$ of a function $f(x)$ at the point $c$ is defined as:\n",
    "**Taylor polynomial:**"
   ]
  },
  {
   "cell_type": "markdown",
   "id": "8dd8d408",
   "metadata": {
    "editable": true
   },
   "source": [
    "$$\n",
    "P_n(x) = f(c)+f^\\prime(c)(x-c)+\\frac{f^{\\prime\\prime}(c)}{2!}(x-c)^2+\\cdots+\\frac{f^{(n)}(c)}{n!}(x-c)^n\\nonumber\n",
    "$$"
   ]
  },
  {
   "cell_type": "markdown",
   "id": "145465fd",
   "metadata": {
    "editable": true
   },
   "source": [
    "<!-- Equation labels as ordinary links -->\n",
    "<div id=\"eq:taylor:taylori\"></div>\n",
    "\n",
    "$$\n",
    "\\begin{equation} \n",
    "=\\sum_{k=0}^n\\frac{f^{(n)}}{k!}(x-c)^k.\\label{eq:taylor:taylori} \\tag{1}\n",
    "\\end{equation}\n",
    "$$"
   ]
  },
  {
   "cell_type": "markdown",
   "id": "36da61d0",
   "metadata": {
    "editable": true
   },
   "source": [
    "If the series is around the point $c=0$, the Taylor polynomial $P_n(x)$ is often called a Maclaurin polynomial, more examples can be found \n",
    "[here](https://en.wikipedia.org/wiki/Taylor_series). If the series converge (i.e. that the higher order terms approach zero), then we can represent the\n",
    "function $f(x)$ with its corresponding Taylor series around the point $x=c$:"
   ]
  },
  {
   "cell_type": "markdown",
   "id": "c7a9691e",
   "metadata": {
    "editable": true
   },
   "source": [
    "<!-- Equation labels as ordinary links -->\n",
    "<div id=\"eq:taylor:taylor\"></div>\n",
    "\n",
    "$$\n",
    "\\begin{equation}\n",
    " f(x) = f(c)+f^\\prime(c)(x-c)+\\frac{f^{\\prime\\prime}(c)}{2!}(x-c)^2+\\cdots\n",
    "=\\sum_{k=0}^\\infty\\frac{f^{(n)}}{k!}(x-c)^k.\\label{eq:taylor:taylor} \\tag{2}\n",
    "\\end{equation}\n",
    "$$"
   ]
  },
  {
   "cell_type": "markdown",
   "id": "c22092e0",
   "metadata": {
    "editable": true
   },
   "source": [
    "## Exercise 3: Maclaurin series of $\\sin x$\n",
    "\n",
    "Use equation ([2](#eq:taylor:taylor)) to show that the Maclaurin series ($c=0$) of $\\sin x$ is:"
   ]
  },
  {
   "cell_type": "markdown",
   "id": "21b7d0ce",
   "metadata": {
    "editable": true
   },
   "source": [
    "<!-- Equation labels as ordinary links -->\n",
    "<div id=\"sin\"></div>\n",
    "\n",
    "$$\n",
    "\\begin{equation}\n",
    "\\sin x = x-\\frac{x^3}{3!}+\\frac{x^5}{5!}-\\frac{x^7}{7!}+\\cdots=\\sum_{k=0}^{\\infty}\\frac{(-1)^n}{(2n+1)!}x^{2n+1}.\n",
    "\\label{sin} \\tag{3}\n",
    "\\end{equation}\n",
    "$$"
   ]
  },
  {
   "cell_type": "markdown",
   "id": "44e08d0d",
   "metadata": {
    "editable": true
   },
   "source": [
    "Make a plot of $\\sin x$, and the first 7 terms of the Maclaurin series for $\\sin x$:"
   ]
  },
  {
   "cell_type": "code",
   "execution_count": 5,
   "id": "d8741018",
   "metadata": {
    "collapsed": false,
    "editable": true
   },
   "outputs": [],
   "source": [
    "import matplotlib.pyplot as plt\n",
    "import numpy as np\n",
    "\n",
    "#Maclaurin Serie of sin(x) at the power n\n",
    "def mac_sin(x,n):\n",
    "    \"\"\"Returns the Maclaurin series up to order\n",
    "       n for any x\"\"\"\n",
    "    for element 0, 1, 2, ..., n-1:\n",
    "    return x - x**3/3! + x**5/5! ...\n",
    "\n",
    "# make the plot:\n",
    "x  = np.arange(-np.pi,np.pi,0.01)\n",
    "f1 = mac_sin(x,1)\n",
    "f2 = mac_sin(x,1)\n",
    "...\n",
    "plt.plot(x,f1)\n",
    "plt.plot(x,f1)\n",
    "...\n",
    "plt.show()"
   ]
  },
  {
   "cell_type": "markdown",
   "id": "73ecc07d",
   "metadata": {
    "editable": true
   },
   "source": [
    "## Exercise 4: Calculating $\\sin x$ up to a certain error\n",
    "\n",
    "The error term in Taylors formula, when we represent a function with a finite number of polynomial elements is given by:"
   ]
  },
  {
   "cell_type": "markdown",
   "id": "be58dc94",
   "metadata": {
    "editable": true
   },
   "source": [
    "$$\n",
    "R_n(x)=f(x)-P_n(x)=\\frac{f^{(n+1)}(\\eta)}{(n+1)!}(x-c)^{n+1}\\nonumber\n",
    "$$"
   ]
  },
  {
   "cell_type": "markdown",
   "id": "ec2d07e0",
   "metadata": {
    "editable": true
   },
   "source": [
    "<!-- Equation labels as ordinary links -->\n",
    "<div id=\"error\"></div>\n",
    "\n",
    "$$\n",
    "\\begin{equation} \n",
    "      =\\frac{1}{n!}\\int_c^x(x-\\tau)^{n}f^{(n+1)}(\\tau)d\\tau,\\label{error} \\tag{4}\n",
    "\\end{equation}\n",
    "$$"
   ]
  },
  {
   "cell_type": "markdown",
   "id": "05875fbc",
   "metadata": {
    "editable": true
   },
   "source": [
    "for some $\\eta$ in the domain $[x,c]$.\n",
    "\n",
    "Write an implementation of $\\sin x$, that calculates $\\sin x$ up to a\n",
    "certain accuracy, using the error formula in equation ([4](#error))."
   ]
  },
  {
   "cell_type": "markdown",
   "id": "fd78e976",
   "metadata": {
    "editable": true
   },
   "source": [
    "## Exercise 5: Calculating derivative of functions\n",
    "\n",
    "The derivative of a function can be calculated using the definition from calculus:"
   ]
  },
  {
   "cell_type": "markdown",
   "id": "138f4a90",
   "metadata": {
    "editable": true
   },
   "source": [
    "<!-- Equation labels as ordinary links -->\n",
    "<div id=\"eq:taylor:der1\"></div>\n",
    "\n",
    "$$\n",
    "\\begin{equation}\n",
    "f^\\prime(x)=\\lim_{h\\to 0}\\frac{f(x+h)-f(x)}{h}\\simeq \\frac{f(x+h)-f(x)}{h}.\\label{eq:taylor:der1} \\tag{5}\n",
    "\\end{equation}\n",
    "$$"
   ]
  },
  {
   "cell_type": "markdown",
   "id": "8ff07f04",
   "metadata": {
    "editable": true
   },
   "source": [
    "In the computer we cannot take the limit, $h\\to 0$, a natural question is then: What value to use for $h$?\n",
    "\n",
    "* Make a Python script that calculates the derivative of $\\sin x$ for different step sizes $h$. Vary $h$ between $10^{-15}$ and 0.1, and make a plot of the error versus the step size."
   ]
  },
  {
   "cell_type": "code",
   "execution_count": 6,
   "id": "2e8ae91a",
   "metadata": {
    "collapsed": false,
    "editable": true
   },
   "outputs": [],
   "source": [
    "import matplotlib.pyplot as plt\n",
    "import numpy as np\n",
    "\n",
    "def f(x):\n",
    "    return np.sin(x)\n",
    "\n",
    "def df(x,h):\n",
    "    return numerical derivative of f(x)\n",
    "\n",
    "def err(x,h):\n",
    "    return np.abs(df(x,h)-np.cos(x))\n",
    "\n",
    "# to generate plot\n",
    "step_size = [1/(1e1*10**h) for h in range(16)]\n",
    "error =  estimate error for various step sizes\n",
    "plt.loglog( ...)\n",
    "\n",
    "plt.grid()\n",
    "\n",
    "plt.show()"
   ]
  },
  {
   "cell_type": "markdown",
   "id": "a2f958b2",
   "metadata": {
    "editable": true
   },
   "source": [
    "* Explain the shape of the plot you have made. Why does the numerical *not go to zero* as the step size is decreasing?\n",
    "\n",
    "* Use equation ([2](#eq:taylor:taylor)), expand about $x\\pm h$ and show that you can derive a higher order formula for the numerical derivative:"
   ]
  },
  {
   "cell_type": "markdown",
   "id": "7812b604",
   "metadata": {
    "editable": true
   },
   "source": [
    "<!-- Equation labels as ordinary links -->\n",
    "<div id=\"eq:taylor:der2\"></div>\n",
    "\n",
    "$$\n",
    "\\begin{equation}\n",
    "f^\\prime(x)=\\frac{f(x+h)-f(x-h)}{2h},\\label{eq:taylor:der2} \\tag{6}\n",
    "\\end{equation}\n",
    "$$"
   ]
  },
  {
   "cell_type": "markdown",
   "id": "622ee202",
   "metadata": {
    "editable": true
   },
   "source": [
    "* Make a similar plot as before but this time also with equation ([6](#eq:taylor:der2))."
   ]
  },
  {
   "cell_type": "markdown",
   "id": "7b6a1448",
   "metadata": {
    "editable": true
   },
   "source": [
    "## Exercise 6: Round off errors vs numerical errors\n",
    "\n",
    "The numerical error is given in equation ([4](#error)), show that for the numerical derivatives in the previous exercise:"
   ]
  },
  {
   "cell_type": "markdown",
   "id": "a0135bfd",
   "metadata": {
    "editable": true
   },
   "source": [
    "<!-- Equation labels as ordinary links -->\n",
    "<div id=\"eq:taylor:derrb\"></div>\n",
    "\n",
    "$$\n",
    "\\begin{equation}\n",
    "f^\\prime(x)=\\frac{f(x+h)-f(x)}{h}-\\frac{h}{2}f^{\\prime\\prime}(\\eta),\\label{eq:taylor:derrb} \\tag{7}\n",
    "\\end{equation}\n",
    "$$"
   ]
  },
  {
   "cell_type": "markdown",
   "id": "da71a1a2",
   "metadata": {
    "editable": true
   },
   "source": [
    "<!-- Equation labels as ordinary links -->\n",
    "<div id=\"eq:taylor:der2b\"></div>\n",
    "\n",
    "$$\n",
    "\\begin{equation} \n",
    "f^\\prime(x)=\\frac{f(x+h)-f(x-h)}{2h} -\\frac{h^2}{6}f^{(3)}(\\eta),\\label{eq:taylor:der2b} \\tag{8}\n",
    "\\end{equation}\n",
    "$$"
   ]
  },
  {
   "cell_type": "markdown",
   "id": "2eaa0484",
   "metadata": {
    "editable": true
   },
   "source": [
    "1. What is the value of $\\eta$? Is it the same for equation ([7](#eq:taylor:derrb)) and ([8](#eq:taylor:der2b))?\n",
    "\n",
    "2. What is round off errors?\n",
    "\n",
    "3. Show that the total error, including round off errors for ([7](#eq:taylor:derrb)) and ([8](#eq:taylor:der2b)) is:"
   ]
  },
  {
   "cell_type": "markdown",
   "id": "d64c29d4",
   "metadata": {
    "editable": true
   },
   "source": [
    "<!-- Equation labels as ordinary links -->\n",
    "<div id=\"eq:taylor:derr3b\"></div>\n",
    "\n",
    "$$\n",
    "\\begin{equation}\n",
    "R_3=\\frac{\\epsilon|f(x)|}{h}+\\frac{h^2}{6}f^{(3)}(\\eta),\\label{eq:taylor:derr3b} \\tag{9}\n",
    "\\end{equation}\n",
    "$$"
   ]
  },
  {
   "cell_type": "markdown",
   "id": "fe7f4d1e",
   "metadata": {
    "editable": true
   },
   "source": [
    "<!-- Equation labels as ordinary links -->\n",
    "<div id=\"eq:taylor:derr4b\"></div>\n",
    "\n",
    "$$\n",
    "\\begin{equation} \n",
    "R_4=\\frac{4\\epsilon|f(x)|}{h^2}+\\frac{h^2}{12}f^{(4)}(\\eta),\\label{eq:taylor:derr4b} \\tag{10}\n",
    "\\end{equation}\n",
    "$$"
   ]
  },
  {
   "cell_type": "markdown",
   "id": "e84ee7cd",
   "metadata": {
    "editable": true
   },
   "source": [
    "Which value of $h$ would minimize $R_3$ and $R_4$? Compare with the plot in the previous exercise."
   ]
  }
 ],
 "metadata": {},
 "nbformat": 4,
 "nbformat_minor": 5
}
