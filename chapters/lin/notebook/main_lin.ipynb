{
 "cells": [
  {
   "cell_type": "markdown",
   "id": "21274d46",
   "metadata": {
    "editable": true
   },
   "source": [
    "<!-- dom:TITLE: 1, 2, 3D models and linear systems -->\n",
    "# 1, 2, 3D models and linear systems\n",
    "**Aksel Hiorth**\n",
    "University of Stavanger\n",
    "\n",
    "Date: **May 6, 2024**"
   ]
  },
  {
   "cell_type": "code",
   "execution_count": 1,
   "id": "e6fb6a6e",
   "metadata": {
    "collapsed": false,
    "editable": true
   },
   "outputs": [],
   "source": [
    "%matplotlib inline\n",
    "\n",
    "import matplotlib.pyplot as plt\n",
    "import numpy as np"
   ]
  },
  {
   "cell_type": "markdown",
   "id": "7662b571",
   "metadata": {
    "editable": true
   },
   "source": [
    "Most problems in nature are nonlinear. That means that the system response is not proportional to the system variables, e.g. doubling the CO$_2$ concentration in the atmosphere does not lead to a doubling of the earth surface temperature. Still, linear solvers lies at the heart of all grid based models describing e.g. the earths climate. The reason is that although the *global* model is nonlinear, the model can be formulated *locally* as a linear model. Typically the simulation code solves the nonlinear problem through a series of steps where each step is a solution of a linear problem. The topic of solving linear systems of equations have been extensively studied, and sophisticated linear equation solving packages have been developed. Python uses functions from the [LAPACK](https://en.wikipedia.org/wiki/LAPACK) library.\n",
    "\n",
    "In the next sections we will show in detail how differential equations can be solved as a linear problem. We will first start off by deriving one of the most useful differential equations describing conservation of a quantity, e.g. mass, energy, momentum, charge.\n",
    "\n",
    "# The continuity equation\n",
    "The continuity equation is fundamental to all mathematical models describing a physical phenomenon. To gain more understanding of its origin we will take the time to derive it from first principles. We will do so in one dimension, consider a volume in space between $A(x)$ and $A(x+dx)$ in [figure 1](#fig:lin:flux). To be concrete we will assume that the green arrows represents the flow of heat. Thus there are heat flowing into and out of the system, and also heat that can be generated within the system by e.g. chemical reactions. The conservation equation can be formulated with words\n",
    "\n",
    "<!-- dom:FIGURE: [fig-lin/flux.png, width=800 frac=0.5] A closed volume, $V(x)=A(x)dx$, where a quantity flows in and out (illustrated by the green lines), there is also a possibility for generation or loss of the same quantity inside the volume. <div id=\"fig:lin:flux\"></div> -->\n",
    "<!-- begin figure -->\n",
    "<div id=\"fig:lin:flux\"></div>\n",
    "\n",
    "<img src=\"fig-lin/flux.png\" width=800><p style=\"font-size: 0.9em\"><i>Figure 1: A closed volume, $V(x)=A(x)dx$, where a quantity flows in and out (illustrated by the green lines), there is also a possibility for generation or loss of the same quantity inside the volume.</i></p>\n",
    "<!-- end figure -->"
   ]
  },
  {
   "cell_type": "markdown",
   "id": "c59bbd81",
   "metadata": {
    "editable": true
   },
   "source": [
    "<!-- Equation labels as ordinary links -->\n",
    "<div id=\"_auto1\"></div>\n",
    "\n",
    "$$\n",
    "\\begin{equation}\n",
    "\\frac{\\text{heat into V(x)}}{\\text{time}}-\\frac{\\text{heat out of V(x)}}{\\text{time}}\n",
    "+\\frac{\\text{heat generated in V(x)}}{\\text{time}} {\\nonumber}\n",
    "\\label{_auto1} \\tag{1}\n",
    "\\end{equation}\n",
    "$$"
   ]
  },
  {
   "cell_type": "markdown",
   "id": "ddaecbdb",
   "metadata": {
    "editable": true
   },
   "source": [
    "<!-- Equation labels as ordinary links -->\n",
    "<div id=\"eq:lin:flux\"></div>\n",
    "\n",
    "$$\n",
    "\\begin{equation}  \n",
    "= \\frac{\\text{change of heat in V(x)}}{\\text{time}}.\n",
    "\\label{eq:lin:flux} \\tag{2}\n",
    "\\end{equation}\n",
    "$$"
   ]
  },
  {
   "cell_type": "markdown",
   "id": "b9f48378",
   "metadata": {
    "editable": true
   },
   "source": [
    "We formulate the conservation equation per time, because we would like to investigate the time dependency of heat flow. The next step is to replace the terms ''heat into/out of'' with a useful mathematical quantity. It turns out that the term *flux* is particularly useful, because it is an *intensive* quantity. An intensive quantity is a quantity that is *independent of the system size*, like density. The flux is denoted by the symbol $J$"
   ]
  },
  {
   "cell_type": "markdown",
   "id": "256a90d9",
   "metadata": {
    "editable": true
   },
   "source": [
    "$$\n",
    "\\begin{equation}\n",
    "J(x)=\\frac{\\text{quantity (heat)}}{\\text{area}\\cdot\\text{time}},\n",
    "\\label{}\n",
    "\\end{equation}\n",
    "$$"
   ]
  },
  {
   "cell_type": "markdown",
   "id": "b71577e8",
   "metadata": {
    "editable": true
   },
   "source": [
    "and was first introduced by Isaac Newton. Thus to find the amount of heat transported through a surface per time we simply multiply the flux with the surface area. Next, we define the heat per volume as $q(x)$, and the heat produced per volume as $\\sigma$. Then equation ([2](#eq:lin:flux)) can be written"
   ]
  },
  {
   "cell_type": "markdown",
   "id": "d51f096f",
   "metadata": {
    "editable": true
   },
   "source": [
    "<!-- Equation labels as ordinary links -->\n",
    "<div id=\"_auto2\"></div>\n",
    "\n",
    "$$\n",
    "\\begin{equation}\n",
    "\\frac{J(x)A(x)}{dt}-\\frac{J(x+dx)A(x+dx)}{dt}+\n",
    "\\frac{\\sigma(t+dt)V(x)-\\sigma(t)V(x)}{dt}{\\nonumber}\n",
    "\\label{_auto2} \\tag{3}\n",
    "\\end{equation}\n",
    "$$"
   ]
  },
  {
   "cell_type": "markdown",
   "id": "24b36fa1",
   "metadata": {
    "editable": true
   },
   "source": [
    "<!-- Equation labels as ordinary links -->\n",
    "<div id=\"eq:lin:cont1\"></div>\n",
    "\n",
    "$$\n",
    "\\begin{equation} =\n",
    "\\frac{q(t+dt)V(x)-q(t)V(x)}{dt}.\n",
    "\\label{eq:lin:cont1} \\tag{4}\n",
    "\\end{equation}\n",
    "$$"
   ]
  },
  {
   "cell_type": "markdown",
   "id": "8551be57",
   "metadata": {
    "editable": true
   },
   "source": [
    "Using Taylor expansion we can write"
   ]
  },
  {
   "cell_type": "markdown",
   "id": "4e7a58d6",
   "metadata": {
    "editable": true
   },
   "source": [
    "<!-- Equation labels as ordinary links -->\n",
    "<div id=\"eq:lin:cont2\"></div>\n",
    "\n",
    "$$\n",
    "\\begin{equation}\n",
    "J(x+dx)A(x+dx) =J(x)A(x)+\\frac{d(J(x)A(x)}{dx}dx+{\\cal O}(dx^2),\n",
    "\\label{eq:lin:cont2} \\tag{5} \n",
    "\\end{equation}\n",
    "$$"
   ]
  },
  {
   "cell_type": "markdown",
   "id": "7ad5b8d4",
   "metadata": {
    "editable": true
   },
   "source": [
    "<!-- Equation labels as ordinary links -->\n",
    "<div id=\"_auto3\"></div>\n",
    "\n",
    "$$\n",
    "\\begin{equation}  \n",
    "\\sigma(t+dt) =\\sigma(t)+\\frac{d\\sigma}{dt}dt+{\\cal O}(dt^2),{\\nonumber}\n",
    "\\label{_auto3} \\tag{6}\n",
    "\\end{equation}\n",
    "$$"
   ]
  },
  {
   "cell_type": "markdown",
   "id": "44f06189",
   "metadata": {
    "editable": true
   },
   "source": [
    "<!-- Equation labels as ordinary links -->\n",
    "<div id=\"eq:lin:cont3\"></div>\n",
    "\n",
    "$$\n",
    "\\begin{equation}  \n",
    "q(t+dt) =q(t)+\\frac{dq}{dt}dt+{\\cal O}(dt^2),\n",
    "\\label{eq:lin:cont3} \\tag{7}\n",
    "\\end{equation}\n",
    "$$"
   ]
  },
  {
   "cell_type": "markdown",
   "id": "c76e449e",
   "metadata": {
    "editable": true
   },
   "source": [
    "Inserting these equations into equation([4](#eq:lin:cont1)), using $V(x)=A(x)dx$, and taking the limit $dx,dt\\to0$ we arrive at\n",
    "**The continuity equation in 1 dimension.**"
   ]
  },
  {
   "cell_type": "markdown",
   "id": "90e09ff2",
   "metadata": {
    "editable": true
   },
   "source": [
    "<!-- Equation labels as ordinary links -->\n",
    "<div id=\"eq:lin:cont4\"></div>\n",
    "\n",
    "$$\n",
    "\\begin{equation}\n",
    "-\\frac{d(J(x)A(x))}{dx}+\\frac{d\\sigma(t)}{dt}A(x)=\\frac{dq(t)}{dt}A(x).\n",
    "\\label{eq:lin:cont4} \\tag{8}\n",
    "\\end{equation}\n",
    "$$"
   ]
  },
  {
   "cell_type": "markdown",
   "id": "c13e2506",
   "metadata": {
    "editable": true
   },
   "source": [
    "We have kept the area in equation ([8](#eq:lin:cont4)), because we are only considering flow of heat in one dimension and then we can allow for the area to change in the $y$ and $z$ dimension. When the continuity equation is derived in three dimensions, one consider a volume $V(x,y,z)=dxdydz$, then the area in equation ([8](#eq:lin:cont4)) will drop out and $d/dx\\to\\nabla=[\\partial/\\partial x, \\partial/\\partial y, \\partial/\\partial z]$ \n",
    "**The continuity equation in 3 dimensions.**"
   ]
  },
  {
   "cell_type": "markdown",
   "id": "de3cce0c",
   "metadata": {
    "editable": true
   },
   "source": [
    "<!-- Equation labels as ordinary links -->\n",
    "<div id=\"eq:lin:cont5\"></div>\n",
    "\n",
    "$$\n",
    "\\begin{equation}\n",
    "-\\nabla\\cdot\\mathbf{J}+\\frac{d\\sigma(t)}{dt}=\\frac{dq(t)}{dt}.\n",
    "\\label{eq:lin:cont5} \\tag{9}\n",
    "\\end{equation}\n",
    "$$"
   ]
  },
  {
   "cell_type": "markdown",
   "id": "bb968c81",
   "metadata": {
    "editable": true
   },
   "source": [
    "# Continuity equation as a linear problem\n",
    "\n",
    "How can a differential equation be formulated as a matrix problem? To see this we need to discretize equation ([8](#eq:lin:cont4)). We will discretize the equation in one dimension, and we will use a regular grid, where we keep the same distance, $h$, between the points. Assume our system has dimension $L$, in [figure 2](#fig:lin:grid), there are two examples of discretization.  \n",
    "\n",
    "<!-- dom:FIGURE: [fig-lin/grid.png, width=800 frac=1.0] Examples of discretization of a system with length $L$ (left) the  boundaries lies exactly at the boundary nodes, (right) boundary nodes lies half-way between the grid nodes. <div id=\"fig:lin:grid\"></div> -->\n",
    "<!-- begin figure -->\n",
    "<div id=\"fig:lin:grid\"></div>\n",
    "\n",
    "<img src=\"fig-lin/grid.png\" width=800><p style=\"font-size: 0.9em\"><i>Figure 2: Examples of discretization of a system with length $L$ (left) the  boundaries lies exactly at the boundary nodes, (right) boundary nodes lies half-way between the grid nodes.</i></p>\n",
    "<!-- end figure -->\n",
    "\n",
    "There are many things to consider when discretizing equations, but perhaps the most important are\n",
    "1. Treat the boundary nodes correctly. In most cases the dominating numerical errors are introduced through the boundaries. Always draw a picture of the system, if the boundaries lies exactly at the grid nodes it is usually easier to find a good numerical representation. If the boundaries lies a distance from the nodes, e.g. to the right in [figure 2](#fig:lin:grid), then one usually need to do some interpolation.\n",
    "\n",
    "2. Should finite volume or finite difference approach be used? A finite volume approach is especially attractive for conservation equations.\n",
    "\n",
    "**Finite difference and finite volume.**\n",
    "\n",
    "We have already encountered finite difference discretization in the last chapter where we used various approximations to calculate derivatives, i.e. we calculate derivatives by calculating the *difference* between $f(x+h)$ and $f(x)$ (or $f(x+h)$ and $f(x-h)$). The finite volume formulation is also a finite difference scheme, but it is formulated such that we always ensure that the quantity we are simulating is conserved (regardless of numerical errors). Formally, one transforms the divergence term (the term that contains the flux $\\nabla \\mathbf{J}$) into a surface integral using the Gauss (divergence) theorem"
   ]
  },
  {
   "cell_type": "markdown",
   "id": "2fb0b6bb",
   "metadata": {
    "editable": true
   },
   "source": [
    "<!-- Equation labels as ordinary links -->\n",
    "<div id=\"eq:lin:dgau\"></div>\n",
    "\n",
    "$$\n",
    "\\begin{equation}\n",
    "\\int_V\\nabla\\cdot \\mathbf{J}=\\int_S\\mathbf{J}\\cdot \\hat{\\mathbf{n}}\n",
    "\\label{eq:lin:dgau} \\tag{10}\n",
    "\\end{equation}\n",
    "$$"
   ]
  },
  {
   "cell_type": "markdown",
   "id": "ead8e304",
   "metadata": {
    "editable": true
   },
   "source": [
    "There are excellent books written on the finite volume method, see e.g. [[leveque2002finite]](#leveque2002finite). Here we will mainly focus on the key idea, which is to formulate a scheme that conserves the flux.\n",
    "The process of formulating a finite volume scheme is very close to the derivation of the continuum equation we did in the beginning of the chapter. We consider our numerical discretization as several boxes (exactly like the dotted lines in [figure 2](#fig:lin:grid)), the continuum equation is written down for each box an therefore we are ensured that the quantities are conserved *regardless of the size of the boxes*.\n",
    "\n",
    "**Example: Finite difference and volume discretization of the heat equation.**\n",
    "\n",
    "Let us consider the heat equation, where the heat flux is given as"
   ]
  },
  {
   "cell_type": "markdown",
   "id": "2a2e936e",
   "metadata": {
    "editable": true
   },
   "source": [
    "<!-- Equation labels as ordinary links -->\n",
    "<div id=\"eq:lin:e1\"></div>\n",
    "\n",
    "$$\n",
    "\\begin{equation}\n",
    "J=-k\\frac{dT}{dx},\n",
    "\\label{eq:lin:e1} \\tag{11}\n",
    "\\end{equation}\n",
    "$$"
   ]
  },
  {
   "cell_type": "markdown",
   "id": "ff6da838",
   "metadata": {
    "editable": true
   },
   "source": [
    "where $k$ describes the thermal conductivity of the solid. We will further assume that there is a constant source term $d\\sigma/dt=\\kappa=const$, and steady state $dq/dt=0$. Then equation ([8](#eq:lin:cont4)) can be written"
   ]
  },
  {
   "cell_type": "markdown",
   "id": "c56fb47c",
   "metadata": {
    "editable": true
   },
   "source": [
    "<!-- Equation labels as ordinary links -->\n",
    "<div id=\"eq:lin:e2\"></div>\n",
    "\n",
    "$$\n",
    "\\begin{equation}\n",
    "k\\frac{d^2T}{dx^2}+\\kappa=0,\n",
    "\\label{eq:lin:e2} \\tag{12}\n",
    "\\end{equation}\n",
    "$$"
   ]
  },
  {
   "cell_type": "markdown",
   "id": "b6a2f798",
   "metadata": {
    "editable": true
   },
   "source": [
    "The finite difference discretization is now straight forward, just replace the term $d^2T/dx^2$ with a suitable finite difference formula for the second derivative, e.g."
   ]
  },
  {
   "cell_type": "markdown",
   "id": "ec96b6dc",
   "metadata": {
    "editable": true
   },
   "source": [
    "<!-- Equation labels as ordinary links -->\n",
    "<div id=\"_auto4\"></div>\n",
    "\n",
    "$$\n",
    "\\begin{equation}\n",
    "k\\frac{T(x+h)+T(x-h)-2T(x)}{h^2}+\\kappa=0,{\\nonumber}\n",
    "\\label{_auto4} \\tag{13}\n",
    "\\end{equation}\n",
    "$$"
   ]
  },
  {
   "cell_type": "markdown",
   "id": "a18349cf",
   "metadata": {
    "editable": true
   },
   "source": [
    "<!-- Equation labels as ordinary links -->\n",
    "<div id=\"eq:lin:e3\"></div>\n",
    "\n",
    "$$\n",
    "\\begin{equation}  \n",
    "k\\frac{T_{i+1}+T_{i-1}-2T_i}{h^2}+\\kappa=0.\n",
    "\\label{eq:lin:e3} \\tag{14}\n",
    "\\end{equation}\n",
    "$$"
   ]
  },
  {
   "cell_type": "markdown",
   "id": "8d28cd4a",
   "metadata": {
    "editable": true
   },
   "source": [
    "Note that in the last equations we have introduced the short hand notation $T(x)\\equiv T_i$, and $T(x\\pm h)=T_{i\\pm 1}$. \n",
    "\n",
    "The finite volume discretization approach is slightly different, we then operate with *cell averaged values*. The heat in the box is the volume averaged heat. Since the divergence term is replaced with a surface integral, equation ([10](#eq:lin:dgau)), we calculate the flow of heat into the boundary $x-h/2$ and out of the boundary $x+h/2$ as"
   ]
  },
  {
   "cell_type": "markdown",
   "id": "a56b3862",
   "metadata": {
    "editable": true
   },
   "source": [
    "<!-- Equation labels as ordinary links -->\n",
    "<div id=\"eq:lin:e4\"></div>\n",
    "\n",
    "$$\n",
    "\\begin{equation}\n",
    "\\frac{J_{x+h/2}\n",
    "-J_{x-h/2}}{h}+\\kappa=0.\n",
    "\\label{eq:lin:e4} \\tag{15}\n",
    "\\end{equation}\n",
    "$$"
   ]
  },
  {
   "cell_type": "markdown",
   "id": "ae30f300",
   "metadata": {
    "editable": true
   },
   "source": [
    "Note that this equation is exactly the same as equation ([4](#eq:lin:cont1)), with the only exception that the point $x$ is placed in the center of the box.\n",
    "The diffusive flux is $-kdT/dx$, and in order to be consistent with this law we have to write the flux between two cells as proportional to the difference between the cell average values"
   ]
  },
  {
   "cell_type": "markdown",
   "id": "01951546",
   "metadata": {
    "editable": true
   },
   "source": [
    "$$\n",
    "-\\frac{k}{h}\\left(\\frac{T_{i+1}-T_i}{h}-\\frac{T_{i}-T_{i-1}}{h}\\right)+\\kappa=0\\nonumber,\n",
    "$$"
   ]
  },
  {
   "cell_type": "markdown",
   "id": "773d6e66",
   "metadata": {
    "editable": true
   },
   "source": [
    "<!-- Equation labels as ordinary links -->\n",
    "<div id=\"eq:lin:e5\"></div>\n",
    "\n",
    "$$\n",
    "\\begin{equation}  \n",
    "k\\frac{T_{i+1}+T_{i-1}-2T_i}{h^2}+\\kappa=0.\n",
    "\\label{eq:lin:e5} \\tag{16}\n",
    "\\end{equation}\n",
    "$$"
   ]
  },
  {
   "cell_type": "markdown",
   "id": "dc7c9d48",
   "metadata": {
    "editable": true
   },
   "source": [
    "In this case we actually recover the same equation as we did for the finite difference approach equation ([14](#eq:lin:e3)).\n",
    "\n",
    "\n",
    "\n",
    "### Boundary conditions\n",
    "\n",
    "Basically there are two types of boundary conditions i) the flux is known at the edges of the computational domain and/or ii) the physical quantity we are solving for is known. To be more specific, and to see how all connects, we will continue with the example above on the heat equation. Consider the outline of nodes as in [figure 2](#fig:lin:grid), we will consider two possibilities i) where the physical boundary lies exactly between nodes, and ii) where the physical boundary is exactly at the grid nodes. In the finite volume scheme, we need to make sure that the flux over the surface is calculated correctly, and then we have to use the formulas in [figure 3](#fig:lin:bbc)"
   ]
  },
  {
   "cell_type": "markdown",
   "id": "af07c536",
   "metadata": {
    "editable": true
   },
   "source": [
    "<!-- Equation labels as ordinary links -->\n",
    "<div id=\"eq:lin:nn\"></div>\n",
    "\n",
    "$$\n",
    "\\begin{equation}\n",
    "\\left.\\frac{dT}{dx}\\right|_{x=0}=\\frac{T_{-1}-T_0}{h}+{\\cal O}(h^2).\n",
    "\\label{eq:lin:nn} \\tag{17}\n",
    "\\end{equation}\n",
    "$$"
   ]
  },
  {
   "cell_type": "markdown",
   "id": "76a4c3d0",
   "metadata": {
    "editable": true
   },
   "source": [
    "Note that if the boundary node lies exactly at $x=0$, we have to replace $T_0$ with $T_{1}$. A flux boundary condition is usually called Neumann boundary condition after Carl Neumann (1832–1925) a German mathematician, and the constant value boundary condition is called Dirichlet boundary condition after another German mathematician, Peter Gustav Lejeune Dirichlet (1805–1859). If the boundary nodes lies exactly at the physical boundary, it is trivial to implement, just replace $T_N=T_b$ i.e. with the boundary value. On the other hand if the physical boundary lies a distance from the node, we have to interpolate the value from the physical coordinate to the simulation node."
   ]
  },
  {
   "cell_type": "markdown",
   "id": "66656a26",
   "metadata": {
    "editable": true
   },
   "source": [
    "<!-- Equation labels as ordinary links -->\n",
    "<div id=\"_auto5\"></div>\n",
    "\n",
    "$$\n",
    "\\begin{equation}\n",
    "T_N=T(x+h)=T(x+h/2+h/2){\\nonumber}\n",
    "\\label{_auto5} \\tag{18}\n",
    "\\end{equation}\n",
    "$$"
   ]
  },
  {
   "cell_type": "markdown",
   "id": "d29c1d0d",
   "metadata": {
    "editable": true
   },
   "source": [
    "$$\n",
    "=T_{N+1/2}+\\left.\\frac{dT}{dx}\\right|_{x+h/2}+{\\cal O}(h^2)=T_b+\\frac{T_N-T_{N-1}}{h}\\frac{h}{2}+{\\cal O}(h^2),\\text{ hence:}\\nonumber\n",
    "$$"
   ]
  },
  {
   "cell_type": "markdown",
   "id": "b6f7a2f8",
   "metadata": {
    "editable": true
   },
   "source": [
    "<!-- Equation labels as ordinary links -->\n",
    "<div id=\"eq:lin:dd\"></div>\n",
    "\n",
    "$$\n",
    "\\begin{equation}  \n",
    "T_N=2T_b-T_{N-1}+{\\cal O}(h^2).\\label{eq:lin:dd} \\tag{19}\n",
    "\\end{equation}\n",
    "$$"
   ]
  },
  {
   "cell_type": "markdown",
   "id": "657027e6",
   "metadata": {
    "editable": true
   },
   "source": [
    "Notice that the result make sense, $T_b=(T_N+T_{N-1})/2$, i.e. the value midway is the average of the values at the neighboring nodes.\n",
    "\n",
    "<!-- dom:FIGURE: [fig-lin/bbc.png, width=800 frac=1.0] Flux boundary condition (Neumann), and value boundary condition (Dirichlet). For the upper right boundary condition we use Taylors formula to interpolate, see equation ([19](#eq:lin:dd)). <div id=\"fig:lin:bbc\"></div> -->\n",
    "<!-- begin figure -->\n",
    "<div id=\"fig:lin:bbc\"></div>\n",
    "\n",
    "<img src=\"fig-lin/bbc.png\" width=800><p style=\"font-size: 0.9em\"><i>Figure 3: Flux boundary condition (Neumann), and value boundary condition (Dirichlet). For the upper right boundary condition we use Taylors formula to interpolate, see equation ([19](#eq:lin:dd)).</i></p>\n",
    "<!-- end figure -->\n",
    "\n",
    "**Example: Steady state heat equation as a linear problem.**\n",
    "\n",
    "Consider the case where we have 4 grid nodes and the outline of the simulation nodes are as in [figure 2](#fig:lin:grid) to the left, i.e. nodes at the physical  boundaries. Assume a zero flux boundary condition to the left, and a constant temperature,$T_b$, to the right. Write the heat equation"
   ]
  },
  {
   "cell_type": "markdown",
   "id": "2fc71690",
   "metadata": {
    "editable": true
   },
   "source": [
    "<!-- Equation labels as ordinary links -->\n",
    "<div id=\"eq:lin:exx1\"></div>\n",
    "\n",
    "$$\n",
    "\\begin{equation}\n",
    "k\\frac{d^2T}{dx^2}+\\kappa=0,\n",
    "\\label{eq:lin:exx1} \\tag{20}\n",
    "\\end{equation}\n",
    "$$"
   ]
  },
  {
   "cell_type": "markdown",
   "id": "17c9e70a",
   "metadata": {
    "editable": true
   },
   "source": [
    "as a matrix equation.\n",
    "\n",
    "**Solution:**\n",
    "First, we use the discrete version of equation ([20](#eq:lin:exx1)) in equation ([14](#eq:lin:e3)) for $i=0, 1, 2, 3$"
   ]
  },
  {
   "cell_type": "markdown",
   "id": "983c2c00",
   "metadata": {
    "editable": true
   },
   "source": [
    "$$\n",
    "T_{-1}+T_1-2T_0 =-h^2\\kappa/k,\\nonumber\n",
    "$$"
   ]
  },
  {
   "cell_type": "markdown",
   "id": "ccd1b162",
   "metadata": {
    "editable": true
   },
   "source": [
    "$$\n",
    "T_{0}+T_2-2T_1 =-h^2\\kappa/k\\nonumber\n",
    "$$"
   ]
  },
  {
   "cell_type": "markdown",
   "id": "74f22882",
   "metadata": {
    "editable": true
   },
   "source": [
    "$$\n",
    "T_{1}+T_3-2T_2 =-h^2\\kappa/k\\nonumber\n",
    "$$"
   ]
  },
  {
   "cell_type": "markdown",
   "id": "044191bc",
   "metadata": {
    "editable": true
   },
   "source": [
    "<!-- Equation labels as ordinary links -->\n",
    "<div id=\"eq:lin:exx2\"></div>\n",
    "\n",
    "$$\n",
    "\\begin{equation}  \n",
    "T_{2}+T_4-2T_3 =-h^2\\kappa/k.\n",
    "\\label{eq:lin:exx2} \\tag{21}\n",
    "\\end{equation}\n",
    "$$"
   ]
  },
  {
   "cell_type": "markdown",
   "id": "18948d13",
   "metadata": {
    "editable": true
   },
   "source": [
    "Now, we have four equations, but six unknowns ($T_{-1}, T_0, T_1, T_2, T_3, T_4$). $T_{-1}$, and $T_4$ can be found from the boundary conditions. Using the formulas in [figure 3](#fig:lin:bbc) at the lower left and lower right, we get $dT/dx=0$, and $T_{-1}=T_1$, and $T_4=T_b$. Thus the first and last equation in equation ([21](#eq:lin:exx2)), can be written"
   ]
  },
  {
   "cell_type": "markdown",
   "id": "c34c53dc",
   "metadata": {
    "editable": true
   },
   "source": [
    "$$\n",
    "2T_1-2T_0 =-h^2\\kappa/k,\\nonumber\n",
    "$$"
   ]
  },
  {
   "cell_type": "markdown",
   "id": "12b38892",
   "metadata": {
    "editable": true
   },
   "source": [
    "<!-- Equation labels as ordinary links -->\n",
    "<div id=\"eq:lin:2b\"></div>\n",
    "\n",
    "$$\n",
    "\\begin{equation}  \n",
    "T_{2}-2T_3 =-h^2\\kappa/k-T_b.\n",
    "\\label{eq:lin:2b} \\tag{22}\n",
    "\\end{equation}\n",
    "$$"
   ]
  },
  {
   "cell_type": "markdown",
   "id": "63fed7ea",
   "metadata": {
    "editable": true
   },
   "source": [
    "Now, we can formulate equation ([21](#eq:lin:exx2)) as a matrix problem, with the unknowns on the left side and the unknown on the right hand side."
   ]
  },
  {
   "cell_type": "markdown",
   "id": "f13c91d0",
   "metadata": {
    "editable": true
   },
   "source": [
    "<!-- Equation labels as ordinary links -->\n",
    "<div id=\"eq:lin:exx4\"></div>\n",
    "\n",
    "$$\n",
    "\\begin{equation}\n",
    "\\left(\n",
    "\\begin{array}{cccc}\n",
    "-2&2&0&0\\\\ \n",
    "1&-2&1&0\\\\ \n",
    "0&1&-2&1\\\\ \n",
    "0&0&1&-2\\\\ \n",
    "\\end{array}\n",
    "\\right)\n",
    "\\left(\n",
    "\\begin{array}{c}\n",
    "T_0\\\\ \n",
    "T_1\\\\ \n",
    "T_2\\\\ \n",
    "T_3\\\\ \n",
    "\\end{array}\n",
    "\\right)\n",
    "=\n",
    "\\left(\n",
    "\\begin{array}{c}\n",
    "-h^2\\kappa/k\\\\ \n",
    "-h^2\\kappa/k\\\\ \n",
    "-h^2\\kappa/k\\\\ \n",
    "-h^2\\kappa/k-T_b\n",
    "\\end{array}\n",
    "\\right).\n",
    "\\end{equation}\n",
    "\\label{eq:lin:exx4} \\tag{23}\n",
    "$$"
   ]
  },
  {
   "cell_type": "markdown",
   "id": "69c85260",
   "metadata": {
    "editable": true
   },
   "source": [
    "In principle, to discretize an equation is straight forward, but there are some \n",
    "\n",
    "First, we are going to consider a *steady state* solution. Steady state means that the solution does no longer change as a function of time, i.e. $dq/dt=0$ in equation ([8](#eq:lin:cont4)). We are also going to assume that the area is constant $A(x)=A$, thus the equation we want to solve is\n",
    "\n",
    "# Solving linear equations\n",
    "There are a number of excellent books covering this topic, see e.g. [[press2007;@trefethen1997;@stoer2013;@strang2019]](#press2007;@trefethen1997;@stoer2013;@strang2019).\n",
    "In most of the examples covered in this course we will encounter problems where we have a set of *linearly independent* equations and one equation for each unknown. For these type of problems there are a number of methods that can be used, and they will find a solution in a finite number of steps. If a solution cannot be found it is usually because the equations are not linearly independent, and our formulation of the physical problem is wrong.\n",
    "\n",
    "Assume that we would like to solve the following set of equations:"
   ]
  },
  {
   "cell_type": "markdown",
   "id": "972f15f1",
   "metadata": {
    "editable": true
   },
   "source": [
    "<!-- Equation labels as ordinary links -->\n",
    "<div id=\"eq:lin:la\"></div>\n",
    "\n",
    "$$\n",
    "\\begin{equation}\n",
    "2x_0+x_1+x_2+3x_3=1, \\label{eq:lin:la} \\tag{24} \n",
    "\\end{equation}\n",
    "$$"
   ]
  },
  {
   "cell_type": "markdown",
   "id": "33a023cd",
   "metadata": {
    "editable": true
   },
   "source": [
    "<!-- Equation labels as ordinary links -->\n",
    "<div id=\"eq:lin:lb\"></div>\n",
    "\n",
    "$$\n",
    "\\begin{equation}  \n",
    "x_0+x_1+3x_2+x_3=-3, \\label{eq:lin:lb} \\tag{25} \n",
    "\\end{equation}\n",
    "$$"
   ]
  },
  {
   "cell_type": "markdown",
   "id": "71b7f215",
   "metadata": {
    "editable": true
   },
   "source": [
    "<!-- Equation labels as ordinary links -->\n",
    "<div id=\"eq:lin:lc\"></div>\n",
    "\n",
    "$$\n",
    "\\begin{equation}  \n",
    "x_0+4x_1+x_2+x_3=2, \\label{eq:lin:lc} \\tag{26} \n",
    "\\end{equation}\n",
    "$$"
   ]
  },
  {
   "cell_type": "markdown",
   "id": "f6b353aa",
   "metadata": {
    "editable": true
   },
   "source": [
    "<!-- Equation labels as ordinary links -->\n",
    "<div id=\"eq:lin:ld\"></div>\n",
    "\n",
    "$$\n",
    "\\begin{equation}  \n",
    "x_0+x_1+2x_2+2x_3=1. \\label{eq:lin:ld} \\tag{27} \n",
    "\\end{equation}\n",
    "$$"
   ]
  },
  {
   "cell_type": "markdown",
   "id": "8b479d90",
   "metadata": {
    "editable": true
   },
   "source": [
    "These equations can be written in matrix form as:"
   ]
  },
  {
   "cell_type": "markdown",
   "id": "1a2c1690",
   "metadata": {
    "editable": true
   },
   "source": [
    "<!-- Equation labels as ordinary links -->\n",
    "<div id=\"eq:lin:mat\"></div>\n",
    "\n",
    "$$\n",
    "\\begin{equation}\n",
    "\\mathbf{A\\cdot x}=\\mathbf{b},\n",
    "\\label{eq:lin:mat} \\tag{28}\n",
    "\\end{equation}\n",
    "$$"
   ]
  },
  {
   "cell_type": "markdown",
   "id": "d57a6c03",
   "metadata": {
    "editable": true
   },
   "source": [
    "where:"
   ]
  },
  {
   "cell_type": "markdown",
   "id": "2f4bb9bf",
   "metadata": {
    "editable": true
   },
   "source": [
    "<!-- Equation labels as ordinary links -->\n",
    "<div id=\"eq:lin:matA\"></div>\n",
    "\n",
    "$$\n",
    "\\begin{equation}\n",
    "\\mathbf{A}\\equiv\\begin{pmatrix}\n",
    "2&1&1&3\\\\ \n",
    "1&1&3&1\\\\ \n",
    "1&4&1&1\\\\ \n",
    "1&1&2&2\n",
    "\\end{pmatrix}\n",
    "\\qquad\n",
    "\\mathbf{b}\\equiv\n",
    "\\begin{pmatrix}\n",
    "1\\\\-3\\\\2\\\\1\n",
    "\\end{pmatrix}\n",
    "\\qquad\n",
    "\\mathbf{x}\\equiv\n",
    "\\begin{pmatrix}\n",
    "x_0\\\\x_1\\\\x_2\\\\x_3\n",
    "\\end{pmatrix}.\n",
    "\\label{eq:lin:matA} \\tag{29}\n",
    "\\end{equation}\n",
    "$$"
   ]
  },
  {
   "cell_type": "markdown",
   "id": "86a2ecaa",
   "metadata": {
    "editable": true
   },
   "source": [
    "You can easily verify that $x_0=-4, x_1=1, x_2=-1, x_3= 3$ is the\n",
    "solution to the above equations by direct substitution. If we were to\n",
    "replace one of the above equations with a linear combination of any of\n",
    "the other equations, e.g. replace equation ([27](#eq:lin:ld)) with\n",
    "$3x_0+2x_1+4x_2+4x_3=-2$, there would be no unique solution (infinite\n",
    "number of solutions). This can be checked by calculating the determinant of the matrix $\\mathbf{A}$, if $\\det \\mathbf{A}=0 $,  \n",
    "What is the difficulty in solving these equations? Clearly if none of the equations are linearly dependent, and we have $N$ independent linear equations, it should be straight forward to solve them? Two major numerical problems are i) even if the equations are not exact linear combinations of each other, they could be very close, and as the numerical algorithm progresses they could at some stage become linearly dependent due to roundoff errors. ii) roundoff errors may accumulate if the number of equations are large [[press2007]](#press2007).\n",
    "\n",
    "## Gauss-Jordan elimination\n",
    "Let us continue the discussion by consider Gauss-Jordan elimination, which is a *direct* method. A direct method uses a final set of operations to obtain a solution. According to [[press2007]](#press2007) Gauss-Jordan elimination is the method of choice if we want to find the inverse of $\\mathbf{A}$. However, it is slow when it comes to calculate the solution of equation\n",
    "([28](#eq:lin:mat)). Even if speed and memory use is not an issue, it is also not advised to first find the inverse, $\\mathbf{A}^{-1}$, of $\\mathbf{A}$, then multiply it with $\\mathbf{b}$ to obtain the solution, due to roundoff errors (Roundoff errors occur whenever we subtract to numbers that are very close to each other). To simplify our notation, we write equation ([29](#eq:lin:matA)) as:"
   ]
  },
  {
   "cell_type": "markdown",
   "id": "6a1185d3",
   "metadata": {
    "editable": true
   },
   "source": [
    "<!-- Equation labels as ordinary links -->\n",
    "<div id=\"_auto6\"></div>\n",
    "\n",
    "$$\n",
    "\\begin{equation}\n",
    "\\left(\n",
    "\\begin{array}{cccc|c}\n",
    "2&1&1&3&1\\\\ \n",
    "1&1&3&1&-3\\\\ \n",
    "1&4&1&1&2\\\\ \n",
    "1&1&2&2&1\n",
    "\\end{array}\n",
    "\\right).\n",
    "\\label{_auto6} \\tag{30}\n",
    "\\end{equation}\n",
    "$$"
   ]
  },
  {
   "cell_type": "markdown",
   "id": "9fa5bd22",
   "metadata": {
    "editable": true
   },
   "source": [
    "The numbers to the left of the vertical dash is the matrix $\\mathbf{A}$, and to the right is the vector $\\mathbf{b}$. The Gauss-Jordan elimination procedure proceeds by doing the same operation on the right and left side of the dash, and the goal is to get only zeros on the lower triangular part of the matrix. This is achieved by multiplying rows with the same (nonzero) number, swapping rows, adding a multiple of a row to another:"
   ]
  },
  {
   "cell_type": "markdown",
   "id": "2c8056ea",
   "metadata": {
    "editable": true
   },
   "source": [
    "<!-- Equation labels as ordinary links -->\n",
    "<div id=\"eq:lin:gj1\"></div>\n",
    "\n",
    "$$\n",
    "\\begin{equation}\n",
    "\\left(\n",
    "\\begin{array}{cccc|c}\n",
    "2&1&1&3&1\\\\ \n",
    "1&1&3&1&-3\\\\ \n",
    "1&4&1&1&2\\\\ \n",
    "1&1&2&2&1\n",
    "\\end{array}\n",
    "\\right)\\to\n",
    "\\left(\n",
    "\\begin{array}{cccc|c}\n",
    "2&1&1&3&1\\\\ \n",
    "0&1/2&5/2&-1/2&-7/2\\\\ \n",
    "0&7/2&1/2&-1/2&3/2\\\\ \n",
    "0&1/2&3/2&1/2&1/2\n",
    "\\end{array}\n",
    "\\right)\\to\\label{eq:lin:gj1} \\tag{31}\n",
    "\\end{equation}\n",
    "$$"
   ]
  },
  {
   "cell_type": "markdown",
   "id": "449de372",
   "metadata": {
    "editable": true
   },
   "source": [
    "<!-- Equation labels as ordinary links -->\n",
    "<div id=\"_auto7\"></div>\n",
    "\n",
    "$$\n",
    "\\begin{equation}  \n",
    "\\left(\n",
    "\\begin{array}{cccc|c}\n",
    "2&1&1&3&1\\\\ \n",
    "0&1/2&5/2&-1/2&-7/2\\\\ \n",
    "0&0&-17&3&26\\\\ \n",
    "0&0&1&-1&4\n",
    "\\end{array}\n",
    "\\right)\n",
    "\\to\n",
    "\\left(\n",
    "\\begin{array}{cccc|c}\n",
    "2&1&1&3&1\\\\ \n",
    "0&1/2&5/2&-1/2&-7/2\\\\ \n",
    "0&0&-17&3&26\\\\ \n",
    "0&0&0&14/17&42/17\n",
    "\\end{array}\n",
    "\\right){\\nonumber}\n",
    "\\label{_auto7} \\tag{32}\n",
    "\\end{equation}\n",
    "$$"
   ]
  },
  {
   "cell_type": "markdown",
   "id": "e28e896a",
   "metadata": {
    "editable": true
   },
   "source": [
    "The operations done are: ($1\\to2$) multiply first row with $-1/2$ and add to second, third and the fourth row, ($2\\to 3$) multiply second row with $-7$, and add to third row, multiply second row with $-1$ and add to fourth row, ($3\\to4$) multiply third row with $-1/17$ and add to fourth row. These operations can easily be coded into Python:"
   ]
  },
  {
   "cell_type": "code",
   "execution_count": 2,
   "id": "7ea29121",
   "metadata": {
    "collapsed": false,
    "editable": true
   },
   "outputs": [],
   "source": [
    "A = np.array([[2, 1, 1, 3],[1, 1, 3, 1],\n",
    "              [1, 4, 1, 1],[1, 1, 2, 2 ]],float)\n",
    "b = np.array([1,-3,2,1],float)\n",
    "N=4\n",
    "# Gauss-Jordan Forward Elimination\n",
    "for i in range(1,N):\n",
    "    fact    = A[i:,i-1]/A[i-1,i-1]\n",
    "    A[i:,] -= np.outer(fact,A[i-1,])\n",
    "    b[i:]  -= b[i-1]*fact"
   ]
  },
  {
   "cell_type": "markdown",
   "id": "e4059f4b",
   "metadata": {
    "editable": true
   },
   "source": [
    "The python code is a bit compact, below there is an implementation using for loops"
   ]
  },
  {
   "cell_type": "code",
   "execution_count": 3,
   "id": "46384b9d",
   "metadata": {
    "collapsed": false,
    "editable": true
   },
   "outputs": [],
   "source": [
    "# Gauss-Jordan Forward Elimination - for loops\n",
    "for i in range(N):\n",
    "    for j in range(i+1,N):\n",
    "        fact    = A[j,i]/A[i,i]\n",
    "        for k in range(i+1,N):\n",
    "            A[j,k] = A[j,k]- fact*A[i,k]\n",
    "        b[j]  = b[j]- b[j-1]*fact\n",
    "\tA[j,i]= 0. # alternatively k=i,...,N"
   ]
  },
  {
   "cell_type": "markdown",
   "id": "b9bb396e",
   "metadata": {
    "editable": true
   },
   "source": [
    "**Number of (long) operations.**\n",
    "\n",
    "The code above reveals that that there are quite a few multiplications or divisions being performed in the forward elimination. Multiplications and divisions are more time consuming than addition and subtraction, and are usually termed *long* operations. Not all loops runs from zero to $N$, the innermost from $k=i+1\\ldots N-1$, i.e. a total of $N-i-2$, the second contains $N-i-2$ and one multiplication for the `b` vector. Hence we have number of long operations"
   ]
  },
  {
   "cell_type": "markdown",
   "id": "5cd10993",
   "metadata": {
    "editable": true
   },
   "source": [
    "$$\n",
    "\\begin{equation}\n",
    "\\sum_{i=0}^{N-1}(N-i-2)^2+(N-i-2)=\\frac{N}{3}(N^2-3N+2).\n",
    "\\label{}\n",
    "\\end{equation}\n",
    "$$"
   ]
  },
  {
   "cell_type": "markdown",
   "id": "aa7ef21d",
   "metadata": {
    "editable": true
   },
   "source": [
    "The important result is that when the system of equations becomes large $N^3\\gg N^2$ and the algorithm scales as $N^3$.\n",
    "\n",
    "\n",
    "Notice that the final matrix has only zeros beyond the diagonal, such a matrix is called *upper triangular*. We still have not found the final solution, but from an upper triangular (or lower triangular) matrix it is trivial to determine the solution. The last row immediately gives us $14/17z=42/17$ or $z=3$, now we have the solution for z and the next row gives: $-17y+3z=26$ or $y=(26-3\\cdot3)/(-17)=-1$, and so on. In a more general form, we can write our solution of the matrix $\\mathbf{A}$ after making it upper triangular as:"
   ]
  },
  {
   "cell_type": "markdown",
   "id": "69b3a983",
   "metadata": {
    "editable": true
   },
   "source": [
    "<!-- Equation labels as ordinary links -->\n",
    "<div id=\"eq:lin:back\"></div>\n",
    "\n",
    "$$\n",
    "\\begin{equation}\n",
    "\\begin{pmatrix}\n",
    "a^\\prime_{0,0}&a^\\prime_{0,1}&a^\\prime_{0,2}&a^\\prime_{0,3}\\\\ \n",
    "0&a^\\prime_{1,1}&a^\\prime_{1,2}&a^\\prime_{1,3}\\\\ \n",
    "0&0&a^\\prime_{2,2}&a^\\prime_{2,3}\\\\ \n",
    "0&0&0&a^\\prime_{3,3}\n",
    "\\end{pmatrix}\n",
    "\\cdot\n",
    "\\begin{pmatrix}\n",
    "x_0\\\\ \n",
    "x_1\\\\ \n",
    "x_2\\\\ \n",
    "x_3\n",
    "\\end{pmatrix}\n",
    "=\n",
    "\\begin{pmatrix}\n",
    "b^\\prime_{0}\\\\ \n",
    "b^\\prime_{1}\\\\ \n",
    "b^\\prime_{2}\\\\ \n",
    "b^\\prime_{3}\n",
    "\\end{pmatrix}\n",
    "\\label{eq:lin:back} \\tag{33}\n",
    "\\end{equation}\n",
    "$$"
   ]
  },
  {
   "cell_type": "markdown",
   "id": "ae251106",
   "metadata": {
    "editable": true
   },
   "source": [
    "The back substitution can then be written formally as:"
   ]
  },
  {
   "cell_type": "markdown",
   "id": "118ee5b2",
   "metadata": {
    "editable": true
   },
   "source": [
    "<!-- Equation labels as ordinary links -->\n",
    "<div id=\"eq:lin:back2\"></div>\n",
    "\n",
    "$$\n",
    "\\begin{equation}\n",
    "x_i=\\frac{1}{a^\\prime_{ii}}\\left[b_i^\\prime-\\sum_{j=i+1}^{N-1}a^\\prime_{ij}x_j\\right],\\quad i=N-1,N-2,\\ldots,0\n",
    "\\label{eq:lin:back2} \\tag{34}\n",
    "\\end{equation}\n",
    "$$"
   ]
  },
  {
   "cell_type": "markdown",
   "id": "6de5fda4",
   "metadata": {
    "editable": true
   },
   "source": [
    "The back substitution can now easily be implemented in Python as:"
   ]
  },
  {
   "cell_type": "code",
   "execution_count": 4,
   "id": "c065b772",
   "metadata": {
    "collapsed": false,
    "editable": true
   },
   "outputs": [],
   "source": [
    "# Back substitution\n",
    "sol = np.zeros(N,float)\n",
    "sol[N-1]=b[N-1]/A[N-1,N-1]\n",
    "for i in range(2,N+1):\n",
    "    sol[N-i]=(b[N-i]-np.dot(A[(N-i),],sol))/A[N-i,N-i]"
   ]
  },
  {
   "cell_type": "markdown",
   "id": "b33c4382",
   "metadata": {
    "editable": true
   },
   "source": [
    "Notice that in the Python implementation, we have used vector operations instead of for loops. This makes the code more efficient, but it could also be implemented with for loops:"
   ]
  },
  {
   "cell_type": "code",
   "execution_count": 5,
   "id": "11347fcd",
   "metadata": {
    "collapsed": false,
    "editable": true
   },
   "outputs": [],
   "source": [
    "# Back substitution - for loop\n",
    "sol = np.zeros(N,float)\n",
    "for i in range(N-1,-1,-1):\n",
    "    sol[i]= b[i]\n",
    "    for j in range(i+1,N):\n",
    "        sol[i] -= A[i][j]*sol[j]\n",
    "    sol[i] /= A[i][i]"
   ]
  },
  {
   "cell_type": "markdown",
   "id": "9294ae8d",
   "metadata": {
    "editable": true
   },
   "source": [
    "**Number of (long) operations.**\n",
    "\n",
    "As for the forward elimination, we can find how the backward substitution scales. Notice that here there are only two loops, hence we have number of long operations"
   ]
  },
  {
   "cell_type": "markdown",
   "id": "50bf66b9",
   "metadata": {
    "editable": true
   },
   "source": [
    "$$\n",
    "\\begin{equation}\n",
    "\\sum_{i=0}^{N-1}(N-i-1)=\\frac{N}{2}(N-1).\n",
    "\\label{}\n",
    "\\end{equation}\n",
    "$$"
   ]
  },
  {
   "cell_type": "markdown",
   "id": "401abf05",
   "metadata": {
    "editable": true
   },
   "source": [
    "Thus, the backward substitution scales as $N^2$.\n",
    "\n",
    "\n",
    "There are at least two things to notice with our implementation:\n",
    "* Matrix and vector notation makes the code more compact and efficient. In order to understand the implementation it is advised to put $i=1, 2, 3, 4$, and then execute the statements in the Gauss-Jordan elimination and compare with equation ([31](#eq:lin:gj1)).\n",
    "\n",
    "* The implementation of the Gauss-Jordan elimination is not robust, in particular one could easily imagine cases where one of the leading coefficients turned out as zero, and the routine would fail when we divide by `A[i-1,i-1]`. By simply changing equation ([25](#eq:lin:lb)) to $2x_0+x_1+3x_2+x_3=-3$, when doing the first Gauss-Jordan elimination, both $x_0$ and $x_1$ would be canceled. In the next iteration we try to divide next equation by the leading coefficient of $x_1$, which is zero, and the whole procedure fails.\n",
    "\n",
    "## Pivoting\n",
    "The solution to the last problem is solved by what is called *pivoting*. The element that we divide on is called the *pivot element*. It actually turns out that even if we do Gauss-Jordan elimination *without* encountering a zero pivot element, the Gauss-Jordan procedure is numerically unstable in the presence of roundoff errors [[press2007]](#press2007). There are two versions of pivoting, *full pivoting* and *partial pivoting*. In partial pivoting we only interchange rows, while in full pivoting we also interchange rows and columns. Partial pivoting is much easier to implement, and the algorithm is as follows:\n",
    "1. Find the row in $\\mathbf{A}$ with largest absolute value in front of $x_0$ and change with the first equation, switch corresponding elements in $\\mathbf{b}$\n",
    "\n",
    "2. Do one Gauss-Jordan elimination, find the row in $\\mathbf{A}$ with the largest absolute value in front of $x_1$ and switch with the second (same for $\\mathbf{b}$), and so on.\n",
    "\n",
    "For a linear equation we can multiply with a number on each side and the equation would be unchanged, so if we where to multiply one of the equations with a large value, we are almost sure that this equation would be placed first by our algorithm. This seems a bit strange as our mathematical problem is the same. Sometimes the linear algebra routines tries to normalize the equations to find the pivot element that would have been the largest element if all equations were normalized according to some rule, this is called *implicit pivoting*.  \n",
    "## LU decomposition\n",
    "As we have already seen, if the matrix $\\mathbf{A}$ is reduced to a triangular form it is trivial to calculate the solution by using back substitution. Thus if it was possible to decompose the matrix $\\mathbf{A}$ as follows:"
   ]
  },
  {
   "cell_type": "markdown",
   "id": "2deec400",
   "metadata": {
    "editable": true
   },
   "source": [
    "<!-- Equation labels as ordinary links -->\n",
    "<div id=\"eq:lin:lu\"></div>\n",
    "\n",
    "$$\n",
    "\\begin{equation}\n",
    "\\mathbf{A}=\\mathbf{L}\\cdot\\mathbf{U}\\label{eq:lin:lu} \\tag{35}\n",
    "\\end{equation}\n",
    "$$"
   ]
  },
  {
   "cell_type": "markdown",
   "id": "e16ef7d3",
   "metadata": {
    "editable": true
   },
   "source": [
    "<!-- Equation labels as ordinary links -->\n",
    "<div id=\"_auto8\"></div>\n",
    "\n",
    "$$\n",
    "\\begin{equation}\n",
    "\\begin{pmatrix}\n",
    "a_{0,0}&a_{0,1}&a_{0,2}&a_{0,3}\\\\ \n",
    "a_{1,0}&a_{1,1}&a_{1,2}&a_{1,3}\\\\ \n",
    "a_{2,0}&a_{2,1}&a_{2,2}&a_{2,3}\\\\ \n",
    "a_{3,0}&a_{3,1}&a_{3,2}&a_{3,3}\n",
    "\\end{pmatrix}\n",
    "=\n",
    "\\begin{pmatrix}\n",
    "l_{0,0}&0&0&0\\\\ \n",
    "l_{1,0}&l_{1,1}&0&0\\\\ \n",
    "l_{2,0}&l_{2,1}&l_{2,2}&0\\\\ \n",
    "l_{3,0}&l_{3,1}&l_{3,2}&l_{3,3}\n",
    "\\end{pmatrix}\n",
    "\\cdot\n",
    "\\begin{pmatrix}\n",
    "u_{0,0}&u_{0,1}&u_{0,2}&u_{0,3}\\\\ \n",
    "0&u_{1,1}&u_{1,2}&u_{1,3}\\\\ \n",
    "0&0&u_{2,2}&u_{2,3}\\\\ \n",
    "0&0&0&u_{3,3}\n",
    "\\end{pmatrix}.\n",
    "\\label{_auto8} \\tag{36}\n",
    "\\end{equation}\n",
    "$$"
   ]
  },
  {
   "cell_type": "markdown",
   "id": "20c7ffff",
   "metadata": {
    "editable": true
   },
   "source": [
    "The solution procedure would then be to rewrite equation ([28](#eq:lin:mat)) as:"
   ]
  },
  {
   "cell_type": "markdown",
   "id": "fed70957",
   "metadata": {
    "editable": true
   },
   "source": [
    "<!-- Equation labels as ordinary links -->\n",
    "<div id=\"eq:lin:matb\"></div>\n",
    "\n",
    "$$\n",
    "\\begin{equation}\n",
    "\\mathbf{A\\cdot x}=\\mathbf{L}\\cdot\\mathbf{U}\\cdot\\mathbf{x}=\\mathbf{b},\\label{eq:lin:matb} \\tag{37}\n",
    "\\end{equation}\n",
    "$$"
   ]
  },
  {
   "cell_type": "markdown",
   "id": "10fce627",
   "metadata": {
    "editable": true
   },
   "source": [
    "If we define a new vector $\\mathbf{y}$:"
   ]
  },
  {
   "cell_type": "markdown",
   "id": "e4934992",
   "metadata": {
    "editable": true
   },
   "source": [
    "<!-- Equation labels as ordinary links -->\n",
    "<div id=\"_auto9\"></div>\n",
    "\n",
    "$$\n",
    "\\begin{equation}\n",
    "\\mathbf{y}\\equiv\\mathbf{U}\\cdot\\mathbf{x},\n",
    "\\label{_auto9} \\tag{38}\n",
    "\\end{equation}\n",
    "$$"
   ]
  },
  {
   "cell_type": "markdown",
   "id": "8cebe341",
   "metadata": {
    "editable": true
   },
   "source": [
    "we can first solve for the $\\mathbf{y}$ vector:"
   ]
  },
  {
   "cell_type": "markdown",
   "id": "1c7bc477",
   "metadata": {
    "editable": true
   },
   "source": [
    "<!-- Equation labels as ordinary links -->\n",
    "<div id=\"eq:lin:for\"></div>\n",
    "\n",
    "$$\n",
    "\\begin{equation}\n",
    "\\mathbf{L}\\cdot\\mathbf{y}=\\mathbf{b},\\label{eq:lin:for} \\tag{39}\n",
    "\\end{equation}\n",
    "$$"
   ]
  },
  {
   "cell_type": "markdown",
   "id": "e1f88f10",
   "metadata": {
    "editable": true
   },
   "source": [
    "and then for $\\mathbf{x}$:"
   ]
  },
  {
   "cell_type": "markdown",
   "id": "bf7d349c",
   "metadata": {
    "editable": true
   },
   "source": [
    "<!-- Equation labels as ordinary links -->\n",
    "<div id=\"_auto10\"></div>\n",
    "\n",
    "$$\n",
    "\\begin{equation}\n",
    "\\mathbf{U}\\cdot\\mathbf{x}=\\mathbf{y}.\n",
    "\\label{_auto10} \\tag{40}\n",
    "\\end{equation}\n",
    "$$"
   ]
  },
  {
   "cell_type": "markdown",
   "id": "229d27b4",
   "metadata": {
    "editable": true
   },
   "source": [
    "Note that the solution to equation ([39](#eq:lin:for)) would be done by *forward substitution*:"
   ]
  },
  {
   "cell_type": "markdown",
   "id": "c1835c89",
   "metadata": {
    "editable": true
   },
   "source": [
    "<!-- Equation labels as ordinary links -->\n",
    "<div id=\"eq:lin:back3\"></div>\n",
    "\n",
    "$$\n",
    "\\begin{equation}\n",
    "y_i=\\frac{1}{l_{ii}}\\left[b_i-\\sum_{j=0}^{i-1}l_{ij}x_j\\right],\\quad i=1,2,\\ldots N-1.\n",
    "\\label{eq:lin:back3} \\tag{41}\n",
    "\\end{equation}\n",
    "$$"
   ]
  },
  {
   "cell_type": "markdown",
   "id": "7018983a",
   "metadata": {
    "editable": true
   },
   "source": [
    "Why go to all this trouble? First of all it requires (slightly) less operations to calculate the LU decomposition and doing the forward and backward substitution than the Gauss-Jordan procedure discussed earlier. Secondly, and more importantly, is the fact that in many cases one would like to calculate the solution for different values of the $\\mathbf{b}$ vector in equation ([37](#eq:lin:matb)). If we do the LU decomposition first we can calculate the solution quite fast using backward and forward substitution for any value of the $\\mathbf{b}$ vector.\n",
    "\n",
    "The NumPy function [`solve`](https://docs.scipy.org/doc/numpy/reference/generated/numpy.linalg.solve.html), uses LU decomposition and partial pivoting, and we can find the solution to our previous problem simply by the following code:"
   ]
  },
  {
   "cell_type": "code",
   "execution_count": 6,
   "id": "a84d3441",
   "metadata": {
    "collapsed": false,
    "editable": true
   },
   "outputs": [],
   "source": [
    "from numpy.linalg import solve\n",
    "x=solve(A,b)"
   ]
  },
  {
   "cell_type": "markdown",
   "id": "a1cc5868",
   "metadata": {
    "editable": true
   },
   "source": [
    "# Iterative methods\n",
    "The methods described so far are what is called *direct* methods. The direct methods for very large systems might suffer from round off errors. That means that even if the computer has found a solution, the solution is \"polluted\" by round off errors, or stated more clearly: your solution for $\\mathbf{x}$, when entered into the original equation $\\mathbf{A}\\mathbf{x}\\neq\\mathbf{b}$. Below we will describe one trick, and two alternative methods to the direct methods.\n",
    "## Iterative improvement\n",
    "The first method [[press2001]](#press2001) assumes that we already have solved the matrix equation ([28](#eq:lin:mat)), and obtained an *estimate* $\\mathbf{\\hat{x}}$ of the true solution $\\mathbf{x}$. Assume that $\\mathbf{\\hat{x}}=\\mathbf{x}+\\delta\\mathbf{x}$, and that"
   ]
  },
  {
   "cell_type": "markdown",
   "id": "7e207822",
   "metadata": {
    "editable": true
   },
   "source": [
    "<!-- Equation labels as ordinary links -->\n",
    "<div id=\"eq:lin:itb\"></div>\n",
    "\n",
    "$$\n",
    "\\begin{equation}\n",
    "\\mathbf{A}\\cdot\\mathbf{\\hat{x}}=\\mathbf{A}\\cdot(\\mathbf{x}+\\delta\\mathbf{x})=\\mathbf{b}+\\delta\\mathbf{b},\n",
    "\\label{eq:lin:itb} \\tag{42}\n",
    "\\end{equation}\n",
    "$$"
   ]
  },
  {
   "cell_type": "markdown",
   "id": "993d0764",
   "metadata": {
    "editable": true
   },
   "source": [
    "subtracting equation ([28](#eq:lin:mat)) we get"
   ]
  },
  {
   "cell_type": "markdown",
   "id": "6f783745",
   "metadata": {
    "editable": true
   },
   "source": [
    "<!-- Equation labels as ordinary links -->\n",
    "<div id=\"eq:lin:itb2\"></div>\n",
    "\n",
    "$$\n",
    "\\begin{equation}\n",
    "\\mathbf{A}\\cdot\\delta\\mathbf{x}=\\delta\\mathbf{b}.\n",
    "\\label{eq:lin:itb2} \\tag{43}\n",
    "\\end{equation}\n",
    "$$"
   ]
  },
  {
   "cell_type": "markdown",
   "id": "9a5162da",
   "metadata": {
    "editable": true
   },
   "source": [
    "Solving equation ([42](#eq:lin:itb)) for $\\delta\\mathbf{b}$ an inserting in the equation above, we get"
   ]
  },
  {
   "cell_type": "markdown",
   "id": "09eb5384",
   "metadata": {
    "editable": true
   },
   "source": [
    "<!-- Equation labels as ordinary links -->\n",
    "<div id=\"eq:lin:itb3\"></div>\n",
    "\n",
    "$$\n",
    "\\begin{equation}\n",
    "\\mathbf{A}\\cdot\\delta\\mathbf{x}=\\mathbf{A}\\cdot\\mathbf{\\hat{x}}-\\mathbf{b}.\n",
    "\\label{eq:lin:itb3} \\tag{44}\n",
    "\\end{equation}\n",
    "$$"
   ]
  },
  {
   "cell_type": "markdown",
   "id": "23ef79d0",
   "metadata": {
    "editable": true
   },
   "source": [
    "The usefulness of this method assumes that we have already obtained the LU decomposition of $\\mathbf{A}$, and if possible one should use a higher precision to calculate the right hand side, since there will be a lot of cancellations. Then the whole computational process it is simply to calculate the right hand side and backsubstitute. The improved solution is then obtained by subtracting $\\delta\\mathbf{x}$ from $\\mathbf{\\hat{x}}$.\n",
    "\n",
    "## The Jacobi method\n",
    "A completely different approach is the Jacobian method, which is simply to decompose the $\\mathbf{A}$ matrix in the following way"
   ]
  },
  {
   "cell_type": "markdown",
   "id": "607d11ee",
   "metadata": {
    "editable": true
   },
   "source": [
    "<!-- Equation labels as ordinary links -->\n",
    "<div id=\"eq:lin:DR\"></div>\n",
    "\n",
    "$$\n",
    "\\begin{equation}\n",
    "\\mathbf{A}=\\mathbf{D}+\\mathbf{R}\n",
    "\\label{eq:lin:DR} \\tag{45}\n",
    "\\end{equation}\n",
    "$$"
   ]
  },
  {
   "cell_type": "markdown",
   "id": "8614ac32",
   "metadata": {
    "editable": true
   },
   "source": [
    "<!-- Equation labels as ordinary links -->\n",
    "<div id=\"_auto11\"></div>\n",
    "\n",
    "$$\n",
    "\\begin{equation}\n",
    "&\\begin{pmatrix}\n",
    "a_{0,0}&a_{0,1}&a_{0,2}&a_{0,3}\\\\ \n",
    "a_{1,0}&a_{1,1}&a_{1,2}&a_{1,3}\\\\ \n",
    "a_{2,0}&a_{2,1}&a_{2,2}&a_{2,3}\\\\ \n",
    "a_{3,0}&a_{3,1}&a_{3,2}&a_{3,3}\n",
    "\\end{pmatrix}\n",
    "{\\nonumber}\n",
    "\\label{_auto11} \\tag{46}\n",
    "\\end{equation}\n",
    "$$"
   ]
  },
  {
   "cell_type": "markdown",
   "id": "c8ce6745",
   "metadata": {
    "editable": true
   },
   "source": [
    "<!-- Equation labels as ordinary links -->\n",
    "<div id=\"eq:lin:DR2\"></div>\n",
    "\n",
    "$$\n",
    "\\begin{equation}  \n",
    "=\n",
    "\\begin{pmatrix}\n",
    "a_{0,0}&0&0&0\\\\ \n",
    "0&a_{1,1}&0&0\\\\ \n",
    "0&0&a_{2,2}&0\\\\ \n",
    "0&0&0&a_{3,3}\n",
    "\\end{pmatrix}\n",
    "+\n",
    "\\begin{pmatrix}\n",
    "0&a_{0,1}&a_{0,2}&a_{0,3}\\\\ \n",
    "a_{1,0}&0&a_{1,2}&a_{1,3}\\\\ \n",
    "a_{2,0}&a_{2,1}&0&a_{2,3}\\\\ \n",
    "a_{3,0}&a_{3,1}&a_{3,2}&0\n",
    "\\end{pmatrix}.\n",
    "\\label{eq:lin:DR2} \\tag{47}\n",
    "\\end{equation}\n",
    "$$"
   ]
  },
  {
   "cell_type": "markdown",
   "id": "20a7973b",
   "metadata": {
    "editable": true
   },
   "source": [
    "We can then write equation ([28](#eq:lin:mat)) as"
   ]
  },
  {
   "cell_type": "markdown",
   "id": "ac4e2c1b",
   "metadata": {
    "editable": true
   },
   "source": [
    "<!-- Equation labels as ordinary links -->\n",
    "<div id=\"eq:lin:jc\"></div>\n",
    "\n",
    "$$\n",
    "\\begin{equation}\n",
    "\\mathbf{D}\\mathbf{x}=\\mathbf{b}-\\mathbf{R}\\cdot\\mathbf{x}.\n",
    "\\label{eq:lin:jc} \\tag{48}\n",
    "\\end{equation}\n",
    "$$"
   ]
  },
  {
   "cell_type": "markdown",
   "id": "d6bff97c",
   "metadata": {
    "editable": true
   },
   "source": [
    "How does this help us? First of all, the matrix $\\mathbf{D}$ is easy to invert as it is diagonal, the inverse can be found by simply replace $a_{ii}\\to 1/a_{ii}$. But $\\mathbf{x}$ is still present on the right hand side? This is where the *iterations* comes into play, we simply guess at an initial solution $\\mathbf{x}^k$, and then we use equation ([48](#eq:lin:jc)) to calculate the next solution $\\mathbf{x}^{k+1}$, and so on"
   ]
  },
  {
   "cell_type": "markdown",
   "id": "50bf49b3",
   "metadata": {
    "editable": true
   },
   "source": [
    "<!-- Equation labels as ordinary links -->\n",
    "<div id=\"eq:lin:jc2\"></div>\n",
    "\n",
    "$$\n",
    "\\begin{equation}\n",
    "\\mathbf{x}^{k+1}=\\mathbf{D}^{-1}(\\mathbf{b}-\\mathbf{R}\\cdot\\mathbf{x}^{k}).\n",
    "\\label{eq:lin:jc2} \\tag{49}\n",
    "\\end{equation}\n",
    "$$"
   ]
  },
  {
   "cell_type": "markdown",
   "id": "c8117f6e",
   "metadata": {
    "editable": true
   },
   "source": [
    "Lets write it out on component form for a $4\\times4$ matrix to see what is going on"
   ]
  },
  {
   "cell_type": "markdown",
   "id": "ed15f998",
   "metadata": {
    "editable": true
   },
   "source": [
    "<!-- Equation labels as ordinary links -->\n",
    "<div id=\"eq:lin:jc3a\"></div>\n",
    "\n",
    "$$\n",
    "\\begin{equation}\n",
    "x_0^{k+1} =\\frac{1}{a_{00}}(b_0-a_{01}x_1^k-a_{02}x_2^k-a_{03}x_3^k),\n",
    "\\label{eq:lin:jc3a} \\tag{50}\n",
    "\\end{equation}\n",
    "$$"
   ]
  },
  {
   "cell_type": "markdown",
   "id": "d1b5dbc1",
   "metadata": {
    "editable": true
   },
   "source": [
    "<!-- Equation labels as ordinary links -->\n",
    "<div id=\"eq:lin:jc3b\"></div>\n",
    "\n",
    "$$\n",
    "\\begin{equation}  \n",
    "x_1^{k+1} =\\frac{1}{a_{11}}(b_1-a_{10}x_0^k-a_{12}x_2^k-a_{13}x_3^k),\n",
    "\\label{eq:lin:jc3b} \\tag{51}\n",
    "\\end{equation}\n",
    "$$"
   ]
  },
  {
   "cell_type": "markdown",
   "id": "ced30c31",
   "metadata": {
    "editable": true
   },
   "source": [
    "<!-- Equation labels as ordinary links -->\n",
    "<div id=\"eq:lin:jc3c\"></div>\n",
    "\n",
    "$$\n",
    "\\begin{equation}  \n",
    "x_2^{k+1} =\\frac{1}{a_{22}}(b_2-a_{20}x_0^k-a_{21}x_1^k-a_{23}x_3^k),\n",
    "\\label{eq:lin:jc3c} \\tag{52}\n",
    "\\end{equation}\n",
    "$$"
   ]
  },
  {
   "cell_type": "markdown",
   "id": "966648ba",
   "metadata": {
    "editable": true
   },
   "source": [
    "<!-- Equation labels as ordinary links -->\n",
    "<div id=\"eq:lin:jc3d\"></div>\n",
    "\n",
    "$$\n",
    "\\begin{equation}  \n",
    "x_3^{k+1} =\\frac{1}{a_{33}}(b_3-a_{30}x_0^k-a_{31}x_1^k-a_{32}x_2^k).\n",
    "\\label{eq:lin:jc3d} \\tag{53}\n",
    "\\end{equation}\n",
    "$$"
   ]
  },
  {
   "cell_type": "markdown",
   "id": "e687ee23",
   "metadata": {
    "editable": true
   },
   "source": [
    "Below is a Python implementation"
   ]
  },
  {
   "cell_type": "code",
   "execution_count": 7,
   "id": "05e00b5a",
   "metadata": {
    "collapsed": false,
    "editable": true
   },
   "outputs": [],
   "source": [
    "def solve_jacobi(A,b,x=-1,w=1,max_iter=1000,EPS=1e-6):\n",
    "    \"\"\"\n",
    "    Solves the linear system Ax=b using the Jacobian method, stops if\n",
    "    solution is not found after max_iter or if solution changes less \n",
    "    than EPS\n",
    "    \"\"\"\n",
    "    if(x==-1): #default guess \n",
    "        x=np.zeros(len(b))\n",
    "    D=np.diag(A)\n",
    "    R=A-np.diag(D)\n",
    "    eps=1\n",
    "    x_old=x\n",
    "    iter=0\n",
    "    w=0.1\n",
    "    while(eps>EPS and iter<max_iter):\n",
    "        iter+=1\n",
    "        x=w*(b-np.dot(R,x_old))/D + (1-w)*x_old\n",
    "        eps=np.sum(np.abs(x-x_old))\n",
    "        x_old=x\n",
    "    print('found solution after ' + str(iter) +' iterations')\n",
    "    return x"
   ]
  },
  {
   "cell_type": "markdown",
   "id": "765b7c09",
   "metadata": {
    "editable": true
   },
   "source": [
    "A sufficient criteria for the Jacobian method to converge is if the matrix $A$ is diagonally dominant. In the implementation above we have included a weight, which sometimes can help in the convergence even if the matrix is not diagonally dominant. \n",
    "Test out the following examples, note that by rearranging the problem we can achieve convergence."
   ]
  },
  {
   "cell_type": "code",
   "execution_count": 8,
   "id": "547f3515",
   "metadata": {
    "collapsed": false,
    "editable": true
   },
   "outputs": [],
   "source": [
    "A = np.array([[10, -1, 2,0],[-1, 11, -1,3],\n",
    "               [2, -1, 10, -1],[0, 3, -1, 8 ]],float)\n",
    "b = np.array([6,25,-11,15],float)\n",
    "print(A)\n",
    "s1=solve_jacobi(A,b)\n",
    "print(s1)\n",
    "\n",
    "A = np.array([[2, 1, 1, 3],[1, 1, 3, 1],\n",
    "              [1, 4, 1, 1],[1, 1, 2, 2 ]],float)\n",
    "b = np.array([1,-3,2,1],float)\n",
    "#try w=1, and w=0.01\n",
    "s2=solve_jacobi(A,b,w=1)\n",
    "print(s2)\n",
    "\n",
    "#exchange row 3 and 4, and put w=0.1\n",
    "A = np.array([[2, 1, 1, 3,],[1, 4, 1, 1, ],\n",
    "              [1, 1, 3, 1],[1, 1, 2, 2 ]],float)\n",
    "b = np.array([1,2,-3,1],float)\n",
    "s3=solve_jacobi(A,b,w=0.1)\n",
    "print(s3)"
   ]
  },
  {
   "cell_type": "markdown",
   "id": "9ed62857",
   "metadata": {
    "editable": true
   },
   "source": [
    "The iterative method can be appealing if we do not need a high accuracy, we can choose to stop whenever $|\\mathbf{x}^{k+1}-\\mathbf{x}^k|$ is small enough. For the direct method we have to follow through all the way.\n",
    "**Convergence.**\n",
    "\n",
    "The Jacobi method converges if the matrix $\\mathbf{A}$ is strictly diagonally dominant. Strictly diagonally dominant means that the absolute value of each entry on the diagonal is greater than the sum of the absolute values of the other entries in the same row, i.e if $|a_{00}|>|a_{01}+a_{02}+\\cdots|$. In general it can be shown that a iterative scheme $\\mathbf{x}^{k+1}=\\mathbf{P}\\cdot \\mathbf{x}^k+\\mathbf{q}$ is convergent *if and only if* every eigenvalue, $\\lambda$, of $\\mathbf{P}$ satisfies $|\\lambda|<1$, i.e. the *spectral radius* $\\rho(\\mathbf{P})<1$.\n",
    "\n",
    "\n",
    "\n",
    "## The Gauss-Seidel method\n",
    "It is tempting in equation ([50](#eq:lin:jc3a)) to use our estimate of $x_0^{k+1}$ in the next equation, equation ([51](#eq:lin:jc3b)), instead of $x_0^k$. After all our estimate $x_0^{k+1}$ is an *improved* estimate. This is actually the Gauss-Seidel method. This method also has the advantage that if there are memory issues, one can overwrite the old value of $x_i^k$. Usually the Gauss-Seidel method converges faster, but not always. A plus for the Jacobi method is that is can be  parallelised, as the calculations is only dependent on the old values and do not require information about the new values as for the Gauss Seidel method. Below is a Python implementation of the Gauss-Seidel method"
   ]
  },
  {
   "cell_type": "code",
   "execution_count": 9,
   "id": "ade96acc",
   "metadata": {
    "collapsed": false,
    "editable": true
   },
   "outputs": [],
   "source": [
    "def solve_GS(A,b,x=-1,max_iter=1000,EPS=1e-6):\n",
    "    \"\"\"\n",
    "    Solves the linear system Ax=b using the Gauss-Seidel method, stops if\n",
    "    solution is not found after max_iter or if solution changes less \n",
    "    than EPS\n",
    "    \"\"\"\n",
    "    if(x==-1):\n",
    "        x=np.zeros(len(b))\n",
    "    D=np.diag(A)\n",
    "    R=A-np.diag(D)\n",
    "    eps=1\n",
    "    iter=0\n",
    "    while(eps>EPS and iter<max_iter):\n",
    "        iter+=1\n",
    "        eps=0.\n",
    "        for i in range(len(x)):\n",
    "            tmp=x[i]\n",
    "            x[i]=(b[i]- np.dot(R[i,:],x))/D[i]\n",
    "            eps+=np.abs(tmp-x[i])\n",
    "    print('found solution after ' + str(iter) +' iterations')\n",
    "    return x"
   ]
  },
  {
   "cell_type": "markdown",
   "id": "7d40be07",
   "metadata": {
    "editable": true
   },
   "source": [
    "Run the code below to test the Gauss-Seidel method"
   ]
  },
  {
   "cell_type": "code",
   "execution_count": 10,
   "id": "78176bd2",
   "metadata": {
    "collapsed": false,
    "editable": true
   },
   "outputs": [],
   "source": [
    "A = np.array([[2, 1, 1, 3,],[1, 4, 1, 1, ],\n",
    "              [1, 1, 3, 1],[1, 1, 2, 2 ]],float)\n",
    "b = np.array([1,2,-3,1],float)\n",
    "\n",
    "s3b=solve_GS(A,b)\n",
    "print(s3b)"
   ]
  },
  {
   "cell_type": "markdown",
   "id": "55fa7578",
   "metadata": {
    "editable": true
   },
   "source": [
    "# Example: Linear regression\n",
    "In the previous section, we considered a system of $N$ equations and $N$ unknown ($x_0, x_1,\\ldots, x_N$). In general we might have more equations than unknowns or more unknowns than equations. An example of the former is linear regression, we might have many data points and we would like to fit a line through the points. How do you fit a single lines to more than two points that does not line on the same line? One way to do it is to minimize the distance from the line to the points, as illustrated in [figure 4](#fig:lin:reg).\n",
    "<!-- dom:FIGURE: [fig-lin/reg.png, width=800 frac=.9] Linear regression by minimizing the total distance to all the points. <div id=\"fig:lin:reg\"></div> -->\n",
    "<!-- begin figure -->\n",
    "<div id=\"fig:lin:reg\"></div>\n",
    "\n",
    "<img src=\"fig-lin/reg.png\" width=800><p style=\"font-size: 0.9em\"><i>Figure 4: Linear regression by minimizing the total distance to all the points.</i></p>\n",
    "<!-- end figure -->\n",
    "\n",
    "Mathematically we can express the distance between a data point $(x_i,y_i)$ and the line $f(x)$ as $y_i-f(x_i)$. Note that this difference can be negative or positive depending if the data point lies below or above the line. We can then take the absolute value of all the distances, and try to minimize them. When we minimize something we take the derivative of the expression and put it equal to zero.  As you might remember from Calculus it is extremely hard to work with the derivative of the absolute value, because it is discontinuous. A much better approach is to square each distance and sum them:"
   ]
  },
  {
   "cell_type": "markdown",
   "id": "dac90fdf",
   "metadata": {
    "editable": true
   },
   "source": [
    "<!-- Equation labels as ordinary links -->\n",
    "<div id=\"eq:lin:lsq\"></div>\n",
    "\n",
    "$$\n",
    "\\begin{equation}\n",
    "S=\\sum_{i=0}^{N-1}(y_i-f(x_i))^2=\\sum_{i=0}^{N-1}(y_i-a_0-a_1x_i)^2.\n",
    "\\label{eq:lin:lsq} \\tag{54}\n",
    "\\end{equation}\n",
    "$$"
   ]
  },
  {
   "cell_type": "markdown",
   "id": "fd0dd011",
   "metadata": {
    "editable": true
   },
   "source": [
    "(For the example in [figure 4](#fig:lin:reg), $N=5$.) This is the idea behind *least square*, and linear regression. One thing you should be aware of is that points lying far from the line will contribute more to equation ([54](#eq:lin:lsq)). The underlying assumption is that each data point provides equally precise information about the process, this is often not the case. When analyzing experimental data, there may be points deviating from the expected behaviour, it is then important to investigate if these points are more affected by measurements errors than the others. If that is the case one should give them less weight in the least square estimate, by extending the formula above:"
   ]
  },
  {
   "cell_type": "markdown",
   "id": "f0a19946",
   "metadata": {
    "editable": true
   },
   "source": [
    "<!-- Equation labels as ordinary links -->\n",
    "<div id=\"eq:lin:lsqm\"></div>\n",
    "\n",
    "$$\n",
    "\\begin{equation}\n",
    "S=\\sum_{i=0}^{N-1}\\omega_i(y_i-f(x_i))^2=\\sum_{i=0}^3\\omega_i(y_i-a_0-a_1x_i)^2,\n",
    "\\label{eq:lin:lsqm} \\tag{55}\n",
    "\\end{equation}\n",
    "$$"
   ]
  },
  {
   "cell_type": "markdown",
   "id": "456f6f38",
   "metadata": {
    "editable": true
   },
   "source": [
    "$\\omega_i$ is a weight factor.\n",
    "\n",
    "## Solving least square, using algebraic equations\n",
    "Let us continue with equation ([54](#eq:lin:lsq)), the algebraic solution is to simply find the value of $a_0$ and $a_1$ that minimizes $S$:"
   ]
  },
  {
   "cell_type": "markdown",
   "id": "03020f85",
   "metadata": {
    "editable": true
   },
   "source": [
    "<!-- Equation labels as ordinary links -->\n",
    "<div id=\"eq:lin:ls1\"></div>\n",
    "\n",
    "$$\n",
    "\\begin{equation}\n",
    "\\frac{\\partial S}{\\partial a_0} =-2\\sum_{i=0}^{N-1}(y_i-a_0-a_1x_i)=0,\n",
    "\\label{eq:lin:ls1} \\tag{56} \n",
    "\\end{equation}\n",
    "$$"
   ]
  },
  {
   "cell_type": "markdown",
   "id": "21f18f4a",
   "metadata": {
    "editable": true
   },
   "source": [
    "<!-- Equation labels as ordinary links -->\n",
    "<div id=\"eq:lin:ls2\"></div>\n",
    "\n",
    "$$\n",
    "\\begin{equation}  \n",
    "\\frac{\\partial S}{\\partial a_1} =-2\\sum_{i=0}^{N-1}(y_i-a_0-a_1x_i)x_i=0.\n",
    "\\label{eq:lin:ls2} \\tag{57}\n",
    "\\end{equation}\n",
    "$$"
   ]
  },
  {
   "cell_type": "markdown",
   "id": "cbc3fde9",
   "metadata": {
    "editable": true
   },
   "source": [
    "Defining the mean value as $\\overline{x}=\\sum_ix_i/N$ and $\\overline{y}=\\sum_iy_i/N$, we can write equation ([56](#eq:lin:ls1)) and ([57](#eq:lin:ls2))  as:"
   ]
  },
  {
   "cell_type": "markdown",
   "id": "0177a031",
   "metadata": {
    "editable": true
   },
   "source": [
    "<!-- Equation labels as ordinary links -->\n",
    "<div id=\"eq:lin:ls1a\"></div>\n",
    "\n",
    "$$\n",
    "\\begin{equation}\n",
    "\\sum_{i=0}^{N-1}(y_i-a_0-a_1x_i)=N\\overline{y}-a_0N-a_1N\\overline{x}=0,\n",
    "\\label{eq:lin:ls1a} \\tag{58} \n",
    "\\end{equation}\n",
    "$$"
   ]
  },
  {
   "cell_type": "markdown",
   "id": "b037c6cc",
   "metadata": {
    "editable": true
   },
   "source": [
    "<!-- Equation labels as ordinary links -->\n",
    "<div id=\"eq:lin:ls2b\"></div>\n",
    "\n",
    "$$\n",
    "\\begin{equation}  \n",
    "\\sum_{i=0}^{N-1}(y_i-a_0-a_1x_i)x_i=\\sum_iy_ix_i-a_0N\\overline{x}-a_1\\sum_ix_ix_i=0.\n",
    "\\label{eq:lin:ls2b} \\tag{59}\n",
    "\\end{equation}\n",
    "$$"
   ]
  },
  {
   "cell_type": "markdown",
   "id": "410de25c",
   "metadata": {
    "editable": true
   },
   "source": [
    "Solving equation ([58](#eq:lin:ls1a)) with respect to $a_0$, and inserting the expression into equation ([59](#eq:lin:ls2b)), we find:"
   ]
  },
  {
   "cell_type": "markdown",
   "id": "73d4d59b",
   "metadata": {
    "editable": true
   },
   "source": [
    "<!-- Equation labels as ordinary links -->\n",
    "<div id=\"eq:lin:ls1c\"></div>\n",
    "\n",
    "$$\n",
    "\\begin{equation}\n",
    "a_0=\\overline{y}-a_1\\overline{x},\\label{eq:lin:ls1c} \\tag{60} \n",
    "\\end{equation}\n",
    "$$"
   ]
  },
  {
   "cell_type": "markdown",
   "id": "0644963f",
   "metadata": {
    "editable": true
   },
   "source": [
    "<!-- Equation labels as ordinary links -->\n",
    "<div id=\"eq:lin:ls2d\"></div>\n",
    "\n",
    "$$\n",
    "\\begin{equation}  \n",
    "a_1=\\frac{\\sum_iy_ix_i-N\\overline{x}\\overline{y}}{\\sum_ix_i^2-N\\overline{x}^2}\n",
    "=\\frac{\\sum_i(x_i-\\overline{x})(y_i-\\overline{y})}{\\sum_i(x_i-\\overline{x})^2}.\n",
    "\\label{eq:lin:ls2d} \\tag{61}\n",
    "\\end{equation}\n",
    "$$"
   ]
  },
  {
   "cell_type": "markdown",
   "id": "9f930a83",
   "metadata": {
    "editable": true
   },
   "source": [
    "We leave it as an exercise to show the last expression for $a_1$.  \n",
    "Clearly the equation ([61](#eq:lin:ls2d)) above will in most cases have\n",
    "a solution. But in addition to a solution, it would be good to have an\n",
    "idea of the goodness of the fit. Intuitively it make sense to add all\n",
    "the distances (residuals) $d_i$ in [figure 4](#fig:lin:reg). This is\n",
    "basically what is done when calculating $R^2$ (R-squared). However, we\n",
    "would also like to compare the $R^2$ between different\n",
    "datasets. Therefor we need to normalize the sum of residuals, and\n",
    "therefore the following form of the $R^2$ is used:"
   ]
  },
  {
   "cell_type": "markdown",
   "id": "acb52422",
   "metadata": {
    "editable": true
   },
   "source": [
    "<!-- Equation labels as ordinary links -->\n",
    "<div id=\"eq:lin:r2\"></div>\n",
    "\n",
    "$$\n",
    "\\begin{equation}\n",
    "R^2=1-\\frac{\\sum_{i=0}^{N-1}(y_i-f(x_i))^2}{\\sum_{i=0}^{N-1}(y_i-\\overline{y})^2}.\n",
    "\\label{eq:lin:r2} \\tag{62}\n",
    "\\end{equation}\n",
    "$$"
   ]
  },
  {
   "cell_type": "markdown",
   "id": "ffa2ae9a",
   "metadata": {
    "editable": true
   },
   "source": [
    "In python we can implement equation ([60](#eq:lin:ls1c)), ([61](#eq:lin:ls2d)) and ([62](#eq:lin:r2)) as:"
   ]
  },
  {
   "cell_type": "code",
   "execution_count": 11,
   "id": "05b8bb9b",
   "metadata": {
    "collapsed": false,
    "editable": true
   },
   "outputs": [],
   "source": [
    "def OLS(x, y): \n",
    "    # returns regression coefficients\n",
    "    # in ordinary least square\n",
    "    # x: observations\n",
    "    # y: response\n",
    "    # R^2: R-squared\n",
    "    n = np.size(x) # number of data points \n",
    "  \n",
    "    # mean of x and y vector \n",
    "    m_x, m_y = np.mean(x), np.mean(y) \n",
    "  \n",
    "    # calculating cross-deviation and deviation about x \n",
    "    SS_xy = np.sum(y*x) - n*m_y*m_x \n",
    "    SS_xx = np.sum(x*x) - n*m_x*m_x \n",
    "  \n",
    "    # calculating regression coefficients \n",
    "    b_1 = SS_xy / SS_xx \n",
    "    b_0 = m_y - b_1*m_x\n",
    "\n",
    "    #R^2\n",
    "    y_pred = b_0 + b_1*x\n",
    "    S_yy   = np.sum(y*y) - n*m_y*m_y\n",
    "    y_res  = y-y_pred  \n",
    "    S_res  = np.sum(y_res*y_res)\n",
    "  \n",
    "    return(b_0, b_1,1-S_res/S_yy)"
   ]
  },
  {
   "cell_type": "markdown",
   "id": "d7e7a2ff",
   "metadata": {
    "editable": true
   },
   "source": [
    "## Least square as a linear algebra problem\n",
    "It turns out that the least square problem can be formulated as a\n",
    "matrix problem. (Two great explanations see [linear regression by\n",
    "matrices](https://medium.com/@andrew.chamberlain/the-linear-algebra-view-of-least-squares-regression-f67044b7f39b),\n",
    "and\n",
    "[$R^2$-squared](https://medium.com/@andrew.chamberlain/a-more-elegant-view-of-r-squared-a0a14c177dc3).)\n",
    "If we define a matrix $\\mathbf{X}$ containing the observations $x_i$\n",
    "as:"
   ]
  },
  {
   "cell_type": "markdown",
   "id": "0dd50ef6",
   "metadata": {
    "editable": true
   },
   "source": [
    "<!-- Equation labels as ordinary links -->\n",
    "<div id=\"eq:lin:mreg1\"></div>\n",
    "\n",
    "$$\n",
    "\\begin{equation}\n",
    "\\mathbf{X} =\n",
    "\\begin{pmatrix}\n",
    "1&x_0\\\\ \n",
    "1&x_1\\\\ \n",
    "\\vdots&\\vdots\\\\ \n",
    "1&x_{N-1}\n",
    "\\end{pmatrix}.\n",
    "\\label{eq:lin:mreg1} \\tag{63}\n",
    "\\end{equation}\n",
    "$$"
   ]
  },
  {
   "cell_type": "markdown",
   "id": "92213023",
   "metadata": {
    "editable": true
   },
   "source": [
    "We introduce a vector containing all the response $\\mathbf{y}$, and the\n",
    "regression coefficients $\\mathbf{a}=(a_0,a_1)$. Then we can write\n",
    "equation ([55](#eq:lin:lsqm)) as a matrix equation:"
   ]
  },
  {
   "cell_type": "markdown",
   "id": "7ea847a3",
   "metadata": {
    "editable": true
   },
   "source": [
    "<!-- Equation labels as ordinary links -->\n",
    "<div id=\"eq:lin:mregS\"></div>\n",
    "\n",
    "$$\n",
    "\\begin{equation}\n",
    "S=(\\mathbf{y}-\\mathbf{X\\cdot a})^T(\\mathbf{y}-\\mathbf{X\\cdot a}).\n",
    "\\label{eq:lin:mregS} \\tag{64}\n",
    "\\end{equation}\n",
    "$$"
   ]
  },
  {
   "cell_type": "markdown",
   "id": "f5dbd973",
   "metadata": {
    "editable": true
   },
   "source": [
    "*Note that this equation can easily be extended to more than one\n",
    "observation variable $x_i$*. By simply differentiating equation\n",
    "([64](#eq:lin:mregS)) with respect to $\\mathbf{a}$, we can show that\n",
    "the derivative has a minimum when (see proof below):"
   ]
  },
  {
   "cell_type": "markdown",
   "id": "0d404032",
   "metadata": {
    "editable": true
   },
   "source": [
    "<!-- Equation labels as ordinary links -->\n",
    "<div id=\"eq:lin:mregS2\"></div>\n",
    "\n",
    "$$\n",
    "\\begin{equation}\n",
    "\\mathbf{X}^T\\mathbf{X a}=\\mathbf{X}^T\\mathbf{y}\n",
    "\\label{eq:lin:mregS2} \\tag{65}\n",
    "\\end{equation}\n",
    "$$"
   ]
  },
  {
   "cell_type": "markdown",
   "id": "2ca29761",
   "metadata": {
    "editable": true
   },
   "source": [
    "Below is a python implementation of equation ([65](#eq:lin:mregS2))."
   ]
  },
  {
   "cell_type": "code",
   "execution_count": 12,
   "id": "9085e142",
   "metadata": {
    "collapsed": false,
    "editable": true
   },
   "outputs": [],
   "source": [
    "def OLSM(x, y): \n",
    "    # returns regression coefficients\n",
    "    # in ordinary least square using solve function\n",
    "    # x: observations\n",
    "    # y: response\n",
    "\n",
    "    XT = np.array([np.ones(len(x)),x],float)\n",
    "    X  = np.transpose(XT)\n",
    "    B = np.dot(XT,X)\n",
    "    C = np.dot(XT,y)\n",
    "    return solve(B,C)"
   ]
  },
  {
   "cell_type": "markdown",
   "id": "db29f4cb",
   "metadata": {
    "editable": true
   },
   "source": [
    "## Working with matrices on component form\n",
    "Whenever you want to do some manipulation with matrices, it is very useful to simply write them on component form. If we multiply two matrices $\\mathbf{A}$ and $\\mathbf{B}$ to form a new matrix $\\mathbf{C}$, the components of the new matrix is simply $\\mathbf{C}_{ij}=\\sum_k\\mathbf{A}_{ik}\\mathbf{B}_{kj}$. The strength of doing this is that the elements of a matrix, e.g. $\\mathbf{A}_{ik}$ are *numbers*, and we can move them around. Proving that e.g. $(\\mathbf{A}\\mathbf{B})^T=\\mathbf{B}^T\\mathbf{A}^T$ is straight forward using the component form. The transpose of a matrix is simply to exchange columns and rows, hence $\\mathbf{C}_{ij}^T=\\mathbf{C}_{ji}$"
   ]
  },
  {
   "cell_type": "markdown",
   "id": "863fbd48",
   "metadata": {
    "editable": true
   },
   "source": [
    "<!-- Equation labels as ordinary links -->\n",
    "<div id=\"eq:lin:trans\"></div>\n",
    "\n",
    "$$\n",
    "\\begin{equation}\n",
    "\\mathbf{C}_{ij}^T=\\mathbf{C}_{ji}=\\sum_k\\mathbf{A}_{jk}\\mathbf{B}_{ki}=\\sum_k\\mathbf{B}^T_{ik}\\mathbf{A}^T_{kj}\n",
    "=(\\mathbf{B}^T\\mathbf{A}^T)_{ij},\n",
    "\\label{eq:lin:trans} \\tag{66}\n",
    "\\end{equation}\n",
    "$$"
   ]
  },
  {
   "cell_type": "markdown",
   "id": "f750cd09",
   "metadata": {
    "editable": true
   },
   "source": [
    "thus $\\mathbf{C}^T=\\mathbf{B}^T\\mathbf{A}^T$. To derive equation ([65](#eq:lin:mregS2)), we need to take the derivative of equation ([65](#eq:lin:mregS2)) with respect to $\\mathbf{a}$.\n",
    "What we mean by this is that we want to evaluate $\\partial S/\\partial a_k$ for all the components of $\\mathbf{a}$.\n",
    "A useful rule is $\\partial a_i/\\partial a_k=\\delta_{ik}$, where $\\delta_{ik}$ is the Kronecker delta, it takes the value of one if $i=k$ and zero otherwise. We can write $S=\\mathbf{y}^T\\mathbf{y}-\\mathbf{y}\\mathbf{X\\cdot a}\n",
    "-(\\mathbf{X\\cdot a})^T\\mathbf{y}-(\\mathbf{X\\cdot a})^T\\mathbf{X\\cdot a}$. All terms that do not contain $\\mathbf{a}$ are zero, thus we only need to evaluate the following terms"
   ]
  },
  {
   "cell_type": "markdown",
   "id": "aa214eb0",
   "metadata": {
    "editable": true
   },
   "source": [
    "<!-- Equation labels as ordinary links -->\n",
    "<div id=\"_auto12\"></div>\n",
    "\n",
    "$$\n",
    "\\begin{equation}\n",
    "\\frac{\\partial}{a_k}(\\mathbf{X\\cdot a})^T\\mathbf{y} =\\frac{\\partial}{a_k}(\\mathbf{a}^T\\cdot \\mathbf{X}^T\\mathbf{y})=\\frac{\\partial}{a_k}\\sum_{ij}\\mathbf{a}^T_i\\mathbf{X}^T_{ij}\\mathbf{y}_j\n",
    "=\\sum_{ij}\\delta_{ik}\\mathbf{X}^T_{ij}\\mathbf{y}_j{\\nonumber}\n",
    "\\label{_auto12} \\tag{67}\n",
    "\\end{equation}\n",
    "$$"
   ]
  },
  {
   "cell_type": "markdown",
   "id": "e8ee2f18",
   "metadata": {
    "editable": true
   },
   "source": [
    "<!-- Equation labels as ordinary links -->\n",
    "<div id=\"_auto13\"></div>\n",
    "\n",
    "$$\n",
    "\\begin{equation}  \n",
    "=\\sum_{j}\\mathbf{X}^T_{kj}\\mathbf{y}_j=\\mathbf{X}^T\\mathbf{y} \n",
    "\\label{_auto13} \\tag{68}\n",
    "\\end{equation}\n",
    "$$"
   ]
  },
  {
   "cell_type": "markdown",
   "id": "f31c966f",
   "metadata": {
    "editable": true
   },
   "source": [
    "<!-- Equation labels as ordinary links -->\n",
    "<div id=\"_auto14\"></div>\n",
    "\n",
    "$$\n",
    "\\begin{equation}  \n",
    "\\frac{\\partial}{a_k}\\mathbf{y}^T\\mathbf{X\\cdot a}=\\frac{\\partial}{a_k}\\sum_{ij}\\mathbf{y}^T_i\\mathbf{X}_{ij}\\mathbf{a}_j\n",
    "=\\sum_{ij}\\mathbf{y}^T_i\\mathbf{X}_{ij}\\delta_{jk}=\\sum_{j}\\mathbf{y}^T_{i}\\mathbf{X}_{ik}{\\nonumber}\n",
    "\\label{_auto14} \\tag{69}\n",
    "\\end{equation}\n",
    "$$"
   ]
  },
  {
   "cell_type": "markdown",
   "id": "cbdefdaa",
   "metadata": {
    "editable": true
   },
   "source": [
    "<!-- Equation labels as ordinary links -->\n",
    "<div id=\"_auto15\"></div>\n",
    "\n",
    "$$\n",
    "\\begin{equation}  \n",
    "=\\sum_{j}\\mathbf{y}^T_{i}\\mathbf{X}^T_{ki}=\\mathbf{X}^T\\mathbf{y} \n",
    "\\label{_auto15} \\tag{70}\n",
    "\\end{equation}\n",
    "$$"
   ]
  },
  {
   "cell_type": "markdown",
   "id": "3e490e0f",
   "metadata": {
    "editable": true
   },
   "source": [
    "<!-- Equation labels as ordinary links -->\n",
    "<div id=\"_auto16\"></div>\n",
    "\n",
    "$$\n",
    "\\begin{equation}  \n",
    "\\frac{\\partial}{a_k} (\\mathbf{X\\cdot a})^T\\mathbf{X\\cdot a}=\n",
    "\\frac{\\partial}{a_k}\\sum_{ijl} \\mathbf{a}^T_i\\mathbf{X}^T_{ij}\\mathbf{X}_{jl}\\mathbf{a}_l=\n",
    "\\sum_{ijl}(\\delta_{ik}\\mathbf{X}^T_{ij}\\mathbf{X}_{jl}\\mathbf{a}_l+\\mathbf{a}^T_i\\mathbf{X}^T_{ij}\\mathbf{X}_{jl}\\delta_{lk}){\\nonumber}\n",
    "\\label{_auto16} \\tag{71}\n",
    "\\end{equation}\n",
    "$$"
   ]
  },
  {
   "cell_type": "markdown",
   "id": "51d35563",
   "metadata": {
    "editable": true
   },
   "source": [
    "<!-- Equation labels as ordinary links -->\n",
    "<div id=\"_auto17\"></div>\n",
    "\n",
    "$$\n",
    "\\begin{equation} =\\sum_{jl}\\mathbf{X}^T_{kj}\\mathbf{X}_{jl}\n",
    "\\mathbf{a}_l+\\sum_{ij}\\mathbf{a}^T_i\\mathbf{X}^T_{ij}\\mathbf{X}_{jk}{\\nonumber}\n",
    "\\label{_auto17} \\tag{72}\n",
    "\\end{equation}\n",
    "$$"
   ]
  },
  {
   "cell_type": "markdown",
   "id": "ae9c8363",
   "metadata": {
    "editable": true
   },
   "source": [
    "$$\n",
    "\\begin{equation}  \n",
    "=\\mathbf{X}^T\\mathbf{X}\\mathbf{a}+\\sum_{ij}\\mathbf{X}^T_{kj}\\mathbf{X}_{ji}\\mathbf{a}_i\n",
    "= 2\\mathbf{X}^T\\mathbf{X}\\mathbf{a}.\n",
    "\\label{}\n",
    "\\end{equation}\n",
    "$$"
   ]
  },
  {
   "cell_type": "markdown",
   "id": "85bcc5cc",
   "metadata": {
    "editable": true
   },
   "source": [
    "It then follows that $\\partial S/\\partial \\mathbf{a} = 0$ when"
   ]
  },
  {
   "cell_type": "markdown",
   "id": "1e426b43",
   "metadata": {
    "editable": true
   },
   "source": [
    "<!-- Equation labels as ordinary links -->\n",
    "<div id=\"eq:lin:matpr\"></div>\n",
    "\n",
    "$$\n",
    "\\begin{equation}\n",
    "\\mathbf{X}^T\\mathbf{X a}=\\mathbf{X}^T\\mathbf{y}.\n",
    "\\label{eq:lin:matpr} \\tag{73}\n",
    "\\end{equation}\n",
    "$$"
   ]
  },
  {
   "cell_type": "markdown",
   "id": "72a25f1c",
   "metadata": {
    "editable": true
   },
   "source": [
    "# Sparse matrices and Thomas algorithm\n",
    "In many practical examples, such as solving partial differential\n",
    "equations the matrices could be quite large and also contain a lot of\n",
    "zeros. A very important class of such matrices are *banded matrices*\n",
    "this is a type of *sparse matrices* containing a lot of zero elements,\n",
    "and the non-zero elements are confined to diagonal bands. In the\n",
    "following we will focus on one important type of sparse matrix the\n",
    "tridiagonal. In the next section we will show how it enters naturally\n",
    "in solving the heat equation. It turns out that solving banded\n",
    "matrices is quite simple, and can be coded quite efficiently. As with\n",
    "the Gauss-Jordan example, lets consider a concrete example:"
   ]
  },
  {
   "cell_type": "markdown",
   "id": "894f87a6",
   "metadata": {
    "editable": true
   },
   "source": [
    "<!-- Equation labels as ordinary links -->\n",
    "<div id=\"_auto18\"></div>\n",
    "\n",
    "$$\n",
    "\\begin{equation}\n",
    "\\left(\n",
    "\\begin{array}{ccccc|c}\n",
    "b_0&c_0&0&0&0&r_0\\\\ \n",
    "a_1&b_1&c_1&0&0&r_1\\\\ \n",
    "0&a_2&b_2&c_2&0&r_2\\\\ \n",
    "0& 0&a_3&b_3&c_3&r_3\\\\ \n",
    "0& 0& 0&a_4&b_4&r_4\n",
    "\\end{array}\n",
    "\\right)\n",
    "\\label{_auto18} \\tag{74}\n",
    "\\end{equation}\n",
    "$$"
   ]
  },
  {
   "cell_type": "markdown",
   "id": "cfbfff6b",
   "metadata": {
    "editable": true
   },
   "source": [
    "The right hand side is represented with $r_i$. The first Gauss-Jordan\n",
    "step is simply to divide by $b_0$, then we multiply with $-a_1$ and\n",
    "add to second row:"
   ]
  },
  {
   "cell_type": "markdown",
   "id": "b00990bf",
   "metadata": {
    "editable": true
   },
   "source": [
    "<!-- Equation labels as ordinary links -->\n",
    "<div id=\"_auto19\"></div>\n",
    "\n",
    "$$\n",
    "\\begin{equation}\n",
    "\\to \\left(\n",
    "\\begin{array}{ccccc|c}\n",
    "1&c_0^\\prime&0&0&0&r_0^\\prime\\\\ \n",
    "0&b_1-a_1c_0^\\prime&c_1&0&0&r_1-a_0r_0^\\prime\\\\ \n",
    "0&a_2&b_2&c_2&0&r_2\\\\ \n",
    "0& 0&a_3&b_3&c_3&r_3\\\\ \n",
    "0& 0& 0&a_4&b_4&r_4\n",
    "\\end{array}\n",
    "\\right),\n",
    "\\label{_auto19} \\tag{75}\n",
    "\\end{equation}\n",
    "$$"
   ]
  },
  {
   "cell_type": "markdown",
   "id": "0ae9f959",
   "metadata": {
    "editable": true
   },
   "source": [
    "Note that we have introduced some new symbols to simplify the\n",
    "notation: $c_0^\\prime=c_0/b_0$ and $r_0^\\prime=r_0/b_0$. Then we\n",
    "divide by $b_1-a_1c_0^\\prime$:"
   ]
  },
  {
   "cell_type": "markdown",
   "id": "3cec2300",
   "metadata": {
    "editable": true
   },
   "source": [
    "<!-- Equation labels as ordinary links -->\n",
    "<div id=\"_auto20\"></div>\n",
    "\n",
    "$$\n",
    "\\begin{equation}\n",
    "\\left(\n",
    "\\begin{array}{ccccc|c}\n",
    "1&c_0^\\prime&0&0&0&r_0^\\prime\\\\ \n",
    "0&1&c_1^\\prime&0&0&r_1^\\prime\\\\ \n",
    "0&a_2&b_2&c_2&0&r_2\\\\ \n",
    "0& 0&a_3&b_3&c_3&r_3\\\\ \n",
    "0& 0& 0&a_4&b_4&r_4\n",
    "\\end{array}\n",
    "\\right),\n",
    "\\label{_auto20} \\tag{76}\n",
    "\\end{equation}\n",
    "$$"
   ]
  },
  {
   "cell_type": "markdown",
   "id": "c9d277ab",
   "metadata": {
    "editable": true
   },
   "source": [
    "where $c_1^\\prime=c_1/(b_1-a_1c_0^\\prime)$ and\n",
    "$r_1^\\prime=(r_1-a_0r_0^\\prime)/(b_1-a_1c_0^\\prime)$. If you continue\n",
    "in this manner, you can easily convince yourself that to transform a\n",
    "tridiagonal matrix to the following form:"
   ]
  },
  {
   "cell_type": "markdown",
   "id": "ee14c58e",
   "metadata": {
    "editable": true
   },
   "source": [
    "<!-- Equation labels as ordinary links -->\n",
    "<div id=\"_auto21\"></div>\n",
    "\n",
    "$$\n",
    "\\begin{equation}\n",
    "\\to \\left(\n",
    "\\begin{array}{ccccc|c}\n",
    "1&c_0^\\prime&0&0&0&r_0^\\prime\\\\ \n",
    "0&1&c_1^\\prime&0&0&r_1^\\prime\\\\ \n",
    "0&0&1&c_2^\\prime&0&r_2^\\prime\\\\ \n",
    "0& 0&0&1&c_3^\\prime&r_3^\\prime\\\\ \n",
    "0& 0& 0&0&1&r_4^\\prime\n",
    "\\end{array}\n",
    "\\right),\n",
    "\\label{_auto21} \\tag{77}\n",
    "\\end{equation}\n",
    "$$"
   ]
  },
  {
   "cell_type": "markdown",
   "id": "eb8c183f",
   "metadata": {
    "editable": true
   },
   "source": [
    "where:"
   ]
  },
  {
   "cell_type": "markdown",
   "id": "dfebbc5d",
   "metadata": {
    "editable": true
   },
   "source": [
    "<!-- Equation labels as ordinary links -->\n",
    "<div id=\"eq:lin:th0\"></div>\n",
    "\n",
    "$$\n",
    "\\begin{equation}\n",
    "c_0^\\prime =\\frac{c_0}{b_0} \\qquad r_0^\\prime=\\frac{r_0}{b_0}\n",
    "\\label{eq:lin:th0} \\tag{78} \n",
    "\\end{equation}\n",
    "$$"
   ]
  },
  {
   "cell_type": "markdown",
   "id": "7ea3ece3",
   "metadata": {
    "editable": true
   },
   "source": [
    "<!-- Equation labels as ordinary links -->\n",
    "<div id=\"eq:lin:thi\"></div>\n",
    "\n",
    "$$\n",
    "\\begin{equation}  \n",
    "c_i^\\prime\n",
    "=\\frac{c_i}{b_i-a_ic_{i-1}^\\prime}\\qquad\n",
    "r_i^\\prime=\\frac{r_i-a_ir_{i-1}^\\prime}{b_i-a_ic_{i-1}^\\prime}\n",
    "\\quad\\text{, for }i=1,2,\\ldots,N-1\\label{eq:lin:thi} \\tag{79} \n",
    "\\end{equation}\n",
    "$$"
   ]
  },
  {
   "cell_type": "markdown",
   "id": "8ca9b8c3",
   "metadata": {
    "editable": true
   },
   "source": [
    "Note that we where able to reduce the tridiagonal matrix to an *upper\n",
    "triangular* matrix in only *one* Gauss-Jordan step. This equation can\n",
    "readily be solved using back-substitution, which can also be\n",
    "simplified as there are a lot of zeros in the upper part. Let us\n",
    "denote the unknowns $x_i$ as we did for the Gauss-Jordan case, now we\n",
    "can find the solution as follows:"
   ]
  },
  {
   "cell_type": "markdown",
   "id": "a586db60",
   "metadata": {
    "editable": true
   },
   "source": [
    "<!-- Equation labels as ordinary links -->\n",
    "<div id=\"eq:lin:this0\"></div>\n",
    "\n",
    "$$\n",
    "\\begin{equation}\n",
    "x_{N-1}  = r_{N-1}^\\prime \\label{eq:lin:this0} \\tag{80} \n",
    "\\end{equation}\n",
    "$$"
   ]
  },
  {
   "cell_type": "markdown",
   "id": "98e2f714",
   "metadata": {
    "editable": true
   },
   "source": [
    "<!-- Equation labels as ordinary links -->\n",
    "<div id=\"eq:lin:thisi\"></div>\n",
    "\n",
    "$$\n",
    "\\begin{equation}  \n",
    "x_i      = r_i^\\prime-x_{i+1}c_i^\\prime\\quad\\text{, for } i=N-2,N-3,\\ldots,0\n",
    "\\label{eq:lin:thisi} \\tag{81}\n",
    "\\end{equation}\n",
    "$$"
   ]
  },
  {
   "cell_type": "markdown",
   "id": "a351ac2d",
   "metadata": {
    "editable": true
   },
   "source": [
    "Equation ([78](#eq:lin:th0)), ([79](#eq:lin:thi)), ([80](#eq:lin:this0))\n",
    "and ([81](#eq:lin:thisi)) is known as the Thomas algorithm after\n",
    "Llewellyn Thomas. \n",
    "**Notice.**\n",
    "\n",
    "Clearly tridiagonal matrices can be solved much more efficiently with\n",
    "the Thomas algorithm than\n",
    "using a standard library, such as LU-decomposition. This is\n",
    "because the solution method takes advantages of the *symmetry* of the\n",
    "problem. We will not show it here, but it can be shown that the Thomas\n",
    "algorithm is stable whenever $|b_i|\\ge |a_i|+|c_i|$. If the algorithm\n",
    "fails, an advice is first to use the standard `solve` function in\n",
    "python. If this gives a solution, then *pivoting* combined with the\n",
    "Thomas algorithm might do the trick.\n",
    "\n",
    "\n",
    "# Example: Solving the heat equation using linear algebra\n",
    "\n",
    "<!-- --- begin exercise --- -->\n",
    "\n",
    "## Exercise 1: Conservation Equation or the Continuity Equation\n",
    "\n",
    "<!-- dom:FIGURE: [fig-lin/heat.png, width=700 frac=.9] Conservation of energy and the continuity equation. <div id=\"fig:nlin:heat\"></div> -->\n",
    "<!-- begin figure -->\n",
    "<div id=\"fig:nlin:heat\"></div>\n",
    "\n",
    "<img src=\"fig-lin/heat.png\" width=700><p style=\"font-size: 0.9em\"><i>Figure 5: Conservation of energy and the continuity equation.</i></p>\n",
    "<!-- end figure -->\n",
    "\n",
    "In [figure 5](#fig:nlin:heat), the continuity equation is derived for\n",
    "heat flow.\n",
    "### Heat equation for solids\n",
    "\n",
    "As derived in the beginning of this chapter the heat equation for a solid is"
   ]
  },
  {
   "cell_type": "markdown",
   "id": "61d95e93",
   "metadata": {
    "editable": true
   },
   "source": [
    "<!-- Equation labels as ordinary links -->\n",
    "<div id=\"eq:nlin:heateq\"></div>\n",
    "\n",
    "$$\n",
    "\\begin{equation}\n",
    "\\frac{d^2T}{dx^2}+\\frac{\\dot{\\sigma}}{k}=\\frac{\\rho c_p}{k}\\frac{dT}{dt},\n",
    "\\label{eq:nlin:heateq} \\tag{82}\n",
    "\\end{equation}\n",
    "$$"
   ]
  },
  {
   "cell_type": "markdown",
   "id": "09468578",
   "metadata": {
    "editable": true
   },
   "source": [
    "where $\\dot{\\sigma}$ is the rate of heat generation in the solid. This\n",
    "equation can be used as a starting point for many interesting\n",
    "models. In this exercise we will investigate the *steady state*\n",
    "solution, *steady state* is just a fancy way of expressing that we\n",
    "want the solution that *does not change with time*. This is achieved\n",
    "by ignoring the derivative with respect to time in equation\n",
    "([82](#eq:nlin:heateq)). We want to study a system with size $L$, and is\n",
    "it good practice to introduce a dimensionless variable: $y=x/L$. \n",
    "\n",
    "**Part 1.**\n",
    "\n",
    "Show that equation ([82](#eq:nlin:heateq)) now takes the following form:"
   ]
  },
  {
   "cell_type": "markdown",
   "id": "1cfff0ee",
   "metadata": {
    "editable": true
   },
   "source": [
    "<!-- Equation labels as ordinary links -->\n",
    "<div id=\"eq:nlin:heat2\"></div>\n",
    "\n",
    "$$\n",
    "\\begin{equation}\n",
    "\\frac{d^2T }{dy^2}+\\frac{\\dot{\\sigma}L^2}{k}=0\n",
    "\\label{eq:nlin:heat2} \\tag{83}\n",
    "\\end{equation}\n",
    "$$"
   ]
  },
  {
   "cell_type": "markdown",
   "id": "3e5e8d50",
   "metadata": {
    "editable": true
   },
   "source": [
    "<!-- --- end exercise --- -->\n",
    "\n",
    "<!-- --- begin exercise --- -->\n",
    "\n",
    "## Exercise 2: Curing of Concrete and Matrix Formulation\n",
    "\n",
    "Curing of concrete is one particular example that we can investigate\n",
    "with equation ([83](#eq:nlin:heat2)). When concrete is curing, there are\n",
    "a lot of chemical reactions happening, these reactions generate\n",
    "heat. This is a known issue, and if the temperature rises too much \n",
    "compared to the surroundings, the concrete may fracture.  In the\n",
    "following we will, for simplicity, assume that the rate of heat\n",
    "generated during curing is constant, $\\dot{\\sigma}=$100 W/m$^3$. The\n",
    "left end (at $x=0$) is insulated, meaning that there is no flow of\n",
    "heat over that boundary, hence $dT/dx=0$ at $x=0$. On the right hand\n",
    "side the temperature is kept constant, $x(L)=y(1)=T_1$, assumed to be\n",
    "equal to the ambient temperature of $T_1=25^\\circ$C.  The concrete\n",
    "thermal conductivity is assumed to be $k=1.65$ W/m$^\\circ$C.\n",
    "\n",
    "**Part 1.**\n",
    "\n",
    "Show that the solution to equation ([83](#eq:nlin:heat2)) in this case is:"
   ]
  },
  {
   "cell_type": "markdown",
   "id": "cdf7031a",
   "metadata": {
    "editable": true
   },
   "source": [
    "<!-- Equation labels as ordinary links -->\n",
    "<div id=\"eq:nlin:heatsol\"></div>\n",
    "\n",
    "$$\n",
    "\\begin{equation}\n",
    "T(y)=\\frac{\\dot{\\sigma}L^2}{2k}(1-y^2)+T_1.\n",
    "\\label{eq:nlin:heatsol} \\tag{84}\n",
    "\\end{equation}\n",
    "$$"
   ]
  },
  {
   "cell_type": "markdown",
   "id": "444fe7a1",
   "metadata": {
    "editable": true
   },
   "source": [
    "**Part 2.**\n",
    "In order to solve equation ([83](#eq:nlin:heat2)) numerically, we need to discretize\n",
    "it. Show that equation ([83](#eq:nlin:heat2)) now takes the following form:"
   ]
  },
  {
   "cell_type": "markdown",
   "id": "e3fdf539",
   "metadata": {
    "editable": true
   },
   "source": [
    "<!-- Equation labels as ordinary links -->\n",
    "<div id=\"eq:nlin:heat3\"></div>\n",
    "\n",
    "$$\n",
    "\\begin{equation}\n",
    "T_{i+1}+T_{i-1}-2T_i=-h^2\\beta,\n",
    "\\label{eq:nlin:heat3} \\tag{85}\n",
    "\\end{equation}\n",
    "$$"
   ]
  },
  {
   "cell_type": "markdown",
   "id": "ad8922ab",
   "metadata": {
    "editable": true
   },
   "source": [
    "where $\\beta=\\dot{\\sigma}L^2/k$.\n",
    "<!-- dom:FIGURE: [fig-lin/heat_grid.png, width=200 frac=.5] Finite difference grid for $N=4$. <div id=\"fig:nlin:hgrid\"></div>  -->\n",
    "<!-- begin figure -->\n",
    "<div id=\"fig:nlin:hgrid\"></div>\n",
    "\n",
    "<img src=\"fig-lin/heat_grid.png\" width=200><p style=\"font-size: 0.9em\"><i>Figure 6: Finite difference grid for $N=4$.</i></p>\n",
    "<!-- end figure -->\n",
    "\n",
    "In [figure 6](#fig:nlin:hgrid), the finite difference grid is shown for\n",
    "$N=4$.\n",
    "\n",
    "**Part 3.**\n",
    "\n",
    "Show that equation ([85](#eq:nlin:heat3)) including the boundary conditions for $N=4$ can be written as the following matrix equation"
   ]
  },
  {
   "cell_type": "markdown",
   "id": "73ceb0bd",
   "metadata": {
    "editable": true
   },
   "source": [
    "<!-- Equation labels as ordinary links -->\n",
    "<div id=\"eq:lin:heats\"></div>\n",
    "\n",
    "$$\n",
    "\\begin{equation}\n",
    "\\left(\n",
    "\\begin{array}{cccc}\n",
    "-\\gamma&\\gamma&0&0\\\\ \n",
    "1&-2&1&0\\\\ \n",
    "0&1&-2&1\\\\ \n",
    "0&0&1&-2\\\\ \n",
    "\\end{array}\n",
    "\\right)\n",
    "\\left(\n",
    "\\begin{array}{c}\n",
    "T_0\\\\ \n",
    "T_1\\\\ \n",
    "T_2\\\\ \n",
    "T_3\\\\ \n",
    "\\end{array}\n",
    "\\right)\n",
    "=\n",
    "\\left(\n",
    "\\begin{array}{c}\n",
    "-h^2\\beta\\\\ \n",
    "-h^2\\beta\\\\ \n",
    "-h^2\\beta\\\\ \n",
    "-h^2\\beta-25\n",
    "\\end{array}\n",
    "\\right).\n",
    "\\end{equation}\n",
    "\\label{eq:lin:heats} \\tag{86}\n",
    "$$"
   ]
  },
  {
   "cell_type": "markdown",
   "id": "85d2b330",
   "metadata": {
    "editable": true
   },
   "source": [
    "where $\\gamma=2$ for the central difference scheme and 1 for the forward difference scheme.\n",
    "\n",
    "**Part 4.**\n",
    "* Solve the set of equations in equation ([86](#eq:lin:heats)) using [`numpy.linalg.solve`](https://numpy.org/doc/stable/reference/generated/numpy.linalg.solve.html).\n",
    "\n",
    "* Write the code so that you can easily switch between the central difference scheme and forward difference\n",
    "\n",
    "* Evaluate the numerical error as you change $h$, how does it scale? Is it what you expect?"
   ]
  },
  {
   "cell_type": "code",
   "execution_count": 13,
   "id": "70ca4a4a",
   "metadata": {
    "collapsed": false,
    "editable": true
   },
   "outputs": [],
   "source": [
    "import numpy as np\n",
    "import scipy as sc\n",
    "import scipy.sparse.linalg\n",
    "from numpy.linalg import solve\n",
    "import matplotlib.pyplot as plt"
   ]
  },
  {
   "cell_type": "code",
   "execution_count": 14,
   "id": "b40d1cfe",
   "metadata": {
    "collapsed": false,
    "editable": true
   },
   "outputs": [],
   "source": [
    "\n",
    "central_difference=False\n",
    "# set simulation parameters\n",
    "h=0.25\n",
    "L=1.0\n",
    "n = int(round(L/h))\n",
    "Tb=25 #rhs\n",
    "sigma=100\n",
    "k=1.65 \n",
    "beta = sigma*L**2/k\n",
    "\n",
    "y = np.arange(n+1)*h\n",
    "\n",
    "def analytical(x):\n",
    "    return beta*(1-x*x)/2+Tb\n",
    "def tri_diag(a, b, c, k1=-1, k2=0, k3=1):\n",
    "    \"\"\" a,b,c diagonal terms\n",
    "        default k-values for 4x4 matrix:\n",
    "        | b0 c0 0  0 |\n",
    "        | a0 b1 c1 0 |\n",
    "        | 0  a1 b2 c2|\n",
    "        | 0  0  a2 b3|\n",
    "    \"\"\"\n",
    "    return np.diag(a, k1) + np.diag(b, k2) + np.diag(c, k3)\n",
    "# defina a, b and c vector\n",
    "a=np.ones(n-1)\n",
    "b=..\n",
    "c=..\n",
    "\n",
    "if central_difference:\n",
    "    c[0]= ...\n",
    "else:\n",
    "    b[0]=...\n",
    "\n",
    "A=tri_diag(a,b,c)\n",
    "print(A) # view matrix - compare with N=4 to make sure no bugs\n",
    "# define rhs vector\n",
    "d=...\n",
    "#rhs boundary condition\n",
    "d[-1]=...\n",
    "\n",
    "Tn=np.linalg.solve(A,d)\n",
    "print(Tn)"
   ]
  },
  {
   "cell_type": "markdown",
   "id": "4a222a8f",
   "metadata": {
    "editable": true
   },
   "source": [
    "The correct solution for $L=1$ m, and $h=1/4$, is: $[T_0,T_1.T_2,T_3]$=[55.3030303 , 53.40909091, 47.72727273, 38.25757576] (central difference) and $[T_0,T_1.T_2,T_3]$=[62.87878788, 59.09090909, 51.51515152, 40.15151515] (forward difference)\n",
    "\n",
    "<!-- --- end exercise --- -->\n",
    "\n",
    "<!-- --- begin exercise --- -->\n",
    "\n",
    "## Exercise 3: Solve the full heat equation\n",
    "\n",
    "**Part 1.**\n",
    "Replace the time derivative in equation ([82](#eq:nlin:heateq)) with"
   ]
  },
  {
   "cell_type": "markdown",
   "id": "af2377b6",
   "metadata": {
    "editable": true
   },
   "source": [
    "<!-- Equation labels as ordinary links -->\n",
    "<div id=\"eq:lin:dt\"></div>\n",
    "\n",
    "$$\n",
    "\\begin{equation}\n",
    "\\frac{dT}{dt}\\simeq\\frac{T(t+\\Delta t)-T(t)}{\\Delta t}=\\frac{T^{n+1}-T^n}{\\Delta t}, \n",
    "\\label{eq:lin:dt} \\tag{87}\n",
    "\\end{equation}\n",
    "$$"
   ]
  },
  {
   "cell_type": "markdown",
   "id": "342e0792",
   "metadata": {
    "editable": true
   },
   "source": [
    "and show that by using an *implicit formulation* (i.e. that the second derivative with respect to $x$ is to be evaluated at $T(t+\\Delta t)\\equiv T^{n+1}$) that equation ([82](#eq:nlin:heateq)) can be written"
   ]
  },
  {
   "cell_type": "markdown",
   "id": "e0552046",
   "metadata": {
    "editable": true
   },
   "source": [
    "<!-- Equation labels as ordinary links -->\n",
    "<div id=\"eq:lin:imp\"></div>\n",
    "\n",
    "$$\n",
    "\\begin{equation}\n",
    "T_{i+1}^{n+1}+T_{i-1}^{n+1}-(2+\\frac{\\alpha h^2}{\\Delta t})T_i^{n+1}=-h^2\\beta-\\frac{\\alpha h^2 }{\\Delta t}T_i^n,\n",
    "\\label{eq:lin:imp} \\tag{88} \n",
    "\\end{equation}\n",
    "$$"
   ]
  },
  {
   "cell_type": "markdown",
   "id": "6466a4a9",
   "metadata": {
    "editable": true
   },
   "source": [
    "where $\\alpha\\equiv\\rho c_p/k$.\n",
    "\n",
    "**Part 2.**\n",
    "\n",
    "Use the central difference formulation for the boundary condition and show that for four nodes we can formulate equation ([88](#eq:lin:imp)) as the following matrix equation"
   ]
  },
  {
   "cell_type": "markdown",
   "id": "dc7884d0",
   "metadata": {
    "editable": true
   },
   "source": [
    "<!-- Equation labels as ordinary links -->\n",
    "<div id=\"_auto22\"></div>\n",
    "\n",
    "$$\n",
    "\\begin{equation}\n",
    "\\left(\n",
    "\\begin{array}{cccc}\n",
    "-(2+\\frac{\\alpha h^2}{\\Delta t})&2&0&0\\\\ \n",
    "1&-(2+\\frac{\\alpha h^2}{\\Delta t})&1&0\\\\ \n",
    "0&1&-(2+\\frac{\\alpha h^2}{\\Delta t})&1\\\\ \n",
    "0&0&1&-(2+\\frac{\\alpha h^2}{\\Delta t})\\\\ \n",
    "\\end{array}\n",
    "\\right)\n",
    "\\left(\n",
    "\\begin{array}{c}\n",
    "T_0^{n+1}\\\\ \n",
    "T_1^{n+1}\\\\ \n",
    "T_2^{n+1}\\\\ \n",
    "T_3^{n+1}\\\\ \n",
    "\\end{array}\n",
    "\\right){\\nonumber}\n",
    "\\label{_auto22} \\tag{89}\n",
    "\\end{equation}\n",
    "$$"
   ]
  },
  {
   "cell_type": "markdown",
   "id": "b4ceb02c",
   "metadata": {
    "editable": true
   },
   "source": [
    "<!-- Equation labels as ordinary links -->\n",
    "<div id=\"eq:lin:heatfull\"></div>\n",
    "\n",
    "$$\n",
    "\\begin{equation}  \n",
    "=\n",
    "\\left(\n",
    "\\begin{array}{c}\n",
    "-h^2\\beta\\\\ \n",
    "-h^2\\beta\\\\ \n",
    "-h^2\\beta\\\\ \n",
    "-h^2\\beta-25\n",
    "\\end{array}\n",
    "\\right)\n",
    "-\\frac{\\alpha h^2 }{\\Delta t}\n",
    "\\left(\n",
    "\\begin{array}{c}\n",
    "T_0^n\\\\ \n",
    "T_1^n\\\\ \n",
    "T_2^n\\\\ \n",
    "T_3^n\\\\ \n",
    "\\end{array}\n",
    "\\right)\n",
    "\\end{equation}\n",
    "\\label{eq:lin:heatfull} \\tag{90}\n",
    "$$"
   ]
  },
  {
   "cell_type": "markdown",
   "id": "36ec0c52",
   "metadata": {
    "editable": true
   },
   "source": [
    "**Part 3.**\n",
    "Assume that the initial temperature in the concrete is $25^\\circ$C, $\\rho$=2400 kg/m$^3$, a specific heat capacity $c_p=$ 1000 W/kg K, and a time step of $\\Delta t=86400$ s (1 day). Solve equation ([90](#eq:lin:heatfull)), plot the result each day and compare the result after 50 days with the steady state solution in equation ([84](#eq:nlin:heatsol)).\n",
    "\n",
    "<!-- --- end exercise --- -->\n",
    "\n",
    "<!-- --- begin exercise --- -->\n",
    "\n",
    "## Exercise 4: Using sparse matrices in python\n",
    "\n",
    "In this part we are going to create a sparse matrix in python and use `scipy.sparse.linalg.spsolve` to solve it. The matrix is created using `scipy.sparse.spdiags`.\n",
    "\n",
    "**Part 1.**\n",
    "Extend the code you developed in the last exercises to also be able to use sparse matrices, by e.g. a logical switch. Sparse matrices may be defined as follows"
   ]
  },
  {
   "cell_type": "code",
   "execution_count": 15,
   "id": "bc1c51d7",
   "metadata": {
    "collapsed": false,
    "editable": true
   },
   "outputs": [],
   "source": [
    "import scipy.sparse.linalg\n",
    "\n",
    "#right hand side\n",
    "# rhs vector\n",
    "d=np.repeat(-h*h*beta,n)\n",
    "#rhs - constant temperature\n",
    "Tb=25\n",
    "d[-1]=d[-1]-Tb\n",
    "#Set up sparse matrix\n",
    "diagonals=np.zeros((3,n))\n",
    "diagonals[0,:]= 1\n",
    "diagonals[1,:]= -2  \n",
    "diagonals[2,:]= 1\n",
    "#No flux boundary condition\n",
    "diagonals[2,1]= 2\n",
    "A_sparse = sc.sparse.spdiags(diagonals, [-1,0,1], n, n,format='csc')\n",
    "# to view matrix - do this and check that it is correct!\n",
    "print(A_sparse.todense())\n",
    "# solve matrix\n",
    "Tb = sc.sparse.linalg.spsolve(A_sparse,d)\n",
    "\n",
    "# if you like you can use timeit to check the efficiency\n",
    "# %timeit sc.sparse.linalg.spsolve( ... )"
   ]
  },
  {
   "cell_type": "markdown",
   "id": "5b04172b",
   "metadata": {
    "editable": true
   },
   "source": [
    "* Compare the sparse solver with the standard Numpy solver using `%timeit`, how large must the linear system be before an improvement in speed is seen?\n",
    "\n",
    "<!-- --- end exercise --- -->\n",
    "\n",
    "# CO$_2$ diffusion into aquifers\n",
    "The transport of CO$_2$ into aquifers can be described according to the diffusion equation"
   ]
  },
  {
   "cell_type": "markdown",
   "id": "e0759f5a",
   "metadata": {
    "editable": true
   },
   "source": [
    "<!-- Equation labels as ordinary links -->\n",
    "<div id=\"eq:lin:co2_diff\"></div>\n",
    "\n",
    "$$\n",
    "\\begin{equation}\n",
    "\\frac{\\partial C(z,t)}{\\partial t}=\\frac{\\partial }{\\partial z}\\left(K(z)\\frac{\\partial C(z,t)}{\\partial z}\\right),\n",
    "\\label{eq:lin:co2_diff} \\tag{91}\n",
    "\\end{equation}\n",
    "$$"
   ]
  },
  {
   "cell_type": "markdown",
   "id": "7dc52b91",
   "metadata": {
    "editable": true
   },
   "source": [
    "where $C(z,t)$ is the concentration of {CO$_2$}\\ as a function of depth ($z$) and time $t$, and $K(z)$ is the diffusion constant of {CO$_2$}\\ as a function of depth. This equation can be discretized using standard techniques, to help in that respect consider [figure 7](#fig:lin:co2_diff).\n",
    "\n",
    "<!-- dom:FIGURE: [fig-lin/co2_diff.png, width=800 frac=1.0] Discretization for diffusion of {CO$_2$}\\ into an aquifer, including boundary conditions. <div id=\"fig:lin:co2_diff\"></div> -->\n",
    "<!-- begin figure -->\n",
    "<div id=\"fig:lin:co2_diff\"></div>\n",
    "\n",
    "<img src=\"fig-lin/co2_diff.png\" width=800><p style=\"font-size: 0.9em\"><i>Figure 7: Discretization for diffusion of {CO$_2$}\\ into an aquifer, including boundary conditions.</i></p>\n",
    "<!-- end figure -->\n",
    "\n",
    "In the following we will assume that there are only four nodes ($i=0\\ldots 3$) in the physical domain, and two ghost nodes $i=-1$, and $i=4$. There are many ways to attack this problem, but in the following we will borrow ideas from Finite Volume. Finite volume methods is a way of discretizing equations such that we *conserve mass*. The diffusion equation as it is derived in [figure 5](#fig:nlin:heat), express that the flux of something (heat, particles, etc) leaving the box surface minus the flux entering the surface of the box is equal to the rate of change of something inside the box. We can formulate this mathematically as:"
   ]
  },
  {
   "cell_type": "markdown",
   "id": "532709a8",
   "metadata": {
    "editable": true
   },
   "source": [
    "<!-- Equation labels as ordinary links -->\n",
    "<div id=\"eq:lin:co2fv\"></div>\n",
    "\n",
    "$$\n",
    "\\begin{equation}\n",
    "\\frac{\\partial C(z,t)}{\\partial t}\\simeq\\frac{1}{h}\\left[\\left.K(z)\\frac{\\partial C(z,t)}{\\partial z}\\right|_{i+1/2}\n",
    "-\\left.K(z)\\frac{\\partial C(z,t)}{\\partial z}\\right|_{i-1/2}\\right]\n",
    "\\label{eq:lin:co2fv} \\tag{92}\n",
    "\\end{equation}\n",
    "$$"
   ]
  },
  {
   "cell_type": "markdown",
   "id": "bfa549ed",
   "metadata": {
    "editable": true
   },
   "source": [
    "The notation $i\\pm1/2$, means that the flux is to be evaluated *at the surface* of the box (i.e. halfway between the red dots in [figure 7](#fig:lin:co2_diff)). $K(z)$ is the diffusion constant, and it is known everywhere, so this is simple to evaluate at the surface. The concentrations are only known at the center of each box, the red dots in [figure 7](#fig:lin:co2_diff). The derivative of the concentration can be evaluated using the central difference formula (remember that the distance between the red dot and edge of the box is $h/2$), hence"
   ]
  },
  {
   "cell_type": "markdown",
   "id": "e6477ea0",
   "metadata": {
    "editable": true
   },
   "source": [
    "<!-- Equation labels as ordinary links -->\n",
    "<div id=\"eq:lin:co2fv2\"></div>\n",
    "\n",
    "$$\n",
    "\\begin{equation}\n",
    "\\frac{C_i^{n+1}-C_i^n}{\\Delta t}=\\frac{1}{h}\\left[K_{i+1/2}\\frac{ C_{i+1}-C_{i}}{h}-K_{i-1/2}\\frac{ C_{i}-C_{i-1}}{h}\\right],\n",
    "\\label{eq:lin:co2fv2} \\tag{93}\n",
    "\\end{equation}\n",
    "$$"
   ]
  },
  {
   "cell_type": "markdown",
   "id": "cc5c47c3",
   "metadata": {
    "editable": true
   },
   "source": [
    "notice that we have discretized the time derivative, and that we have introduced $n$ to indicate the time step. On the right hand side there are is no time indicated, it turns out that we have a choice to put time step $n$ or $n+1$ on the concentrations on the right hand side. If we put $n$ the scheme is said to be explicit, if we put $n+1$, the scheme is implicit. Implicit schemes are stable compared to explicit schemes, whereas explicit schemes has slightly higher numerical accuracy [TO DO 1: show this!]. In general we can write"
   ]
  },
  {
   "cell_type": "markdown",
   "id": "1f727ffc",
   "metadata": {
    "editable": true
   },
   "source": [
    "<!-- Equation labels as ordinary links -->\n",
    "<div id=\"_auto23\"></div>\n",
    "\n",
    "$$\n",
    "\\begin{equation}\n",
    "\\frac{C_i^{n+1}-C_i^n}{\\Delta t}=\\frac{\\theta}{h}\\left[K_{i+1/2}\n",
    "\\frac{C^n_{i+1}-C^n_{i}}{h}-K_{i-1/2}\\frac{C^n_{i}-C^n_{i-1}}{h}\\right]\n",
    "\\label{_auto23} \\tag{94}\n",
    "\\end{equation}\n",
    "$$"
   ]
  },
  {
   "cell_type": "markdown",
   "id": "492df65c",
   "metadata": {
    "editable": true
   },
   "source": [
    "<!-- Equation labels as ordinary links -->\n",
    "<div id=\"eq:lin:co2fv23\"></div>\n",
    "\n",
    "$$\n",
    "\\begin{equation}  \n",
    "+\\frac{1-\\theta}{h}\\left[K_{i+1/2}\n",
    "\\frac{C_{i+1}^{n+1}-C_{i}^{n+1}}{h}-K_{i-1/2}\\frac{ C_{i}^{n+1}-C_{i-1}^{n+1}}{h}\\right],\n",
    "\\label{eq:lin:co2fv23} \\tag{95}\n",
    "\\end{equation}\n",
    "$$"
   ]
  },
  {
   "cell_type": "markdown",
   "id": "d5e62d17",
   "metadata": {
    "editable": true
   },
   "source": [
    "hence if $\\theta=1$ the scheme is explicit, if $\\theta=0$ the scheme is implicit, and if $\\theta=1/2$, the scheme is called the Crank-Nicolson method. The first and last boundary are special, let us first consider the $i=0$, this is where the sea is in contact with the {CO$_2$}\\ in the atmosphere, and the flux is $k_w(C_0-C_{eq})$, hence"
   ]
  },
  {
   "cell_type": "markdown",
   "id": "83c602b4",
   "metadata": {
    "editable": true
   },
   "source": [
    "<!-- Equation labels as ordinary links -->\n",
    "<div id=\"_auto24\"></div>\n",
    "\n",
    "$$\n",
    "\\begin{equation}\n",
    "\\frac{C_0^{n+1}-C_0^n}{\\Delta t}=\\frac{\\theta}{h}\\left[K_{i+1/2}\n",
    "\\frac{C^n_{1}-C^n_{0}}{h}-k_w(C_0^n-C_{eq}^n)\\right]\n",
    "\\label{_auto24} \\tag{96}\n",
    "\\end{equation}\n",
    "$$"
   ]
  },
  {
   "cell_type": "markdown",
   "id": "8fd23592",
   "metadata": {
    "editable": true
   },
   "source": [
    "<!-- Equation labels as ordinary links -->\n",
    "<div id=\"eq:lin:co2fv23b\"></div>\n",
    "\n",
    "$$\n",
    "\\begin{equation}  \n",
    "+\\frac{1-\\theta}{h}\\left[K_{i+1/2}\n",
    "\\frac{C_{1}^{n+1}-C_{0}^{n+1}}{h}-k_w(C_0^{n+1}-C_{eq}^{n+1})\\right].\n",
    "\\label{eq:lin:co2fv23b} \\tag{97}\n",
    "\\end{equation}\n",
    "$$"
   ]
  },
  {
   "cell_type": "markdown",
   "id": "28fe8355",
   "metadata": {
    "editable": true
   },
   "source": [
    "For the last block the flux is zero towards the seafloor, and equation ([95](#eq:lin:co2fv23)) can be written"
   ]
  },
  {
   "cell_type": "markdown",
   "id": "e9a00464",
   "metadata": {
    "editable": true
   },
   "source": [
    "<!-- Equation labels as ordinary links -->\n",
    "<div id=\"_auto25\"></div>\n",
    "\n",
    "$$\n",
    "\\begin{equation}\n",
    "\\frac{C_3^{n+1}-C_3^n}{\\Delta t}  =\\frac{\\theta}{h}\\left[-K_{5/2}\\frac{C^n_{3}-C^n_{2}}{h}\\right]\n",
    "\\label{_auto25} \\tag{98}\n",
    "\\end{equation}\n",
    "$$"
   ]
  },
  {
   "cell_type": "markdown",
   "id": "e4b177c6",
   "metadata": {
    "editable": true
   },
   "source": [
    "<!-- Equation labels as ordinary links -->\n",
    "<div id=\"eq:lin:co2fv23c\"></div>\n",
    "\n",
    "$$\n",
    "\\begin{equation}  \n",
    "+\\frac{1-\\theta}{h}\\left[-K_{5/2}\\frac{ C_{3}^{n+1}-C_{2}^{n+1}}{h}\\right].\n",
    "\\label{eq:lin:co2fv23c} \\tag{99}\n",
    "\\end{equation}\n",
    "$$"
   ]
  },
  {
   "cell_type": "markdown",
   "id": "8da06f4f",
   "metadata": {
    "editable": true
   },
   "source": [
    "For the blocks $i=1\\ldots2$, we can collect all terms with $n+1$ on one side and terms with $n$ on the other side and rewrite equation ([95](#eq:lin:co2fv23))"
   ]
  },
  {
   "cell_type": "markdown",
   "id": "17638c87",
   "metadata": {
    "editable": true
   },
   "source": [
    "<!-- Equation labels as ordinary links -->\n",
    "<div id=\"_auto26\"></div>\n",
    "\n",
    "$$\n",
    "\\begin{equation}\n",
    "\\left[1+(1-\\theta)\\right. \\left.\\alpha(K_{i+1/2}+K_{i-1/2})\\right]C_i^{n+1}{\\nonumber}\n",
    "\\label{_auto26} \\tag{100}\n",
    "\\end{equation}\n",
    "$$"
   ]
  },
  {
   "cell_type": "markdown",
   "id": "13bf9663",
   "metadata": {
    "editable": true
   },
   "source": [
    "<!-- Equation labels as ordinary links -->\n",
    "<div id=\"_auto27\"></div>\n",
    "\n",
    "$$\n",
    "\\begin{equation}  \n",
    "-(1-\\theta)\\alpha K_{i+1/2}C_{i+1}^{n+1}\n",
    "-(1-\\theta)\\alpha K_{i-1/2}C_{i-1}^{n+1} {\\nonumber}\n",
    "\\label{_auto27} \\tag{101}\n",
    "\\end{equation}\n",
    "$$"
   ]
  },
  {
   "cell_type": "markdown",
   "id": "5e51557e",
   "metadata": {
    "editable": true
   },
   "source": [
    "<!-- Equation labels as ordinary links -->\n",
    "<div id=\"_auto28\"></div>\n",
    "\n",
    "$$\n",
    "\\begin{equation}  \n",
    "=\\left[1-\\theta\\right. \\left.\\alpha(K_{i+1/2}+K_{i-1/2})\\right]C_i^{n}{\\nonumber}\n",
    "\\label{_auto28} \\tag{102}\n",
    "\\end{equation}\n",
    "$$"
   ]
  },
  {
   "cell_type": "markdown",
   "id": "295e4878",
   "metadata": {
    "editable": true
   },
   "source": [
    "<!-- Equation labels as ordinary links -->\n",
    "<div id=\"eq:lin:co2fv4\"></div>\n",
    "\n",
    "$$\n",
    "\\begin{equation}  \n",
    "+\\theta\\alpha K_{i+1/2}C_{i+1}^{n}\n",
    "+\\theta\\alpha K_{i-1/2}C_{i-1}^{n}, \n",
    "\\label{eq:lin:co2fv4} \\tag{103}\n",
    "\\end{equation}\n",
    "$$"
   ]
  },
  {
   "cell_type": "markdown",
   "id": "71317bb0",
   "metadata": {
    "editable": true
   },
   "source": [
    "where $\\alpha\\equiv\\Delta t/h^2$.\n",
    "Next, we want to write down the corresponding matrix equations for four grid nodes as indicated in [figure 7](#fig:lin:co2_diff). Notice that we need to use the equations in [figure 7](#fig:lin:co2_diff), for $C_{-1}$, and $C_4$. The left and right hand coefficient matrix $\\mathbf{L}$, and $\\mathbf{R}$ are given as"
   ]
  },
  {
   "cell_type": "markdown",
   "id": "4387de8d",
   "metadata": {
    "editable": true
   },
   "source": [
    "1\n",
    "1\n",
    "3\n",
    " \n",
    "<\n",
    "<\n",
    "<\n",
    "!\n",
    "!\n",
    "M\n",
    "A\n",
    "T\n",
    "H\n",
    "_\n",
    "B\n",
    "L\n",
    "O\n",
    "C\n",
    "K"
   ]
  },
  {
   "cell_type": "markdown",
   "id": "5404a039",
   "metadata": {
    "editable": true
   },
   "source": [
    "<!-- Equation labels as ordinary links -->\n",
    "<div id=\"_auto30\"></div>\n",
    "\n",
    "$$\n",
    "{\\tiny\n",
    "\\begin{equation}\n",
    "\\begin{pmatrix}\n",
    "1-\\theta\\alpha(K_{1/2}+hk_w)&+\\theta\\alpha K_{1/2}&0&0\\\\ \n",
    "\\theta\\alpha K_{1/2}&1-\\theta\\alpha(K_{3/2}+K_{1/2})&\\theta\\alpha K_{3/2} &0\\\\ \n",
    "0&\\theta\\alpha K_{3/2}&1-\\theta\\alpha(K_{5/2}+K_{3/2})&\\theta\\alpha K_{5/2} \\\\ \n",
    "0&0&\\theta\\alpha K_{5/2}&1-\\theta\\alpha K_{5/2}{\\nonumber}\n",
    "\\end{pmatrix},\n",
    "\\label{_auto30} \\tag{105}\n",
    "\\end{equation}\n",
    "}\n",
    "$$"
   ]
  },
  {
   "cell_type": "markdown",
   "id": "f6e54b0e",
   "metadata": {
    "editable": true
   },
   "source": [
    "respectively. Introducing $\\mathbf{S}=\\left[k_wC_{eq}\\Delta t/h,0,0,0\\right]^T$, we can finally write the diffusion equation ([91](#eq:lin:co2_diff)) as"
   ]
  },
  {
   "cell_type": "markdown",
   "id": "bd2aada3",
   "metadata": {
    "editable": true
   },
   "source": [
    "<!-- Equation labels as ordinary links -->\n",
    "<div id=\"eq:lin:discdif\"></div>\n",
    "\n",
    "$$\n",
    "\\begin{equation}\n",
    "\\mathbf{L}\\mathbf{C}^{n+1}=\\mathbf{R}\\mathbf{C}^n+\\theta\\mathbf{S}^n+(1-\\theta)\\mathbf{S}^{n+1}\n",
    "\\label{eq:lin:discdif} \\tag{106}\n",
    "\\end{equation}\n",
    "$$"
   ]
  },
  {
   "cell_type": "markdown",
   "id": "de973dff",
   "metadata": {
    "editable": true
   },
   "source": [
    "More stuff to do:\n",
    "1. Assume zero flux over the air water interface ($k_w$=0), show from the equations above that if we start with a uniform concentration in the sea ($\\mathbf{C}^n$=constant) that $\\mathbf{C}^{n+1}$ does not change (as it should).\n",
    "\n",
    "2. Assume that if the concentration at a specific time $n$ in the sea is equal to $\\mathbf{C}_{eq}$ then the concentration stays constant at all later times\n",
    "\n",
    "3. Add chemical reactions\n",
    "\n",
    "# References\n",
    "\n",
    "1. <div id=\"leveque2002finite\"></div> **R. J. LeVeque et al.**.  *Finite Volume Methods for Hyperbolic Problems*, Cambridge University Press, 2002.\n",
    "\n",
    "2. <div id=\"press2007\"></div> **W. H. Press, S. A. Teukolsky, W. T. Vetterling and B. P. Flannery**.  *Numerical Recipes 3rd Edition: the Art of Scientific Computing*, 3 edition, Cambridge University Press, 2007.\n",
    "\n",
    "3. <div id=\"trefethen1997\"></div> **L. N. Trefethen and D. B. III**.  *Numerical Linear Algebra*, SIAM, 1997.\n",
    "\n",
    "4. <div id=\"stoer2013\"></div> **J. Stoer and R. Bulirsch**.  *Introduction to Numerical Analysis*, Springer Science & Business Media, 2013.\n",
    "\n",
    "5. <div id=\"strang2019\"></div> **G. Strang**.  *Linear Algebra and Learning From Data*, Wellesley-Cambridge Press, 2019.\n",
    "\n",
    "6. <div id=\"press2001\"></div> **W. H. Press, W. T. Vetterling, S. A. Teukolsky and B. P. Flannery**.  *Numerical Recipes in C++: the Art of Scientific Computing*, 2nd edition, Cambridge University Press, 2002."
   ]
  }
 ],
 "metadata": {},
 "nbformat": 4,
 "nbformat_minor": 5
}
