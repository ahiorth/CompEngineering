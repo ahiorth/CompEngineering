{
 "cells": [
  {
   "cell_type": "markdown",
   "id": "59102d7e",
   "metadata": {
    "editable": true
   },
   "source": [
    "<!-- File automatically generated using DocOnce (https://github.com/doconce/doconce/):\n",
    "doconce format ipynb exercises_lin.do.txt  -->\n",
    "\n",
    "# Finite difference, linear algebra, and tridiagonal matrices \n",
    "**Prepared as part of MOD510 Computational Engineering and Modeling**\n",
    "\n",
    "Date: **Sep 5, 2024**"
   ]
  },
  {
   "cell_type": "markdown",
   "id": "21ade9b5",
   "metadata": {
    "editable": true
   },
   "source": [
    "# Solving the heat equation\n",
    "\n",
    "Learning objectives:\n",
    "1. Understand the origin of a conservation equation\n",
    "\n",
    "2. Formulate a finite difference problem as a matrix inversion problem\n",
    "\n",
    "3. Quantify the numerical error, investigate the scaling, and analyze the error using Taylors formula \n",
    "\n",
    "4. Use a sparse solver to speed up the calculation"
   ]
  },
  {
   "cell_type": "markdown",
   "id": "837c80f4",
   "metadata": {
    "editable": true
   },
   "source": [
    "## Exercise 1: Conservation Equation or the Continuity Equation\n",
    "\n",
    "<!-- dom:FIGURE: [fig-lin/heat.png, width=700 frac=.9] Conservation of energy and the continuity equation. <div id=\"fig:nlin:heat\"></div> -->\n",
    "<!-- begin figure -->\n",
    "<div id=\"fig:nlin:heat\"></div>\n",
    "\n",
    "<img src=\"fig-lin/heat.png\" width=\"700\"><p style=\"font-size: 0.9em\"><i>Figure 1: Conservation of energy and the continuity equation.</i></p>\n",
    "<!-- end figure -->\n",
    "\n",
    "In [figure 1](#fig:nlin:heat), the continuity equation is derived for\n",
    "heat flow."
   ]
  },
  {
   "cell_type": "markdown",
   "id": "74e1c358",
   "metadata": {
    "editable": true
   },
   "source": [
    "### Heat equation for solids\n",
    "\n",
    "As derived in the beginning of this chapter the heat equation for a solid is"
   ]
  },
  {
   "cell_type": "markdown",
   "id": "bcef51ca",
   "metadata": {
    "editable": true
   },
   "source": [
    "<!-- Equation labels as ordinary links -->\n",
    "<div id=\"eq:nlin:heateq\"></div>\n",
    "\n",
    "$$\n",
    "\\begin{equation}\n",
    "\\frac{d^2T}{dx^2}+\\frac{\\dot{\\sigma}}{k}=\\frac{\\rho c_p}{k}\\frac{dT}{dt},\n",
    "\\label{eq:nlin:heateq} \\tag{1}\n",
    "\\end{equation}\n",
    "$$"
   ]
  },
  {
   "cell_type": "markdown",
   "id": "f6097848",
   "metadata": {
    "editable": true
   },
   "source": [
    "where $\\dot{\\sigma}$ is the rate of heat generation in the solid. This\n",
    "equation can be used as a starting point for many interesting\n",
    "models. In this exercise we will investigate the *steady state*\n",
    "solution, *steady state* is just a fancy way of expressing that we\n",
    "want the solution that *does not change with time*. This is achieved\n",
    "by ignoring the derivative with respect to time in equation\n",
    "([1](#eq:nlin:heateq)). We want to study a system with size $L$, and is\n",
    "it good practice to introduce a dimensionless variable: $y=x/L$. \n",
    "\n",
    "**Part 1.**\n",
    "\n",
    "Show that equation ([1](#eq:nlin:heateq)) now takes the following form:"
   ]
  },
  {
   "cell_type": "markdown",
   "id": "2515fc02",
   "metadata": {
    "editable": true
   },
   "source": [
    "<!-- Equation labels as ordinary links -->\n",
    "<div id=\"eq:nlin:heat2\"></div>\n",
    "\n",
    "$$\n",
    "\\begin{equation}\n",
    "\\frac{d^2T }{dy^2}+\\frac{\\dot{\\sigma}L^2}{k}=0\n",
    "\\label{eq:nlin:heat2} \\tag{2}\n",
    "\\end{equation}\n",
    "$$"
   ]
  },
  {
   "cell_type": "markdown",
   "id": "cfee534b",
   "metadata": {
    "editable": true
   },
   "source": [
    "## Exercise 2: Curing of Concrete and Matrix Formulation\n",
    "\n",
    "Curing of concrete is one particular example that we can investigate\n",
    "with equation ([2](#eq:nlin:heat2)). When concrete is curing, there are\n",
    "a lot of chemical reactions happening, these reactions generate\n",
    "heat. This is a known issue, and if the temperature rises too much \n",
    "compared to the surroundings, the concrete may fracture.  In the\n",
    "following we will, for simplicity, assume that the rate of heat\n",
    "generated during curing is constant, $\\dot{\\sigma}=$100 W/m$^3$. The\n",
    "left end (at $x=0$) is insulated, meaning that there is no flow of\n",
    "heat over that boundary, hence $dT/dx=0$ at $x=0$. On the right hand\n",
    "side the temperature is kept constant, $x(L)=y(1)=T_1$, assumed to be\n",
    "equal to the ambient temperature of $T_1=25^\\circ$C.  The concrete\n",
    "thermal conductivity is assumed to be $k=1.65$ W/m$^\\circ$C.\n",
    "\n",
    "**Part 1.**\n",
    "\n",
    "Show that the solution to equation ([2](#eq:nlin:heat2)) in this case is:"
   ]
  },
  {
   "cell_type": "markdown",
   "id": "4a8075e5",
   "metadata": {
    "editable": true
   },
   "source": [
    "<!-- Equation labels as ordinary links -->\n",
    "<div id=\"eq:nlin:heatsol\"></div>\n",
    "\n",
    "$$\n",
    "\\begin{equation}\n",
    "T(y)=\\frac{\\dot{\\sigma}L^2}{2k}(1-y^2)+T_1.\n",
    "\\label{eq:nlin:heatsol} \\tag{3}\n",
    "\\end{equation}\n",
    "$$"
   ]
  },
  {
   "cell_type": "markdown",
   "id": "ca3969ae",
   "metadata": {
    "editable": true
   },
   "source": [
    "**Part 2.**\n",
    "In order to solve equation ([2](#eq:nlin:heat2)) numerically, we need to discretize\n",
    "it. Show that equation ([2](#eq:nlin:heat2)) now takes the following form:"
   ]
  },
  {
   "cell_type": "markdown",
   "id": "6d91d82f",
   "metadata": {
    "editable": true
   },
   "source": [
    "<!-- Equation labels as ordinary links -->\n",
    "<div id=\"eq:nlin:heat3\"></div>\n",
    "\n",
    "$$\n",
    "\\begin{equation}\n",
    "T_{i+1}+T_{i-1}-2T_i=-h^2\\beta,\n",
    "\\label{eq:nlin:heat3} \\tag{4}\n",
    "\\end{equation}\n",
    "$$"
   ]
  },
  {
   "cell_type": "markdown",
   "id": "450b9df7",
   "metadata": {
    "editable": true
   },
   "source": [
    "where $\\beta=\\dot{\\sigma}L^2/k$.\n",
    "<!-- dom:FIGURE: [fig-lin/heat_grid.png, width=200 frac=.5] Finite difference grid for $N=4$. <div id=\"fig:nlin:hgrid\"></div>  -->\n",
    "<!-- begin figure -->\n",
    "<div id=\"fig:nlin:hgrid\"></div>\n",
    "\n",
    "<img src=\"fig-lin/heat_grid.png\" width=\"200\"><p style=\"font-size: 0.9em\"><i>Figure 2: Finite difference grid for $N=4$.</i></p>\n",
    "<!-- end figure -->\n",
    "\n",
    "In [figure 2](#fig:nlin:hgrid), the finite difference grid is shown for\n",
    "$N=4$.\n",
    "\n",
    "**Part 3.**\n",
    "\n",
    "Show that equation ([4](#eq:nlin:heat3)) including the boundary conditions for $N=4$ can be written as the following matrix equation"
   ]
  },
  {
   "cell_type": "markdown",
   "id": "3388bf05",
   "metadata": {
    "editable": true
   },
   "source": [
    "<!-- Equation labels as ordinary links -->\n",
    "<div id=\"eq:lin:heats\"></div>\n",
    "\n",
    "$$\n",
    "\\begin{equation}\n",
    "\\left(\n",
    "\\begin{array}{cccc}\n",
    "-\\gamma&\\gamma&0&0\\\\ \n",
    "1&-2&1&0\\\\ \n",
    "0&1&-2&1\\\\ \n",
    "0&0&1&-2\\\\ \n",
    "\\end{array}\n",
    "\\right)\n",
    "\\left(\n",
    "\\begin{array}{c}\n",
    "T_0\\\\ \n",
    "T_1\\\\ \n",
    "T_2\\\\ \n",
    "T_3\\\\ \n",
    "\\end{array}\n",
    "\\right)\n",
    "=\n",
    "\\left(\n",
    "\\begin{array}{c}\n",
    "-h^2\\beta\\\\ \n",
    "-h^2\\beta\\\\ \n",
    "-h^2\\beta\\\\ \n",
    "-h^2\\beta-25\n",
    "\\end{array}\n",
    "\\right).\n",
    "\\end{equation}\n",
    "\\label{eq:lin:heats} \\tag{5}\n",
    "$$"
   ]
  },
  {
   "cell_type": "markdown",
   "id": "49e80610",
   "metadata": {
    "editable": true
   },
   "source": [
    "where $\\gamma=2$ for the central difference scheme and 1 for the forward difference scheme.\n",
    "\n",
    "**Part 4.**\n",
    "* Solve the set of equations in equation ([5](#eq:lin:heats)) using [`numpy.linalg.solve`](https://numpy.org/doc/stable/reference/generated/numpy.linalg.solve.html).\n",
    "\n",
    "* Write the code so that you can easily switch between the central difference scheme and forward difference\n",
    "\n",
    "* Evaluate the numerical error as you change $h$, how does it scale? Is it what you expect?"
   ]
  },
  {
   "cell_type": "code",
   "execution_count": 1,
   "id": "7f5f21ee",
   "metadata": {
    "collapsed": false,
    "editable": true
   },
   "outputs": [],
   "source": [
    "%matplotlib inline\n",
    "\n",
    "import numpy as np\n",
    "import scipy as sc\n",
    "import scipy.sparse.linalg\n",
    "from numpy.linalg import solve\n",
    "import matplotlib.pyplot as plt"
   ]
  },
  {
   "cell_type": "code",
   "execution_count": 2,
   "id": "6864a835",
   "metadata": {
    "collapsed": false,
    "editable": true
   },
   "outputs": [],
   "source": [
    "\n",
    "central_difference=False\n",
    "# set simulation parameters\n",
    "h=0.25\n",
    "L=1.0\n",
    "n = int(round(L/h))\n",
    "Tb=25 #rhs\n",
    "sigma=100\n",
    "k=1.65 \n",
    "beta = sigma*L**2/k\n",
    "\n",
    "y = np.arange(n+1)*h\n",
    "\n",
    "def analytical(x):\n",
    "    return beta*(1-x*x)/2+Tb\n",
    "def tri_diag(a, b, c, k1=-1, k2=0, k3=1):\n",
    "    \"\"\" a,b,c diagonal terms\n",
    "        default k-values for 4x4 matrix:\n",
    "        | b0 c0 0  0 |\n",
    "        | a0 b1 c1 0 |\n",
    "        | 0  a1 b2 c2|\n",
    "        | 0  0  a2 b3|\n",
    "    \"\"\"\n",
    "    return np.diag(a, k1) + np.diag(b, k2) + np.diag(c, k3)\n",
    "# defina a, b and c vector\n",
    "a=np.ones(n-1)\n",
    "b=..\n",
    "c=..\n",
    "\n",
    "if central_difference:\n",
    "    c[0]= ...\n",
    "else:\n",
    "    b[0]=...\n",
    "\n",
    "A=tri_diag(a,b,c)\n",
    "print(A) # view matrix - compare with N=4 to make sure no bugs\n",
    "# define rhs vector\n",
    "d=...\n",
    "#rhs boundary condition\n",
    "d[-1]=...\n",
    "\n",
    "Tn=np.linalg.solve(A,d)\n",
    "print(Tn)"
   ]
  },
  {
   "cell_type": "markdown",
   "id": "1bda3aa1",
   "metadata": {
    "editable": true
   },
   "source": [
    "The correct solution for $L=1$ m, and $h=1/4$, is: $[T_0,T_1.T_2,T_3]$=[55.3030303 , 53.40909091, 47.72727273, 38.25757576] (central difference) and $[T_0,T_1.T_2,T_3]$=[62.87878788, 59.09090909, 51.51515152, 40.15151515] (forward difference)"
   ]
  },
  {
   "cell_type": "markdown",
   "id": "8ced5a23",
   "metadata": {
    "editable": true
   },
   "source": [
    "## Exercise 3: Solve the full heat equation\n",
    "\n",
    "**Part 1.**\n",
    "Replace the time derivative in equation ([1](#eq:nlin:heateq)) with"
   ]
  },
  {
   "cell_type": "markdown",
   "id": "971b55cf",
   "metadata": {
    "editable": true
   },
   "source": [
    "<!-- Equation labels as ordinary links -->\n",
    "<div id=\"eq:lin:dt\"></div>\n",
    "\n",
    "$$\n",
    "\\begin{equation}\n",
    "\\frac{dT}{dt}\\simeq\\frac{T(t+\\Delta t)-T(t)}{\\Delta t}=\\frac{T^{n+1}-T^n}{\\Delta t}, \n",
    "\\label{eq:lin:dt} \\tag{6}\n",
    "\\end{equation}\n",
    "$$"
   ]
  },
  {
   "cell_type": "markdown",
   "id": "bfec4c11",
   "metadata": {
    "editable": true
   },
   "source": [
    "and show that by using an *implicit formulation* (i.e. that the second derivative with respect to $x$ is to be evaluated at $T(t+\\Delta t)\\equiv T^{n+1}$) that equation ([1](#eq:nlin:heateq)) can be written"
   ]
  },
  {
   "cell_type": "markdown",
   "id": "2f5344ed",
   "metadata": {
    "editable": true
   },
   "source": [
    "<!-- Equation labels as ordinary links -->\n",
    "<div id=\"eq:lin:imp\"></div>\n",
    "\n",
    "$$\n",
    "\\begin{equation}\n",
    "T_{i+1}^{n+1}+T_{i-1}^{n+1}-(2+\\frac{\\alpha h^2}{\\Delta t})T_i^{n+1}=-h^2\\beta-\\frac{\\alpha h^2 }{\\Delta t}T_i^n,\n",
    "\\label{eq:lin:imp} \\tag{7} \n",
    "\\end{equation}\n",
    "$$"
   ]
  },
  {
   "cell_type": "markdown",
   "id": "5be0f665",
   "metadata": {
    "editable": true
   },
   "source": [
    "where $\\alpha\\equiv\\rho c_p/k$.\n",
    "\n",
    "**Part 2.**\n",
    "\n",
    "Use the central difference formulation for the boundary condition and show that for four nodes we can formulate equation ([7](#eq:lin:imp)) as the following matrix equation"
   ]
  },
  {
   "cell_type": "markdown",
   "id": "b4f8dc71",
   "metadata": {
    "editable": true
   },
   "source": [
    "<!-- Equation labels as ordinary links -->\n",
    "<div id=\"_auto1\"></div>\n",
    "\n",
    "$$\n",
    "\\begin{equation}\n",
    "\\left(\n",
    "\\begin{array}{cccc}\n",
    "-(2+\\frac{\\alpha h^2}{\\Delta t})&2&0&0\\\\ \n",
    "1&-(2+\\frac{\\alpha h^2}{\\Delta t})&1&0\\\\ \n",
    "0&1&-(2+\\frac{\\alpha h^2}{\\Delta t})&1\\\\ \n",
    "0&0&1&-(2+\\frac{\\alpha h^2}{\\Delta t})\\\\ \n",
    "\\end{array}\n",
    "\\right)\n",
    "\\left(\n",
    "\\begin{array}{c}\n",
    "T_0^{n+1}\\\\ \n",
    "T_1^{n+1}\\\\ \n",
    "T_2^{n+1}\\\\ \n",
    "T_3^{n+1}\\\\ \n",
    "\\end{array}\n",
    "\\right){\\nonumber}\n",
    "\\label{_auto1} \\tag{8}\n",
    "\\end{equation}\n",
    "$$"
   ]
  },
  {
   "cell_type": "markdown",
   "id": "e31128f0",
   "metadata": {
    "editable": true
   },
   "source": [
    "<!-- Equation labels as ordinary links -->\n",
    "<div id=\"eq:lin:heatfull\"></div>\n",
    "\n",
    "$$\n",
    "\\begin{equation}  \n",
    "=\n",
    "\\left(\n",
    "\\begin{array}{c}\n",
    "-h^2\\beta\\\\ \n",
    "-h^2\\beta\\\\ \n",
    "-h^2\\beta\\\\ \n",
    "-h^2\\beta-25\n",
    "\\end{array}\n",
    "\\right)\n",
    "-\\frac{\\alpha h^2 }{\\Delta t}\n",
    "\\left(\n",
    "\\begin{array}{c}\n",
    "T_0^n\\\\ \n",
    "T_1^n\\\\ \n",
    "T_2^n\\\\ \n",
    "T_3^n\\\\ \n",
    "\\end{array}\n",
    "\\right)\n",
    "\\end{equation}\n",
    "\\label{eq:lin:heatfull} \\tag{9}\n",
    "$$"
   ]
  },
  {
   "cell_type": "markdown",
   "id": "41a0f434",
   "metadata": {
    "editable": true
   },
   "source": [
    "**Part 3.**\n",
    "Assume that the initial temperature in the concrete is $25^\\circ$C, $\\rho$=2400 kg/m$^3$, a specific heat capacity $c_p=$ 1000 W/kg K, and a time step of $\\Delta t=86400$ s (1 day). Solve equation ([9](#eq:lin:heatfull)), plot the result each day and compare the result after 50 days with the steady state solution in equation ([3](#eq:nlin:heatsol))."
   ]
  },
  {
   "cell_type": "markdown",
   "id": "42608e60",
   "metadata": {
    "editable": true
   },
   "source": [
    "## Exercise 4: Using sparse matrices in python\n",
    "\n",
    "In this part we are going to create a sparse matrix in python and use `scipy.sparse.linalg.spsolve` to solve it. The matrix is created using `scipy.sparse.spdiags`.\n",
    "\n",
    "**Part 1.**\n",
    "Extend the code you developed in the last exercises to also be able to use sparse matrices, by e.g. a logical switch. Sparse matrices may be defined as follows"
   ]
  },
  {
   "cell_type": "code",
   "execution_count": 3,
   "id": "38937b8c",
   "metadata": {
    "collapsed": false,
    "editable": true
   },
   "outputs": [],
   "source": [
    "import scipy.sparse.linalg\n",
    "\n",
    "#right hand side\n",
    "# rhs vector\n",
    "d=np.repeat(-h*h*beta,n)\n",
    "#rhs - constant temperature\n",
    "Tb=25\n",
    "d[-1]=d[-1]-Tb\n",
    "#Set up sparse matrix\n",
    "diagonals=np.zeros((3,n))\n",
    "diagonals[0,:]= 1\n",
    "diagonals[1,:]= -2  \n",
    "diagonals[2,:]= 1\n",
    "#No flux boundary condition\n",
    "diagonals[2,1]= 2\n",
    "A_sparse = sc.sparse.spdiags(diagonals, [-1,0,1], n, n,format='csc')\n",
    "# to view matrix - do this and check that it is correct!\n",
    "print(A_sparse.todense())\n",
    "# solve matrix\n",
    "Tb = sc.sparse.linalg.spsolve(A_sparse,d)\n",
    "\n",
    "# if you like you can use timeit to check the efficiency\n",
    "# %timeit sc.sparse.linalg.spsolve( ... )"
   ]
  },
  {
   "cell_type": "markdown",
   "id": "fac91d58",
   "metadata": {
    "editable": true
   },
   "source": [
    "* Compare the sparse solver with the standard Numpy solver using `%timeit`, how large must the linear system be before an improvement in speed is seen?"
   ]
  }
 ],
 "metadata": {},
 "nbformat": 4,
 "nbformat_minor": 5
}
